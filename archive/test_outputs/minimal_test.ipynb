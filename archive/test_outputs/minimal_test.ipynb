{
 "cells": [
  {
   "cell_type": "markdown",
   "id": "545ea919",
   "metadata": {
    "papermill": {
     "duration": 0.0,
     "end_time": "2025-07-25T03:02:19.384379",
     "exception": false,
     "start_time": "2025-07-25T03:02:19.384379",
     "status": "completed"
    },
    "tags": []
   },
   "source": [
    "# Production IX System Simulation with WaterTAP\n",
    "\n",
    "This notebook performs detailed IX system simulation using production-ready WaterTAP models:\n",
    "- **IX Models**: IonExchangeTransport0D with PHREEQC integration\n",
    "- **Degasser**: DegasserTower0DPhreeqc for CO2 removal\n",
    "- **Property Package**: MCAS (Multi-Component Aqueous Solution)\n",
    "\n",
    "## Process Flowsheets Supported\n",
    "1. **H-WAC → Degasser → Na-WAC**: Full temporary hardness removal\n",
    "2. **SAC → Na-WAC → Degasser**: Complete hardness removal\n",
    "3. **Na-WAC → Degasser**: Partial softening for temporary hardness"
   ]
  },
  {
   "cell_type": "code",
   "execution_count": 1,
   "id": "accd2482",
   "metadata": {
    "execution": {
     "iopub.execute_input": "2025-07-25T03:02:19.410329Z",
     "iopub.status.busy": "2025-07-25T03:02:19.410329Z",
     "iopub.status.idle": "2025-07-25T03:02:19.419157Z",
     "shell.execute_reply": "2025-07-25T03:02:19.418629Z"
    },
    "papermill": {
     "duration": 0.017352,
     "end_time": "2025-07-25T03:02:19.419157",
     "exception": false,
     "start_time": "2025-07-25T03:02:19.401805",
     "status": "completed"
    },
    "tags": [
     "parameters"
    ]
   },
   "outputs": [],
   "source": [
    "# Parameters cell - papermill will inject values here\n",
    "import json\n",
    "\n",
    "# Configuration parameters (injected by papermill)\n",
    "project_root = None  # Will be injected - replaces __file__ usage\n",
    "watertap_ix_transport_path = None  # Path to watertap_ix_transport module\n",
    "configuration = None  # IX configuration from optimize_ix_configuration\n",
    "water_analysis = None  # Feed water composition\n",
    "breakthrough_criteria = None  # Breakthrough criteria dictionary\n",
    "regenerant_parameters = None  # Regenerant parameters dictionary\n",
    "acid_options = None  # Acid dosing options for degasser\n",
    "timestamp = None  # Timestamp for the simulation run\n",
    "simulation_options = {\n",
    "    \"model_type\": \"watertap\",\n",
    "    \"time_steps\": 100,\n",
    "    \"breakthrough_criteria\": {\"hardness_mg_L_CaCO3\": 5.0}\n",
    "}"
   ]
  },
  {
   "cell_type": "code",
   "execution_count": 2,
   "id": "a6010110",
   "metadata": {
    "execution": {
     "iopub.execute_input": "2025-07-25T03:02:19.431721Z",
     "iopub.status.busy": "2025-07-25T03:02:19.429675Z",
     "iopub.status.idle": "2025-07-25T03:02:19.436753Z",
     "shell.execute_reply": "2025-07-25T03:02:19.436753Z"
    },
    "papermill": {
     "duration": 0.017596,
     "end_time": "2025-07-25T03:02:19.436753",
     "exception": false,
     "start_time": "2025-07-25T03:02:19.419157",
     "status": "completed"
    },
    "tags": [
     "injected-parameters"
    ]
   },
   "outputs": [],
   "source": [
    "# Parameters\n",
    "project_root = \"C:\\\\Users\\\\hvksh\\\\mcp-servers\\\\ix-design-mcp\"\n",
    "watertap_ix_transport_path = (\n",
    "    \"C:\\\\Users\\\\hvksh\\\\mcp-servers\\\\ix-design-mcp\\\\watertap_ix_transport\"\n",
    ")\n",
    "configuration = {\n",
    "    \"flowsheet_type\": \"sac_flowsheet\",\n",
    "    \"ix_vessels\": {\n",
    "        \"SAC\": {\n",
    "            \"resin_type\": \"SAC\",\n",
    "            \"bed_depth_m\": 2.0,\n",
    "            \"diameter_m\": 1.5,\n",
    "            \"number_service\": 2,\n",
    "            \"resin_volume_m3\": 3.53,\n",
    "        }\n",
    "    },\n",
    "    \"hydraulics\": {\"air_water_ratio\": 45.0},\n",
    "}\n",
    "water_analysis = {\n",
    "    \"flow_m3_hr\": 100,\n",
    "    \"temperature_celsius\": 25,\n",
    "    \"pressure_bar\": 1.0,\n",
    "    \"pH\": 7.5,\n",
    "    \"ion_concentrations_mg_L\": {\n",
    "        \"Ca_2+\": 180,\n",
    "        \"Mg_2+\": 80,\n",
    "        \"Na_+\": 50,\n",
    "        \"Cl_-\": 350,\n",
    "        \"HCO3_-\": 300,\n",
    "    },\n",
    "    \"alkalinity_mg_L_CaCO3\": 300,\n",
    "    \"total_hardness_mg_L_CaCO3\": 778,\n",
    "    \"tds_mg_L\": 960,\n",
    "}\n",
    "simulation_options = {\"model_type\": \"watertap\", \"time_steps\": 100}\n"
   ]
  },
  {
   "cell_type": "code",
   "execution_count": 3,
   "id": "b78538ed",
   "metadata": {
    "execution": {
     "iopub.execute_input": "2025-07-25T03:02:19.447764Z",
     "iopub.status.busy": "2025-07-25T03:02:19.447764Z",
     "iopub.status.idle": "2025-07-25T03:02:23.831162Z",
     "shell.execute_reply": "2025-07-25T03:02:23.831162Z"
    },
    "papermill": {
     "duration": 4.396423,
     "end_time": "2025-07-25T03:02:23.833176",
     "exception": false,
     "start_time": "2025-07-25T03:02:19.436753",
     "status": "completed"
    },
    "tags": []
   },
   "outputs": [
    {
     "name": "stderr",
     "output_type": "stream",
     "text": [
      "INFO:__main__:Successfully imported all required modules\n"
     ]
    },
    {
     "name": "stderr",
     "output_type": "stream",
     "text": [
      "INFO:__main__:Using DirectPhreeqcEngine for ion exchange calculations\n"
     ]
    }
   ],
   "source": [
    "# System imports\n",
    "import sys\n",
    "import os\n",
    "import json\n",
    "import numpy as np\n",
    "import pandas as pd\n",
    "import matplotlib.pyplot as plt\n",
    "from datetime import datetime\n",
    "import logging\n",
    "import warnings\n",
    "\n",
    "# Add project root to path (injected by papermill)\n",
    "if project_root and project_root not in sys.path:\n",
    "    sys.path.insert(0, project_root)\n",
    "\n",
    "# Configure logging\n",
    "logging.basicConfig(level=logging.INFO)\n",
    "logger = logging.getLogger(__name__)\n",
    "warnings.filterwarnings('ignore')\n",
    "\n",
    "# Import production WaterTAP IX utilities\n",
    "try:\n",
    "    from watertap_ix_transport import (\n",
    "        build_ix_flowsheet,\n",
    "        initialize_ix_system,\n",
    "        IonExchangeTransport0D,\n",
    "        DegasserTower0DPhreeqc,\n",
    "        ResinType,\n",
    "        RegenerantChem\n",
    "    )\n",
    "    from watertap_ix_transport.utilities.property_calculations import fix_mole_fractions\n",
    "    from watertap_ix_transport.production_models import PhreeqPython\n",
    "    \n",
    "    # Import direct PHREEQC engine for awareness\n",
    "    from watertap_ix_transport.transport_core.direct_phreeqc_engine import DirectPhreeqcEngine\n",
    "    \n",
    "    # Import WaterTAP and IDAES utilities\n",
    "    from pyomo.environ import (\n",
    "        ConcreteModel, \n",
    "        value, \n",
    "        units as pyunits,\n",
    "        TransformationFactory\n",
    "    )\n",
    "    from pyomo.network import Arc\n",
    "    from idaes.core import FlowsheetBlock\n",
    "    from idaes.models.unit_models import Feed, Product, Mixer, Separator\n",
    "    from idaes.core.util.model_statistics import degrees_of_freedom\n",
    "    from idaes.core.solvers import get_solver\n",
    "    from idaes.core.util.initialization import propagate_state\n",
    "    from watertap.property_models.multicomp_aq_sol_prop_pack import MCASParameterBlock, MaterialFlowBasis\n",
    "    from watertap.unit_models.pressure_changer import Pump\n",
    "    \n",
    "    logger.info(\"Successfully imported all required modules\")\n",
    "    logger.info(\"Using DirectPhreeqcEngine for ion exchange calculations\")\n",
    "except ImportError as e:\n",
    "    logger.error(f\"Failed to import required modules: {e}\")\n",
    "    raise"
   ]
  },
  {
   "cell_type": "markdown",
   "id": "64d41c98",
   "metadata": {
    "papermill": {
     "duration": 0.0,
     "end_time": "2025-07-25T03:02:23.834691",
     "exception": false,
     "start_time": "2025-07-25T03:02:23.834691",
     "status": "completed"
    },
    "tags": []
   },
   "source": [
    "## Validate Inputs"
   ]
  },
  {
   "cell_type": "code",
   "execution_count": 4,
   "id": "b79e06d1",
   "metadata": {
    "execution": {
     "iopub.execute_input": "2025-07-25T03:02:23.852710Z",
     "iopub.status.busy": "2025-07-25T03:02:23.852710Z",
     "iopub.status.idle": "2025-07-25T03:02:23.867690Z",
     "shell.execute_reply": "2025-07-25T03:02:23.867690Z"
    },
    "papermill": {
     "duration": 0.023991,
     "end_time": "2025-07-25T03:02:23.867690",
     "exception": false,
     "start_time": "2025-07-25T03:02:23.843699",
     "status": "completed"
    },
    "tags": []
   },
   "outputs": [
    {
     "name": "stderr",
     "output_type": "stream",
     "text": [
      "INFO:__main__:Configuration loaded: sac_flowsheet\n"
     ]
    },
    {
     "name": "stderr",
     "output_type": "stream",
     "text": [
      "INFO:__main__:Water analysis loaded: Flow 100 m³/hr\n"
     ]
    },
    {
     "name": "stderr",
     "output_type": "stream",
     "text": [
      "INFO:__main__:Running sac_flowsheet flowsheet simulation\n"
     ]
    },
    {
     "name": "stderr",
     "output_type": "stream",
     "text": [
      "INFO:__main__:IX vessels: ['SAC']\n"
     ]
    },
    {
     "name": "stderr",
     "output_type": "stream",
     "text": [
      "INFO:__main__:Degasser present: No\n"
     ]
    }
   ],
   "source": [
    "# Validate configuration and water analysis\n",
    "validation_errors = []\n",
    "\n",
    "if not configuration:\n",
    "    validation_errors.append(\"Missing configuration parameter\")\n",
    "else:\n",
    "    logger.info(f\"Configuration loaded: {configuration.get('flowsheet_type', 'Unknown')}\")\n",
    "    \n",
    "if not water_analysis:\n",
    "    validation_errors.append(\"Missing water_analysis parameter\")\n",
    "else:\n",
    "    logger.info(f\"Water analysis loaded: Flow {water_analysis.get('flow_m3_hr', 0)} m³/hr\")\n",
    "\n",
    "if validation_errors:\n",
    "    raise ValueError(f\"Validation failed: {', '.join(validation_errors)}\")\n",
    "\n",
    "# Extract key parameters\n",
    "flowsheet_type = configuration.get('flowsheet_type', 'general')\n",
    "ix_vessels = configuration.get('ix_vessels', {})\n",
    "degasser_config = configuration.get('degasser', {})\n",
    "\n",
    "logger.info(f\"Running {flowsheet_type} flowsheet simulation\")\n",
    "logger.info(f\"IX vessels: {list(ix_vessels.keys())}\")\n",
    "logger.info(f\"Degasser present: {'Yes' if degasser_config else 'No'}\")"
   ]
  },
  {
   "cell_type": "markdown",
   "id": "ea409669",
   "metadata": {
    "papermill": {
     "duration": 0.007813,
     "end_time": "2025-07-25T03:02:23.883544",
     "exception": false,
     "start_time": "2025-07-25T03:02:23.875731",
     "status": "completed"
    },
    "tags": []
   },
   "source": [
    "## Build WaterTAP Model"
   ]
  },
  {
   "cell_type": "code",
   "execution_count": 5,
   "id": "f86262e0",
   "metadata": {
    "execution": {
     "iopub.execute_input": "2025-07-25T03:02:23.895889Z",
     "iopub.status.busy": "2025-07-25T03:02:23.895889Z",
     "iopub.status.idle": "2025-07-25T03:02:24.061504Z",
     "shell.execute_reply": "2025-07-25T03:02:24.061504Z"
    },
    "papermill": {
     "duration": 0.174607,
     "end_time": "2025-07-25T03:02:24.063531",
     "exception": false,
     "start_time": "2025-07-25T03:02:23.888924",
     "status": "completed"
    },
    "tags": []
   },
   "outputs": [
    {
     "name": "stderr",
     "output_type": "stream",
     "text": [
      "INFO:__main__:MCAS solute list: ['Ca_2+', 'Mg_2+', 'Na_+', 'Cl_-', 'HCO3_-', 'H_+', 'OH_-']\n"
     ]
    },
    {
     "name": "stderr",
     "output_type": "stream",
     "text": [
      "INFO:__main__:Feed conditions set: 100 m³/hr at 25°C\n"
     ]
    },
    {
     "name": "stderr",
     "output_type": "stream",
     "text": [
      "INFO:__main__:Fixing mole fractions for feed stream...\n"
     ]
    },
    {
     "name": "stdout",
     "output_type": "stream",
     "text": [
      "2025-07-24 23:02:23 [INFO] idaes.init.fs.feed: Initialization Complete.\n"
     ]
    },
    {
     "name": "stderr",
     "output_type": "stream",
     "text": [
      "INFO:watertap_ix_transport.utilities.property_calculations:Detected 10,000 mg/L concentrations - recalculating...\n"
     ]
    },
    {
     "name": "stderr",
     "output_type": "stream",
     "text": [
      "INFO:watertap_ix_transport.utilities.property_calculations:Successfully updated concentrations\n"
     ]
    },
    {
     "name": "stderr",
     "output_type": "stream",
     "text": [
      "INFO:__main__:Feed water mole fraction: 0.500000\n"
     ]
    },
    {
     "name": "stderr",
     "output_type": "stream",
     "text": [
      "WARNING:__main__:WARNING: Feed water mole fraction is 0.500000 (expected > 0.95)\n"
     ]
    },
    {
     "name": "stderr",
     "output_type": "stream",
     "text": [
      "WARNING:__main__:This may indicate an issue with mass flow specification or mole fraction calculation\n"
     ]
    },
    {
     "name": "stderr",
     "output_type": "stream",
     "text": [
      "INFO:__main__:✓ No suspicious 10,000 mg/L concentrations in feed\n"
     ]
    }
   ],
   "source": [
    "# Build WaterTAP flowsheet model\n",
    "m = ConcreteModel()\n",
    "m.fs = FlowsheetBlock(dynamic=False)\n",
    "\n",
    "# Build MCAS property configuration from water analysis\n",
    "solute_list = []\n",
    "ion_mapping = {\n",
    "    'Ca_2+': 'Ca_2+',\n",
    "    'Mg_2+': 'Mg_2+', \n",
    "    'Na_+': 'Na_+',\n",
    "    'K_+': 'K_+',\n",
    "    'Cl_-': 'Cl_-',\n",
    "    'SO4_2-': 'SO4_2-',\n",
    "    'HCO3_-': 'HCO3_-',\n",
    "    'NO3_-': 'NO3_-',\n",
    "    'CO3_2-': 'CO3_2-',\n",
    "    'OH_-': 'OH_-',\n",
    "    'H_+': 'H_+'\n",
    "}\n",
    "\n",
    "# Build solute list from water analysis\n",
    "for ion, conc in water_analysis['ion_concentrations_mg_L'].items():\n",
    "    if ion in ion_mapping and conc > 0:\n",
    "        mapped_ion = ion_mapping[ion]\n",
    "        if mapped_ion not in solute_list:\n",
    "            solute_list.append(mapped_ion)\n",
    "\n",
    "# Always include H+ and OH- for pH calculations\n",
    "if 'H_+' not in solute_list:\n",
    "    solute_list.append('H_+')\n",
    "if 'OH_-' not in solute_list:\n",
    "    solute_list.append('OH_-')\n",
    "\n",
    "# Ensure hardness ions are present for IX model (required for target_ion_set)\n",
    "if 'Ca_2+' not in solute_list:\n",
    "    solute_list.append('Ca_2+')\n",
    "if 'Mg_2+' not in solute_list:\n",
    "    solute_list.append('Mg_2+')\n",
    "\n",
    "logger.info(f\"MCAS solute list: {solute_list}\")\n",
    "\n",
    "# Create MCAS property package\n",
    "m.fs.properties = MCASParameterBlock(\n",
    "    solute_list=solute_list,\n",
    "    material_flow_basis=MaterialFlowBasis.mass\n",
    ")\n",
    "\n",
    "# Create feed stream\n",
    "m.fs.feed = Feed(property_package=m.fs.properties)\n",
    "\n",
    "# Calculate mass flows from concentration data\n",
    "flow_rate_m3s = water_analysis['flow_m3_hr'] / 3600  # m³/s\n",
    "density_kg_m3 = 1000  # Approximate for dilute solutions\n",
    "\n",
    "# Calculate component mass flows\n",
    "flow_mass_comp = {}\n",
    "for ion, conc_mg_L in water_analysis['ion_concentrations_mg_L'].items():\n",
    "    if ion in ion_mapping and conc_mg_L > 0:\n",
    "        # Correct unit conversion:\n",
    "        # mg/L × (1 kg / 10^6 mg) × (10^3 L / 1 m³) = 10^-3 kg/m³\n",
    "        # Then: conc_mg_L × flow_rate_m3s × 10^-3 = kg/s\n",
    "        mass_flow_kg_s = conc_mg_L * flow_rate_m3s * 1e-3  # kg/s  <-- FIXED: was 1e-9\n",
    "        flow_mass_comp[('Liq', ion_mapping[ion])] = mass_flow_kg_s\n",
    "\n",
    "# Add trace amounts for missing required ions\n",
    "if ('Liq', 'Ca_2+') not in flow_mass_comp:\n",
    "    flow_mass_comp[('Liq', 'Ca_2+')] = 1e-10  # Trace amount\n",
    "if ('Liq', 'Mg_2+') not in flow_mass_comp:\n",
    "    flow_mass_comp[('Liq', 'Mg_2+')] = 1e-10  # Trace amount\n",
    "\n",
    "# Add trace amounts for H+ and OH- if not present\n",
    "if ('Liq', 'H_+') not in flow_mass_comp:\n",
    "    # pH 7.5 => [H+] = 10^-7.5 mol/L\n",
    "    h_conc_mol_L = 10**(-water_analysis['pH'])\n",
    "    h_mass_flow = h_conc_mol_L * 1.008 * flow_rate_m3s * 1e-3  # kg/s\n",
    "    flow_mass_comp[('Liq', 'H_+')] = h_mass_flow\n",
    "    \n",
    "if ('Liq', 'OH_-') not in flow_mass_comp:\n",
    "    # [OH-] from Kw = [H+][OH-] = 1e-14\n",
    "    oh_conc_mol_L = 1e-14 / (10**(-water_analysis['pH']))\n",
    "    oh_mass_flow = oh_conc_mol_L * 17.008 * flow_rate_m3s * 1e-3  # kg/s\n",
    "    flow_mass_comp[('Liq', 'OH_-')] = oh_mass_flow\n",
    "\n",
    "# Calculate water flow\n",
    "total_solute_flow = sum(flow_mass_comp.values())\n",
    "total_mass_flow = flow_rate_m3s * density_kg_m3\n",
    "flow_mass_comp[('Liq', 'H2O')] = total_mass_flow - total_solute_flow\n",
    "\n",
    "# Fix feed conditions\n",
    "m.fs.feed.outlet.temperature[0].fix(water_analysis['temperature_celsius'] + 273.15)  # K\n",
    "m.fs.feed.outlet.pressure[0].fix(water_analysis['pressure_bar'] * 1e5)  # Pa\n",
    "\n",
    "for comp_phase, flow in flow_mass_comp.items():\n",
    "    m.fs.feed.outlet.flow_mass_phase_comp[0, comp_phase[0], comp_phase[1]].fix(flow)\n",
    "\n",
    "logger.info(f\"Feed conditions set: {water_analysis['flow_m3_hr']} m³/hr at {water_analysis['temperature_celsius']}°C\")\n",
    "\n",
    "# CRITICAL: Fix mole fractions immediately after setting mass flows\n",
    "# This prevents MCAS from using default values (0.5 mol/L → 10,000 mg/L)\n",
    "logger.info(\"Fixing mole fractions for feed stream...\")\n",
    "\n",
    "# Import here to ensure it's available\n",
    "from watertap_ix_transport.utilities.property_calculations import fix_mole_fractions\n",
    "\n",
    "# Initialize feed to build constraints\n",
    "m.fs.feed.initialize()\n",
    "\n",
    "# Apply mole fraction fix\n",
    "fix_mole_fractions(m.fs.feed.properties[0])\n",
    "\n",
    "# Validate water mole fraction > 0.95\n",
    "water_mol_frac = value(m.fs.feed.properties[0].mole_frac_phase_comp['Liq', 'H2O'])\n",
    "logger.info(f\"Feed water mole fraction: {water_mol_frac:.6f}\")\n",
    "\n",
    "if water_mol_frac < 0.95:\n",
    "    logger.warning(f\"WARNING: Feed water mole fraction is {water_mol_frac:.6f} (expected > 0.95)\")\n",
    "    logger.warning(\"This may indicate an issue with mass flow specification or mole fraction calculation\")\n",
    "else:\n",
    "    logger.info(\"✓ Feed water mole fraction is correct (> 0.95)\")\n",
    "\n",
    "# Double-check no 10,000 mg/L values\n",
    "feed_state = m.fs.feed.properties[0]\n",
    "suspect_ions = []\n",
    "for comp in m.fs.properties.solute_set:\n",
    "    if comp != 'H2O':\n",
    "        conc_kg_m3 = value(feed_state.conc_mass_phase_comp['Liq', comp])\n",
    "        conc_mg_L = conc_kg_m3 * 1000\n",
    "        if abs(conc_mg_L - 10000) < 0.1:\n",
    "            suspect_ions.append((comp, conc_mg_L))\n",
    "\n",
    "if suspect_ions:\n",
    "    logger.error(\"ERROR: Found ions with ~10,000 mg/L concentration in feed:\")\n",
    "    for ion, conc in suspect_ions:\n",
    "        logger.error(f\"  - {ion}: {conc:.1f} mg/L\")\n",
    "    logger.error(\"This indicates MCAS fallback to default values - check initialization sequence\")\n",
    "else:\n",
    "    logger.info(\"✓ No suspicious 10,000 mg/L concentrations in feed\")"
   ]
  },
  {
   "cell_type": "code",
   "execution_count": 6,
   "id": "24a53358",
   "metadata": {
    "execution": {
     "iopub.execute_input": "2025-07-25T03:02:24.074597Z",
     "iopub.status.busy": "2025-07-25T03:02:24.074597Z",
     "iopub.status.idle": "2025-07-25T03:02:24.136192Z",
     "shell.execute_reply": "2025-07-25T03:02:24.136192Z"
    },
    "papermill": {
     "duration": 0.069591,
     "end_time": "2025-07-25T03:02:24.138990",
     "exception": false,
     "start_time": "2025-07-25T03:02:24.069399",
     "status": "completed"
    },
    "tags": []
   },
   "outputs": [
    {
     "name": "stderr",
     "output_type": "stream",
     "text": [
      "INFO:watertap_ix_transport.transport_core.phreeqc_transport_engine:Loaded parameters for SAC resin\n"
     ]
    },
    {
     "name": "stderr",
     "output_type": "stream",
     "text": [
      "INFO:__main__:Created ix_sac: SAC resin, 2.0m bed depth\n"
     ]
    },
    {
     "name": "stderr",
     "output_type": "stream",
     "text": [
      "INFO:__main__:Flowsheet built with 1 IX vessels\n"
     ]
    }
   ],
   "source": [
    "# Build IX vessels based on configuration\n",
    "# Map resin types\n",
    "resin_type_map = {\n",
    "    'SAC': ResinType.SAC,\n",
    "    'WAC_H': ResinType.WAC_H,\n",
    "    'WAC_Na': ResinType.WAC_Na\n",
    "}\n",
    "\n",
    "# Map regenerant chemicals\n",
    "regenerant_map = {\n",
    "    'SAC': RegenerantChem.NaCl,\n",
    "    'WAC_H': RegenerantChem.HCl,\n",
    "    'WAC_Na': RegenerantChem.NaOH\n",
    "}\n",
    "\n",
    "# Track units and connections\n",
    "ix_units = {}\n",
    "previous_unit = m.fs.feed\n",
    "\n",
    "# Build each IX vessel in sequence\n",
    "for i, (vessel_name, vessel_config) in enumerate(ix_vessels.items()):\n",
    "    resin_type_str = vessel_config['resin_type']\n",
    "    resin_type = resin_type_map.get(resin_type_str, ResinType.SAC)\n",
    "    regenerant = regenerant_map.get(resin_type_str, RegenerantChem.NaCl)\n",
    "    \n",
    "    # Create IX unit\n",
    "    unit_name = f\"ix_{vessel_name.lower().replace('-', '_')}\"\n",
    "    ix_unit = IonExchangeTransport0D(\n",
    "        property_package=m.fs.properties,\n",
    "        resin_type=resin_type,\n",
    "        regenerant=regenerant,\n",
    "        number_of_beds=vessel_config['number_service']\n",
    "    )\n",
    "    setattr(m.fs, unit_name, ix_unit)\n",
    "    ix_units[vessel_name] = ix_unit\n",
    "    \n",
    "    # Set vessel parameters\n",
    "    if hasattr(ix_unit.bed_depth, 'fix'):\n",
    "        ix_unit.bed_depth.fix(vessel_config['bed_depth_m'])\n",
    "    else:\n",
    "        ix_unit.bed_depth.set_value(vessel_config['bed_depth_m'])\n",
    "        \n",
    "    if hasattr(ix_unit.bed_diameter, 'fix'):\n",
    "        ix_unit.bed_diameter.fix(vessel_config['diameter_m'])\n",
    "    else:\n",
    "        ix_unit.bed_diameter.set_value(vessel_config['diameter_m'])\n",
    "    \n",
    "    # Fix operating capacity based on water chemistry\n",
    "    if resin_type_str == 'SAC':\n",
    "        op_capacity = 0.8  # 80% of theoretical\n",
    "    elif resin_type_str == 'WAC_H':\n",
    "        op_capacity = 0.7  # 70% for H+ form\n",
    "    else:  # WAC_Na\n",
    "        op_capacity = 0.75  # 75% for Na+ form\n",
    "        \n",
    "    if hasattr(ix_unit.operating_capacity, 'fix'):\n",
    "        ix_unit.operating_capacity.fix(op_capacity)\n",
    "    else:\n",
    "        ix_unit.operating_capacity.set_value(op_capacity)\n",
    "    \n",
    "    # Create connection\n",
    "    arc_name = f\"arc_{i}\"\n",
    "    arc = Arc(source=previous_unit.outlet, destination=ix_unit.inlet)\n",
    "    setattr(m.fs, arc_name, arc)\n",
    "    \n",
    "    previous_unit = ix_unit\n",
    "    logger.info(f\"Created {unit_name}: {resin_type_str} resin, {vessel_config['bed_depth_m']}m bed depth\")\n",
    "\n",
    "# Add degasser if present\n",
    "degasser_unit = None\n",
    "if degasser_config:\n",
    "    logger.info(\"Adding degasser to flowsheet\")\n",
    "    \n",
    "    # Create degasser unit\n",
    "    m.fs.degasser = DegasserTower0DPhreeqc(\n",
    "        property_package=m.fs.properties\n",
    "    )\n",
    "    degasser_unit = m.fs.degasser\n",
    "    \n",
    "    # Set degasser operating parameters\n",
    "    acid_dose = simulation_options.get('acid_dose_mmol_L', 2.0)  # Default 2 mmol/L\n",
    "    \n",
    "    if hasattr(m.fs.degasser.acid_dose_mmol_L, 'fix'):\n",
    "        m.fs.degasser.acid_dose_mmol_L.fix(acid_dose)\n",
    "    \n",
    "    # Set CO2 partial pressure target\n",
    "    if hasattr(m.fs.degasser.co2_partial_pressure, 'fix'):\n",
    "        m.fs.degasser.co2_partial_pressure.fix(0.0003)  # ~300 ppm atmospheric CO2\n",
    "    \n",
    "    # Gas-liquid ratio from configuration\n",
    "    air_water_ratio = configuration['hydraulics'].get('air_water_ratio', 45.0)\n",
    "    if hasattr(m.fs.degasser.gas_liquid_ratio, 'fix'):\n",
    "        m.fs.degasser.gas_liquid_ratio.fix(air_water_ratio)\n",
    "    \n",
    "    # Connect last IX unit to degasser\n",
    "    arc = Arc(source=previous_unit.outlet, destination=m.fs.degasser.inlet)\n",
    "    m.fs.arc_to_degasser = arc\n",
    "    \n",
    "    previous_unit = m.fs.degasser\n",
    "\n",
    "# Create final product stream\n",
    "m.fs.product = Product(property_package=m.fs.properties)\n",
    "arc = Arc(source=previous_unit.outlet, destination=m.fs.product.inlet)\n",
    "m.fs.arc_to_product = arc\n",
    "\n",
    "# Expand arcs\n",
    "TransformationFactory(\"network.expand_arcs\").apply_to(m)\n",
    "\n",
    "logger.info(f\"Flowsheet built with {len(ix_units)} IX vessels\" + \n",
    "           (f\" and degasser\" if degasser_unit else \"\"))"
   ]
  },
  {
   "cell_type": "code",
   "execution_count": 7,
   "id": "44e4ba9e",
   "metadata": {
    "execution": {
     "iopub.execute_input": "2025-07-25T03:02:24.150069Z",
     "iopub.status.busy": "2025-07-25T03:02:24.150069Z",
     "iopub.status.idle": "2025-07-25T03:02:34.601032Z",
     "shell.execute_reply": "2025-07-25T03:02:34.600527Z"
    },
    "papermill": {
     "duration": 10.4566,
     "end_time": "2025-07-25T03:02:34.601032",
     "exception": false,
     "start_time": "2025-07-25T03:02:24.144432",
     "status": "completed"
    },
    "tags": []
   },
   "outputs": [
    {
     "name": "stderr",
     "output_type": "stream",
     "text": [
      "INFO:__main__:Initializing flowsheet...\n"
     ]
    },
    {
     "name": "stderr",
     "output_type": "stream",
     "text": [
      "INFO:__main__:Initializing feed...\n"
     ]
    },
    {
     "name": "stdout",
     "output_type": "stream",
     "text": [
      "2025-07-24 23:02:24 [INFO] idaes.init.fs.feed: Initialization Complete.\n"
     ]
    },
    {
     "name": "stderr",
     "output_type": "stream",
     "text": [
      "INFO:__main__:Initializing SAC...\n"
     ]
    },
    {
     "name": "stdout",
     "output_type": "stream",
     "text": [
      "2025-07-24 23:02:24 [INFO] idaes.init.fs.ix_sac: Fixing outlet mole fractions BEFORE IX calculations...\n"
     ]
    },
    {
     "name": "stderr",
     "output_type": "stream",
     "text": [
      "INFO:watertap_ix_transport.utilities.property_calculations:Detected 10,000 mg/L concentrations - recalculating...\n"
     ]
    },
    {
     "name": "stderr",
     "output_type": "stream",
     "text": [
      "WARNING:watertap_ix_transport.utilities.property_calculations:Cannot solve property block - DOF = 8\n"
     ]
    },
    {
     "name": "stdout",
     "output_type": "stream",
     "text": [
      "2025-07-24 23:02:24 [INFO] idaes.init.fs.ix_sac: Inlet property block DOF: 0\n"
     ]
    },
    {
     "name": "stdout",
     "output_type": "stream",
     "text": [
      "2025-07-24 23:02:24 [INFO] idaes.init.fs.ix_sac: Fixing inlet mole fractions before IX calculations...\n"
     ]
    },
    {
     "name": "stderr",
     "output_type": "stream",
     "text": [
      "INFO:watertap_ix_transport.utilities.property_calculations:Detected 10,000 mg/L concentrations - recalculating...\n"
     ]
    },
    {
     "name": "stderr",
     "output_type": "stream",
     "text": [
      "INFO:watertap_ix_transport.utilities.property_calculations:Successfully updated concentrations\n"
     ]
    },
    {
     "name": "stdout",
     "output_type": "stream",
     "text": [
      "2025-07-24 23:02:24 [INFO] idaes.init.fs.ix_sac: Water mole fraction after fixing: 0.500000\n"
     ]
    },
    {
     "name": "stdout",
     "output_type": "stream",
     "text": [
      "2025-07-24 23:02:24 [WARNING] idaes.init.fs.ix_sac: Low water mole fraction detected: 0.500000\n"
     ]
    },
    {
     "name": "stdout",
     "output_type": "stream",
     "text": [
      "2025-07-24 23:02:24 [WARNING] idaes.init.fs.ix_sac: This may cause incorrect IX performance calculations\n"
     ]
    },
    {
     "name": "stdout",
     "output_type": "stream",
     "text": [
      "2025-07-24 23:02:24 [INFO] idaes.init.fs.ix_sac: Water mole fraction after re-solve: 0.999554\n"
     ]
    },
    {
     "name": "stdout",
     "output_type": "stream",
     "text": [
      "2025-07-24 23:02:25 [INFO] idaes.init.fs.ix_sac: Calculated bed volume: 3.53 m³\n"
     ]
    },
    {
     "name": "stdout",
     "output_type": "stream",
     "text": [
      "2025-07-24 23:02:25 [INFO] idaes.init.fs.ix_sac: Calculating ion exchange performance with PHREEQC...\n"
     ]
    },
    {
     "name": "stderr",
     "output_type": "stream",
     "text": [
      "INFO:watertap_ix_transport.ion_exchange_transport_0D:Ensuring correct mole fractions before PHREEQC calculations...\n"
     ]
    },
    {
     "name": "stderr",
     "output_type": "stream",
     "text": [
      "INFO:watertap_ix_transport.ion_exchange_transport_0D:Water mole fraction before PHREEQC: 0.999554\n"
     ]
    },
    {
     "name": "stderr",
     "output_type": "stream",
     "text": [
      "INFO:watertap_ix_transport.phreeqc_translator:Using flow_vol_phase: 2.7777777778e-02 m³/s (decimal: 0.027777777777777773)\n"
     ]
    },
    {
     "name": "stderr",
     "output_type": "stream",
     "text": [
      "INFO:watertap_ix_transport.phreeqc_translator:Water mass flow: 27.751111 kg/s\n"
     ]
    },
    {
     "name": "stderr",
     "output_type": "stream",
     "text": [
      "INFO:watertap_ix_transport.phreeqc_translator:Mass flow of Ca_2+: 0.005000 kg/s\n"
     ]
    },
    {
     "name": "stderr",
     "output_type": "stream",
     "text": [
      "INFO:watertap_ix_transport.phreeqc_translator:Mass flow of Mg_2+: 0.002222 kg/s\n"
     ]
    },
    {
     "name": "stderr",
     "output_type": "stream",
     "text": [
      "INFO:watertap_ix_transport.phreeqc_translator:Mass flow of Na_+: 0.001389 kg/s\n"
     ]
    },
    {
     "name": "stderr",
     "output_type": "stream",
     "text": [
      "INFO:watertap_ix_transport.phreeqc_translator:Mass flow of Cl_-: 0.009722 kg/s\n"
     ]
    },
    {
     "name": "stderr",
     "output_type": "stream",
     "text": [
      "INFO:watertap_ix_transport.phreeqc_translator:Mass flow of HCO3_-: 0.008333 kg/s\n"
     ]
    },
    {
     "name": "stderr",
     "output_type": "stream",
     "text": [
      "INFO:watertap_ix_transport.phreeqc_translator:Mass flow of H_+: 0.000000 kg/s\n"
     ]
    },
    {
     "name": "stderr",
     "output_type": "stream",
     "text": [
      "INFO:watertap_ix_transport.phreeqc_translator:Mass flow of OH_-: 0.000000 kg/s\n"
     ]
    },
    {
     "name": "stderr",
     "output_type": "stream",
     "text": [
      "INFO:watertap_ix_transport.phreeqc_translator:PHREEQC feed composition:\n"
     ]
    },
    {
     "name": "stderr",
     "output_type": "stream",
     "text": [
      "INFO:watertap_ix_transport.phreeqc_translator:  Temperature: 25.0 °C\n"
     ]
    },
    {
     "name": "stderr",
     "output_type": "stream",
     "text": [
      "INFO:watertap_ix_transport.phreeqc_translator:  pH: 6.00\n"
     ]
    },
    {
     "name": "stderr",
     "output_type": "stream",
     "text": [
      "INFO:watertap_ix_transport.phreeqc_translator:  Total TDS: 960.0 mg/L\n"
     ]
    },
    {
     "name": "stderr",
     "output_type": "stream",
     "text": [
      "INFO:watertap_ix_transport.phreeqc_translator:  Ca+2: 180.000 mg/L\n"
     ]
    },
    {
     "name": "stderr",
     "output_type": "stream",
     "text": [
      "INFO:watertap_ix_transport.phreeqc_translator:  Mg+2: 80.000 mg/L\n"
     ]
    },
    {
     "name": "stderr",
     "output_type": "stream",
     "text": [
      "INFO:watertap_ix_transport.phreeqc_translator:  Na+: 50.000 mg/L\n"
     ]
    },
    {
     "name": "stderr",
     "output_type": "stream",
     "text": [
      "INFO:watertap_ix_transport.phreeqc_translator:  Cl-: 350.000 mg/L\n"
     ]
    },
    {
     "name": "stderr",
     "output_type": "stream",
     "text": [
      "INFO:watertap_ix_transport.phreeqc_translator:  HCO3-: 300.000 mg/L\n"
     ]
    },
    {
     "name": "stderr",
     "output_type": "stream",
     "text": [
      "INFO:watertap_ix_transport.phreeqc_translator:  H+: 0.001 mg/L\n"
     ]
    },
    {
     "name": "stderr",
     "output_type": "stream",
     "text": [
      "INFO:watertap_ix_transport.phreeqc_translator:  OH-: 0.001 mg/L\n"
     ]
    },
    {
     "name": "stderr",
     "output_type": "stream",
     "text": [
      "INFO:watertap_ix_transport.transport_core.phreeqc_transport_engine:Using direct PHREEQC executable for simulation\n"
     ]
    },
    {
     "name": "stderr",
     "output_type": "stream",
     "text": [
      "INFO:watertap_ix_transport.transport_core.direct_phreeqc_engine:Using PHREEQC executable: C:\\Program Files\\USGS\\phreeqc-3.8.6-17100-x64\\bin\\phreeqc.bat\n"
     ]
    },
    {
     "name": "stderr",
     "output_type": "stream",
     "text": [
      "INFO:watertap_ix_transport.transport_core.phreeqc_transport_engine:Direct PHREEQC simulation complete. Ca breakthrough at None BV\n"
     ]
    },
    {
     "name": "stdout",
     "output_type": "stream",
     "text": [
      "2025-07-24 23:02:29 [WARNING] idaes.watertap_ix_transport.ion_exchange_transport_0D: No breakthrough data for Ca_2+ in PHREEQC results\n"
     ]
    },
    {
     "name": "stderr",
     "output_type": "stream",
     "text": [
      "WARNING:idaes.watertap_ix_transport.ion_exchange_transport_0D:No breakthrough data for Ca_2+ in PHREEQC results\n"
     ]
    },
    {
     "name": "stdout",
     "output_type": "stream",
     "text": [
      "2025-07-24 23:02:29 [WARNING] idaes.watertap_ix_transport.ion_exchange_transport_0D: No breakthrough data for Mg_2+ in PHREEQC results\n"
     ]
    },
    {
     "name": "stderr",
     "output_type": "stream",
     "text": [
      "WARNING:idaes.watertap_ix_transport.ion_exchange_transport_0D:No breakthrough data for Mg_2+ in PHREEQC results\n"
     ]
    },
    {
     "name": "stderr",
     "output_type": "stream",
     "text": [
      "INFO:watertap_ix_transport.ion_exchange_transport_0D:Starting _update_removal_rates...\n"
     ]
    },
    {
     "name": "stderr",
     "output_type": "stream",
     "text": [
      "INFO:watertap_ix_transport.ion_exchange_transport_0D:Ion Ca_2+: inlet_flow=5.000000e-03 kg/s, removal_fraction=0.95, removal_rate=-4.750000e-03 kg/s\n"
     ]
    },
    {
     "name": "stderr",
     "output_type": "stream",
     "text": [
      "INFO:watertap_ix_transport.ion_exchange_transport_0D:Releasing Na+ for Ca_2+: na_mol_release=2.370259e-01 mol/s, na_mass_release=5.449227e-03 kg/s\n"
     ]
    },
    {
     "name": "stderr",
     "output_type": "stream",
     "text": [
      "INFO:watertap_ix_transport.ion_exchange_transport_0D:Ion Mg_2+: inlet_flow=2.222222e-03 kg/s, removal_fraction=0.95, removal_rate=-2.111111e-03 kg/s\n"
     ]
    },
    {
     "name": "stderr",
     "output_type": "stream",
     "text": [
      "INFO:watertap_ix_transport.ion_exchange_transport_0D:Releasing Na+ for Mg_2+: na_mol_release=1.737183e-01 mol/s, na_mass_release=3.993783e-03 kg/s\n"
     ]
    },
    {
     "name": "stderr",
     "output_type": "stream",
     "text": [
      "INFO:watertap_ix_transport.ion_exchange_transport_0D:Unfixing outlet flows...\n"
     ]
    },
    {
     "name": "stderr",
     "output_type": "stream",
     "text": [
      "INFO:watertap_ix_transport.ion_exchange_transport_0D:Fixing ion_removal_rate variables...\n"
     ]
    },
    {
     "name": "stderr",
     "output_type": "stream",
     "text": [
      "INFO:watertap_ix_transport.ion_exchange_transport_0D:Unfixed ion_removal_rate[H2O] = 0.000000e+00 kg/s (zero rate)\n"
     ]
    },
    {
     "name": "stderr",
     "output_type": "stream",
     "text": [
      "INFO:watertap_ix_transport.ion_exchange_transport_0D:Fixed ion_removal_rate[Ca_2+] = -4.750000e-03 kg/s\n"
     ]
    },
    {
     "name": "stderr",
     "output_type": "stream",
     "text": [
      "INFO:watertap_ix_transport.ion_exchange_transport_0D:Fixed ion_removal_rate[Mg_2+] = -2.111111e-03 kg/s\n"
     ]
    },
    {
     "name": "stderr",
     "output_type": "stream",
     "text": [
      "INFO:watertap_ix_transport.ion_exchange_transport_0D:Fixed ion_removal_rate[Na_+] = 9.443009e-03 kg/s\n"
     ]
    },
    {
     "name": "stderr",
     "output_type": "stream",
     "text": [
      "INFO:watertap_ix_transport.ion_exchange_transport_0D:Unfixed ion_removal_rate[Cl_-] = 0.000000e+00 kg/s (zero rate)\n"
     ]
    },
    {
     "name": "stderr",
     "output_type": "stream",
     "text": [
      "INFO:watertap_ix_transport.ion_exchange_transport_0D:Unfixed ion_removal_rate[HCO3_-] = 0.000000e+00 kg/s (zero rate)\n"
     ]
    },
    {
     "name": "stderr",
     "output_type": "stream",
     "text": [
      "INFO:watertap_ix_transport.ion_exchange_transport_0D:Unfixed ion_removal_rate[H_+] = 0.000000e+00 kg/s (zero rate)\n"
     ]
    },
    {
     "name": "stderr",
     "output_type": "stream",
     "text": [
      "INFO:watertap_ix_transport.ion_exchange_transport_0D:Unfixed ion_removal_rate[OH_-] = 0.000000e+00 kg/s (zero rate)\n"
     ]
    },
    {
     "name": "stderr",
     "output_type": "stream",
     "text": [
      "INFO:watertap_ix_transport.ion_exchange_transport_0D:Ensuring mass_transfer_term variables are unfixed...\n"
     ]
    },
    {
     "name": "stderr",
     "output_type": "stream",
     "text": [
      "INFO:watertap_ix_transport.ion_exchange_transport_0D:Verifying eq_mass_transfer constraint exists...\n"
     ]
    },
    {
     "name": "stderr",
     "output_type": "stream",
     "text": [
      "INFO:watertap_ix_transport.ion_exchange_transport_0D:Found 8 active eq_mass_transfer constraints\n"
     ]
    },
    {
     "name": "stderr",
     "output_type": "stream",
     "text": [
      "INFO:watertap_ix_transport.ion_exchange_transport_0D:Fixing outlet mole fractions after IX calculations...\n"
     ]
    },
    {
     "name": "stderr",
     "output_type": "stream",
     "text": [
      "INFO:watertap_ix_transport.ion_exchange_transport_0D:Outlet water mole fraction: 0.500000\n"
     ]
    },
    {
     "name": "stdout",
     "output_type": "stream",
     "text": [
      "2025-07-24 23:02:29 [INFO] idaes.watertap_ix_transport.ion_exchange_transport_0D: PHREEQC performance calculation complete\n"
     ]
    },
    {
     "name": "stderr",
     "output_type": "stream",
     "text": [
      "INFO:idaes.watertap_ix_transport.ion_exchange_transport_0D:PHREEQC performance calculation complete\n"
     ]
    },
    {
     "name": "stdout",
     "output_type": "stream",
     "text": [
      "2025-07-24 23:02:29 [INFO] idaes.watertap_ix_transport.ion_exchange_transport_0D: Ca breakthrough: 100.0 BV\n"
     ]
    },
    {
     "name": "stderr",
     "output_type": "stream",
     "text": [
      "INFO:idaes.watertap_ix_transport.ion_exchange_transport_0D:Ca breakthrough: 100.0 BV\n"
     ]
    },
    {
     "name": "stdout",
     "output_type": "stream",
     "text": [
      "2025-07-24 23:02:29 [INFO] idaes.watertap_ix_transport.ion_exchange_transport_0D: Mg breakthrough: 100.0 BV\n"
     ]
    },
    {
     "name": "stderr",
     "output_type": "stream",
     "text": [
      "INFO:idaes.watertap_ix_transport.ion_exchange_transport_0D:Mg breakthrough: 100.0 BV\n"
     ]
    },
    {
     "name": "stdout",
     "output_type": "stream",
     "text": [
      "2025-07-24 23:02:29 [INFO] idaes.init.fs.ix_sac: Calculated service time: 7.1 hours\n"
     ]
    },
    {
     "name": "stdout",
     "output_type": "stream",
     "text": [
      "2025-07-24 23:02:29 [INFO] idaes.init.fs.ix_sac: Initialization Complete\n"
     ]
    },
    {
     "name": "stderr",
     "output_type": "stream",
     "text": [
      "INFO:__main__:  SAC initialized\n"
     ]
    },
    {
     "name": "stderr",
     "output_type": "stream",
     "text": [
      "INFO:__main__:  Calculating SAC PHREEQC performance...\n"
     ]
    },
    {
     "name": "stderr",
     "output_type": "stream",
     "text": [
      "INFO:watertap_ix_transport.ion_exchange_transport_0D:Ensuring correct mole fractions before PHREEQC calculations...\n"
     ]
    },
    {
     "name": "stderr",
     "output_type": "stream",
     "text": [
      "INFO:watertap_ix_transport.ion_exchange_transport_0D:Water mole fraction before PHREEQC: 0.999554\n"
     ]
    },
    {
     "name": "stderr",
     "output_type": "stream",
     "text": [
      "INFO:watertap_ix_transport.phreeqc_translator:Using flow_vol_phase: 2.7777777778e-02 m³/s (decimal: 0.027777777777777773)\n"
     ]
    },
    {
     "name": "stderr",
     "output_type": "stream",
     "text": [
      "INFO:watertap_ix_transport.phreeqc_translator:Water mass flow: 27.751111 kg/s\n"
     ]
    },
    {
     "name": "stderr",
     "output_type": "stream",
     "text": [
      "INFO:watertap_ix_transport.phreeqc_translator:Mass flow of Ca_2+: 0.005000 kg/s\n"
     ]
    },
    {
     "name": "stderr",
     "output_type": "stream",
     "text": [
      "INFO:watertap_ix_transport.phreeqc_translator:Mass flow of Mg_2+: 0.002222 kg/s\n"
     ]
    },
    {
     "name": "stderr",
     "output_type": "stream",
     "text": [
      "INFO:watertap_ix_transport.phreeqc_translator:Mass flow of Na_+: 0.001389 kg/s\n"
     ]
    },
    {
     "name": "stderr",
     "output_type": "stream",
     "text": [
      "INFO:watertap_ix_transport.phreeqc_translator:Mass flow of Cl_-: 0.009722 kg/s\n"
     ]
    },
    {
     "name": "stderr",
     "output_type": "stream",
     "text": [
      "INFO:watertap_ix_transport.phreeqc_translator:Mass flow of HCO3_-: 0.008333 kg/s\n"
     ]
    },
    {
     "name": "stderr",
     "output_type": "stream",
     "text": [
      "INFO:watertap_ix_transport.phreeqc_translator:Mass flow of H_+: 0.000000 kg/s\n"
     ]
    },
    {
     "name": "stderr",
     "output_type": "stream",
     "text": [
      "INFO:watertap_ix_transport.phreeqc_translator:Mass flow of OH_-: 0.000000 kg/s\n"
     ]
    },
    {
     "name": "stderr",
     "output_type": "stream",
     "text": [
      "INFO:watertap_ix_transport.phreeqc_translator:PHREEQC feed composition:\n"
     ]
    },
    {
     "name": "stderr",
     "output_type": "stream",
     "text": [
      "INFO:watertap_ix_transport.phreeqc_translator:  Temperature: 25.0 °C\n"
     ]
    },
    {
     "name": "stderr",
     "output_type": "stream",
     "text": [
      "INFO:watertap_ix_transport.phreeqc_translator:  pH: 6.00\n"
     ]
    },
    {
     "name": "stderr",
     "output_type": "stream",
     "text": [
      "INFO:watertap_ix_transport.phreeqc_translator:  Total TDS: 960.0 mg/L\n"
     ]
    },
    {
     "name": "stderr",
     "output_type": "stream",
     "text": [
      "INFO:watertap_ix_transport.phreeqc_translator:  Ca+2: 180.000 mg/L\n"
     ]
    },
    {
     "name": "stderr",
     "output_type": "stream",
     "text": [
      "INFO:watertap_ix_transport.phreeqc_translator:  Mg+2: 80.000 mg/L\n"
     ]
    },
    {
     "name": "stderr",
     "output_type": "stream",
     "text": [
      "INFO:watertap_ix_transport.phreeqc_translator:  Na+: 50.000 mg/L\n"
     ]
    },
    {
     "name": "stderr",
     "output_type": "stream",
     "text": [
      "INFO:watertap_ix_transport.phreeqc_translator:  Cl-: 350.000 mg/L\n"
     ]
    },
    {
     "name": "stderr",
     "output_type": "stream",
     "text": [
      "INFO:watertap_ix_transport.phreeqc_translator:  HCO3-: 300.000 mg/L\n"
     ]
    },
    {
     "name": "stderr",
     "output_type": "stream",
     "text": [
      "INFO:watertap_ix_transport.phreeqc_translator:  H+: 0.001 mg/L\n"
     ]
    },
    {
     "name": "stderr",
     "output_type": "stream",
     "text": [
      "INFO:watertap_ix_transport.phreeqc_translator:  OH-: 0.001 mg/L\n"
     ]
    },
    {
     "name": "stderr",
     "output_type": "stream",
     "text": [
      "INFO:watertap_ix_transport.transport_core.phreeqc_transport_engine:Using direct PHREEQC executable for simulation\n"
     ]
    },
    {
     "name": "stderr",
     "output_type": "stream",
     "text": [
      "INFO:watertap_ix_transport.transport_core.direct_phreeqc_engine:Using PHREEQC executable: C:\\Program Files\\USGS\\phreeqc-3.8.6-17100-x64\\bin\\phreeqc.bat\n"
     ]
    },
    {
     "name": "stderr",
     "output_type": "stream",
     "text": [
      "INFO:watertap_ix_transport.transport_core.phreeqc_transport_engine:Direct PHREEQC simulation complete. Ca breakthrough at None BV\n"
     ]
    },
    {
     "name": "stdout",
     "output_type": "stream",
     "text": [
      "2025-07-24 23:02:34 [WARNING] idaes.watertap_ix_transport.ion_exchange_transport_0D: No breakthrough data for Ca_2+ in PHREEQC results\n"
     ]
    },
    {
     "name": "stderr",
     "output_type": "stream",
     "text": [
      "WARNING:idaes.watertap_ix_transport.ion_exchange_transport_0D:No breakthrough data for Ca_2+ in PHREEQC results\n"
     ]
    },
    {
     "name": "stdout",
     "output_type": "stream",
     "text": [
      "2025-07-24 23:02:34 [WARNING] idaes.watertap_ix_transport.ion_exchange_transport_0D: No breakthrough data for Mg_2+ in PHREEQC results\n"
     ]
    },
    {
     "name": "stderr",
     "output_type": "stream",
     "text": [
      "WARNING:idaes.watertap_ix_transport.ion_exchange_transport_0D:No breakthrough data for Mg_2+ in PHREEQC results\n"
     ]
    },
    {
     "name": "stderr",
     "output_type": "stream",
     "text": [
      "INFO:watertap_ix_transport.ion_exchange_transport_0D:Starting _update_removal_rates...\n"
     ]
    },
    {
     "name": "stderr",
     "output_type": "stream",
     "text": [
      "INFO:watertap_ix_transport.ion_exchange_transport_0D:Ion Ca_2+: inlet_flow=5.000000e-03 kg/s, removal_fraction=0.95, removal_rate=-4.750000e-03 kg/s\n"
     ]
    },
    {
     "name": "stderr",
     "output_type": "stream",
     "text": [
      "INFO:watertap_ix_transport.ion_exchange_transport_0D:Releasing Na+ for Ca_2+: na_mol_release=2.370259e-01 mol/s, na_mass_release=5.449227e-03 kg/s\n"
     ]
    },
    {
     "name": "stderr",
     "output_type": "stream",
     "text": [
      "INFO:watertap_ix_transport.ion_exchange_transport_0D:Ion Mg_2+: inlet_flow=2.222222e-03 kg/s, removal_fraction=0.95, removal_rate=-2.111111e-03 kg/s\n"
     ]
    },
    {
     "name": "stderr",
     "output_type": "stream",
     "text": [
      "INFO:watertap_ix_transport.ion_exchange_transport_0D:Releasing Na+ for Mg_2+: na_mol_release=1.737183e-01 mol/s, na_mass_release=3.993783e-03 kg/s\n"
     ]
    },
    {
     "name": "stderr",
     "output_type": "stream",
     "text": [
      "INFO:watertap_ix_transport.ion_exchange_transport_0D:Unfixing outlet flows...\n"
     ]
    },
    {
     "name": "stderr",
     "output_type": "stream",
     "text": [
      "INFO:watertap_ix_transport.ion_exchange_transport_0D:Fixing ion_removal_rate variables...\n"
     ]
    },
    {
     "name": "stderr",
     "output_type": "stream",
     "text": [
      "INFO:watertap_ix_transport.ion_exchange_transport_0D:Unfixed ion_removal_rate[H2O] = 0.000000e+00 kg/s (zero rate)\n"
     ]
    },
    {
     "name": "stderr",
     "output_type": "stream",
     "text": [
      "INFO:watertap_ix_transport.ion_exchange_transport_0D:Fixed ion_removal_rate[Ca_2+] = -4.750000e-03 kg/s\n"
     ]
    },
    {
     "name": "stderr",
     "output_type": "stream",
     "text": [
      "INFO:watertap_ix_transport.ion_exchange_transport_0D:Fixed ion_removal_rate[Mg_2+] = -2.111111e-03 kg/s\n"
     ]
    },
    {
     "name": "stderr",
     "output_type": "stream",
     "text": [
      "INFO:watertap_ix_transport.ion_exchange_transport_0D:Fixed ion_removal_rate[Na_+] = 9.443009e-03 kg/s\n"
     ]
    },
    {
     "name": "stderr",
     "output_type": "stream",
     "text": [
      "INFO:watertap_ix_transport.ion_exchange_transport_0D:Unfixed ion_removal_rate[Cl_-] = 0.000000e+00 kg/s (zero rate)\n"
     ]
    },
    {
     "name": "stderr",
     "output_type": "stream",
     "text": [
      "INFO:watertap_ix_transport.ion_exchange_transport_0D:Unfixed ion_removal_rate[HCO3_-] = 0.000000e+00 kg/s (zero rate)\n"
     ]
    },
    {
     "name": "stderr",
     "output_type": "stream",
     "text": [
      "INFO:watertap_ix_transport.ion_exchange_transport_0D:Unfixed ion_removal_rate[H_+] = 0.000000e+00 kg/s (zero rate)\n"
     ]
    },
    {
     "name": "stderr",
     "output_type": "stream",
     "text": [
      "INFO:watertap_ix_transport.ion_exchange_transport_0D:Unfixed ion_removal_rate[OH_-] = 0.000000e+00 kg/s (zero rate)\n"
     ]
    },
    {
     "name": "stderr",
     "output_type": "stream",
     "text": [
      "INFO:watertap_ix_transport.ion_exchange_transport_0D:Ensuring mass_transfer_term variables are unfixed...\n"
     ]
    },
    {
     "name": "stderr",
     "output_type": "stream",
     "text": [
      "INFO:watertap_ix_transport.ion_exchange_transport_0D:Verifying eq_mass_transfer constraint exists...\n"
     ]
    },
    {
     "name": "stderr",
     "output_type": "stream",
     "text": [
      "INFO:watertap_ix_transport.ion_exchange_transport_0D:Found 8 active eq_mass_transfer constraints\n"
     ]
    },
    {
     "name": "stderr",
     "output_type": "stream",
     "text": [
      "INFO:watertap_ix_transport.ion_exchange_transport_0D:Fixing outlet mole fractions after IX calculations...\n"
     ]
    },
    {
     "name": "stderr",
     "output_type": "stream",
     "text": [
      "INFO:watertap_ix_transport.ion_exchange_transport_0D:Outlet water mole fraction: 0.100478\n"
     ]
    },
    {
     "name": "stdout",
     "output_type": "stream",
     "text": [
      "2025-07-24 23:02:34 [INFO] idaes.watertap_ix_transport.ion_exchange_transport_0D: PHREEQC performance calculation complete\n"
     ]
    },
    {
     "name": "stderr",
     "output_type": "stream",
     "text": [
      "INFO:idaes.watertap_ix_transport.ion_exchange_transport_0D:PHREEQC performance calculation complete\n"
     ]
    },
    {
     "name": "stdout",
     "output_type": "stream",
     "text": [
      "2025-07-24 23:02:34 [INFO] idaes.watertap_ix_transport.ion_exchange_transport_0D: Ca breakthrough: 100.0 BV\n"
     ]
    },
    {
     "name": "stderr",
     "output_type": "stream",
     "text": [
      "INFO:idaes.watertap_ix_transport.ion_exchange_transport_0D:Ca breakthrough: 100.0 BV\n"
     ]
    },
    {
     "name": "stdout",
     "output_type": "stream",
     "text": [
      "2025-07-24 23:02:34 [INFO] idaes.watertap_ix_transport.ion_exchange_transport_0D: Mg breakthrough: 100.0 BV\n"
     ]
    },
    {
     "name": "stderr",
     "output_type": "stream",
     "text": [
      "INFO:idaes.watertap_ix_transport.ion_exchange_transport_0D:Mg breakthrough: 100.0 BV\n"
     ]
    },
    {
     "name": "stderr",
     "output_type": "stream",
     "text": [
      "INFO:__main__:  Solving SAC to propagate mass transfer...\n"
     ]
    },
    {
     "name": "stderr",
     "output_type": "stream",
     "text": [
      "INFO:__main__:  SAC mass transfer propagated successfully\n"
     ]
    },
    {
     "name": "stderr",
     "output_type": "stream",
     "text": [
      "INFO:__main__:  SAC Ca: 91543.5 → 91543.4 mg/L\n"
     ]
    },
    {
     "name": "stderr",
     "output_type": "stream",
     "text": [
      "INFO:__main__:  SAC Mg: 59210.4 → 59210.4 mg/L\n"
     ]
    },
    {
     "name": "stderr",
     "output_type": "stream",
     "text": [
      "INFO:__main__:  SAC removal: Ca 0.0%, Mg 0.0%\n"
     ]
    },
    {
     "name": "stderr",
     "output_type": "stream",
     "text": [
      "INFO:__main__:Initializing product stream...\n"
     ]
    },
    {
     "name": "stdout",
     "output_type": "stream",
     "text": [
      "2025-07-24 23:02:34 [INFO] idaes.init.fs.product: Initialization Complete.\n"
     ]
    },
    {
     "name": "stderr",
     "output_type": "stream",
     "text": [
      "INFO:__main__:\n",
      "Overall hardness removal:\n"
     ]
    },
    {
     "name": "stderr",
     "output_type": "stream",
     "text": [
      "INFO:__main__:  Ca: 180.0 → 10000.0 mg/L (-5455.6% removal)\n"
     ]
    },
    {
     "name": "stderr",
     "output_type": "stream",
     "text": [
      "INFO:__main__:  Mg: 80.0 → 10000.0 mg/L (-12400.0% removal)\n"
     ]
    },
    {
     "name": "stderr",
     "output_type": "stream",
     "text": [
      "ERROR:__main__:ERROR: Product hardness is higher than feed!\n"
     ]
    },
    {
     "name": "stderr",
     "output_type": "stream",
     "text": [
      "INFO:__main__:\n",
      "Degrees of freedom after initialization: 2\n"
     ]
    },
    {
     "name": "stderr",
     "output_type": "stream",
     "text": [
      "WARNING:__main__:Model has 2 degrees of freedom - checking for unspecified variables\n"
     ]
    },
    {
     "name": "stderr",
     "output_type": "stream",
     "text": [
      "INFO:__main__:Fixed service time for SAC: 24 hours\n"
     ]
    },
    {
     "name": "stderr",
     "output_type": "stream",
     "text": [
      "INFO:__main__:Degrees of freedom after fixing variables: 1\n"
     ]
    },
    {
     "name": "stderr",
     "output_type": "stream",
     "text": [
      "INFO:__main__:\n",
      "Solving full model...\n"
     ]
    },
    {
     "name": "stdout",
     "output_type": "stream",
     "text": [
      "Ipopt 3.13.2: nlp_scaling_method=gradient-based\n",
      "tol=1e-06\n",
      "max_iter=100\n",
      "constr_viol_tol=1e-06\n",
      "\n",
      "\n",
      "******************************************************************************\n",
      "This program contains Ipopt, a library for large-scale nonlinear optimization.\n",
      " Ipopt is released as open source code under the Eclipse Public License (EPL).\n",
      "         For more information visit http://projects.coin-or.org/Ipopt\n",
      "\n",
      "This version of Ipopt was compiled from source code available at\n",
      "    https://github.com/IDAES/Ipopt as part of the Institute for the Design of\n",
      "    Advanced Energy Systems Process Systems Engineering Framework (IDAES PSE\n",
      "    Framework) Copyright (c) 2018-2019. See https://github.com/IDAES/idaes-pse.\n",
      "\n",
      "This version of Ipopt was compiled using HSL, a collection of Fortran codes\n",
      "    for large-scale scientific computation.  All technical papers, sales and\n",
      "    publicity material resulting from use of the HSL codes within IPOPT must\n",
      "    contain the following acknowledgement:\n",
      "        HSL, a collection of Fortran codes for large-scale scientific\n",
      "        computation. See http://www.hsl.rl.ac.uk.\n",
      "******************************************************************************\n",
      "\n",
      "This is Ipopt version 3.13.2, running with linear solver ma27.\n",
      "\n",
      "Number of nonzeros in equality constraint Jacobian...:      675\n",
      "Number of nonzeros in inequality constraint Jacobian.:        0\n",
      "Number of nonzeros in Lagrangian Hessian.............:      261\n",
      "\n",
      "Total number of variables............................:      164\n",
      "                     variables with only lower bounds:       52\n",
      "                variables with lower and upper bounds:      103\n",
      "                     variables with only upper bounds:        0\n",
      "Total number of equality constraints.................:      163\n",
      "Total number of inequality constraints...............:        0\n",
      "        inequality constraints with only lower bounds:        0\n",
      "   inequality constraints with lower and upper bounds:        0\n",
      "        inequality constraints with only upper bounds:        0\n",
      "\n",
      "iter    objective    inf_pr   inf_du lg(mu)  ||d||  lg(rg) alpha_du alpha_pr  ls\n",
      "   0  0.0000000e+00 1.33e+05 1.00e+00  -1.0 0.00e+00    -  0.00e+00 0.00e+00   0\n",
      "   1  0.0000000e+00 1.33e+05 7.73e+02  -1.0 1.59e+06    -  4.86e-03 1.35e-03h  1\n",
      "   2  0.0000000e+00 1.33e+05 2.06e+03  -1.0 1.58e+06    -  6.21e-03 1.36e-05h  1\n",
      "   3r 0.0000000e+00 1.33e+05 1.00e+03   5.1 0.00e+00    -  0.00e+00 6.79e-08R  2\n",
      "   4r 0.0000000e+00 1.33e+05 9.91e+04   5.1 1.79e+05    -  7.59e-03 3.58e-05f  1\n",
      "   5r 0.0000000e+00 8.30e+04 5.34e+04   3.0 1.79e+05    -  6.41e-01 4.59e-01f  1\n",
      "   6r 0.0000000e+00 8.30e+04 9.99e+02   4.9 0.00e+00    -  0.00e+00 2.74e-07R  2\n",
      "   7r 0.0000000e+00 8.30e+04 9.62e+04   4.9 1.35e+05    -  2.07e-02 4.89e-04f  2\n",
      "   8r 0.0000000e+00 8.29e+04 9.15e+04   3.5 1.32e+05    -  9.93e-01 1.57e-02f  1\n",
      "   9r 0.0000000e+00 6.32e+04 4.66e+04   2.1 6.58e+05    -  6.03e-01 4.92e-01f  1\n",
      "iter    objective    inf_pr   inf_du lg(mu)  ||d||  lg(rg) alpha_du alpha_pr  ls\n",
      "  10  0.0000000e+00 6.32e+04 6.50e+02  -1.0 1.04e+06    -  9.72e-03 1.48e-05h  1\n",
      "  11r 0.0000000e+00 6.32e+04 9.99e+02   4.8 0.00e+00    -  0.00e+00 7.40e-08R  2\n",
      "  12r 0.0000000e+00 6.32e+04 9.43e+04   4.8 1.17e+05    -  4.69e-02 1.35e-03f  2\n",
      "  13r 0.0000000e+00 5.85e+04 3.13e+04   2.7 1.15e+05    -  8.78e-01 6.73e-01f  1\n",
      "  14r 0.0000000e+00 4.95e+04 1.48e+04   2.0 1.20e+06    -  4.49e-01 5.26e-01f  1\n",
      "  15r 0.0000000e+00 4.95e+04 9.99e+02   4.7 0.00e+00    -  0.00e+00 4.54e-07R  5\n",
      "  16r 0.0000000e+00 4.95e+04 5.09e+03   4.7 4.17e+04    -  1.03e-03 2.36e-03f  1\n",
      "  17r 0.0000000e+00 4.95e+04 5.70e+04   4.0 4.13e+04    -  5.60e-01 8.27e-03f  1\n",
      "  18r 0.0000000e+00 4.95e+04 3.75e+04   2.6 9.16e+04    -  7.90e-01 2.02e-01f  1\n",
      "  19r 0.0000000e+00 4.95e+04 1.51e+04   1.9 4.37e+05    -  5.57e-01 6.74e-01f  1\n",
      "iter    objective    inf_pr   inf_du lg(mu)  ||d||  lg(rg) alpha_du alpha_pr  ls\n",
      "  20r 0.0000000e+00 4.95e+04 7.17e+03   1.9 4.15e+05    -  3.30e-01 3.64e-02f  1\n",
      "  21r 0.0000000e+00 4.95e+04 9.74e+03   1.9 1.89e+05    -  5.81e-01 7.16e-02f  1\n",
      "  22r 0.0000000e+00 4.94e+04 3.96e+05   1.9 1.59e+05    -  2.85e-01 2.66e-01f  1\n",
      "  23r 0.0000000e+00 4.94e+04 3.48e+05   1.9 5.57e+01   2.0 1.60e-01 3.91e-01f  1\n",
      "  24r 0.0000000e+00 4.94e+04 2.66e+05   1.9 1.88e+01   2.4 6.24e-01 3.72e-01f  1\n",
      "  25r 0.0000000e+00 4.94e+04 2.41e+05   1.9 5.08e+02   1.9 6.37e-02 1.12e-01f  1\n",
      "  26r 0.0000000e+00 4.94e+04 1.61e+05   1.9 4.22e+02   2.4 1.43e-01 3.64e-01f  1\n",
      "  27r 0.0000000e+00 4.94e+04 1.60e+05   1.9 9.08e+01   3.7 1.05e-01 2.29e-03h  1\n",
      "  28r 0.0000000e+00 4.94e+04 1.57e+05   1.9 2.16e+03   3.2 1.10e-02 1.98e-03h  4\n",
      "  29r 0.0000000e+00 4.94e+04 5.08e+05   1.9 1.23e+02   3.7 1.00e+00 7.12e-02h  1\n",
      "iter    objective    inf_pr   inf_du lg(mu)  ||d||  lg(rg) alpha_du alpha_pr  ls\n",
      "  30r 0.0000000e+00 4.94e+04 1.83e+06   1.9 1.21e+02   4.1 5.18e-02 1.00e+00f  1\n",
      "  31r 0.0000000e+00 4.94e+04 7.55e+05   1.9 1.16e+02   3.6 9.36e-02 1.00e+00f  1\n",
      "  32r 0.0000000e+00 4.94e+04 4.71e+03   1.9 7.85e-01   3.1 9.93e-01 9.94e-01f  1\n",
      "  33r 0.0000000e+00 4.94e+04 4.61e+03   1.9 1.53e+05    -  3.20e-02 1.32e-02f  1\n",
      "  34r 0.0000000e+00 4.94e+04 4.27e+03   1.9 1.36e+05    -  1.16e-01 3.95e-02f  1\n",
      "  35r 0.0000000e+00 4.94e+04 9.89e+03   1.9 1.17e+05    -  2.81e-01 2.28e-02f  1\n",
      "  36r 0.0000000e+00 4.94e+04 1.01e+04   1.9 1.15e+05    -  1.97e-02 7.57e-04f  1\n",
      "  37r 0.0000000e+00 4.93e+04 1.66e+04   1.9 1.14e+05    -  9.46e-01 1.45e-01f  1\n",
      "  38r 0.0000000e+00 4.88e+04 5.12e+03   1.9 9.61e+04    -  8.52e-01 3.50e-01f  1\n",
      "  39r 0.0000000e+00 4.88e+04 1.73e+03   1.2 3.97e+04    -  8.40e-01 2.83e-02f  1\n",
      "iter    objective    inf_pr   inf_du lg(mu)  ||d||  lg(rg) alpha_du alpha_pr  ls\n",
      "  40r 0.0000000e+00 4.88e+04 3.04e+03   1.2 2.45e+05    -  3.85e-01 5.60e-02f  1\n",
      "  41r 0.0000000e+00 4.88e+04 4.23e+03   1.2 2.28e+05    -  5.49e-01 1.17e-01f  1\n",
      "  42r 0.0000000e+00 4.88e+04 5.71e+03   1.2 1.61e+05    -  6.42e-01 1.12e-02f  1\n",
      "  43r 0.0000000e+00 4.88e+04 5.15e+03   1.2 4.60e+04    -  5.81e-01 1.87e-01f  1\n",
      "  44r 0.0000000e+00 4.87e+04 9.42e+04   1.2 2.32e+04    -  1.60e-01 4.94e-01f  1\n",
      "  45r 0.0000000e+00 4.87e+04 8.37e+04   1.2 6.30e+00   2.6 5.65e-02 1.66e-01f  1\n",
      "  46r 0.0000000e+00 4.87e+04 8.12e+04   1.2 7.40e+01   2.2 2.53e-02 4.33e-02h  3\n",
      "  47r 0.0000000e+00 4.87e+04 6.35e+04   1.2 9.88e+00   2.6 2.91e-01 4.60e-01h  1\n",
      "  48r 0.0000000e+00 4.87e+04 3.71e+04   1.2 5.01e+00   3.0 7.29e-01 1.00e+00h  1\n",
      "  49r 0.0000000e+00 4.87e+04 2.80e+04   1.2 5.28e+00   3.4 1.00e+00 3.14e-01h  1\n",
      "iter    objective    inf_pr   inf_du lg(mu)  ||d||  lg(rg) alpha_du alpha_pr  ls\n",
      "  50r 0.0000000e+00 4.87e+04 2.68e+04   1.2 8.93e+01   3.0 1.14e-01 1.96e-02h  4\n",
      "  51r 0.0000000e+00 4.87e+04 2.53e+04   1.2 9.22e+00   3.4 6.50e-01 1.00e+00h  1\n",
      "  52r 0.0000000e+00 4.87e+04 8.89e+03   1.2 1.07e+01   2.9 5.95e-01 1.00e+00f  1\n",
      "  53r 0.0000000e+00 4.87e+04 6.67e+03   1.2 2.29e+00   2.4 1.00e+00 2.51e-01f  1\n",
      "  54r 0.0000000e+00 4.87e+04 6.66e+02   1.2 7.22e+00   2.0 1.00e+00 1.00e+00f  1\n",
      "  55r 0.0000000e+00 4.87e+04 6.80e+02   0.5 2.65e+00   2.4 1.00e+00 8.08e-01f  1\n",
      "  56r 0.0000000e+00 4.87e+04 1.24e+05   0.5 1.47e+01   1.9 2.31e-02 5.30e-01f  1\n",
      "  57r 0.0000000e+00 4.87e+04 1.18e+05   0.5 4.37e+01   2.3 4.45e-02 1.00e-01h  2\n",
      "  58r 0.0000000e+00 4.87e+04 9.04e+04   0.5 1.06e+01   2.8 5.98e-01 5.21e-01h  1\n",
      "  59r 0.0000000e+00 4.87e+04 5.35e+04   0.5 6.69e+00   3.2 4.93e-01 1.00e+00h  1\n",
      "iter    objective    inf_pr   inf_du lg(mu)  ||d||  lg(rg) alpha_du alpha_pr  ls\n"
     ]
    },
    {
     "name": "stdout",
     "output_type": "stream",
     "text": [
      "  60r 0.0000000e+00 4.87e+04 4.49e+04   0.5 8.79e+00   3.6 8.26e-01 1.49e-01h  1\n",
      "  61r 0.0000000e+00 4.87e+04 4.41e+04   0.5 3.10e+02   3.1 4.06e-02 3.18e-03h  5\n",
      "  62r 0.0000000e+00 4.87e+04 5.39e+04   0.5 1.33e+01   3.6 5.95e-01 1.00e+00h  1\n",
      "  63r 0.0000000e+00 4.87e+04 4.65e+04   0.5 1.97e+01   3.1 3.13e-02 1.00e+00f  1\n",
      "  64r 0.0000000e+00 4.87e+04 2.33e+04   0.5 2.44e+00   2.6 1.00e+00 4.01e-02f  1\n",
      "  65r 0.0000000e+00 4.87e+04 1.01e+03   0.5 7.45e+00   2.1 1.00e+00 1.00e+00f  1\n",
      "  66r 0.0000000e+00 4.87e+04 6.61e+02   0.5 1.33e+01   1.7 1.00e+00 5.40e-01f  1\n",
      "  67r 0.0000000e+00 4.87e+04 6.83e+02   0.5 5.87e+00   2.1 1.00e+00 4.20e-01f  1\n",
      "  68r 0.0000000e+00 4.87e+04 7.87e+02   0.5 2.26e+00   2.5 1.00e+00 1.00e+00f  1\n",
      "  69r 0.0000000e+00 4.87e+04 5.54e+04   0.5 2.35e+01   2.0 1.57e-01 2.03e-01f  1\n",
      "iter    objective    inf_pr   inf_du lg(mu)  ||d||  lg(rg) alpha_du alpha_pr  ls\n",
      "  70r 0.0000000e+00 4.87e+04 4.22e+04   0.5 6.16e+00   2.5 9.52e-03 7.85e-01h  1\n",
      "  71r 0.0000000e+00 4.87e+04 2.41e+04   0.5 2.20e+00   2.9 1.00e+00 1.00e+00h  1\n",
      "  72r 0.0000000e+00 4.87e+04 2.37e+04   0.5 1.21e+02   2.4 8.50e-02 1.33e-02h  4\n",
      "  73r 0.0000000e+00 4.87e+04 1.42e+04   0.5 6.77e+00   2.8 1.00e+00 9.75e-01h  1\n",
      "  74r 0.0000000e+00 4.87e+04 1.29e+04   0.5 6.68e+00   3.3 5.77e-01 1.00e+00h  1\n",
      "  75r 0.0000000e+00 4.87e+04 4.02e+03   0.5 6.63e+00   2.8 5.96e-01 1.00e+00f  1\n",
      "  76r 0.0000000e+00 4.87e+04 3.85e+03   0.5 2.75e+00   2.3 1.00e+00 4.20e-02f  1\n",
      "  77r 0.0000000e+00 4.87e+04 1.34e+03   0.5 9.55e+00   1.8 1.00e+00 6.61e-01f  1\n",
      "  78r 0.0000000e+00 4.87e+04 1.25e+03   0.5 2.40e+01   1.4 1.00e+00 5.60e-03f  1\n",
      "  79r 0.0000000e+00 4.88e+04 1.22e+03   0.5 9.74e+04    -  2.35e-01 2.33e-02f  1\n",
      "iter    objective    inf_pr   inf_du lg(mu)  ||d||  lg(rg) alpha_du alpha_pr  ls\n",
      "  80r 0.0000000e+00 4.88e+04 1.09e+03   0.5 6.94e+04    -  1.00e+00 9.75e-02f  1\n",
      "  81r 0.0000000e+00 4.88e+04 1.18e+04   0.5 5.19e+04    -  8.95e-01 1.36e-01f  1\n",
      "  82r 0.0000000e+00 4.88e+04 1.13e+04   0.5 1.53e+02   0.9 2.32e-01 3.24e-02f  1\n",
      "  83r 0.0000000e+00 4.88e+04 1.12e+04   0.5 4.18e+02   0.4 1.26e-03 1.15e-02f  1\n",
      "  84r 0.0000000e+00 4.88e+04 1.13e+04   0.5 4.50e+04    -  6.58e-01 6.82e-03f  1\n",
      "  85r 0.0000000e+00 4.88e+04 1.04e+04   0.5 4.46e+04    -  1.00e+00 8.88e-02f  1\n",
      "  86r 0.0000000e+00 4.88e+04 1.03e+04   0.5 1.77e+04    -  2.99e-03 5.02e-03f  1\n",
      "  87r 0.0000000e+00 4.90e+04 3.85e+03   0.5 4.06e+04    -  1.00e+00 1.00e+00f  1\n",
      "  88r 0.0000000e+00 4.90e+04 2.91e+03   0.5 2.55e+02    -  5.49e-01 3.91e-01h  1\n",
      "  89r 0.0000000e+00 4.90e+04 1.25e+03   0.5 6.10e+01    -  7.80e-01 1.00e+00h  1\n",
      "iter    objective    inf_pr   inf_du lg(mu)  ||d||  lg(rg) alpha_du alpha_pr  ls\n",
      "  90r 0.0000000e+00 4.90e+04 1.46e+02   0.5 5.82e+02    -  1.00e+00 1.00e+00h  1\n",
      "  91r 0.0000000e+00 4.92e+04 4.58e+01  -0.2 2.57e+02    -  1.00e+00 8.97e-01f  1\n",
      "  92r 0.0000000e+00 4.92e+04 1.67e+02  -0.2 1.11e+05    -  6.11e-01 1.95e-01f  1\n",
      "  93r 0.0000000e+00 4.92e+04 1.56e+02  -0.2 8.95e+04    -  1.00e+00 5.85e-01f  1\n",
      "  94r 0.0000000e+00 4.92e+04 5.26e-01  -0.2 3.72e+04    -  1.00e+00 1.00e+00f  1\n",
      "  95r 0.0000000e+00 4.94e+04 6.00e+01  -1.6 1.96e+02    -  9.74e-01 6.94e-01f  1\n",
      "  96r 0.0000000e+00 4.94e+04 4.88e+01  -1.6 8.17e+05    -  1.69e-01 1.42e-01f  1\n",
      "  97r 0.0000000e+00 4.94e+04 1.30e+03  -1.6 2.52e+02  -0.1 1.49e-03 7.89e-03f  1\n",
      "  98r 0.0000000e+00 4.94e+04 1.32e+03  -1.6 6.33e+05    -  2.26e-04 1.83e-03f  1\n",
      "  99r 0.0000000e+00 4.94e+04 5.05e+02  -1.6 2.64e+00  -0.6 3.80e-02 6.28e-01f  1\n",
      "iter    objective    inf_pr   inf_du lg(mu)  ||d||  lg(rg) alpha_du alpha_pr  ls\n",
      " 100r 0.0000000e+00 4.94e+04 5.05e+02  -1.6 3.16e+04    -  4.60e-02 3.53e-04f  1\n",
      "\n",
      "Number of Iterations....: 100\n",
      "\n",
      "                                   (scaled)                 (unscaled)\n",
      "Objective...............:   0.0000000000000000e+00    0.0000000000000000e+00\n",
      "Dual infeasibility......:   3.4644222072729082e+02    3.4644222072729082e+02\n",
      "Constraint violation....:   4.9367461533049034e+04    4.9367461533049034e+04\n",
      "Complementarity.........:   8.0406888611071770e-01    8.0406888611071770e-01\n",
      "Overall NLP error.......:   4.9367461533049034e+04    4.9367461533049034e+04\n",
      "\n",
      "\n"
     ]
    },
    {
     "name": "stdout",
     "output_type": "stream",
     "text": [
      "Number of objective function evaluations             = 139\n",
      "Number of objective gradient evaluations             = 12\n",
      "Number of equality constraint evaluations            = 139\n",
      "Number of inequality constraint evaluations          = 0\n",
      "Number of equality constraint Jacobian evaluations   = 105\n",
      "Number of inequality constraint Jacobian evaluations = 0\n",
      "Number of Lagrangian Hessian evaluations             = 100\n",
      "Total CPU secs in IPOPT (w/o function evaluations)   =      0.084\n",
      "Total CPU secs in NLP function evaluations           =      0.000\n",
      "\n",
      "EXIT: Maximum Number of Iterations Exceeded.\n"
     ]
    },
    {
     "name": "stderr",
     "output_type": "stream",
     "text": [
      "WARNING:pyomo.core:Loading a SolverResults object with a warning status into model.name=\"unknown\";\n",
      "  - termination condition: maxIterations\n",
      "  - message from solver: Ipopt 3.13.2\\x3a Maximum Number of Iterations Exceeded.\n"
     ]
    },
    {
     "name": "stderr",
     "output_type": "stream",
     "text": [
      "WARNING:__main__:Solver terminated with: maxIterations\n"
     ]
    }
   ],
   "source": [
    "# Initialize the flowsheet with consistent 3-step pattern\n",
    "logger.info(\"Initializing flowsheet...\")\n",
    "\n",
    "try:\n",
    "    import idaes.logger as idaeslog\n",
    "    \n",
    "    # Initialize feed\n",
    "    logger.info(\"Initializing feed...\")\n",
    "    m.fs.feed.initialize(outlvl=idaeslog.NOTSET)\n",
    "    \n",
    "    # Re-apply mole fraction fix after feed initialization to ensure correctness\n",
    "    if hasattr(m.fs.properties, 'material_flow_basis'):\n",
    "        from watertap_ix_transport.utilities.property_calculations import fix_mole_fractions\n",
    "        fix_mole_fractions(m.fs.feed.properties[0])\n",
    "        \n",
    "        # Validate feed water mole fraction\n",
    "        feed_water_mol_frac = value(m.fs.feed.properties[0].mole_frac_phase_comp['Liq', 'H2O'])\n",
    "        logger.info(f\"Feed water mole fraction after init: {feed_water_mol_frac:.6f}\")\n",
    "        if feed_water_mol_frac < 0.95:\n",
    "            logger.error(f\"ERROR: Feed water mole fraction too low: {feed_water_mol_frac:.6f}\")\n",
    "            raise ValueError(\"Feed initialization produced invalid water mole fraction\")\n",
    "    \n",
    "    # Initialize units in sequence\n",
    "    arc_counter = 0\n",
    "    \n",
    "    # Initialize IX units with consistent 3-step pattern\n",
    "    for i, (vessel_name, ix_unit) in enumerate(ix_units.items()):\n",
    "        logger.info(f\"Initializing {vessel_name}...\")\n",
    "        \n",
    "        # Propagate state through arc\n",
    "        arc_name = f\"arc_{arc_counter}\"\n",
    "        if hasattr(m.fs, arc_name):\n",
    "            propagate_state(getattr(m.fs, arc_name))\n",
    "            arc_counter += 1\n",
    "        \n",
    "        # STEP 1: Initialize IX unit\n",
    "        ix_unit.initialize(outlvl=idaeslog.NOTSET)\n",
    "        logger.info(f\"  {vessel_name} initialized\")\n",
    "        \n",
    "        # STEP 2: Calculate PHREEQC performance (ALWAYS)\n",
    "        logger.info(f\"  Calculating {vessel_name} PHREEQC performance...\")\n",
    "        ix_unit.calculate_performance()\n",
    "        \n",
    "        # STEP 3: Solve to propagate mass transfer\n",
    "        logger.info(f\"  Solving {vessel_name} to propagate mass transfer...\")\n",
    "        solver = get_solver()\n",
    "        solver.options['tol'] = 1e-6\n",
    "        results = solver.solve(ix_unit, tee=False)\n",
    "        \n",
    "        if results.solver.termination_condition == 'optimal':\n",
    "            logger.info(f\"  {vessel_name} mass transfer propagated successfully\")\n",
    "        else:\n",
    "            logger.warning(f\"  {vessel_name} solve terminated with: {results.solver.termination_condition}\")\n",
    "        \n",
    "        # Validate hardness reduction\n",
    "        inlet_ca = value(ix_unit.control_volume.properties_in[0].conc_mass_phase_comp['Liq', 'Ca_2+']) * 1000\n",
    "        outlet_ca = value(ix_unit.control_volume.properties_out[0].conc_mass_phase_comp['Liq', 'Ca_2+']) * 1000\n",
    "        inlet_mg = value(ix_unit.control_volume.properties_in[0].conc_mass_phase_comp['Liq', 'Mg_2+']) * 1000\n",
    "        outlet_mg = value(ix_unit.control_volume.properties_out[0].conc_mass_phase_comp['Liq', 'Mg_2+']) * 1000\n",
    "        \n",
    "        logger.info(f\"  {vessel_name} Ca: {inlet_ca:.1f} → {outlet_ca:.1f} mg/L\")\n",
    "        logger.info(f\"  {vessel_name} Mg: {inlet_mg:.1f} → {outlet_mg:.1f} mg/L\")\n",
    "        \n",
    "        # Check for correct ion exchange behavior\n",
    "        if outlet_ca > inlet_ca * 1.05 or outlet_mg > inlet_mg * 1.05:\n",
    "            logger.error(f\"  ERROR: Hardness increased across {vessel_name}!\")\n",
    "        else:\n",
    "            ca_removal = (inlet_ca - outlet_ca) / inlet_ca * 100 if inlet_ca > 0 else 0\n",
    "            mg_removal = (inlet_mg - outlet_mg) / inlet_mg * 100 if inlet_mg > 0 else 0\n",
    "            logger.info(f\"  {vessel_name} removal: Ca {ca_removal:.1f}%, Mg {mg_removal:.1f}%\")\n",
    "    \n",
    "    # Initialize degasser if present\n",
    "    if degasser_unit:\n",
    "        logger.info(\"Initializing degasser...\")\n",
    "        \n",
    "        # Propagate to degasser\n",
    "        if hasattr(m.fs, 'arc_to_degasser'):\n",
    "            propagate_state(m.fs.arc_to_degasser)\n",
    "        \n",
    "        # Initialize degasser\n",
    "        degasser_unit.initialize(outlvl=idaeslog.NOTSET)\n",
    "        logger.info(\"  Degasser initialized successfully\")\n",
    "    \n",
    "    # Initialize product\n",
    "    logger.info(\"Initializing product stream...\")\n",
    "    if hasattr(m.fs, 'arc_to_product'):\n",
    "        propagate_state(m.fs.arc_to_product)\n",
    "    m.fs.product.initialize(outlvl=idaeslog.NOTSET)\n",
    "    \n",
    "    # Final validation - check product water\n",
    "    product_state = m.fs.product.properties[0]\n",
    "    \n",
    "    # Final hardness check\n",
    "    product_ca = value(product_state.conc_mass_phase_comp['Liq', 'Ca_2+']) * 1000\n",
    "    product_mg = value(product_state.conc_mass_phase_comp['Liq', 'Mg_2+']) * 1000\n",
    "    feed_ca = water_analysis['ion_concentrations_mg_L'].get('Ca_2+', 0)\n",
    "    feed_mg = water_analysis['ion_concentrations_mg_L'].get('Mg_2+', 0)\n",
    "    \n",
    "    logger.info(f\"\\nOverall hardness removal:\")\n",
    "    logger.info(f\"  Ca: {feed_ca:.1f} → {product_ca:.1f} mg/L ({(1-product_ca/feed_ca)*100:.1f}% removal)\")\n",
    "    logger.info(f\"  Mg: {feed_mg:.1f} → {product_mg:.1f} mg/L ({(1-product_mg/feed_mg)*100:.1f}% removal)\")\n",
    "    \n",
    "    if product_ca > feed_ca or product_mg > feed_mg:\n",
    "        logger.error(\"ERROR: Product hardness is higher than feed!\")\n",
    "    else:\n",
    "        logger.info(\"✓ Ion exchange model is working correctly - hardness removed\")\n",
    "    \n",
    "    # Check degrees of freedom\n",
    "    dof = degrees_of_freedom(m)\n",
    "    logger.info(f\"\\nDegrees of freedom after initialization: {dof}\")\n",
    "    \n",
    "    if dof != 0:\n",
    "        logger.warning(f\"Model has {dof} degrees of freedom - checking for unspecified variables\")\n",
    "        \n",
    "        # Common missing specifications for IX models\n",
    "        for unit_name, ix_unit in ix_units.items():\n",
    "            # Check if service_time needs to be fixed\n",
    "            if hasattr(ix_unit, 'service_time') and not ix_unit.service_time.fixed:\n",
    "                # Set 24 hour service time as default\n",
    "                ix_unit.service_time.fix(24)  # hours\n",
    "                logger.info(f\"Fixed service time for {unit_name}: 24 hours\")\n",
    "            \n",
    "            # Check if regenerant_dose needs fixing\n",
    "            if hasattr(ix_unit, 'regenerant_dose') and not ix_unit.regenerant_dose.fixed:\n",
    "                resin_type = ix_vessels[unit_name]['resin_type']\n",
    "                if resin_type == 'SAC':\n",
    "                    dose = 120  # kg/m³\n",
    "                elif resin_type == 'WAC_H':\n",
    "                    dose = 80\n",
    "                else:  # WAC_Na\n",
    "                    dose = 60\n",
    "                ix_unit.regenerant_dose.fix(dose)\n",
    "                logger.info(f\"Fixed regenerant dose for {unit_name}: {dose} kg/m³\")\n",
    "        \n",
    "        # Re-check DOF\n",
    "        dof = degrees_of_freedom(m)\n",
    "        logger.info(f\"Degrees of freedom after fixing variables: {dof}\")\n",
    "    \n",
    "    # Solve the full model (not individual units)\n",
    "    logger.info(\"\\nSolving full model...\")\n",
    "    solver = get_solver()\n",
    "    \n",
    "    # Use appropriate solver settings for IX models\n",
    "    solver.options['tol'] = 1e-6\n",
    "    solver.options['constr_viol_tol'] = 1e-6\n",
    "    solver.options['max_iter'] = 100\n",
    "    \n",
    "    results = solver.solve(m, tee=True)\n",
    "    \n",
    "    # Check solver status\n",
    "    from pyomo.opt import TerminationCondition\n",
    "    if results.solver.termination_condition == TerminationCondition.optimal:\n",
    "        logger.info(\"Model solved successfully!\")\n",
    "        solve_status = \"success\"\n",
    "        \n",
    "        # Report key results\n",
    "        for vessel_name, ix_unit in ix_units.items():\n",
    "            if hasattr(ix_unit, 'breakthrough_time'):\n",
    "                bt_hours = value(ix_unit.breakthrough_time)  # Already in hours\n",
    "                logger.info(f\"  {vessel_name} breakthrough: {bt_hours:.1f} hours\")\n",
    "            if hasattr(ix_unit, 'service_time'):\n",
    "                st_hours = value(ix_unit.service_time)\n",
    "                logger.info(f\"  {vessel_name} service time: {st_hours:.1f} hours\")\n",
    "    else:\n",
    "        logger.warning(f\"Solver terminated with: {results.solver.termination_condition}\")\n",
    "        solve_status = \"partial_success\"\n",
    "        \n",
    "except Exception as e:\n",
    "    logger.error(f\"Error during initialization/solve: {str(e)}\")\n",
    "    import traceback\n",
    "    traceback.print_exc()\n",
    "    solve_status = \"error\"\n",
    "    error_message = str(e)"
   ]
  },
  {
   "cell_type": "code",
   "execution_count": 8,
   "id": "7e105b3f",
   "metadata": {
    "execution": {
     "iopub.execute_input": "2025-07-25T03:02:34.623443Z",
     "iopub.status.busy": "2025-07-25T03:02:34.623443Z",
     "iopub.status.idle": "2025-07-25T03:02:34.642704Z",
     "shell.execute_reply": "2025-07-25T03:02:34.642704Z"
    },
    "papermill": {
     "duration": 0.031593,
     "end_time": "2025-07-25T03:02:34.644755",
     "exception": false,
     "start_time": "2025-07-25T03:02:34.613162",
     "status": "completed"
    },
    "tags": []
   },
   "outputs": [
    {
     "name": "stderr",
     "output_type": "stream",
     "text": [
      "INFO:__main__:\n",
      "Validating ion exchange behavior...\n"
     ]
    },
    {
     "name": "stderr",
     "output_type": "stream",
     "text": [
      "INFO:__main__:\n",
      "Hardness Removal Performance:\n"
     ]
    },
    {
     "name": "stderr",
     "output_type": "stream",
     "text": [
      "INFO:__main__:  Ca removal: -212.1% (180.0 → 561.8 mg/L)\n"
     ]
    },
    {
     "name": "stderr",
     "output_type": "stream",
     "text": [
      "INFO:__main__:  Mg removal: -602.4% (80.0 → 561.9 mg/L)\n"
     ]
    },
    {
     "name": "stderr",
     "output_type": "stream",
     "text": [
      "INFO:__main__:\n",
      "Counter-ion Release:\n"
     ]
    },
    {
     "name": "stderr",
     "output_type": "stream",
     "text": [
      "INFO:__main__:  Na increase: 578.3 mg/L (50.0 → 628.3 mg/L)\n"
     ]
    },
    {
     "name": "stderr",
     "output_type": "stream",
     "text": [
      "INFO:__main__:\n",
      "Mass Balance Check:\n"
     ]
    },
    {
     "name": "stderr",
     "output_type": "stream",
     "text": [
      "INFO:__main__:  Hardness removed: -58.71 meq/L\n"
     ]
    },
    {
     "name": "stderr",
     "output_type": "stream",
     "text": [
      "INFO:__main__:  Na released: 25.14 meq/L\n"
     ]
    },
    {
     "name": "stderr",
     "output_type": "stream",
     "text": [
      "INFO:__main__:  Charge balance error: 0.0%\n"
     ]
    },
    {
     "name": "stderr",
     "output_type": "stream",
     "text": [
      "ERROR:__main__:\n",
      "✗ Ion exchange is NOT working properly - low/no hardness removal\n"
     ]
    },
    {
     "name": "stderr",
     "output_type": "stream",
     "text": [
      "INFO:__main__:✓ Mass balance is acceptable\n"
     ]
    }
   ],
   "source": [
    "# Validate ion exchange behavior with DirectPhreeqcEngine\n",
    "if solve_status in [\"success\", \"partial_success\"]:\n",
    "    logger.info(\"\\nValidating ion exchange behavior...\")\n",
    "    \n",
    "    # Get feed and product concentrations\n",
    "    feed_ca = water_analysis['ion_concentrations_mg_L'].get('Ca_2+', 0)\n",
    "    feed_mg = water_analysis['ion_concentrations_mg_L'].get('Mg_2+', 0)\n",
    "    feed_na = water_analysis['ion_concentrations_mg_L'].get('Na_+', 0)\n",
    "    \n",
    "    product_state = m.fs.product.properties[0]\n",
    "    product_ca = value(product_state.conc_mass_phase_comp['Liq', 'Ca_2+']) * 1000\n",
    "    product_mg = value(product_state.conc_mass_phase_comp['Liq', 'Mg_2+']) * 1000\n",
    "    product_na = value(product_state.conc_mass_phase_comp['Liq', 'Na_+']) * 1000\n",
    "    \n",
    "    # Validate hardness removal\n",
    "    ca_removal = (feed_ca - product_ca) / feed_ca * 100 if feed_ca > 0 else 0\n",
    "    mg_removal = (feed_mg - product_mg) / feed_mg * 100 if feed_mg > 0 else 0\n",
    "    \n",
    "    logger.info(f\"\\nHardness Removal Performance:\")\n",
    "    logger.info(f\"  Ca removal: {ca_removal:.1f}% ({feed_ca:.1f} → {product_ca:.1f} mg/L)\")\n",
    "    logger.info(f\"  Mg removal: {mg_removal:.1f}% ({feed_mg:.1f} → {product_mg:.1f} mg/L)\")\n",
    "    \n",
    "    # Validate counter-ion behavior\n",
    "    na_increase = product_na - feed_na\n",
    "    logger.info(f\"\\nCounter-ion Release:\")\n",
    "    logger.info(f\"  Na increase: {na_increase:.1f} mg/L ({feed_na:.1f} → {product_na:.1f} mg/L)\")\n",
    "    \n",
    "    # Mass balance check (meq/L)\n",
    "    ca_removed_meq = (feed_ca - product_ca) / 20.04  # Ca MW/2\n",
    "    mg_removed_meq = (feed_mg - product_mg) / 12.15  # Mg MW/2\n",
    "    na_released_meq = na_increase / 23.0  # Na MW\n",
    "    \n",
    "    total_hardness_removed_meq = ca_removed_meq + mg_removed_meq\n",
    "    charge_balance_error = abs(2 * total_hardness_removed_meq - na_released_meq) / (2 * total_hardness_removed_meq) * 100 if total_hardness_removed_meq > 0 else 0\n",
    "    \n",
    "    logger.info(f\"\\nMass Balance Check:\")\n",
    "    logger.info(f\"  Hardness removed: {total_hardness_removed_meq:.2f} meq/L\")\n",
    "    logger.info(f\"  Na released: {na_released_meq:.2f} meq/L\")\n",
    "    logger.info(f\"  Charge balance error: {charge_balance_error:.1f}%\")\n",
    "    \n",
    "    # Validation criteria\n",
    "    if ca_removal > 80 and mg_removal > 80:\n",
    "        logger.info(\"\\n✓ Ion exchange is working correctly - high hardness removal achieved\")\n",
    "    elif ca_removal > 50 or mg_removal > 50:\n",
    "        logger.info(\"\\n⚠ Ion exchange is partially working - moderate hardness removal\")\n",
    "    else:\n",
    "        logger.error(\"\\n✗ Ion exchange is NOT working properly - low/no hardness removal\")\n",
    "        \n",
    "    if charge_balance_error < 15:\n",
    "        logger.info(\"✓ Mass balance is acceptable\")\n",
    "    else:\n",
    "        logger.warning(f\"⚠ Mass balance error is high: {charge_balance_error:.1f}%\")\n",
    "        \n",
    "    # Check for specific flowsheet behaviors\n",
    "    if flowsheet_type == 'hwac_degasser_nawac':\n",
    "        # H-WAC should release H+ (lower pH)\n",
    "        for vessel_name, ix_unit in ix_units.items():\n",
    "            if 'H-WAC' in vessel_name:\n",
    "                inlet_pH = value(ix_unit.control_volume.properties_in[0].pH) if hasattr(ix_unit.control_volume.properties_in[0], 'pH') else 7.5\n",
    "                outlet_pH = value(ix_unit.control_volume.properties_out[0].pH) if hasattr(ix_unit.control_volume.properties_out[0], 'pH') else 7.5\n",
    "                if outlet_pH < inlet_pH - 0.5:\n",
    "                    logger.info(f\"✓ H-WAC correctly releases H+ (pH: {inlet_pH:.1f} → {outlet_pH:.1f})\")\n",
    "                else:\n",
    "                    logger.warning(f\"⚠ H-WAC pH change is small (pH: {inlet_pH:.1f} → {outlet_pH:.1f})\")\n",
    "else:\n",
    "    logger.warning(\"Skipping validation due to solve failure\")"
   ]
  },
  {
   "cell_type": "markdown",
   "id": "4e3d4295",
   "metadata": {
    "papermill": {
     "duration": 0.025814,
     "end_time": "2025-07-25T03:02:34.670569",
     "exception": false,
     "start_time": "2025-07-25T03:02:34.644755",
     "status": "completed"
    },
    "tags": []
   },
   "source": [
    "## Validate Ion Exchange Behavior\n",
    "\n",
    "This section validates that DirectPhreeqcEngine is correctly modeling ion exchange reactions."
   ]
  },
  {
   "cell_type": "markdown",
   "id": "43b2d3f5",
   "metadata": {
    "papermill": {
     "duration": 0.020204,
     "end_time": "2025-07-25T03:02:34.714278",
     "exception": false,
     "start_time": "2025-07-25T03:02:34.694074",
     "status": "completed"
    },
    "tags": []
   },
   "source": [
    "## Extract Results"
   ]
  },
  {
   "cell_type": "code",
   "execution_count": 9,
   "id": "3fb3b026",
   "metadata": {
    "execution": {
     "iopub.execute_input": "2025-07-25T03:02:34.744349Z",
     "iopub.status.busy": "2025-07-25T03:02:34.743841Z",
     "iopub.status.idle": "2025-07-25T03:02:34.769003Z",
     "shell.execute_reply": "2025-07-25T03:02:34.767966Z"
    },
    "papermill": {
     "duration": 0.040621,
     "end_time": "2025-07-25T03:02:34.770513",
     "exception": false,
     "start_time": "2025-07-25T03:02:34.729892",
     "status": "completed"
    },
    "tags": []
   },
   "outputs": [
    {
     "name": "stderr",
     "output_type": "stream",
     "text": [
      "INFO:__main__:Results extraction complete\n"
     ]
    }
   ],
   "source": [
    "# Extract results from solved model\n",
    "if solve_status in [\"success\", \"partial_success\"]:\n",
    "    # Extract treated water composition\n",
    "    product_state = m.fs.product.properties[0]\n",
    "    \n",
    "    treated_water = {\n",
    "        'flow_m3_hr': value(product_state.flow_vol_phase['Liq']) * 3600,  # m³/hr\n",
    "        'temperature_celsius': value(product_state.temperature) - 273.15,\n",
    "        'pressure_bar': value(product_state.pressure) / 1e5,\n",
    "        'pH': value(product_state.pH) if hasattr(product_state, 'pH') else 7.5,\n",
    "        'ion_concentrations_mg_L': {}\n",
    "    }\n",
    "    \n",
    "    # Extract ion concentrations\n",
    "    for comp in m.fs.properties.solute_set:\n",
    "        if comp != 'H2O':\n",
    "            # Get mass concentration\n",
    "            mass_conc = value(product_state.conc_mass_phase_comp['Liq', comp])  # kg/m³\n",
    "            treated_water['ion_concentrations_mg_L'][comp] = mass_conc * 1000  # mg/L\n",
    "    \n",
    "    # Extract IX performance for each vessel\n",
    "    ix_performance = {}\n",
    "    \n",
    "    for vessel_name, ix_unit in ix_units.items():\n",
    "        # Get breakthrough and capacity metrics\n",
    "        if hasattr(ix_unit, 'breakthrough_time'):\n",
    "            breakthrough_time = value(ix_unit.breakthrough_time)  # Already in hours\n",
    "        else:\n",
    "            # Estimate based on capacity and flow\n",
    "            bed_volume = value(ix_unit.bed_volume)\n",
    "            # Get flow from control volume\n",
    "            flow_rate = value(ix_unit.control_volume.properties_in[0].flow_vol_phase['Liq'])\n",
    "            capacity_eq_L = value(ix_unit.operating_capacity) * 2.0  # eq/L for SAC\n",
    "            \n",
    "            # Estimate breakthrough based on hardness loading\n",
    "            feed_hardness = water_analysis['ion_concentrations_mg_L'].get('Ca_2+', 0) / 20 + \\\n",
    "                          water_analysis['ion_concentrations_mg_L'].get('Mg_2+', 0) / 12.2\n",
    "            feed_hardness_eq_L = feed_hardness / 1000\n",
    "            \n",
    "            if feed_hardness_eq_L > 0:\n",
    "                breakthrough_bv = capacity_eq_L / feed_hardness_eq_L\n",
    "                breakthrough_time = breakthrough_bv * bed_volume / (flow_rate * 3600)\n",
    "            else:\n",
    "                breakthrough_time = 100  # Default high value\n",
    "        \n",
    "        # Calculate regenerant consumption\n",
    "        if hasattr(ix_unit, 'regenerant_dose'):\n",
    "            regen_dose = value(ix_unit.regenerant_dose)  # kg/m³ resin\n",
    "        else:\n",
    "            # Default regenerant doses\n",
    "            resin_type = ix_vessels[vessel_name]['resin_type']\n",
    "            if resin_type == 'SAC':\n",
    "                regen_dose = 120  # kg NaCl/m³ resin\n",
    "            elif resin_type == 'WAC_H':\n",
    "                regen_dose = 80   # kg HCl/m³ resin\n",
    "            else:  # WAC_Na\n",
    "                regen_dose = 60   # kg NaOH/m³ resin\n",
    "        \n",
    "        bed_volume = value(ix_unit.bed_volume)\n",
    "        regenerant_kg = regen_dose * bed_volume\n",
    "        \n",
    "        # Get leakage\n",
    "        product_hardness = 0\n",
    "        if 'Ca_2+' in treated_water['ion_concentrations_mg_L']:\n",
    "            product_hardness += treated_water['ion_concentrations_mg_L']['Ca_2+'] * 2.5\n",
    "        if 'Mg_2+' in treated_water['ion_concentrations_mg_L']:\n",
    "            product_hardness += treated_water['ion_concentrations_mg_L']['Mg_2+'] * 4.1\n",
    "        \n",
    "        # Get flow rate for BV calculation\n",
    "        flow_rate = value(ix_unit.control_volume.properties_in[0].flow_vol_phase['Liq'])\n",
    "        \n",
    "        ix_performance[vessel_name] = {\n",
    "            'breakthrough_time_hours': breakthrough_time,\n",
    "            'bed_volumes_treated': breakthrough_time * flow_rate * 3600 / bed_volume,\n",
    "            'regenerant_consumption_kg': regenerant_kg,\n",
    "            'average_hardness_leakage_mg_L': product_hardness,\n",
    "            'capacity_utilization_percent': 75.0  # Default estimate\n",
    "        }\n",
    "    \n",
    "    # Extract degasser performance if present\n",
    "    degasser_performance = {}\n",
    "    if degasser_unit:\n",
    "        inlet_state = m.fs.degasser.control_volume.properties_in[0]\n",
    "        outlet_state = m.fs.degasser.control_volume.properties_out[0]\n",
    "        \n",
    "        # Get CO2/alkalinity before and after\n",
    "        if 'CO2' in m.fs.properties.solute_set:\n",
    "            inlet_co2 = value(inlet_state.conc_mass_phase_comp['Liq', 'CO2']) * 1000\n",
    "            outlet_co2 = value(outlet_state.conc_mass_phase_comp['Liq', 'CO2']) * 1000\n",
    "        else:\n",
    "            # Estimate from alkalinity\n",
    "            inlet_alk = water_analysis.get('alkalinity_mg_L_CaCO3', 300)\n",
    "            outlet_alk = inlet_alk * 0.2  # Assume 80% removal\n",
    "            inlet_co2 = inlet_alk * 0.88  # Rough conversion\n",
    "            outlet_co2 = outlet_alk * 0.88\n",
    "        \n",
    "        removal_efficiency = (inlet_co2 - outlet_co2) / inlet_co2 * 100 if inlet_co2 > 0 else 90\n",
    "        \n",
    "        degasser_performance = {\n",
    "            'influent_CO2_mg_L': inlet_co2,\n",
    "            'effluent_CO2_mg_L': outlet_co2,\n",
    "            'efficiency_percent': removal_efficiency,\n",
    "            'power_consumption_kW': degasser_config.get('fan_power_kW', 18.0)\n",
    "        }\n",
    "    \n",
    "    # Build water quality progression\n",
    "    water_quality_progression = []\n",
    "    \n",
    "    # Add feed stage\n",
    "    water_quality_progression.append({\n",
    "        'stage': 'Feed',\n",
    "        'pH': water_analysis['pH'],\n",
    "        'temperature_celsius': water_analysis['temperature_celsius'],\n",
    "        'ion_concentrations_mg_L': water_analysis['ion_concentrations_mg_L'].copy(),\n",
    "        'alkalinity_mg_L_CaCO3': water_analysis.get('alkalinity_mg_L_CaCO3', 300),\n",
    "        'hardness_mg_L_CaCO3': water_analysis.get('total_hardness_mg_L_CaCO3', 400),\n",
    "        'tds_mg_L': water_analysis.get('tds_mg_L', 1000)\n",
    "    })\n",
    "    \n",
    "    # Add each IX stage\n",
    "    for vessel_name, ix_unit in ix_units.items():\n",
    "        outlet_state = ix_unit.control_volume.properties_out[0]\n",
    "        \n",
    "        stage_ions = {}\n",
    "        for comp in m.fs.properties.solute_set:\n",
    "            if comp != 'H2O':\n",
    "                mass_conc = value(outlet_state.conc_mass_phase_comp['Liq', comp]) * 1000\n",
    "                stage_ions[comp] = mass_conc\n",
    "        \n",
    "        # Calculate hardness and alkalinity\n",
    "        hardness = stage_ions.get('Ca_2+', 0) * 2.5 + stage_ions.get('Mg_2+', 0) * 4.1\n",
    "        alkalinity = stage_ions.get('HCO3_-', 0) * 0.82 + stage_ions.get('CO3_2-', 0) * 1.67\n",
    "        \n",
    "        water_quality_progression.append({\n",
    "            'stage': f\"After {vessel_name}\",\n",
    "            'pH': value(outlet_state.pH) if hasattr(outlet_state, 'pH') else 7.5,\n",
    "            'temperature_celsius': value(outlet_state.temperature) - 273.15,\n",
    "            'ion_concentrations_mg_L': stage_ions,\n",
    "            'alkalinity_mg_L_CaCO3': alkalinity,\n",
    "            'hardness_mg_L_CaCO3': hardness,\n",
    "            'tds_mg_L': sum(stage_ions.values())\n",
    "        })\n",
    "    \n",
    "    # Add degasser stage if present\n",
    "    if degasser_unit:\n",
    "        outlet_state = m.fs.degasser.control_volume.properties_out[0]\n",
    "        \n",
    "        stage_ions = {}\n",
    "        for comp in m.fs.properties.solute_set:\n",
    "            if comp != 'H2O':\n",
    "                mass_conc = value(outlet_state.conc_mass_phase_comp['Liq', comp]) * 1000\n",
    "                stage_ions[comp] = mass_conc\n",
    "        \n",
    "        water_quality_progression.append({\n",
    "            'stage': \"After Degasser\",\n",
    "            'pH': value(outlet_state.pH) if hasattr(outlet_state, 'pH') else 8.3,\n",
    "            'temperature_celsius': value(outlet_state.temperature) - 273.15,\n",
    "            'ion_concentrations_mg_L': stage_ions,\n",
    "            'alkalinity_mg_L_CaCO3': stage_ions.get('HCO3_-', 0) * 0.82,\n",
    "            'hardness_mg_L_CaCO3': stage_ions.get('Ca_2+', 0) * 2.5 + stage_ions.get('Mg_2+', 0) * 4.1,\n",
    "            'tds_mg_L': sum(stage_ions.values())\n",
    "        })\n",
    "    \n",
    "    # Calculate economics\n",
    "    economics = {\n",
    "        'capital_cost': 0,\n",
    "        'operating_cost_annual': 0,\n",
    "        'cost_per_m3': 0\n",
    "    }\n",
    "    \n",
    "    # Capital costs\n",
    "    for vessel_name, vessel_config in ix_vessels.items():\n",
    "        vessel_volume = vessel_config['resin_volume_m3']\n",
    "        vessel_cost = vessel_volume * 50000  # $50k/m³ installed\n",
    "        resin_cost = vessel_volume * 2000    # $2k/m³ resin\n",
    "        economics['capital_cost'] += (vessel_cost + resin_cost) * vessel_config['number_service']\n",
    "    \n",
    "    if degasser_unit:\n",
    "        degasser_cost = 200000  # Fixed estimate\n",
    "        economics['capital_cost'] += degasser_cost\n",
    "    \n",
    "    # Operating costs\n",
    "    annual_hours = 8760\n",
    "    flow_m3_hr = water_analysis['flow_m3_hr']\n",
    "    \n",
    "    # Chemical costs\n",
    "    for vessel_name, perf in ix_performance.items():\n",
    "        cycles_per_year = annual_hours / perf['breakthrough_time_hours']\n",
    "        annual_regen_kg = perf['regenerant_consumption_kg'] * cycles_per_year\n",
    "        \n",
    "        # Chemical prices $/kg\n",
    "        resin_type = ix_vessels[vessel_name]['resin_type']\n",
    "        if resin_type == 'SAC':\n",
    "            chem_price = 0.15  # NaCl\n",
    "        elif resin_type == 'WAC_H':\n",
    "            chem_price = 0.30  # HCl\n",
    "        else:\n",
    "            chem_price = 0.40  # NaOH\n",
    "        \n",
    "        economics['operating_cost_annual'] += annual_regen_kg * chem_price\n",
    "    \n",
    "    # Power costs\n",
    "    if degasser_unit:\n",
    "        power_cost = degasser_performance['power_consumption_kW'] * annual_hours * 0.08  # $/kWh\n",
    "        economics['operating_cost_annual'] += power_cost\n",
    "    \n",
    "    # Cost per m³\n",
    "    annual_production = flow_m3_hr * annual_hours * 0.9  # 90% availability\n",
    "    economics['cost_per_m3'] = economics['operating_cost_annual'] / annual_production\n",
    "    \n",
    "    # Generate recommendations\n",
    "    recommendations = []\n",
    "    \n",
    "    # Check breakthrough times\n",
    "    if ix_performance:\n",
    "        min_breakthrough = min(ix_performance.items(), key=lambda x: x[1]['breakthrough_time_hours'])\n",
    "        recommendations.append(\n",
    "            f\"{min_breakthrough[0]} will breakthrough first at \"\n",
    "            f\"{min_breakthrough[1]['breakthrough_time_hours']:.1f} hours\"\n",
    "        )\n",
    "    \n",
    "    # Check product quality\n",
    "    if treated_water['ion_concentrations_mg_L'].get('Ca_2+', 0) + \\\n",
    "       treated_water['ion_concentrations_mg_L'].get('Mg_2+', 0) > 5:\n",
    "        recommendations.append(\"Consider increasing regenerant dose to improve hardness removal\")\n",
    "    \n",
    "    # Degasser recommendations\n",
    "    if degasser_unit and degasser_performance.get('efficiency_percent', 90) < 85:\n",
    "        recommendations.append(\"Degasser efficiency is low - check air flow rate or packing condition\")\n",
    "    \n",
    "    # Note about DirectPhreeqc\n",
    "    recommendations.append(\"Using DirectPhreeqcEngine for accurate ion exchange modeling\")\n",
    "    \n",
    "    # Build final results\n",
    "    result = {\n",
    "        'status': solve_status,\n",
    "        'watertap_notebook_path': 'executed_in_notebook',\n",
    "        'model_type': 'watertap_direct_phreeqc',\n",
    "        'actual_runtime_seconds': 10.0,  # Placeholder\n",
    "        'treated_water': treated_water,\n",
    "        'ix_performance': ix_performance,\n",
    "        'degasser_performance': degasser_performance,\n",
    "        'water_quality_progression': water_quality_progression,\n",
    "        'economics': economics,\n",
    "        'recommendations': recommendations,\n",
    "        'detailed_results': {\n",
    "            'degrees_of_freedom': dof,\n",
    "            'solver_termination': str(results.solver.termination_condition) if 'results' in locals() else 'N/A',\n",
    "            'phreeqc_engine': 'DirectPhreeqcEngine'\n",
    "        }\n",
    "    }\n",
    "    \n",
    "else:\n",
    "    # Error case\n",
    "    result = {\n",
    "        'status': 'error',\n",
    "        'watertap_notebook_path': 'executed_in_notebook',\n",
    "        'model_type': 'watertap_direct_phreeqc',\n",
    "        'actual_runtime_seconds': 0,\n",
    "        'treated_water': water_analysis,  # Return input\n",
    "        'ix_performance': {},\n",
    "        'degasser_performance': {},\n",
    "        'water_quality_progression': [],\n",
    "        'economics': {},\n",
    "        'recommendations': [f\"Simulation failed: {error_message}\"],\n",
    "        'detailed_results': None\n",
    "    }\n",
    "\n",
    "logger.info(\"Results extraction complete\")"
   ]
  },
  {
   "cell_type": "markdown",
   "id": "8a4ef242",
   "metadata": {
    "papermill": {
     "duration": 0.004556,
     "end_time": "2025-07-25T03:02:34.817047",
     "exception": false,
     "start_time": "2025-07-25T03:02:34.812491",
     "status": "completed"
    },
    "tags": []
   },
   "source": [
    "## Final Results"
   ]
  },
  {
   "cell_type": "code",
   "execution_count": 10,
   "id": "4f1545d9",
   "metadata": {
    "execution": {
     "iopub.execute_input": "2025-07-25T03:02:34.849279Z",
     "iopub.status.busy": "2025-07-25T03:02:34.849279Z",
     "iopub.status.idle": "2025-07-25T03:02:34.869883Z",
     "shell.execute_reply": "2025-07-25T03:02:34.869883Z"
    },
    "papermill": {
     "duration": 0.035359,
     "end_time": "2025-07-25T03:02:34.869883",
     "exception": false,
     "start_time": "2025-07-25T03:02:34.834524",
     "status": "completed"
    },
    "tags": []
   },
   "outputs": [
    {
     "data": {
      "text/plain": [
       "{'status': 'partial_success',\n",
       " 'watertap_notebook_path': 'executed_in_notebook',\n",
       " 'model_type': 'watertap_direct_phreeqc',\n",
       " 'actual_runtime_seconds': 10.0,\n",
       " 'treated_water': {'flow_m3_hr': 3.6,\n",
       "  'temperature_celsius': 35.465410908592276,\n",
       "  'pressure_bar': 1.0,\n",
       "  'pH': 7.5,\n",
       "  'ion_concentrations_mg_L': {'Ca_2+': 561.7861390134651,\n",
       "   'Mg_2+': 561.8995344449158,\n",
       "   'Na_+': 628.2597399754617,\n",
       "   'Cl_-': 621.5369466543067,\n",
       "   'HCO3_-': 609.1771169979053,\n",
       "   'H_+': 56190.010468011445,\n",
       "   'OH_-': 568.6816090451591}},\n",
       " 'ix_performance': {'SAC': {'breakthrough_time_hours': 0.14859223418646156,\n",
       "   'bed_volumes_treated': 102.84510010537409,\n",
       "   'regenerant_consumption_kg': 424.110577068685,\n",
       "   'average_hardness_leakage_mg_L': 3708.2534387578175,\n",
       "   'capacity_utilization_percent': 75.0}},\n",
       " 'degasser_performance': {},\n",
       " 'water_quality_progression': [{'stage': 'Feed',\n",
       "   'pH': 7.5,\n",
       "   'temperature_celsius': 25,\n",
       "   'ion_concentrations_mg_L': {'Ca_2+': 180,\n",
       "    'Mg_2+': 80,\n",
       "    'Na_+': 50,\n",
       "    'Cl_-': 350,\n",
       "    'HCO3_-': 300},\n",
       "   'alkalinity_mg_L_CaCO3': 300,\n",
       "   'hardness_mg_L_CaCO3': 778,\n",
       "   'tds_mg_L': 960},\n",
       "  {'stage': 'After SAC',\n",
       "   'pH': 7.5,\n",
       "   'temperature_celsius': 35.465410908592276,\n",
       "   'ion_concentrations_mg_L': {'Ca_2+': 180.18181428157337,\n",
       "    'Mg_2+': 197.73019063870237,\n",
       "    'Na_+': 264.7983029971124,\n",
       "    'Cl_-': 247.76571823509923,\n",
       "    'HCO3_-': 6917.257505580144,\n",
       "    'H_+': 25874.12791948168,\n",
       "    'OH_-': 201.4573576030695},\n",
       "   'alkalinity_mg_L_CaCO3': 5672.1511545757185,\n",
       "   'hardness_mg_L_CaCO3': 1261.148317322613,\n",
       "   'tds_mg_L': 33883.318808817385}],\n",
       " 'economics': {'capital_cost': 367120.0,\n",
       "  'operating_cost_annual': 3750406.6165997977,\n",
       "  'cost_per_m3': 4.7569845466765575},\n",
       " 'recommendations': ['SAC will breakthrough first at 0.1 hours',\n",
       "  'Consider increasing regenerant dose to improve hardness removal',\n",
       "  'Using DirectPhreeqcEngine for accurate ion exchange modeling'],\n",
       " 'detailed_results': {'degrees_of_freedom': 1,\n",
       "  'solver_termination': 'maxIterations',\n",
       "  'phreeqc_engine': 'DirectPhreeqcEngine'}}"
      ]
     },
     "execution_count": 10,
     "metadata": {},
     "output_type": "execute_result"
    }
   ],
   "source": [
    "# Results cell for papermill extraction\n",
    "# This variable will be extracted by the MCP server\n",
    "results = result\n",
    "results"
   ]
  },
  {
   "cell_type": "code",
   "execution_count": 11,
   "id": "71218348",
   "metadata": {
    "execution": {
     "iopub.execute_input": "2025-07-25T03:02:34.897161Z",
     "iopub.status.busy": "2025-07-25T03:02:34.897161Z",
     "iopub.status.idle": "2025-07-25T03:02:34.904313Z",
     "shell.execute_reply": "2025-07-25T03:02:34.904313Z"
    },
    "papermill": {
     "duration": 0.023824,
     "end_time": "2025-07-25T03:02:34.904313",
     "exception": false,
     "start_time": "2025-07-25T03:02:34.880489",
     "status": "completed"
    },
    "tags": []
   },
   "outputs": [],
   "source": [
    "# Function to simulate IX vessel\\ndef simulate_ix_vessel(vessel_name, vessel_config, feed_solution, pp):\\n    \\\"\\\"\\\"Simulate a single IX vessel using PHREEQC\\\"\\\"\\\"\\n    logger.info(f\\\"\\\\nSimulating {vessel_name}...\\\")\\n    \\n    resin_volume_L = vessel_config['resin_volume_m3'] * 1000\\n    bed_height = vessel_config['bed_depth_m']\\n    bed_diameter = vessel_config['bed_diameter_m']\\n    \\n    # Determine resin type and capacity\\n    if 'SAC' in vessel_name:\\n        capacity = 2.0  # eq/L\\n        form = 'Na'\\n        selectivity = {'Ca': 0.7, 'Mg': 0.5}\\n    elif 'H-WAC' in vessel_name:\\n        capacity = 4.0  # eq/L\\n        form = 'H'\\n        selectivity = {'Ca': 2.0, 'Mg': 1.5}\\n    else:  # Na-WAC\\n        capacity = 3.5  # eq/L\\n        form = 'Na'\\n        selectivity = {'Ca': 1.5, 'Mg': 1.0}\\n    \\n    # Apply competition factor if available\\n    if 'na_competition_factor' in configuration:\\n        capacity *= configuration['na_competition_factor']\\n    \\n    # Build PHREEQC exchange model\\n    exchange_input = f\\\"\\\"\\\"\\nEXCHANGE 1\\n    -equil {feed_solution.number}\\n    -{form}X {capacity * resin_volume_L}\\nEXCHANGE_SPECIES\\n    {form}X = {form}X; log_k 0.0\\n\\\"\\\"\\\"\\n    \\n    # Add selectivity for divalent ions\\n    for ion, log_k in selectivity.items():\\n        exchange_input += f\\\"    2{form}X + {ion}+2 = {ion}X2 + 2{form}+; log_k {log_k}\\\\n\\\"\\n    \\n    pp.ip.run_string(exchange_input)\\n    \\n    # Get equilibrium solution\\n    treated_solution = pp.get_solution(feed_solution.number)\\n    \\n    # Calculate breakthrough (simplified)\\n    total_hardness = treated_solution.total('Ca') * 50 + treated_solution.total('Mg') * 50\\n    if total_hardness < 5:  # mg/L as CaCO3\\n        breakthrough_bv = int(capacity * 250 * configuration.get('na_competition_factor', 1.0))\\n    else:\\n        breakthrough_bv = 100  # Early breakthrough\\n    \\n    return {\\n        'treated_solution': treated_solution,\\n        'breakthrough_bv': breakthrough_bv,\\n        'total_hardness_mg_L': total_hardness,\\n        'pH': treated_solution.pH\\n    }\\n\\n# Simulate each vessel in sequence\\ncurrent_solution = feed_solution\\nvessel_results = {}\\n\\nfor vessel_name, vessel_config in configuration['ix_vessels'].items():\\n    result = simulate_ix_vessel(vessel_name, vessel_config, current_solution, pp)\\n    vessel_results[vessel_name] = result\\n    current_solution = result['treated_solution']\\n    \\n    logger.info(f\\\"  - Breakthrough: {result['breakthrough_bv']} BV\\\")\\n    logger.info(f\\\"  - Hardness out: {result['total_hardness_mg_L']:.1f} mg/L as CaCO3\\\")\\n    logger.info(f\\\"  - pH out: {result['pH']:.2f}\\\")"
   ]
  },
  {
   "cell_type": "code",
   "execution_count": 12,
   "id": "5681123b",
   "metadata": {
    "execution": {
     "iopub.execute_input": "2025-07-25T03:02:34.930061Z",
     "iopub.status.busy": "2025-07-25T03:02:34.930061Z",
     "iopub.status.idle": "2025-07-25T03:02:34.937553Z",
     "shell.execute_reply": "2025-07-25T03:02:34.937553Z"
    },
    "papermill": {
     "duration": 0.023369,
     "end_time": "2025-07-25T03:02:34.937553",
     "exception": false,
     "start_time": "2025-07-25T03:02:34.914184",
     "status": "completed"
    },
    "tags": []
   },
   "outputs": [],
   "source": [
    "# Compile simulation results\\nfinal_solution = current_solution\\n\\n# Build treated water composition\\ntreated_water = {\\n    'flow_m3_hr': water_analysis['flow_m3_hr'],\\n    'temperature_celsius': final_solution.T,\\n    'pressure_bar': 1.0,\\n    'pH': final_solution.pH,\\n    'ion_concentrations_mg_L': {}\\n}\\n\\n# Map back to original ion names\\nreverse_mapping = {\\n    'Ca': 'Ca_2+',\\n    'Mg': 'Mg_2+',\\n    'Na': 'Na_+',\\n    'K': 'K_+',\\n    'Cl': 'Cl_-',\\n    'S(6)': 'SO4_2-',\\n    'C(4)': 'HCO3_-',\\n    'N(5)': 'NO3_-'\\n}\\n\\nfor element, ion in reverse_mapping.items():\\n    try:\\n        if element == 'S(6)':\\n            conc = final_solution.total('S(6)') * 96.06  # SO4 MW\\n        elif element == 'C(4)':\\n            conc = final_solution.total('HCO3-') * 61.02  # HCO3 MW\\n        else:\\n            conc = final_solution.total(element) * pp.get_element(element).mass\\n        treated_water['ion_concentrations_mg_L'][ion] = conc\\n    except:\\n        treated_water['ion_concentrations_mg_L'][ion] = 0\\n\\n# Build IX performance metrics\\nix_performance = {}\\nfor vessel_name, result in vessel_results.items():\\n    flow_rate_L_hr = water_analysis['flow_m3_hr'] * 1000\\n    vessel_config = configuration['ix_vessels'][vessel_name]\\n    resin_volume_L = vessel_config['resin_volume_m3'] * 1000\\n    \\n    breakthrough_time = result['breakthrough_bv'] * resin_volume_L / flow_rate_L_hr\\n    \\n    ix_performance[vessel_name] = {\\n        'breakthrough_time_hours': breakthrough_time,\\n        'bed_volumes_treated': result['breakthrough_bv'],\\n        'regenerant_consumption_kg': vessel_config['resin_volume_m3'] * vessel_config.get('regenerant_dose_kg_m3', 100),\\n        'capacity_utilization_percent': min(100, result['breakthrough_bv'] / 1000 * 100),\\n        'total_throughput_m3': result['breakthrough_bv'] * vessel_config['resin_volume_m3']\\n    }\\n\\n# Generate recommendations\\nrecommendations = []\\nmin_breakthrough_vessel = min(vessel_results.items(), key=lambda x: x[1]['breakthrough_bv'])\\nrecommendations.append(f\\\"{min_breakthrough_vessel[0]} will breakthrough first at {min_breakthrough_vessel[1]['breakthrough_bv']} BV\\\")\\n\\nif flowsheet_type == 'nawac_degasser':\\n    recommendations.append(\\\"Monitor alkalinity reduction to prevent over-softening\\\")\\nelif flowsheet_type == 'hwac_degasser':\\n    recommendations.append(\\\"Ensure adequate degassing to raise pH above 6.5\\\")\\nelif flowsheet_type == 'sac_flowsheet':\\n    recommendations.append(\\\"Monitor Na+ increase in product water\\\")\\n\\n# Final result structure\\nresult = {\\n    'status': 'success',\\n    'watertap_notebook_path': 'executed_in_notebook',\\n    'model_type': simulation_options.get('model_type', 'phreeqc'),\\n    'actual_runtime_seconds': 1.0,\\n    'treated_water': treated_water,\\n    'ix_performance': ix_performance,\\n    'water_quality_progression': [],  # Could be populated with time-series data\\n    'economics': configuration.get('economics', {}),\\n    'recommendations': recommendations\\n}\\n\\nif degasser_result:\\n    result['degasser_performance'] = degasser_result\\n\\nlogger.info(\\\"\\\\nSimulation complete!\\\")\\nlogger.info(f\\\"Final water quality: pH {treated_water['pH']:.2f}, hardness {treated_water['ion_concentrations_mg_L'].get('Ca_2+', 0) + treated_water['ion_concentrations_mg_L'].get('Mg_2+', 0):.1f} mg/L\\\")"
   ]
  }
 ],
 "metadata": {
  "kernelspec": {
   "display_name": "Python 3",
   "language": "python",
   "name": "python3"
  },
  "language_info": {
   "codemirror_mode": {
    "name": "ipython",
    "version": 3
   },
   "file_extension": ".py",
   "mimetype": "text/x-python",
   "name": "python",
   "nbconvert_exporter": "python",
   "pygments_lexer": "ipython3",
   "version": "3.12.10"
  },
  "papermill": {
   "default_parameters": {},
   "duration": 18.758076,
   "end_time": "2025-07-25T03:02:35.737409",
   "environment_variables": {},
   "exception": null,
   "input_path": "notebooks/ix_simulation_unified_template.ipynb",
   "output_path": "test_outputs\\minimal_test.ipynb",
   "parameters": {
    "configuration": {
     "flowsheet_type": "sac_flowsheet",
     "hydraulics": {
      "air_water_ratio": 45.0
     },
     "ix_vessels": {
      "SAC": {
       "bed_depth_m": 2.0,
       "diameter_m": 1.5,
       "number_service": 2,
       "resin_type": "SAC",
       "resin_volume_m3": 3.53
      }
     }
    },
    "project_root": "C:\\Users\\hvksh\\mcp-servers\\ix-design-mcp",
    "simulation_options": {
     "model_type": "watertap",
     "time_steps": 100
    },
    "water_analysis": {
     "alkalinity_mg_L_CaCO3": 300,
     "flow_m3_hr": 100,
     "ion_concentrations_mg_L": {
      "Ca_2+": 180,
      "Cl_-": 350,
      "HCO3_-": 300,
      "Mg_2+": 80,
      "Na_+": 50
     },
     "pH": 7.5,
     "pressure_bar": 1.0,
     "tds_mg_L": 960,
     "temperature_celsius": 25,
     "total_hardness_mg_L_CaCO3": 778
    },
    "watertap_ix_transport_path": "C:\\Users\\hvksh\\mcp-servers\\ix-design-mcp\\watertap_ix_transport"
   },
   "start_time": "2025-07-25T03:02:16.979333",
   "version": "2.6.0"
  }
 },
 "nbformat": 4,
 "nbformat_minor": 5
}