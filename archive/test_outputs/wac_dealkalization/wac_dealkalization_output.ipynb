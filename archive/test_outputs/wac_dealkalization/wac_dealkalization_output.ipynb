{
 "cells": [
  {
   "cell_type": "markdown",
   "id": "5a60099c",
   "metadata": {
    "papermill": {
     "duration": 0.003049,
     "end_time": "2025-07-25T02:52:58.885084",
     "exception": false,
     "start_time": "2025-07-25T02:52:58.882035",
     "status": "completed"
    },
    "tags": []
   },
   "source": [
    "# Production IX System Simulation with WaterTAP\n",
    "\n",
    "This notebook performs detailed IX system simulation using production-ready WaterTAP models:\n",
    "- **IX Models**: IonExchangeTransport0D with PHREEQC integration\n",
    "- **Degasser**: DegasserTower0DPhreeqc for CO2 removal\n",
    "- **Property Package**: MCAS (Multi-Component Aqueous Solution)\n",
    "\n",
    "## Process Flowsheets Supported\n",
    "1. **H-WAC → Degasser → Na-WAC**: Full temporary hardness removal\n",
    "2. **SAC → Na-WAC → Degasser**: Complete hardness removal\n",
    "3. **Na-WAC → Degasser**: Partial softening for temporary hardness"
   ]
  },
  {
   "cell_type": "code",
   "execution_count": 1,
   "id": "a371ef15",
   "metadata": {
    "execution": {
     "iopub.execute_input": "2025-07-25T02:52:58.916086Z",
     "iopub.status.busy": "2025-07-25T02:52:58.916086Z",
     "iopub.status.idle": "2025-07-25T02:52:58.926370Z",
     "shell.execute_reply": "2025-07-25T02:52:58.926370Z"
    },
    "papermill": {
     "duration": 0.026884,
     "end_time": "2025-07-25T02:52:58.926370",
     "exception": false,
     "start_time": "2025-07-25T02:52:58.899486",
     "status": "completed"
    },
    "tags": [
     "parameters"
    ]
   },
   "outputs": [],
   "source": [
    "# Parameters cell - papermill will inject values here\n",
    "import json\n",
    "\n",
    "# Configuration parameters (injected by papermill)\n",
    "project_root = None  # Will be injected - replaces __file__ usage\n",
    "watertap_ix_transport_path = None  # Path to watertap_ix_transport module\n",
    "configuration = None  # IX configuration from optimize_ix_configuration\n",
    "water_analysis = None  # Feed water composition\n",
    "breakthrough_criteria = None  # Breakthrough criteria dictionary\n",
    "regenerant_parameters = None  # Regenerant parameters dictionary\n",
    "acid_options = None  # Acid dosing options for degasser\n",
    "timestamp = None  # Timestamp for the simulation run\n",
    "simulation_options = {\n",
    "    \"model_type\": \"watertap\",\n",
    "    \"time_steps\": 100,\n",
    "    \"breakthrough_criteria\": {\"hardness_mg_L_CaCO3\": 5.0}\n",
    "}"
   ]
  },
  {
   "cell_type": "code",
   "execution_count": 2,
   "id": "d6e5c612",
   "metadata": {
    "execution": {
     "iopub.execute_input": "2025-07-25T02:52:58.932747Z",
     "iopub.status.busy": "2025-07-25T02:52:58.932747Z",
     "iopub.status.idle": "2025-07-25T02:52:58.947251Z",
     "shell.execute_reply": "2025-07-25T02:52:58.947251Z"
    },
    "papermill": {
     "duration": 0.014504,
     "end_time": "2025-07-25T02:52:58.947251",
     "exception": false,
     "start_time": "2025-07-25T02:52:58.932747",
     "status": "completed"
    },
    "tags": [
     "injected-parameters"
    ]
   },
   "outputs": [],
   "source": [
    "# Parameters\n",
    "project_root = \"C:\\\\Users\\\\hvksh\\\\mcp-servers\\\\ix-design-mcp\"\n",
    "watertap_ix_transport_path = (\n",
    "    \"C:\\\\Users\\\\hvksh\\\\mcp-servers\\\\ix-design-mcp\\\\watertap_ix_transport\"\n",
    ")\n",
    "configuration = {\n",
    "    \"flowsheet_type\": \"sac_flowsheet\",\n",
    "    \"ix_vessels\": {\n",
    "        \"WAC_H\": {\n",
    "            \"resin_type\": \"WAC_H\",\n",
    "            \"bed_depth_m\": 1.5,\n",
    "            \"diameter_m\": 1.2,\n",
    "            \"number_service\": 2,\n",
    "            \"resin_volume_m3\": 1.6964585999999997,\n",
    "        }\n",
    "    },\n",
    "    \"hydraulics\": {\"air_water_ratio\": 45.0},\n",
    "}\n",
    "water_analysis = {\n",
    "    \"flow_m3_hr\": 75,\n",
    "    \"temperature_celsius\": 20,\n",
    "    \"pressure_bar\": 1.0,\n",
    "    \"pH\": 7.0,\n",
    "    \"ion_concentrations_mg_L\": {\n",
    "        \"Ca_2+\": 120,\n",
    "        \"Mg_2+\": 40,\n",
    "        \"Na_+\": 30,\n",
    "        \"Cl_-\": 150,\n",
    "        \"HCO3_-\": 400,\n",
    "    },\n",
    "    \"alkalinity_mg_L_CaCO3\": 300,\n",
    "    \"total_hardness_mg_L_CaCO3\": 464.0,\n",
    "    \"tds_mg_L\": 740,\n",
    "}\n",
    "simulation_options = {\"model_type\": \"watertap\", \"time_steps\": 100}\n"
   ]
  },
  {
   "cell_type": "code",
   "execution_count": 3,
   "id": "3972de42",
   "metadata": {
    "execution": {
     "iopub.execute_input": "2025-07-25T02:52:58.947251Z",
     "iopub.status.busy": "2025-07-25T02:52:58.947251Z",
     "iopub.status.idle": "2025-07-25T02:53:02.611609Z",
     "shell.execute_reply": "2025-07-25T02:53:02.611609Z"
    },
    "papermill": {
     "duration": 3.665374,
     "end_time": "2025-07-25T02:53:02.612625",
     "exception": false,
     "start_time": "2025-07-25T02:52:58.947251",
     "status": "completed"
    },
    "tags": []
   },
   "outputs": [
    {
     "name": "stderr",
     "output_type": "stream",
     "text": [
      "INFO:__main__:Successfully imported all required modules\n"
     ]
    },
    {
     "name": "stderr",
     "output_type": "stream",
     "text": [
      "INFO:__main__:Using DirectPhreeqcEngine for ion exchange calculations\n"
     ]
    }
   ],
   "source": [
    "# System imports\n",
    "import sys\n",
    "import os\n",
    "import json\n",
    "import numpy as np\n",
    "import pandas as pd\n",
    "import matplotlib.pyplot as plt\n",
    "from datetime import datetime\n",
    "import logging\n",
    "import warnings\n",
    "\n",
    "# Add project root to path (injected by papermill)\n",
    "if project_root and project_root not in sys.path:\n",
    "    sys.path.insert(0, project_root)\n",
    "\n",
    "# Configure logging\n",
    "logging.basicConfig(level=logging.INFO)\n",
    "logger = logging.getLogger(__name__)\n",
    "warnings.filterwarnings('ignore')\n",
    "\n",
    "# Import production WaterTAP IX utilities\n",
    "try:\n",
    "    from watertap_ix_transport import (\n",
    "        build_ix_flowsheet,\n",
    "        initialize_ix_system,\n",
    "        IonExchangeTransport0D,\n",
    "        DegasserTower0DPhreeqc,\n",
    "        ResinType,\n",
    "        RegenerantChem\n",
    "    )\n",
    "    from watertap_ix_transport.utilities.property_calculations import fix_mole_fractions\n",
    "    from watertap_ix_transport.production_models import PhreeqPython\n",
    "    \n",
    "    # Import direct PHREEQC engine for awareness\n",
    "    from watertap_ix_transport.transport_core.direct_phreeqc_engine import DirectPhreeqcEngine\n",
    "    \n",
    "    # Import WaterTAP and IDAES utilities\n",
    "    from pyomo.environ import (\n",
    "        ConcreteModel, \n",
    "        value, \n",
    "        units as pyunits,\n",
    "        TransformationFactory\n",
    "    )\n",
    "    from pyomo.network import Arc\n",
    "    from idaes.core import FlowsheetBlock\n",
    "    from idaes.models.unit_models import Feed, Product, Mixer, Separator\n",
    "    from idaes.core.util.model_statistics import degrees_of_freedom\n",
    "    from idaes.core.solvers import get_solver\n",
    "    from idaes.core.util.initialization import propagate_state\n",
    "    from watertap.property_models.multicomp_aq_sol_prop_pack import MCASParameterBlock, MaterialFlowBasis\n",
    "    from watertap.unit_models.pressure_changer import Pump\n",
    "    \n",
    "    logger.info(\"Successfully imported all required modules\")\n",
    "    logger.info(\"Using DirectPhreeqcEngine for ion exchange calculations\")\n",
    "except ImportError as e:\n",
    "    logger.error(f\"Failed to import required modules: {e}\")\n",
    "    raise"
   ]
  },
  {
   "cell_type": "markdown",
   "id": "cf3eab6c",
   "metadata": {
    "papermill": {
     "duration": 0.005542,
     "end_time": "2025-07-25T02:53:02.619682",
     "exception": false,
     "start_time": "2025-07-25T02:53:02.614140",
     "status": "completed"
    },
    "tags": []
   },
   "source": [
    "## Validate Inputs"
   ]
  },
  {
   "cell_type": "code",
   "execution_count": 4,
   "id": "cb102210",
   "metadata": {
    "execution": {
     "iopub.execute_input": "2025-07-25T02:53:02.619682Z",
     "iopub.status.busy": "2025-07-25T02:53:02.619682Z",
     "iopub.status.idle": "2025-07-25T02:53:02.638316Z",
     "shell.execute_reply": "2025-07-25T02:53:02.638316Z"
    },
    "papermill": {
     "duration": 0.018634,
     "end_time": "2025-07-25T02:53:02.638316",
     "exception": false,
     "start_time": "2025-07-25T02:53:02.619682",
     "status": "completed"
    },
    "tags": []
   },
   "outputs": [
    {
     "name": "stderr",
     "output_type": "stream",
     "text": [
      "INFO:__main__:Configuration loaded: sac_flowsheet\n"
     ]
    },
    {
     "name": "stderr",
     "output_type": "stream",
     "text": [
      "INFO:__main__:Water analysis loaded: Flow 75 m³/hr\n"
     ]
    },
    {
     "name": "stderr",
     "output_type": "stream",
     "text": [
      "INFO:__main__:Running sac_flowsheet flowsheet simulation\n"
     ]
    },
    {
     "name": "stderr",
     "output_type": "stream",
     "text": [
      "INFO:__main__:IX vessels: ['WAC_H']\n"
     ]
    },
    {
     "name": "stderr",
     "output_type": "stream",
     "text": [
      "INFO:__main__:Degasser present: No\n"
     ]
    }
   ],
   "source": [
    "# Validate configuration and water analysis\n",
    "validation_errors = []\n",
    "\n",
    "if not configuration:\n",
    "    validation_errors.append(\"Missing configuration parameter\")\n",
    "else:\n",
    "    logger.info(f\"Configuration loaded: {configuration.get('flowsheet_type', 'Unknown')}\")\n",
    "    \n",
    "if not water_analysis:\n",
    "    validation_errors.append(\"Missing water_analysis parameter\")\n",
    "else:\n",
    "    logger.info(f\"Water analysis loaded: Flow {water_analysis.get('flow_m3_hr', 0)} m³/hr\")\n",
    "\n",
    "if validation_errors:\n",
    "    raise ValueError(f\"Validation failed: {', '.join(validation_errors)}\")\n",
    "\n",
    "# Extract key parameters\n",
    "flowsheet_type = configuration.get('flowsheet_type', 'general')\n",
    "ix_vessels = configuration.get('ix_vessels', {})\n",
    "degasser_config = configuration.get('degasser', {})\n",
    "\n",
    "logger.info(f\"Running {flowsheet_type} flowsheet simulation\")\n",
    "logger.info(f\"IX vessels: {list(ix_vessels.keys())}\")\n",
    "logger.info(f\"Degasser present: {'Yes' if degasser_config else 'No'}\")"
   ]
  },
  {
   "cell_type": "markdown",
   "id": "005cf011",
   "metadata": {
    "papermill": {
     "duration": 0.0,
     "end_time": "2025-07-25T02:53:02.638316",
     "exception": false,
     "start_time": "2025-07-25T02:53:02.638316",
     "status": "completed"
    },
    "tags": []
   },
   "source": [
    "## Build WaterTAP Model"
   ]
  },
  {
   "cell_type": "code",
   "execution_count": 5,
   "id": "1e2d7f8d",
   "metadata": {
    "execution": {
     "iopub.execute_input": "2025-07-25T02:53:02.652527Z",
     "iopub.status.busy": "2025-07-25T02:53:02.652527Z",
     "iopub.status.idle": "2025-07-25T02:53:02.776133Z",
     "shell.execute_reply": "2025-07-25T02:53:02.776133Z"
    },
    "papermill": {
     "duration": 0.137817,
     "end_time": "2025-07-25T02:53:02.776133",
     "exception": false,
     "start_time": "2025-07-25T02:53:02.638316",
     "status": "completed"
    },
    "tags": []
   },
   "outputs": [
    {
     "name": "stderr",
     "output_type": "stream",
     "text": [
      "INFO:__main__:MCAS solute list: ['Ca_2+', 'Mg_2+', 'Na_+', 'Cl_-', 'HCO3_-', 'H_+', 'OH_-']\n"
     ]
    },
    {
     "name": "stderr",
     "output_type": "stream",
     "text": [
      "INFO:__main__:Feed conditions set: 75 m³/hr at 20°C\n"
     ]
    },
    {
     "name": "stderr",
     "output_type": "stream",
     "text": [
      "INFO:__main__:Fixing mole fractions for feed stream...\n"
     ]
    },
    {
     "name": "stdout",
     "output_type": "stream",
     "text": [
      "2025-07-24 22:53:02 [INFO] idaes.init.fs.feed: Initialization Complete.\n"
     ]
    },
    {
     "name": "stderr",
     "output_type": "stream",
     "text": [
      "INFO:watertap_ix_transport.utilities.property_calculations:Detected 10,000 mg/L concentrations - recalculating...\n"
     ]
    },
    {
     "name": "stderr",
     "output_type": "stream",
     "text": [
      "INFO:watertap_ix_transport.utilities.property_calculations:Successfully updated concentrations\n"
     ]
    },
    {
     "name": "stderr",
     "output_type": "stream",
     "text": [
      "INFO:__main__:Feed water mole fraction: 0.500000\n"
     ]
    },
    {
     "name": "stderr",
     "output_type": "stream",
     "text": [
      "WARNING:__main__:WARNING: Feed water mole fraction is 0.500000 (expected > 0.95)\n"
     ]
    },
    {
     "name": "stderr",
     "output_type": "stream",
     "text": [
      "WARNING:__main__:This may indicate an issue with mass flow specification or mole fraction calculation\n"
     ]
    },
    {
     "name": "stderr",
     "output_type": "stream",
     "text": [
      "INFO:__main__:✓ No suspicious 10,000 mg/L concentrations in feed\n"
     ]
    }
   ],
   "source": [
    "# Build WaterTAP flowsheet model\n",
    "m = ConcreteModel()\n",
    "m.fs = FlowsheetBlock(dynamic=False)\n",
    "\n",
    "# Build MCAS property configuration from water analysis\n",
    "solute_list = []\n",
    "ion_mapping = {\n",
    "    'Ca_2+': 'Ca_2+',\n",
    "    'Mg_2+': 'Mg_2+', \n",
    "    'Na_+': 'Na_+',\n",
    "    'K_+': 'K_+',\n",
    "    'Cl_-': 'Cl_-',\n",
    "    'SO4_2-': 'SO4_2-',\n",
    "    'HCO3_-': 'HCO3_-',\n",
    "    'NO3_-': 'NO3_-',\n",
    "    'CO3_2-': 'CO3_2-',\n",
    "    'OH_-': 'OH_-',\n",
    "    'H_+': 'H_+'\n",
    "}\n",
    "\n",
    "# Build solute list from water analysis\n",
    "for ion, conc in water_analysis['ion_concentrations_mg_L'].items():\n",
    "    if ion in ion_mapping and conc > 0:\n",
    "        mapped_ion = ion_mapping[ion]\n",
    "        if mapped_ion not in solute_list:\n",
    "            solute_list.append(mapped_ion)\n",
    "\n",
    "# Always include H+ and OH- for pH calculations\n",
    "if 'H_+' not in solute_list:\n",
    "    solute_list.append('H_+')\n",
    "if 'OH_-' not in solute_list:\n",
    "    solute_list.append('OH_-')\n",
    "\n",
    "# Ensure hardness ions are present for IX model (required for target_ion_set)\n",
    "if 'Ca_2+' not in solute_list:\n",
    "    solute_list.append('Ca_2+')\n",
    "if 'Mg_2+' not in solute_list:\n",
    "    solute_list.append('Mg_2+')\n",
    "\n",
    "logger.info(f\"MCAS solute list: {solute_list}\")\n",
    "\n",
    "# Create MCAS property package\n",
    "m.fs.properties = MCASParameterBlock(\n",
    "    solute_list=solute_list,\n",
    "    material_flow_basis=MaterialFlowBasis.mass\n",
    ")\n",
    "\n",
    "# Create feed stream\n",
    "m.fs.feed = Feed(property_package=m.fs.properties)\n",
    "\n",
    "# Calculate mass flows from concentration data\n",
    "flow_rate_m3s = water_analysis['flow_m3_hr'] / 3600  # m³/s\n",
    "density_kg_m3 = 1000  # Approximate for dilute solutions\n",
    "\n",
    "# Calculate component mass flows\n",
    "flow_mass_comp = {}\n",
    "for ion, conc_mg_L in water_analysis['ion_concentrations_mg_L'].items():\n",
    "    if ion in ion_mapping and conc_mg_L > 0:\n",
    "        # Correct unit conversion:\n",
    "        # mg/L × (1 kg / 10^6 mg) × (10^3 L / 1 m³) = 10^-3 kg/m³\n",
    "        # Then: conc_mg_L × flow_rate_m3s × 10^-3 = kg/s\n",
    "        mass_flow_kg_s = conc_mg_L * flow_rate_m3s * 1e-3  # kg/s  <-- FIXED: was 1e-9\n",
    "        flow_mass_comp[('Liq', ion_mapping[ion])] = mass_flow_kg_s\n",
    "\n",
    "# Add trace amounts for missing required ions\n",
    "if ('Liq', 'Ca_2+') not in flow_mass_comp:\n",
    "    flow_mass_comp[('Liq', 'Ca_2+')] = 1e-10  # Trace amount\n",
    "if ('Liq', 'Mg_2+') not in flow_mass_comp:\n",
    "    flow_mass_comp[('Liq', 'Mg_2+')] = 1e-10  # Trace amount\n",
    "\n",
    "# Add trace amounts for H+ and OH- if not present\n",
    "if ('Liq', 'H_+') not in flow_mass_comp:\n",
    "    # pH 7.5 => [H+] = 10^-7.5 mol/L\n",
    "    h_conc_mol_L = 10**(-water_analysis['pH'])\n",
    "    h_mass_flow = h_conc_mol_L * 1.008 * flow_rate_m3s * 1e-3  # kg/s\n",
    "    flow_mass_comp[('Liq', 'H_+')] = h_mass_flow\n",
    "    \n",
    "if ('Liq', 'OH_-') not in flow_mass_comp:\n",
    "    # [OH-] from Kw = [H+][OH-] = 1e-14\n",
    "    oh_conc_mol_L = 1e-14 / (10**(-water_analysis['pH']))\n",
    "    oh_mass_flow = oh_conc_mol_L * 17.008 * flow_rate_m3s * 1e-3  # kg/s\n",
    "    flow_mass_comp[('Liq', 'OH_-')] = oh_mass_flow\n",
    "\n",
    "# Calculate water flow\n",
    "total_solute_flow = sum(flow_mass_comp.values())\n",
    "total_mass_flow = flow_rate_m3s * density_kg_m3\n",
    "flow_mass_comp[('Liq', 'H2O')] = total_mass_flow - total_solute_flow\n",
    "\n",
    "# Fix feed conditions\n",
    "m.fs.feed.outlet.temperature[0].fix(water_analysis['temperature_celsius'] + 273.15)  # K\n",
    "m.fs.feed.outlet.pressure[0].fix(water_analysis['pressure_bar'] * 1e5)  # Pa\n",
    "\n",
    "for comp_phase, flow in flow_mass_comp.items():\n",
    "    m.fs.feed.outlet.flow_mass_phase_comp[0, comp_phase[0], comp_phase[1]].fix(flow)\n",
    "\n",
    "logger.info(f\"Feed conditions set: {water_analysis['flow_m3_hr']} m³/hr at {water_analysis['temperature_celsius']}°C\")\n",
    "\n",
    "# CRITICAL: Fix mole fractions immediately after setting mass flows\n",
    "# This prevents MCAS from using default values (0.5 mol/L → 10,000 mg/L)\n",
    "logger.info(\"Fixing mole fractions for feed stream...\")\n",
    "\n",
    "# Import here to ensure it's available\n",
    "from watertap_ix_transport.utilities.property_calculations import fix_mole_fractions\n",
    "\n",
    "# Initialize feed to build constraints\n",
    "m.fs.feed.initialize()\n",
    "\n",
    "# Apply mole fraction fix\n",
    "fix_mole_fractions(m.fs.feed.properties[0])\n",
    "\n",
    "# Validate water mole fraction > 0.95\n",
    "water_mol_frac = value(m.fs.feed.properties[0].mole_frac_phase_comp['Liq', 'H2O'])\n",
    "logger.info(f\"Feed water mole fraction: {water_mol_frac:.6f}\")\n",
    "\n",
    "if water_mol_frac < 0.95:\n",
    "    logger.warning(f\"WARNING: Feed water mole fraction is {water_mol_frac:.6f} (expected > 0.95)\")\n",
    "    logger.warning(\"This may indicate an issue with mass flow specification or mole fraction calculation\")\n",
    "else:\n",
    "    logger.info(\"✓ Feed water mole fraction is correct (> 0.95)\")\n",
    "\n",
    "# Double-check no 10,000 mg/L values\n",
    "feed_state = m.fs.feed.properties[0]\n",
    "suspect_ions = []\n",
    "for comp in m.fs.properties.solute_set:\n",
    "    if comp != 'H2O':\n",
    "        conc_kg_m3 = value(feed_state.conc_mass_phase_comp['Liq', comp])\n",
    "        conc_mg_L = conc_kg_m3 * 1000\n",
    "        if abs(conc_mg_L - 10000) < 0.1:\n",
    "            suspect_ions.append((comp, conc_mg_L))\n",
    "\n",
    "if suspect_ions:\n",
    "    logger.error(\"ERROR: Found ions with ~10,000 mg/L concentration in feed:\")\n",
    "    for ion, conc in suspect_ions:\n",
    "        logger.error(f\"  - {ion}: {conc:.1f} mg/L\")\n",
    "    logger.error(\"This indicates MCAS fallback to default values - check initialization sequence\")\n",
    "else:\n",
    "    logger.info(\"✓ No suspicious 10,000 mg/L concentrations in feed\")"
   ]
  },
  {
   "cell_type": "code",
   "execution_count": 6,
   "id": "d6e1e446",
   "metadata": {
    "execution": {
     "iopub.execute_input": "2025-07-25T02:53:02.778640Z",
     "iopub.status.busy": "2025-07-25T02:53:02.778640Z",
     "iopub.status.idle": "2025-07-25T02:53:02.831522Z",
     "shell.execute_reply": "2025-07-25T02:53:02.831522Z"
    },
    "papermill": {
     "duration": 0.052882,
     "end_time": "2025-07-25T02:53:02.831522",
     "exception": false,
     "start_time": "2025-07-25T02:53:02.778640",
     "status": "completed"
    },
    "tags": []
   },
   "outputs": [
    {
     "name": "stderr",
     "output_type": "stream",
     "text": [
      "INFO:watertap_ix_transport.transport_core.phreeqc_transport_engine:Loaded parameters for WAC_H resin\n"
     ]
    },
    {
     "name": "stderr",
     "output_type": "stream",
     "text": [
      "INFO:__main__:Created ix_wac_h: WAC_H resin, 1.5m bed depth\n"
     ]
    },
    {
     "name": "stderr",
     "output_type": "stream",
     "text": [
      "INFO:__main__:Flowsheet built with 1 IX vessels\n"
     ]
    }
   ],
   "source": [
    "# Build IX vessels based on configuration\n",
    "# Map resin types\n",
    "resin_type_map = {\n",
    "    'SAC': ResinType.SAC,\n",
    "    'WAC_H': ResinType.WAC_H,\n",
    "    'WAC_Na': ResinType.WAC_Na\n",
    "}\n",
    "\n",
    "# Map regenerant chemicals\n",
    "regenerant_map = {\n",
    "    'SAC': RegenerantChem.NaCl,\n",
    "    'WAC_H': RegenerantChem.HCl,\n",
    "    'WAC_Na': RegenerantChem.NaOH\n",
    "}\n",
    "\n",
    "# Track units and connections\n",
    "ix_units = {}\n",
    "previous_unit = m.fs.feed\n",
    "\n",
    "# Build each IX vessel in sequence\n",
    "for i, (vessel_name, vessel_config) in enumerate(ix_vessels.items()):\n",
    "    resin_type_str = vessel_config['resin_type']\n",
    "    resin_type = resin_type_map.get(resin_type_str, ResinType.SAC)\n",
    "    regenerant = regenerant_map.get(resin_type_str, RegenerantChem.NaCl)\n",
    "    \n",
    "    # Create IX unit\n",
    "    unit_name = f\"ix_{vessel_name.lower().replace('-', '_')}\"\n",
    "    ix_unit = IonExchangeTransport0D(\n",
    "        property_package=m.fs.properties,\n",
    "        resin_type=resin_type,\n",
    "        regenerant=regenerant,\n",
    "        number_of_beds=vessel_config['number_service']\n",
    "    )\n",
    "    setattr(m.fs, unit_name, ix_unit)\n",
    "    ix_units[vessel_name] = ix_unit\n",
    "    \n",
    "    # Set vessel parameters\n",
    "    if hasattr(ix_unit.bed_depth, 'fix'):\n",
    "        ix_unit.bed_depth.fix(vessel_config['bed_depth_m'])\n",
    "    else:\n",
    "        ix_unit.bed_depth.set_value(vessel_config['bed_depth_m'])\n",
    "        \n",
    "    if hasattr(ix_unit.bed_diameter, 'fix'):\n",
    "        ix_unit.bed_diameter.fix(vessel_config['diameter_m'])\n",
    "    else:\n",
    "        ix_unit.bed_diameter.set_value(vessel_config['diameter_m'])\n",
    "    \n",
    "    # Fix operating capacity based on water chemistry\n",
    "    if resin_type_str == 'SAC':\n",
    "        op_capacity = 0.8  # 80% of theoretical\n",
    "    elif resin_type_str == 'WAC_H':\n",
    "        op_capacity = 0.7  # 70% for H+ form\n",
    "    else:  # WAC_Na\n",
    "        op_capacity = 0.75  # 75% for Na+ form\n",
    "        \n",
    "    if hasattr(ix_unit.operating_capacity, 'fix'):\n",
    "        ix_unit.operating_capacity.fix(op_capacity)\n",
    "    else:\n",
    "        ix_unit.operating_capacity.set_value(op_capacity)\n",
    "    \n",
    "    # Create connection\n",
    "    arc_name = f\"arc_{i}\"\n",
    "    arc = Arc(source=previous_unit.outlet, destination=ix_unit.inlet)\n",
    "    setattr(m.fs, arc_name, arc)\n",
    "    \n",
    "    previous_unit = ix_unit\n",
    "    logger.info(f\"Created {unit_name}: {resin_type_str} resin, {vessel_config['bed_depth_m']}m bed depth\")\n",
    "\n",
    "# Add degasser if present\n",
    "degasser_unit = None\n",
    "if degasser_config:\n",
    "    logger.info(\"Adding degasser to flowsheet\")\n",
    "    \n",
    "    # Create degasser unit\n",
    "    m.fs.degasser = DegasserTower0DPhreeqc(\n",
    "        property_package=m.fs.properties\n",
    "    )\n",
    "    degasser_unit = m.fs.degasser\n",
    "    \n",
    "    # Set degasser operating parameters\n",
    "    acid_dose = simulation_options.get('acid_dose_mmol_L', 2.0)  # Default 2 mmol/L\n",
    "    \n",
    "    if hasattr(m.fs.degasser.acid_dose_mmol_L, 'fix'):\n",
    "        m.fs.degasser.acid_dose_mmol_L.fix(acid_dose)\n",
    "    \n",
    "    # Set CO2 partial pressure target\n",
    "    if hasattr(m.fs.degasser.co2_partial_pressure, 'fix'):\n",
    "        m.fs.degasser.co2_partial_pressure.fix(0.0003)  # ~300 ppm atmospheric CO2\n",
    "    \n",
    "    # Gas-liquid ratio from configuration\n",
    "    air_water_ratio = configuration['hydraulics'].get('air_water_ratio', 45.0)\n",
    "    if hasattr(m.fs.degasser.gas_liquid_ratio, 'fix'):\n",
    "        m.fs.degasser.gas_liquid_ratio.fix(air_water_ratio)\n",
    "    \n",
    "    # Connect last IX unit to degasser\n",
    "    arc = Arc(source=previous_unit.outlet, destination=m.fs.degasser.inlet)\n",
    "    m.fs.arc_to_degasser = arc\n",
    "    \n",
    "    previous_unit = m.fs.degasser\n",
    "\n",
    "# Create final product stream\n",
    "m.fs.product = Product(property_package=m.fs.properties)\n",
    "arc = Arc(source=previous_unit.outlet, destination=m.fs.product.inlet)\n",
    "m.fs.arc_to_product = arc\n",
    "\n",
    "# Expand arcs\n",
    "TransformationFactory(\"network.expand_arcs\").apply_to(m)\n",
    "\n",
    "logger.info(f\"Flowsheet built with {len(ix_units)} IX vessels\" + \n",
    "           (f\" and degasser\" if degasser_unit else \"\"))"
   ]
  },
  {
   "cell_type": "code",
   "execution_count": 7,
   "id": "a4ec2714",
   "metadata": {
    "execution": {
     "iopub.execute_input": "2025-07-25T02:53:02.831522Z",
     "iopub.status.busy": "2025-07-25T02:53:02.831522Z",
     "iopub.status.idle": "2025-07-25T02:53:14.267368Z",
     "shell.execute_reply": "2025-07-25T02:53:14.266818Z"
    },
    "papermill": {
     "duration": 11.437363,
     "end_time": "2025-07-25T02:53:14.268885",
     "exception": false,
     "start_time": "2025-07-25T02:53:02.831522",
     "status": "completed"
    },
    "tags": []
   },
   "outputs": [
    {
     "name": "stderr",
     "output_type": "stream",
     "text": [
      "INFO:__main__:Initializing flowsheet...\n"
     ]
    },
    {
     "name": "stderr",
     "output_type": "stream",
     "text": [
      "INFO:__main__:Initializing feed...\n"
     ]
    },
    {
     "name": "stdout",
     "output_type": "stream",
     "text": [
      "2025-07-24 22:53:03 [INFO] idaes.init.fs.feed: Initialization Complete.\n"
     ]
    },
    {
     "name": "stderr",
     "output_type": "stream",
     "text": [
      "INFO:__main__:Initializing WAC_H...\n"
     ]
    },
    {
     "name": "stdout",
     "output_type": "stream",
     "text": [
      "2025-07-24 22:53:03 [INFO] idaes.init.fs.ix_wac_h: Fixing outlet mole fractions BEFORE IX calculations...\n"
     ]
    },
    {
     "name": "stderr",
     "output_type": "stream",
     "text": [
      "INFO:watertap_ix_transport.utilities.property_calculations:Detected 10,000 mg/L concentrations - recalculating...\n"
     ]
    },
    {
     "name": "stderr",
     "output_type": "stream",
     "text": [
      "WARNING:watertap_ix_transport.utilities.property_calculations:Cannot solve property block - DOF = 8\n"
     ]
    },
    {
     "name": "stdout",
     "output_type": "stream",
     "text": [
      "2025-07-24 22:53:03 [INFO] idaes.init.fs.ix_wac_h: Inlet property block DOF: 0\n"
     ]
    },
    {
     "name": "stdout",
     "output_type": "stream",
     "text": [
      "2025-07-24 22:53:03 [INFO] idaes.init.fs.ix_wac_h: Fixing inlet mole fractions before IX calculations...\n"
     ]
    },
    {
     "name": "stderr",
     "output_type": "stream",
     "text": [
      "INFO:watertap_ix_transport.utilities.property_calculations:Detected 10,000 mg/L concentrations - recalculating...\n"
     ]
    },
    {
     "name": "stderr",
     "output_type": "stream",
     "text": [
      "INFO:watertap_ix_transport.utilities.property_calculations:Successfully updated concentrations\n"
     ]
    },
    {
     "name": "stdout",
     "output_type": "stream",
     "text": [
      "2025-07-24 22:53:03 [INFO] idaes.init.fs.ix_wac_h: Water mole fraction after fixing: 0.500000\n"
     ]
    },
    {
     "name": "stdout",
     "output_type": "stream",
     "text": [
      "2025-07-24 22:53:03 [WARNING] idaes.init.fs.ix_wac_h: Low water mole fraction detected: 0.500000\n"
     ]
    },
    {
     "name": "stdout",
     "output_type": "stream",
     "text": [
      "2025-07-24 22:53:03 [WARNING] idaes.init.fs.ix_wac_h: This may cause incorrect IX performance calculations\n"
     ]
    },
    {
     "name": "stdout",
     "output_type": "stream",
     "text": [
      "2025-07-24 22:53:03 [INFO] idaes.init.fs.ix_wac_h: Water mole fraction after re-solve: 0.999699\n"
     ]
    },
    {
     "name": "stdout",
     "output_type": "stream",
     "text": [
      "2025-07-24 22:53:03 [INFO] idaes.init.fs.ix_wac_h: Calculated bed volume: 1.70 m³\n"
     ]
    },
    {
     "name": "stdout",
     "output_type": "stream",
     "text": [
      "2025-07-24 22:53:03 [INFO] idaes.init.fs.ix_wac_h: Calculating ion exchange performance with PHREEQC...\n"
     ]
    },
    {
     "name": "stderr",
     "output_type": "stream",
     "text": [
      "INFO:watertap_ix_transport.ion_exchange_transport_0D:Ensuring correct mole fractions before PHREEQC calculations...\n"
     ]
    },
    {
     "name": "stderr",
     "output_type": "stream",
     "text": [
      "INFO:watertap_ix_transport.ion_exchange_transport_0D:Water mole fraction before PHREEQC: 0.999699\n"
     ]
    },
    {
     "name": "stderr",
     "output_type": "stream",
     "text": [
      "INFO:watertap_ix_transport.phreeqc_translator:Using flow_vol_phase: 2.0833333333e-02 m³/s (decimal: 0.020833333333333332)\n"
     ]
    },
    {
     "name": "stderr",
     "output_type": "stream",
     "text": [
      "INFO:watertap_ix_transport.phreeqc_translator:Water mass flow: 20.817917 kg/s\n"
     ]
    },
    {
     "name": "stderr",
     "output_type": "stream",
     "text": [
      "INFO:watertap_ix_transport.phreeqc_translator:Mass flow of Ca_2+: 0.002500 kg/s\n"
     ]
    },
    {
     "name": "stderr",
     "output_type": "stream",
     "text": [
      "INFO:watertap_ix_transport.phreeqc_translator:Mass flow of Mg_2+: 0.000833 kg/s\n"
     ]
    },
    {
     "name": "stderr",
     "output_type": "stream",
     "text": [
      "INFO:watertap_ix_transport.phreeqc_translator:Mass flow of Na_+: 0.000625 kg/s\n"
     ]
    },
    {
     "name": "stderr",
     "output_type": "stream",
     "text": [
      "INFO:watertap_ix_transport.phreeqc_translator:Mass flow of Cl_-: 0.003125 kg/s\n"
     ]
    },
    {
     "name": "stderr",
     "output_type": "stream",
     "text": [
      "INFO:watertap_ix_transport.phreeqc_translator:Mass flow of HCO3_-: 0.008333 kg/s\n"
     ]
    },
    {
     "name": "stderr",
     "output_type": "stream",
     "text": [
      "INFO:watertap_ix_transport.phreeqc_translator:Mass flow of H_+: 0.000000 kg/s\n"
     ]
    },
    {
     "name": "stderr",
     "output_type": "stream",
     "text": [
      "INFO:watertap_ix_transport.phreeqc_translator:Mass flow of OH_-: 0.000000 kg/s\n"
     ]
    },
    {
     "name": "stderr",
     "output_type": "stream",
     "text": [
      "INFO:watertap_ix_transport.phreeqc_translator:PHREEQC feed composition:\n"
     ]
    },
    {
     "name": "stderr",
     "output_type": "stream",
     "text": [
      "INFO:watertap_ix_transport.phreeqc_translator:  Temperature: 20.0 °C\n"
     ]
    },
    {
     "name": "stderr",
     "output_type": "stream",
     "text": [
      "INFO:watertap_ix_transport.phreeqc_translator:  pH: 6.00\n"
     ]
    },
    {
     "name": "stderr",
     "output_type": "stream",
     "text": [
      "INFO:watertap_ix_transport.phreeqc_translator:  Total TDS: 740.0 mg/L\n"
     ]
    },
    {
     "name": "stderr",
     "output_type": "stream",
     "text": [
      "INFO:watertap_ix_transport.phreeqc_translator:  Ca+2: 120.000 mg/L\n"
     ]
    },
    {
     "name": "stderr",
     "output_type": "stream",
     "text": [
      "INFO:watertap_ix_transport.phreeqc_translator:  Mg+2: 40.000 mg/L\n"
     ]
    },
    {
     "name": "stderr",
     "output_type": "stream",
     "text": [
      "INFO:watertap_ix_transport.phreeqc_translator:  Na+: 30.000 mg/L\n"
     ]
    },
    {
     "name": "stderr",
     "output_type": "stream",
     "text": [
      "INFO:watertap_ix_transport.phreeqc_translator:  Cl-: 150.000 mg/L\n"
     ]
    },
    {
     "name": "stderr",
     "output_type": "stream",
     "text": [
      "INFO:watertap_ix_transport.phreeqc_translator:  HCO3-: 400.000 mg/L\n"
     ]
    },
    {
     "name": "stderr",
     "output_type": "stream",
     "text": [
      "INFO:watertap_ix_transport.phreeqc_translator:  H+: 0.001 mg/L\n"
     ]
    },
    {
     "name": "stderr",
     "output_type": "stream",
     "text": [
      "INFO:watertap_ix_transport.phreeqc_translator:  OH-: 0.001 mg/L\n"
     ]
    },
    {
     "name": "stderr",
     "output_type": "stream",
     "text": [
      "INFO:watertap_ix_transport.transport_core.phreeqc_transport_engine:Using direct PHREEQC executable for simulation\n"
     ]
    },
    {
     "name": "stderr",
     "output_type": "stream",
     "text": [
      "INFO:watertap_ix_transport.transport_core.direct_phreeqc_engine:Using PHREEQC executable: C:\\Program Files\\USGS\\phreeqc-3.8.6-17100-x64\\bin\\phreeqc.bat\n"
     ]
    },
    {
     "name": "stderr",
     "output_type": "stream",
     "text": [
      "INFO:watertap_ix_transport.transport_core.phreeqc_transport_engine:Direct PHREEQC simulation complete. Ca breakthrough at None BV\n"
     ]
    },
    {
     "name": "stdout",
     "output_type": "stream",
     "text": [
      "2025-07-24 22:53:08 [WARNING] idaes.watertap_ix_transport.ion_exchange_transport_0D: No breakthrough data for Ca_2+ in PHREEQC results\n"
     ]
    },
    {
     "name": "stderr",
     "output_type": "stream",
     "text": [
      "WARNING:idaes.watertap_ix_transport.ion_exchange_transport_0D:No breakthrough data for Ca_2+ in PHREEQC results\n"
     ]
    },
    {
     "name": "stdout",
     "output_type": "stream",
     "text": [
      "2025-07-24 22:53:08 [WARNING] idaes.watertap_ix_transport.ion_exchange_transport_0D: No breakthrough data for Mg_2+ in PHREEQC results\n"
     ]
    },
    {
     "name": "stderr",
     "output_type": "stream",
     "text": [
      "WARNING:idaes.watertap_ix_transport.ion_exchange_transport_0D:No breakthrough data for Mg_2+ in PHREEQC results\n"
     ]
    },
    {
     "name": "stdout",
     "output_type": "stream",
     "text": [
      "2025-07-24 22:53:08 [WARNING] idaes.watertap_ix_transport.ion_exchange_transport_0D: No breakthrough data for Na_+ in PHREEQC results\n"
     ]
    },
    {
     "name": "stderr",
     "output_type": "stream",
     "text": [
      "WARNING:idaes.watertap_ix_transport.ion_exchange_transport_0D:No breakthrough data for Na_+ in PHREEQC results\n"
     ]
    },
    {
     "name": "stderr",
     "output_type": "stream",
     "text": [
      "INFO:watertap_ix_transport.ion_exchange_transport_0D:Starting _update_removal_rates...\n"
     ]
    },
    {
     "name": "stderr",
     "output_type": "stream",
     "text": [
      "INFO:watertap_ix_transport.ion_exchange_transport_0D:Ion Ca_2+: inlet_flow=2.500000e-03 kg/s, removal_fraction=0.95, removal_rate=-2.375000e-03 kg/s\n"
     ]
    },
    {
     "name": "stderr",
     "output_type": "stream",
     "text": [
      "INFO:watertap_ix_transport.ion_exchange_transport_0D:Ion Mg_2+: inlet_flow=8.333333e-04 kg/s, removal_fraction=0.95, removal_rate=-7.916667e-04 kg/s\n"
     ]
    },
    {
     "name": "stderr",
     "output_type": "stream",
     "text": [
      "INFO:watertap_ix_transport.ion_exchange_transport_0D:Ion Na_+: inlet_flow=6.250000e-04 kg/s, removal_fraction=0.7, removal_rate=-4.375000e-04 kg/s\n"
     ]
    },
    {
     "name": "stderr",
     "output_type": "stream",
     "text": [
      "INFO:watertap_ix_transport.ion_exchange_transport_0D:Unfixing outlet flows...\n"
     ]
    },
    {
     "name": "stderr",
     "output_type": "stream",
     "text": [
      "INFO:watertap_ix_transport.ion_exchange_transport_0D:Fixing ion_removal_rate variables...\n"
     ]
    },
    {
     "name": "stderr",
     "output_type": "stream",
     "text": [
      "INFO:watertap_ix_transport.ion_exchange_transport_0D:Unfixed ion_removal_rate[H2O] = 0.000000e+00 kg/s (zero rate)\n"
     ]
    },
    {
     "name": "stderr",
     "output_type": "stream",
     "text": [
      "INFO:watertap_ix_transport.ion_exchange_transport_0D:Fixed ion_removal_rate[Ca_2+] = -2.375000e-03 kg/s\n"
     ]
    },
    {
     "name": "stderr",
     "output_type": "stream",
     "text": [
      "INFO:watertap_ix_transport.ion_exchange_transport_0D:Fixed ion_removal_rate[Mg_2+] = -7.916667e-04 kg/s\n"
     ]
    },
    {
     "name": "stderr",
     "output_type": "stream",
     "text": [
      "INFO:watertap_ix_transport.ion_exchange_transport_0D:Fixed ion_removal_rate[Na_+] = -4.375000e-04 kg/s\n"
     ]
    },
    {
     "name": "stderr",
     "output_type": "stream",
     "text": [
      "INFO:watertap_ix_transport.ion_exchange_transport_0D:Unfixed ion_removal_rate[Cl_-] = 0.000000e+00 kg/s (zero rate)\n"
     ]
    },
    {
     "name": "stderr",
     "output_type": "stream",
     "text": [
      "INFO:watertap_ix_transport.ion_exchange_transport_0D:Unfixed ion_removal_rate[HCO3_-] = 0.000000e+00 kg/s (zero rate)\n"
     ]
    },
    {
     "name": "stderr",
     "output_type": "stream",
     "text": [
      "INFO:watertap_ix_transport.ion_exchange_transport_0D:Fixed ion_removal_rate[H_+] = 2.043088e-04 kg/s\n"
     ]
    },
    {
     "name": "stderr",
     "output_type": "stream",
     "text": [
      "INFO:watertap_ix_transport.ion_exchange_transport_0D:Unfixed ion_removal_rate[OH_-] = 0.000000e+00 kg/s (zero rate)\n"
     ]
    },
    {
     "name": "stderr",
     "output_type": "stream",
     "text": [
      "INFO:watertap_ix_transport.ion_exchange_transport_0D:Ensuring mass_transfer_term variables are unfixed...\n"
     ]
    },
    {
     "name": "stderr",
     "output_type": "stream",
     "text": [
      "INFO:watertap_ix_transport.ion_exchange_transport_0D:Verifying eq_mass_transfer constraint exists...\n"
     ]
    },
    {
     "name": "stderr",
     "output_type": "stream",
     "text": [
      "INFO:watertap_ix_transport.ion_exchange_transport_0D:Found 8 active eq_mass_transfer constraints\n"
     ]
    },
    {
     "name": "stderr",
     "output_type": "stream",
     "text": [
      "INFO:watertap_ix_transport.ion_exchange_transport_0D:Fixing outlet mole fractions after IX calculations...\n"
     ]
    },
    {
     "name": "stderr",
     "output_type": "stream",
     "text": [
      "INFO:watertap_ix_transport.ion_exchange_transport_0D:Outlet water mole fraction: 0.500000\n"
     ]
    },
    {
     "name": "stdout",
     "output_type": "stream",
     "text": [
      "2025-07-24 22:53:08 [INFO] idaes.watertap_ix_transport.ion_exchange_transport_0D: PHREEQC performance calculation complete\n"
     ]
    },
    {
     "name": "stderr",
     "output_type": "stream",
     "text": [
      "INFO:idaes.watertap_ix_transport.ion_exchange_transport_0D:PHREEQC performance calculation complete\n"
     ]
    },
    {
     "name": "stdout",
     "output_type": "stream",
     "text": [
      "2025-07-24 22:53:08 [INFO] idaes.watertap_ix_transport.ion_exchange_transport_0D: Ca breakthrough: 100.0 BV\n"
     ]
    },
    {
     "name": "stderr",
     "output_type": "stream",
     "text": [
      "INFO:idaes.watertap_ix_transport.ion_exchange_transport_0D:Ca breakthrough: 100.0 BV\n"
     ]
    },
    {
     "name": "stdout",
     "output_type": "stream",
     "text": [
      "2025-07-24 22:53:08 [INFO] idaes.watertap_ix_transport.ion_exchange_transport_0D: Mg breakthrough: 100.0 BV\n"
     ]
    },
    {
     "name": "stderr",
     "output_type": "stream",
     "text": [
      "INFO:idaes.watertap_ix_transport.ion_exchange_transport_0D:Mg breakthrough: 100.0 BV\n"
     ]
    },
    {
     "name": "stdout",
     "output_type": "stream",
     "text": [
      "2025-07-24 22:53:08 [INFO] idaes.init.fs.ix_wac_h: Calculated service time: 4.5 hours\n"
     ]
    },
    {
     "name": "stdout",
     "output_type": "stream",
     "text": [
      "2025-07-24 22:53:08 [INFO] idaes.init.fs.ix_wac_h: Initialization Complete\n"
     ]
    },
    {
     "name": "stderr",
     "output_type": "stream",
     "text": [
      "INFO:__main__:  WAC_H initialized\n"
     ]
    },
    {
     "name": "stderr",
     "output_type": "stream",
     "text": [
      "INFO:__main__:  Calculating WAC_H PHREEQC performance...\n"
     ]
    },
    {
     "name": "stderr",
     "output_type": "stream",
     "text": [
      "INFO:watertap_ix_transport.ion_exchange_transport_0D:Ensuring correct mole fractions before PHREEQC calculations...\n"
     ]
    },
    {
     "name": "stderr",
     "output_type": "stream",
     "text": [
      "INFO:watertap_ix_transport.ion_exchange_transport_0D:Water mole fraction before PHREEQC: 0.999699\n"
     ]
    },
    {
     "name": "stderr",
     "output_type": "stream",
     "text": [
      "INFO:watertap_ix_transport.phreeqc_translator:Using flow_vol_phase: 2.0833333333e-02 m³/s (decimal: 0.020833333333333332)\n"
     ]
    },
    {
     "name": "stderr",
     "output_type": "stream",
     "text": [
      "INFO:watertap_ix_transport.phreeqc_translator:Water mass flow: 20.817917 kg/s\n"
     ]
    },
    {
     "name": "stderr",
     "output_type": "stream",
     "text": [
      "INFO:watertap_ix_transport.phreeqc_translator:Mass flow of Ca_2+: 0.002500 kg/s\n"
     ]
    },
    {
     "name": "stderr",
     "output_type": "stream",
     "text": [
      "INFO:watertap_ix_transport.phreeqc_translator:Mass flow of Mg_2+: 0.000833 kg/s\n"
     ]
    },
    {
     "name": "stderr",
     "output_type": "stream",
     "text": [
      "INFO:watertap_ix_transport.phreeqc_translator:Mass flow of Na_+: 0.000625 kg/s\n"
     ]
    },
    {
     "name": "stderr",
     "output_type": "stream",
     "text": [
      "INFO:watertap_ix_transport.phreeqc_translator:Mass flow of Cl_-: 0.003125 kg/s\n"
     ]
    },
    {
     "name": "stderr",
     "output_type": "stream",
     "text": [
      "INFO:watertap_ix_transport.phreeqc_translator:Mass flow of HCO3_-: 0.008333 kg/s\n"
     ]
    },
    {
     "name": "stderr",
     "output_type": "stream",
     "text": [
      "INFO:watertap_ix_transport.phreeqc_translator:Mass flow of H_+: 0.000000 kg/s\n"
     ]
    },
    {
     "name": "stderr",
     "output_type": "stream",
     "text": [
      "INFO:watertap_ix_transport.phreeqc_translator:Mass flow of OH_-: 0.000000 kg/s\n"
     ]
    },
    {
     "name": "stderr",
     "output_type": "stream",
     "text": [
      "INFO:watertap_ix_transport.phreeqc_translator:PHREEQC feed composition:\n"
     ]
    },
    {
     "name": "stderr",
     "output_type": "stream",
     "text": [
      "INFO:watertap_ix_transport.phreeqc_translator:  Temperature: 20.0 °C\n"
     ]
    },
    {
     "name": "stderr",
     "output_type": "stream",
     "text": [
      "INFO:watertap_ix_transport.phreeqc_translator:  pH: 6.00\n"
     ]
    },
    {
     "name": "stderr",
     "output_type": "stream",
     "text": [
      "INFO:watertap_ix_transport.phreeqc_translator:  Total TDS: 740.0 mg/L\n"
     ]
    },
    {
     "name": "stderr",
     "output_type": "stream",
     "text": [
      "INFO:watertap_ix_transport.phreeqc_translator:  Ca+2: 120.000 mg/L\n"
     ]
    },
    {
     "name": "stderr",
     "output_type": "stream",
     "text": [
      "INFO:watertap_ix_transport.phreeqc_translator:  Mg+2: 40.000 mg/L\n"
     ]
    },
    {
     "name": "stderr",
     "output_type": "stream",
     "text": [
      "INFO:watertap_ix_transport.phreeqc_translator:  Na+: 30.000 mg/L\n"
     ]
    },
    {
     "name": "stderr",
     "output_type": "stream",
     "text": [
      "INFO:watertap_ix_transport.phreeqc_translator:  Cl-: 150.000 mg/L\n"
     ]
    },
    {
     "name": "stderr",
     "output_type": "stream",
     "text": [
      "INFO:watertap_ix_transport.phreeqc_translator:  HCO3-: 400.000 mg/L\n"
     ]
    },
    {
     "name": "stderr",
     "output_type": "stream",
     "text": [
      "INFO:watertap_ix_transport.phreeqc_translator:  H+: 0.001 mg/L\n"
     ]
    },
    {
     "name": "stderr",
     "output_type": "stream",
     "text": [
      "INFO:watertap_ix_transport.phreeqc_translator:  OH-: 0.001 mg/L\n"
     ]
    },
    {
     "name": "stderr",
     "output_type": "stream",
     "text": [
      "INFO:watertap_ix_transport.transport_core.phreeqc_transport_engine:Using direct PHREEQC executable for simulation\n"
     ]
    },
    {
     "name": "stderr",
     "output_type": "stream",
     "text": [
      "INFO:watertap_ix_transport.transport_core.direct_phreeqc_engine:Using PHREEQC executable: C:\\Program Files\\USGS\\phreeqc-3.8.6-17100-x64\\bin\\phreeqc.bat\n"
     ]
    },
    {
     "name": "stderr",
     "output_type": "stream",
     "text": [
      "INFO:watertap_ix_transport.transport_core.phreeqc_transport_engine:Direct PHREEQC simulation complete. Ca breakthrough at None BV\n"
     ]
    },
    {
     "name": "stdout",
     "output_type": "stream",
     "text": [
      "2025-07-24 22:53:13 [WARNING] idaes.watertap_ix_transport.ion_exchange_transport_0D: No breakthrough data for Ca_2+ in PHREEQC results\n"
     ]
    },
    {
     "name": "stderr",
     "output_type": "stream",
     "text": [
      "WARNING:idaes.watertap_ix_transport.ion_exchange_transport_0D:No breakthrough data for Ca_2+ in PHREEQC results\n"
     ]
    },
    {
     "name": "stdout",
     "output_type": "stream",
     "text": [
      "2025-07-24 22:53:14 [WARNING] idaes.watertap_ix_transport.ion_exchange_transport_0D: No breakthrough data for Mg_2+ in PHREEQC results\n"
     ]
    },
    {
     "name": "stderr",
     "output_type": "stream",
     "text": [
      "WARNING:idaes.watertap_ix_transport.ion_exchange_transport_0D:No breakthrough data for Mg_2+ in PHREEQC results\n"
     ]
    },
    {
     "name": "stdout",
     "output_type": "stream",
     "text": [
      "2025-07-24 22:53:14 [WARNING] idaes.watertap_ix_transport.ion_exchange_transport_0D: No breakthrough data for Na_+ in PHREEQC results\n"
     ]
    },
    {
     "name": "stderr",
     "output_type": "stream",
     "text": [
      "WARNING:idaes.watertap_ix_transport.ion_exchange_transport_0D:No breakthrough data for Na_+ in PHREEQC results\n"
     ]
    },
    {
     "name": "stderr",
     "output_type": "stream",
     "text": [
      "INFO:watertap_ix_transport.ion_exchange_transport_0D:Starting _update_removal_rates...\n"
     ]
    },
    {
     "name": "stderr",
     "output_type": "stream",
     "text": [
      "INFO:watertap_ix_transport.ion_exchange_transport_0D:Ion Ca_2+: inlet_flow=2.500000e-03 kg/s, removal_fraction=0.95, removal_rate=-2.375000e-03 kg/s\n"
     ]
    },
    {
     "name": "stderr",
     "output_type": "stream",
     "text": [
      "INFO:watertap_ix_transport.ion_exchange_transport_0D:Ion Mg_2+: inlet_flow=8.333333e-04 kg/s, removal_fraction=0.95, removal_rate=-7.916667e-04 kg/s\n"
     ]
    },
    {
     "name": "stderr",
     "output_type": "stream",
     "text": [
      "INFO:watertap_ix_transport.ion_exchange_transport_0D:Ion Na_+: inlet_flow=6.250000e-04 kg/s, removal_fraction=0.7, removal_rate=-4.375000e-04 kg/s\n"
     ]
    },
    {
     "name": "stderr",
     "output_type": "stream",
     "text": [
      "INFO:watertap_ix_transport.ion_exchange_transport_0D:Unfixing outlet flows...\n"
     ]
    },
    {
     "name": "stderr",
     "output_type": "stream",
     "text": [
      "INFO:watertap_ix_transport.ion_exchange_transport_0D:Fixing ion_removal_rate variables...\n"
     ]
    },
    {
     "name": "stderr",
     "output_type": "stream",
     "text": [
      "INFO:watertap_ix_transport.ion_exchange_transport_0D:Unfixed ion_removal_rate[H2O] = 0.000000e+00 kg/s (zero rate)\n"
     ]
    },
    {
     "name": "stderr",
     "output_type": "stream",
     "text": [
      "INFO:watertap_ix_transport.ion_exchange_transport_0D:Fixed ion_removal_rate[Ca_2+] = -2.375000e-03 kg/s\n"
     ]
    },
    {
     "name": "stderr",
     "output_type": "stream",
     "text": [
      "INFO:watertap_ix_transport.ion_exchange_transport_0D:Fixed ion_removal_rate[Mg_2+] = -7.916667e-04 kg/s\n"
     ]
    },
    {
     "name": "stderr",
     "output_type": "stream",
     "text": [
      "INFO:watertap_ix_transport.ion_exchange_transport_0D:Fixed ion_removal_rate[Na_+] = -4.375000e-04 kg/s\n"
     ]
    },
    {
     "name": "stderr",
     "output_type": "stream",
     "text": [
      "INFO:watertap_ix_transport.ion_exchange_transport_0D:Unfixed ion_removal_rate[Cl_-] = 0.000000e+00 kg/s (zero rate)\n"
     ]
    },
    {
     "name": "stderr",
     "output_type": "stream",
     "text": [
      "INFO:watertap_ix_transport.ion_exchange_transport_0D:Unfixed ion_removal_rate[HCO3_-] = 0.000000e+00 kg/s (zero rate)\n"
     ]
    },
    {
     "name": "stderr",
     "output_type": "stream",
     "text": [
      "INFO:watertap_ix_transport.ion_exchange_transport_0D:Fixed ion_removal_rate[H_+] = 2.043088e-04 kg/s\n"
     ]
    },
    {
     "name": "stderr",
     "output_type": "stream",
     "text": [
      "INFO:watertap_ix_transport.ion_exchange_transport_0D:Unfixed ion_removal_rate[OH_-] = 0.000000e+00 kg/s (zero rate)\n"
     ]
    },
    {
     "name": "stderr",
     "output_type": "stream",
     "text": [
      "INFO:watertap_ix_transport.ion_exchange_transport_0D:Ensuring mass_transfer_term variables are unfixed...\n"
     ]
    },
    {
     "name": "stderr",
     "output_type": "stream",
     "text": [
      "INFO:watertap_ix_transport.ion_exchange_transport_0D:Verifying eq_mass_transfer constraint exists...\n"
     ]
    },
    {
     "name": "stderr",
     "output_type": "stream",
     "text": [
      "INFO:watertap_ix_transport.ion_exchange_transport_0D:Found 8 active eq_mass_transfer constraints\n"
     ]
    },
    {
     "name": "stderr",
     "output_type": "stream",
     "text": [
      "INFO:watertap_ix_transport.ion_exchange_transport_0D:Fixing outlet mole fractions after IX calculations...\n"
     ]
    },
    {
     "name": "stderr",
     "output_type": "stream",
     "text": [
      "INFO:watertap_ix_transport.ion_exchange_transport_0D:Outlet water mole fraction: 0.092192\n"
     ]
    },
    {
     "name": "stdout",
     "output_type": "stream",
     "text": [
      "2025-07-24 22:53:14 [INFO] idaes.watertap_ix_transport.ion_exchange_transport_0D: PHREEQC performance calculation complete\n"
     ]
    },
    {
     "name": "stderr",
     "output_type": "stream",
     "text": [
      "INFO:idaes.watertap_ix_transport.ion_exchange_transport_0D:PHREEQC performance calculation complete\n"
     ]
    },
    {
     "name": "stdout",
     "output_type": "stream",
     "text": [
      "2025-07-24 22:53:14 [INFO] idaes.watertap_ix_transport.ion_exchange_transport_0D: Ca breakthrough: 100.0 BV\n"
     ]
    },
    {
     "name": "stderr",
     "output_type": "stream",
     "text": [
      "INFO:idaes.watertap_ix_transport.ion_exchange_transport_0D:Ca breakthrough: 100.0 BV\n"
     ]
    },
    {
     "name": "stdout",
     "output_type": "stream",
     "text": [
      "2025-07-24 22:53:14 [INFO] idaes.watertap_ix_transport.ion_exchange_transport_0D: Mg breakthrough: 100.0 BV\n"
     ]
    },
    {
     "name": "stderr",
     "output_type": "stream",
     "text": [
      "INFO:idaes.watertap_ix_transport.ion_exchange_transport_0D:Mg breakthrough: 100.0 BV\n"
     ]
    },
    {
     "name": "stderr",
     "output_type": "stream",
     "text": [
      "INFO:__main__:  Solving WAC_H to propagate mass transfer...\n"
     ]
    },
    {
     "name": "stderr",
     "output_type": "stream",
     "text": [
      "WARNING:pyomo.core:Loading a SolverResults object with a warning status into model.name=\"fs.ix_wac_h\";\n",
      "  - termination condition: infeasible\n",
      "  - message from solver: Ipopt 3.13.2\\x3a Converged to a locally infeasible point. Problem may be infeasible.\n"
     ]
    },
    {
     "name": "stderr",
     "output_type": "stream",
     "text": [
      "WARNING:__main__:  WAC_H solve terminated with: infeasible\n"
     ]
    },
    {
     "name": "stderr",
     "output_type": "stream",
     "text": [
      "INFO:__main__:  WAC_H Ca: 167508.0 → 167507.9 mg/L\n"
     ]
    },
    {
     "name": "stderr",
     "output_type": "stream",
     "text": [
      "INFO:__main__:  WAC_H Mg: 129753.4 → 129753.4 mg/L\n"
     ]
    },
    {
     "name": "stderr",
     "output_type": "stream",
     "text": [
      "INFO:__main__:  WAC_H removal: Ca 0.0%, Mg -0.0%\n"
     ]
    },
    {
     "name": "stderr",
     "output_type": "stream",
     "text": [
      "INFO:__main__:Initializing product stream...\n"
     ]
    },
    {
     "name": "stdout",
     "output_type": "stream",
     "text": [
      "2025-07-24 22:53:14 [INFO] idaes.init.fs.product: Initialization Complete.\n"
     ]
    },
    {
     "name": "stderr",
     "output_type": "stream",
     "text": [
      "INFO:__main__:\n",
      "Overall hardness removal:\n"
     ]
    },
    {
     "name": "stderr",
     "output_type": "stream",
     "text": [
      "INFO:__main__:  Ca: 120.0 → 10000.0 mg/L (-8233.3% removal)\n"
     ]
    },
    {
     "name": "stderr",
     "output_type": "stream",
     "text": [
      "INFO:__main__:  Mg: 40.0 → 10000.0 mg/L (-24900.0% removal)\n"
     ]
    },
    {
     "name": "stderr",
     "output_type": "stream",
     "text": [
      "ERROR:__main__:ERROR: Product hardness is higher than feed!\n"
     ]
    },
    {
     "name": "stderr",
     "output_type": "stream",
     "text": [
      "INFO:__main__:\n",
      "Degrees of freedom after initialization: 1\n"
     ]
    },
    {
     "name": "stderr",
     "output_type": "stream",
     "text": [
      "WARNING:__main__:Model has 1 degrees of freedom - checking for unspecified variables\n"
     ]
    },
    {
     "name": "stderr",
     "output_type": "stream",
     "text": [
      "INFO:__main__:Fixed service time for WAC_H: 24 hours\n"
     ]
    },
    {
     "name": "stderr",
     "output_type": "stream",
     "text": [
      "INFO:__main__:Degrees of freedom after fixing variables: 0\n"
     ]
    },
    {
     "name": "stderr",
     "output_type": "stream",
     "text": [
      "INFO:__main__:\n",
      "Solving full model...\n"
     ]
    },
    {
     "name": "stdout",
     "output_type": "stream",
     "text": [
      "Ipopt 3.13.2: nlp_scaling_method=gradient-based\n",
      "tol=1e-06\n",
      "max_iter=100\n",
      "constr_viol_tol=1e-06\n"
     ]
    },
    {
     "name": "stdout",
     "output_type": "stream",
     "text": [
      "\n",
      "\n",
      "******************************************************************************\n",
      "This program contains Ipopt, a library for large-scale nonlinear optimization.\n",
      " Ipopt is released as open source code under the Eclipse Public License (EPL).\n",
      "         For more information visit http://projects.coin-or.org/Ipopt\n",
      "\n",
      "This version of Ipopt was compiled from source code available at\n",
      "    https://github.com/IDAES/Ipopt as part of the Institute for the Design of\n",
      "    Advanced Energy Systems Process Systems Engineering Framework (IDAES PSE\n",
      "    Framework) Copyright (c) 2018-2019. See https://github.com/IDAES/idaes-pse.\n",
      "\n",
      "This version of Ipopt was compiled using HSL, a collection of Fortran codes\n",
      "    for large-scale scientific computation.  All technical papers, sales and\n",
      "    publicity material resulting from use of the HSL codes within IPOPT must\n",
      "    contain the following acknowledgement:\n",
      "        HSL, a collection of Fortran codes for large-scale scientific\n",
      "        computation. See http://www.hsl.rl.ac.uk.\n",
      "******************************************************************************\n",
      "\n",
      "This is Ipopt version 3.13.2, running with linear solver ma27.\n",
      "\n",
      "Number of nonzeros in equality constraint Jacobian...:      673\n",
      "Number of nonzeros in inequality constraint Jacobian.:        0\n",
      "Number of nonzeros in Lagrangian Hessian.............:      261\n",
      "\n",
      "Total number of variables............................:      163\n",
      "                     variables with only lower bounds:       52\n",
      "                variables with lower and upper bounds:      102\n",
      "                     variables with only upper bounds:        0\n",
      "Total number of equality constraints.................:      163\n",
      "Total number of inequality constraints...............:        0\n",
      "        inequality constraints with only lower bounds:        0\n",
      "   inequality constraints with lower and upper bounds:        0\n",
      "        inequality constraints with only upper bounds:        0\n",
      "\n",
      "iter    objective    inf_pr   inf_du lg(mu)  ||d||  lg(rg) alpha_du alpha_pr  ls\n",
      "   0  0.0000000e+00 1.31e+05 1.00e+00  -1.0 0.00e+00    -  0.00e+00 0.00e+00   0\n",
      "   1  0.0000000e+00 1.30e+05 2.84e+03  -1.0 8.92e+05    -  7.42e-03 3.63e-03h  1\n",
      "   2  0.0000000e+00 1.30e+05 2.89e+03  -1.0 5.04e+05    -  1.92e-02 6.42e-05h  1\n",
      "   3  0.0000000e+00 1.29e+05 4.65e+04  -1.0 3.18e+05    -  5.36e-02 8.21e-03h  1\n",
      "   4  0.0000000e+00 1.22e+05 2.32e+06  -1.0 3.16e+05    -  6.74e-02 5.75e-02h  1\n",
      "   5  0.0000000e+00 1.12e+05 7.86e+06  -1.0 2.98e+05    -  1.33e-01 8.50e-02h  1\n",
      "   6  0.0000000e+00 5.06e+04 5.77e+08  -1.0 2.72e+05    -  2.37e-01 5.46e-01h  1\n",
      "   7  0.0000000e+00 5.00e+04 5.72e+08  -1.0 1.24e+05    -  1.72e-01 1.20e-02h  1\n",
      "   8  0.0000000e+00 5.00e+04 5.72e+08  -1.0 1.22e+05    -  9.76e-01 1.22e-04h  1\n",
      "   9r 0.0000000e+00 5.00e+04 1.00e+03   4.7 0.00e+00    -  0.00e+00 3.42e-07R  3\n",
      "iter    objective    inf_pr   inf_du lg(mu)  ||d||  lg(rg) alpha_du alpha_pr  ls\n",
      "  10r 0.0000000e+00 5.00e+04 9.45e+04   4.7 4.20e+04    -  8.37e-03 3.72e-04f  1\n",
      "  11r 0.0000000e+00 4.99e+04 4.69e+04   2.6 5.78e+03    -  9.90e-01 5.01e-01f  1\n",
      "  12r 0.0000000e+00 4.98e+04 3.06e+04   1.9 5.83e+04    -  5.24e-01 3.46e-01f  1\n",
      "  13r 0.0000000e+00 4.98e+04 2.74e+04   1.9 7.79e+00   2.0 4.96e-01 8.51e-01f  1\n",
      "  14r 0.0000000e+00 4.98e+04 8.88e+03   1.9 1.67e+01   1.5 9.78e-01 7.37e-01f  1\n",
      "  15r 0.0000000e+00 4.98e+04 1.98e+04   1.9 1.15e+05    -  5.24e-01 8.61e-02f  1\n",
      "  16r 0.0000000e+00 4.98e+04 2.25e+04   1.9 1.03e+05    -  2.37e-01 1.02e-02f  1\n",
      "  17r 0.0000000e+00 4.98e+04 2.76e+04   1.9 9.71e+04    -  9.92e-01 1.03e-01f  1\n",
      "  18r 0.0000000e+00 4.97e+04 2.22e+04   1.9 7.84e+04    -  6.82e-01 4.84e-02f  1\n",
      "  19r 0.0000000e+00 4.95e+04 1.16e+04   1.9 6.99e+04    -  1.00e+00 2.08e-01f  1\n",
      "iter    objective    inf_pr   inf_du lg(mu)  ||d||  lg(rg) alpha_du alpha_pr  ls\n",
      "  20r 0.0000000e+00 4.93e+04 9.38e+03   1.9 4.80e+04    -  1.00e+00 1.24e-01f  1\n",
      "  21r 0.0000000e+00 4.90e+04 9.09e+03   1.9 4.10e+04    -  1.00e+00 4.56e-01f  1\n",
      "  22r 0.0000000e+00 4.89e+04 2.33e+04   1.9 1.95e+04    -  1.00e+00 1.36e-01f  1\n",
      "  23r 0.0000000e+00 4.87e+04 2.24e+04   1.9 1.68e+04    -  1.00e+00 3.50e-01f  1\n",
      "  24r 0.0000000e+00 4.85e+04 6.30e+02   1.9 1.08e+04    -  1.00e+00 9.76e-01f  1\n",
      "  25r 0.0000000e+00 4.90e+04 9.65e+02   0.5 7.19e+02    -  6.31e-01 7.66e-01f  1\n",
      "  26r 0.0000000e+00 4.90e+04 8.58e+02   0.5 2.57e+05    -  1.92e-02 9.65e-03f  1\n",
      "  27r 0.0000000e+00 4.90e+04 6.03e+02   0.5 1.87e+05    -  5.39e-02 2.69e-03f  1\n",
      "  28r 0.0000000e+00 4.90e+04 1.12e+03   0.5 9.89e+04    -  6.16e-02 3.38e-02f  1\n",
      "  29r 0.0000000e+00 4.90e+04 1.08e+03   0.5 2.61e+04    -  9.77e-02 3.75e-02f  1\n",
      "iter    objective    inf_pr   inf_du lg(mu)  ||d||  lg(rg) alpha_du alpha_pr  ls\n",
      "  30r 0.0000000e+00 4.91e+04 2.05e+03   0.5 2.51e+04    -  5.57e-01 3.61e-01f  1\n",
      "  31r 0.0000000e+00 4.92e+04 4.48e+02   0.5 1.61e+04    -  1.00e+00 9.24e-01f  1\n",
      "  32r 0.0000000e+00 4.93e+04 3.79e+02   0.5 1.20e+03    -  6.62e-01 1.00e+00f  1\n",
      "  33r 0.0000000e+00 4.93e+04 6.74e-05   0.5 1.02e+01    -  1.00e+00 1.00e+00f  1\n",
      "  34r 0.0000000e+00 4.96e+04 1.35e+02  -1.6 3.39e+02    -  9.20e-01 7.54e-01f  1\n",
      "  35r 0.0000000e+00 4.96e+04 1.59e+02  -1.6 3.50e+05    -  1.57e-01 9.85e-02f  1\n",
      "  36r 0.0000000e+00 4.96e+04 1.53e+02  -1.6 3.15e+05    -  5.79e-02 5.24e-02f  1\n",
      "  37r 0.0000000e+00 4.96e+04 9.53e+01  -1.6 3.00e+05    -  3.25e-02 1.16e-01f  1\n",
      "  38r 0.0000000e+00 4.96e+04 5.31e+02  -1.6 3.70e-01   1.0 1.50e-01 4.51e-01f  1\n",
      "  39r 0.0000000e+00 4.96e+04 5.28e+02  -1.6 5.35e+05    -  3.24e-03 3.92e-03f  1\n",
      "iter    objective    inf_pr   inf_du lg(mu)  ||d||  lg(rg) alpha_du alpha_pr  ls\n",
      "  40r 0.0000000e+00 4.96e+04 4.14e+02  -1.6 5.67e-01   0.6 8.15e-01 5.63e-01f  1\n",
      "  41r 0.0000000e+00 4.96e+04 2.33e+02  -1.6 2.62e+03    -  2.74e-01 8.10e-03f  1\n",
      "  42r 0.0000000e+00 4.96e+04 2.09e+02  -1.6 1.73e+03    -  6.25e-01 2.98e-01f  1\n",
      "  43r 0.0000000e+00 4.97e+04 3.46e+02  -1.6 1.21e+03    -  1.00e+00 2.64e-01f  1\n",
      "  44r 0.0000000e+00 4.97e+04 8.36e+02  -1.6 8.92e+02    -  1.00e+00 1.32e-02f  1\n",
      "  45r 0.0000000e+00 4.97e+04 8.88e+02  -1.6 8.80e+02    -  1.00e+00 2.26e-01f  1\n",
      "  46r 0.0000000e+00 4.98e+04 8.63e+00  -1.6 6.82e+02    -  1.00e+00 9.91e-01f  1\n",
      "  47r 0.0000000e+00 4.98e+04 3.54e-05  -1.6 6.45e+00    -  1.00e+00 1.00e+00h  1\n",
      "  48r 0.0000000e+00 4.99e+04 6.94e+01  -3.6 1.02e+02    -  9.74e-01 6.85e-01f  1\n",
      "  49r 0.0000000e+00 4.99e+04 7.53e+01  -3.6 2.18e+04    -  1.04e-01 3.54e-02f  1\n",
      "iter    objective    inf_pr   inf_du lg(mu)  ||d||  lg(rg) alpha_du alpha_pr  ls\n",
      "  50r 0.0000000e+00 4.99e+04 1.30e+02  -3.6 2.10e+04    -  1.97e-01 3.00e-05f  1\n",
      "  51r 0.0000000e+00 4.99e+04 3.69e+02  -3.6 2.10e+04    -  4.12e-01 6.27e-02f  1\n",
      "  52r 0.0000000e+00 4.99e+04 4.83e+02  -3.6 1.97e+04    -  3.13e-01 3.00e-02f  1\n",
      "  53r 0.0000000e+00 4.99e+04 6.43e+02  -3.6 1.91e+04    -  5.28e-01 7.74e-04f  1\n",
      "  54r 0.0000000e+00 4.99e+04 6.10e+02  -3.6 1.91e+04    -  1.00e+00 2.26e-01f  1\n",
      "  55r 0.0000000e+00 4.99e+04 6.09e+02  -3.6 1.84e+03    -  1.00e+00 6.15e-04f  1\n",
      "  56r 0.0000000e+00 4.99e+04 5.92e+01  -3.6 5.78e+01    -  1.00e+00 9.03e-01f  1\n",
      "  57r 0.0000000e+00 4.99e+04 8.71e+00  -3.6 8.08e+00    -  1.00e+00 9.76e-01f  1\n",
      "  58r 0.0000000e+00 4.99e+04 5.77e-07  -3.6 3.43e-01    -  1.00e+00 1.00e+00f  1\n",
      "  59r 0.0000000e+00 5.00e+04 2.03e+01  -5.4 3.23e+01    -  1.00e+00 8.58e-01f  1\n",
      "iter    objective    inf_pr   inf_du lg(mu)  ||d||  lg(rg) alpha_du alpha_pr  ls\n",
      "  60r 0.0000000e+00 5.00e+04 1.07e+02  -5.4 2.97e+00    -  1.00e+00 6.87e-01f  1\n",
      "  61r 0.0000000e+00 5.00e+04 8.49e-05  -5.4 1.05e+01    -  1.00e+00 1.00e+00f  1\n",
      "  62r 0.0000000e+00 5.00e+04 8.64e+01  -7.0 1.25e+01    -  1.00e+00 6.80e-01f  1\n",
      "  63r 0.0000000e+00 5.00e+04 5.90e+01  -7.0 1.96e+00    -  9.28e-01 7.50e-01f  1\n",
      "\n",
      "Number of Iterations....: 63\n",
      "\n",
      "                                   (scaled)                 (unscaled)\n",
      "Objective...............:   0.0000000000000000e+00    0.0000000000000000e+00\n",
      "Dual infeasibility......:   3.9419564080783792e-03    3.9419564080783792e-03\n",
      "Constraint violation....:   4.9988986360330658e+04    4.9988986360330658e+04\n",
      "Complementarity.........:   1.2378108582806902e-07    1.2378108582806902e-07\n",
      "Overall NLP error.......:   4.9988986360330658e+04    4.9988986360330658e+04\n",
      "\n",
      "\n",
      "Number of objective function evaluations             = 68\n",
      "Number of objective gradient evaluations             = 11\n",
      "Number of equality constraint evaluations            = 68\n",
      "Number of inequality constraint evaluations          = 0\n",
      "Number of equality constraint Jacobian evaluations   = 66\n",
      "Number of inequality constraint Jacobian evaluations = 0\n",
      "Number of Lagrangian Hessian evaluations             = 64\n",
      "Total CPU secs in IPOPT (w/o function evaluations)   =      0.062\n",
      "Total CPU secs in NLP function evaluations           =      0.002\n",
      "\n",
      "EXIT: Converged to a point of local infeasibility. Problem may be infeasible.\n"
     ]
    },
    {
     "name": "stderr",
     "output_type": "stream",
     "text": [
      "WARNING:pyomo.core:Loading a SolverResults object with a warning status into model.name=\"unknown\";\n",
      "  - termination condition: infeasible\n",
      "  - message from solver: Ipopt 3.13.2\\x3a Converged to a locally infeasible point. Problem may be infeasible.\n"
     ]
    },
    {
     "name": "stderr",
     "output_type": "stream",
     "text": [
      "WARNING:__main__:Solver terminated with: infeasible\n"
     ]
    }
   ],
   "source": [
    "# Initialize the flowsheet with consistent 3-step pattern\n",
    "logger.info(\"Initializing flowsheet...\")\n",
    "\n",
    "try:\n",
    "    import idaes.logger as idaeslog\n",
    "    \n",
    "    # Initialize feed\n",
    "    logger.info(\"Initializing feed...\")\n",
    "    m.fs.feed.initialize(outlvl=idaeslog.NOTSET)\n",
    "    \n",
    "    # Re-apply mole fraction fix after feed initialization to ensure correctness\n",
    "    if hasattr(m.fs.properties, 'material_flow_basis'):\n",
    "        from watertap_ix_transport.utilities.property_calculations import fix_mole_fractions\n",
    "        fix_mole_fractions(m.fs.feed.properties[0])\n",
    "        \n",
    "        # Validate feed water mole fraction\n",
    "        feed_water_mol_frac = value(m.fs.feed.properties[0].mole_frac_phase_comp['Liq', 'H2O'])\n",
    "        logger.info(f\"Feed water mole fraction after init: {feed_water_mol_frac:.6f}\")\n",
    "        if feed_water_mol_frac < 0.95:\n",
    "            logger.error(f\"ERROR: Feed water mole fraction too low: {feed_water_mol_frac:.6f}\")\n",
    "            raise ValueError(\"Feed initialization produced invalid water mole fraction\")\n",
    "    \n",
    "    # Initialize units in sequence\n",
    "    arc_counter = 0\n",
    "    \n",
    "    # Initialize IX units with consistent 3-step pattern\n",
    "    for i, (vessel_name, ix_unit) in enumerate(ix_units.items()):\n",
    "        logger.info(f\"Initializing {vessel_name}...\")\n",
    "        \n",
    "        # Propagate state through arc\n",
    "        arc_name = f\"arc_{arc_counter}\"\n",
    "        if hasattr(m.fs, arc_name):\n",
    "            propagate_state(getattr(m.fs, arc_name))\n",
    "            arc_counter += 1\n",
    "        \n",
    "        # STEP 1: Initialize IX unit\n",
    "        ix_unit.initialize(outlvl=idaeslog.NOTSET)\n",
    "        logger.info(f\"  {vessel_name} initialized\")\n",
    "        \n",
    "        # STEP 2: Calculate PHREEQC performance (ALWAYS)\n",
    "        logger.info(f\"  Calculating {vessel_name} PHREEQC performance...\")\n",
    "        ix_unit.calculate_performance()\n",
    "        \n",
    "        # STEP 3: Solve to propagate mass transfer\n",
    "        logger.info(f\"  Solving {vessel_name} to propagate mass transfer...\")\n",
    "        solver = get_solver()\n",
    "        solver.options['tol'] = 1e-6\n",
    "        results = solver.solve(ix_unit, tee=False)\n",
    "        \n",
    "        if results.solver.termination_condition == 'optimal':\n",
    "            logger.info(f\"  {vessel_name} mass transfer propagated successfully\")\n",
    "        else:\n",
    "            logger.warning(f\"  {vessel_name} solve terminated with: {results.solver.termination_condition}\")\n",
    "        \n",
    "        # Validate hardness reduction\n",
    "        inlet_ca = value(ix_unit.control_volume.properties_in[0].conc_mass_phase_comp['Liq', 'Ca_2+']) * 1000\n",
    "        outlet_ca = value(ix_unit.control_volume.properties_out[0].conc_mass_phase_comp['Liq', 'Ca_2+']) * 1000\n",
    "        inlet_mg = value(ix_unit.control_volume.properties_in[0].conc_mass_phase_comp['Liq', 'Mg_2+']) * 1000\n",
    "        outlet_mg = value(ix_unit.control_volume.properties_out[0].conc_mass_phase_comp['Liq', 'Mg_2+']) * 1000\n",
    "        \n",
    "        logger.info(f\"  {vessel_name} Ca: {inlet_ca:.1f} → {outlet_ca:.1f} mg/L\")\n",
    "        logger.info(f\"  {vessel_name} Mg: {inlet_mg:.1f} → {outlet_mg:.1f} mg/L\")\n",
    "        \n",
    "        # Check for correct ion exchange behavior\n",
    "        if outlet_ca > inlet_ca * 1.05 or outlet_mg > inlet_mg * 1.05:\n",
    "            logger.error(f\"  ERROR: Hardness increased across {vessel_name}!\")\n",
    "        else:\n",
    "            ca_removal = (inlet_ca - outlet_ca) / inlet_ca * 100 if inlet_ca > 0 else 0\n",
    "            mg_removal = (inlet_mg - outlet_mg) / inlet_mg * 100 if inlet_mg > 0 else 0\n",
    "            logger.info(f\"  {vessel_name} removal: Ca {ca_removal:.1f}%, Mg {mg_removal:.1f}%\")\n",
    "    \n",
    "    # Initialize degasser if present\n",
    "    if degasser_unit:\n",
    "        logger.info(\"Initializing degasser...\")\n",
    "        \n",
    "        # Propagate to degasser\n",
    "        if hasattr(m.fs, 'arc_to_degasser'):\n",
    "            propagate_state(m.fs.arc_to_degasser)\n",
    "        \n",
    "        # Initialize degasser\n",
    "        degasser_unit.initialize(outlvl=idaeslog.NOTSET)\n",
    "        logger.info(\"  Degasser initialized successfully\")\n",
    "    \n",
    "    # Initialize product\n",
    "    logger.info(\"Initializing product stream...\")\n",
    "    if hasattr(m.fs, 'arc_to_product'):\n",
    "        propagate_state(m.fs.arc_to_product)\n",
    "    m.fs.product.initialize(outlvl=idaeslog.NOTSET)\n",
    "    \n",
    "    # Final validation - check product water\n",
    "    product_state = m.fs.product.properties[0]\n",
    "    \n",
    "    # Final hardness check\n",
    "    product_ca = value(product_state.conc_mass_phase_comp['Liq', 'Ca_2+']) * 1000\n",
    "    product_mg = value(product_state.conc_mass_phase_comp['Liq', 'Mg_2+']) * 1000\n",
    "    feed_ca = water_analysis['ion_concentrations_mg_L'].get('Ca_2+', 0)\n",
    "    feed_mg = water_analysis['ion_concentrations_mg_L'].get('Mg_2+', 0)\n",
    "    \n",
    "    logger.info(f\"\\nOverall hardness removal:\")\n",
    "    logger.info(f\"  Ca: {feed_ca:.1f} → {product_ca:.1f} mg/L ({(1-product_ca/feed_ca)*100:.1f}% removal)\")\n",
    "    logger.info(f\"  Mg: {feed_mg:.1f} → {product_mg:.1f} mg/L ({(1-product_mg/feed_mg)*100:.1f}% removal)\")\n",
    "    \n",
    "    if product_ca > feed_ca or product_mg > feed_mg:\n",
    "        logger.error(\"ERROR: Product hardness is higher than feed!\")\n",
    "    else:\n",
    "        logger.info(\"✓ Ion exchange model is working correctly - hardness removed\")\n",
    "    \n",
    "    # Check degrees of freedom\n",
    "    dof = degrees_of_freedom(m)\n",
    "    logger.info(f\"\\nDegrees of freedom after initialization: {dof}\")\n",
    "    \n",
    "    if dof != 0:\n",
    "        logger.warning(f\"Model has {dof} degrees of freedom - checking for unspecified variables\")\n",
    "        \n",
    "        # Common missing specifications for IX models\n",
    "        for unit_name, ix_unit in ix_units.items():\n",
    "            # Check if service_time needs to be fixed\n",
    "            if hasattr(ix_unit, 'service_time') and not ix_unit.service_time.fixed:\n",
    "                # Set 24 hour service time as default\n",
    "                ix_unit.service_time.fix(24)  # hours\n",
    "                logger.info(f\"Fixed service time for {unit_name}: 24 hours\")\n",
    "            \n",
    "            # Check if regenerant_dose needs fixing\n",
    "            if hasattr(ix_unit, 'regenerant_dose') and not ix_unit.regenerant_dose.fixed:\n",
    "                resin_type = ix_vessels[unit_name]['resin_type']\n",
    "                if resin_type == 'SAC':\n",
    "                    dose = 120  # kg/m³\n",
    "                elif resin_type == 'WAC_H':\n",
    "                    dose = 80\n",
    "                else:  # WAC_Na\n",
    "                    dose = 60\n",
    "                ix_unit.regenerant_dose.fix(dose)\n",
    "                logger.info(f\"Fixed regenerant dose for {unit_name}: {dose} kg/m³\")\n",
    "        \n",
    "        # Re-check DOF\n",
    "        dof = degrees_of_freedom(m)\n",
    "        logger.info(f\"Degrees of freedom after fixing variables: {dof}\")\n",
    "    \n",
    "    # Solve the full model (not individual units)\n",
    "    logger.info(\"\\nSolving full model...\")\n",
    "    solver = get_solver()\n",
    "    \n",
    "    # Use appropriate solver settings for IX models\n",
    "    solver.options['tol'] = 1e-6\n",
    "    solver.options['constr_viol_tol'] = 1e-6\n",
    "    solver.options['max_iter'] = 100\n",
    "    \n",
    "    results = solver.solve(m, tee=True)\n",
    "    \n",
    "    # Check solver status\n",
    "    from pyomo.opt import TerminationCondition\n",
    "    if results.solver.termination_condition == TerminationCondition.optimal:\n",
    "        logger.info(\"Model solved successfully!\")\n",
    "        solve_status = \"success\"\n",
    "        \n",
    "        # Report key results\n",
    "        for vessel_name, ix_unit in ix_units.items():\n",
    "            if hasattr(ix_unit, 'breakthrough_time'):\n",
    "                bt_hours = value(ix_unit.breakthrough_time)  # Already in hours\n",
    "                logger.info(f\"  {vessel_name} breakthrough: {bt_hours:.1f} hours\")\n",
    "            if hasattr(ix_unit, 'service_time'):\n",
    "                st_hours = value(ix_unit.service_time)\n",
    "                logger.info(f\"  {vessel_name} service time: {st_hours:.1f} hours\")\n",
    "    else:\n",
    "        logger.warning(f\"Solver terminated with: {results.solver.termination_condition}\")\n",
    "        solve_status = \"partial_success\"\n",
    "        \n",
    "except Exception as e:\n",
    "    logger.error(f\"Error during initialization/solve: {str(e)}\")\n",
    "    import traceback\n",
    "    traceback.print_exc()\n",
    "    solve_status = \"error\"\n",
    "    error_message = str(e)"
   ]
  },
  {
   "cell_type": "code",
   "execution_count": 8,
   "id": "c4c9399d",
   "metadata": {
    "execution": {
     "iopub.execute_input": "2025-07-25T02:53:14.306924Z",
     "iopub.status.busy": "2025-07-25T02:53:14.305596Z",
     "iopub.status.idle": "2025-07-25T02:53:14.339703Z",
     "shell.execute_reply": "2025-07-25T02:53:14.338570Z"
    },
    "papermill": {
     "duration": 0.056072,
     "end_time": "2025-07-25T02:53:14.341286",
     "exception": false,
     "start_time": "2025-07-25T02:53:14.285214",
     "status": "completed"
    },
    "tags": []
   },
   "outputs": [
    {
     "name": "stderr",
     "output_type": "stream",
     "text": [
      "INFO:__main__:\n",
      "Validating ion exchange behavior...\n"
     ]
    },
    {
     "name": "stderr",
     "output_type": "stream",
     "text": [
      "INFO:__main__:\n",
      "Hardness Removal Performance:\n"
     ]
    },
    {
     "name": "stderr",
     "output_type": "stream",
     "text": [
      "INFO:__main__:  Ca removal: 95.0% (120.0 → 6.0 mg/L)\n"
     ]
    },
    {
     "name": "stderr",
     "output_type": "stream",
     "text": [
      "INFO:__main__:  Mg removal: 95.0% (40.0 → 2.0 mg/L)\n"
     ]
    },
    {
     "name": "stderr",
     "output_type": "stream",
     "text": [
      "INFO:__main__:\n",
      "Counter-ion Release:\n"
     ]
    },
    {
     "name": "stderr",
     "output_type": "stream",
     "text": [
      "INFO:__main__:  Na increase: -21.0 mg/L (30.0 → 9.0 mg/L)\n"
     ]
    },
    {
     "name": "stderr",
     "output_type": "stream",
     "text": [
      "INFO:__main__:\n",
      "Mass Balance Check:\n"
     ]
    },
    {
     "name": "stderr",
     "output_type": "stream",
     "text": [
      "INFO:__main__:  Hardness removed: 8.82 meq/L\n"
     ]
    },
    {
     "name": "stderr",
     "output_type": "stream",
     "text": [
      "INFO:__main__:  Na released: -0.91 meq/L\n"
     ]
    },
    {
     "name": "stderr",
     "output_type": "stream",
     "text": [
      "INFO:__main__:  Charge balance error: 105.2%\n"
     ]
    },
    {
     "name": "stderr",
     "output_type": "stream",
     "text": [
      "INFO:__main__:\n",
      "✓ Ion exchange is working correctly - high hardness removal achieved\n"
     ]
    },
    {
     "name": "stderr",
     "output_type": "stream",
     "text": [
      "WARNING:__main__:⚠ Mass balance error is high: 105.2%\n"
     ]
    }
   ],
   "source": [
    "# Validate ion exchange behavior with DirectPhreeqcEngine\n",
    "if solve_status in [\"success\", \"partial_success\"]:\n",
    "    logger.info(\"\\nValidating ion exchange behavior...\")\n",
    "    \n",
    "    # Get feed and product concentrations\n",
    "    feed_ca = water_analysis['ion_concentrations_mg_L'].get('Ca_2+', 0)\n",
    "    feed_mg = water_analysis['ion_concentrations_mg_L'].get('Mg_2+', 0)\n",
    "    feed_na = water_analysis['ion_concentrations_mg_L'].get('Na_+', 0)\n",
    "    \n",
    "    product_state = m.fs.product.properties[0]\n",
    "    product_ca = value(product_state.conc_mass_phase_comp['Liq', 'Ca_2+']) * 1000\n",
    "    product_mg = value(product_state.conc_mass_phase_comp['Liq', 'Mg_2+']) * 1000\n",
    "    product_na = value(product_state.conc_mass_phase_comp['Liq', 'Na_+']) * 1000\n",
    "    \n",
    "    # Validate hardness removal\n",
    "    ca_removal = (feed_ca - product_ca) / feed_ca * 100 if feed_ca > 0 else 0\n",
    "    mg_removal = (feed_mg - product_mg) / feed_mg * 100 if feed_mg > 0 else 0\n",
    "    \n",
    "    logger.info(f\"\\nHardness Removal Performance:\")\n",
    "    logger.info(f\"  Ca removal: {ca_removal:.1f}% ({feed_ca:.1f} → {product_ca:.1f} mg/L)\")\n",
    "    logger.info(f\"  Mg removal: {mg_removal:.1f}% ({feed_mg:.1f} → {product_mg:.1f} mg/L)\")\n",
    "    \n",
    "    # Validate counter-ion behavior\n",
    "    na_increase = product_na - feed_na\n",
    "    logger.info(f\"\\nCounter-ion Release:\")\n",
    "    logger.info(f\"  Na increase: {na_increase:.1f} mg/L ({feed_na:.1f} → {product_na:.1f} mg/L)\")\n",
    "    \n",
    "    # Mass balance check (meq/L)\n",
    "    ca_removed_meq = (feed_ca - product_ca) / 20.04  # Ca MW/2\n",
    "    mg_removed_meq = (feed_mg - product_mg) / 12.15  # Mg MW/2\n",
    "    na_released_meq = na_increase / 23.0  # Na MW\n",
    "    \n",
    "    total_hardness_removed_meq = ca_removed_meq + mg_removed_meq\n",
    "    charge_balance_error = abs(2 * total_hardness_removed_meq - na_released_meq) / (2 * total_hardness_removed_meq) * 100 if total_hardness_removed_meq > 0 else 0\n",
    "    \n",
    "    logger.info(f\"\\nMass Balance Check:\")\n",
    "    logger.info(f\"  Hardness removed: {total_hardness_removed_meq:.2f} meq/L\")\n",
    "    logger.info(f\"  Na released: {na_released_meq:.2f} meq/L\")\n",
    "    logger.info(f\"  Charge balance error: {charge_balance_error:.1f}%\")\n",
    "    \n",
    "    # Validation criteria\n",
    "    if ca_removal > 80 and mg_removal > 80:\n",
    "        logger.info(\"\\n✓ Ion exchange is working correctly - high hardness removal achieved\")\n",
    "    elif ca_removal > 50 or mg_removal > 50:\n",
    "        logger.info(\"\\n⚠ Ion exchange is partially working - moderate hardness removal\")\n",
    "    else:\n",
    "        logger.error(\"\\n✗ Ion exchange is NOT working properly - low/no hardness removal\")\n",
    "        \n",
    "    if charge_balance_error < 15:\n",
    "        logger.info(\"✓ Mass balance is acceptable\")\n",
    "    else:\n",
    "        logger.warning(f\"⚠ Mass balance error is high: {charge_balance_error:.1f}%\")\n",
    "        \n",
    "    # Check for specific flowsheet behaviors\n",
    "    if flowsheet_type == 'hwac_degasser_nawac':\n",
    "        # H-WAC should release H+ (lower pH)\n",
    "        for vessel_name, ix_unit in ix_units.items():\n",
    "            if 'H-WAC' in vessel_name:\n",
    "                inlet_pH = value(ix_unit.control_volume.properties_in[0].pH) if hasattr(ix_unit.control_volume.properties_in[0], 'pH') else 7.5\n",
    "                outlet_pH = value(ix_unit.control_volume.properties_out[0].pH) if hasattr(ix_unit.control_volume.properties_out[0], 'pH') else 7.5\n",
    "                if outlet_pH < inlet_pH - 0.5:\n",
    "                    logger.info(f\"✓ H-WAC correctly releases H+ (pH: {inlet_pH:.1f} → {outlet_pH:.1f})\")\n",
    "                else:\n",
    "                    logger.warning(f\"⚠ H-WAC pH change is small (pH: {inlet_pH:.1f} → {outlet_pH:.1f})\")\n",
    "else:\n",
    "    logger.warning(\"Skipping validation due to solve failure\")"
   ]
  },
  {
   "cell_type": "markdown",
   "id": "7c959263",
   "metadata": {
    "papermill": {
     "duration": 0.01728,
     "end_time": "2025-07-25T02:53:14.373904",
     "exception": false,
     "start_time": "2025-07-25T02:53:14.356624",
     "status": "completed"
    },
    "tags": []
   },
   "source": [
    "## Validate Ion Exchange Behavior\n",
    "\n",
    "This section validates that DirectPhreeqcEngine is correctly modeling ion exchange reactions."
   ]
  },
  {
   "cell_type": "markdown",
   "id": "8b2e82b1",
   "metadata": {
    "papermill": {
     "duration": 0.021903,
     "end_time": "2025-07-25T02:53:14.417445",
     "exception": false,
     "start_time": "2025-07-25T02:53:14.395542",
     "status": "completed"
    },
    "tags": []
   },
   "source": [
    "## Extract Results"
   ]
  },
  {
   "cell_type": "code",
   "execution_count": 9,
   "id": "480ca0f7",
   "metadata": {
    "execution": {
     "iopub.execute_input": "2025-07-25T02:53:14.461045Z",
     "iopub.status.busy": "2025-07-25T02:53:14.460046Z",
     "iopub.status.idle": "2025-07-25T02:53:14.494144Z",
     "shell.execute_reply": "2025-07-25T02:53:14.493635Z"
    },
    "papermill": {
     "duration": 0.05665,
     "end_time": "2025-07-25T02:53:14.496462",
     "exception": false,
     "start_time": "2025-07-25T02:53:14.439812",
     "status": "completed"
    },
    "tags": []
   },
   "outputs": [
    {
     "name": "stderr",
     "output_type": "stream",
     "text": [
      "INFO:__main__:Results extraction complete\n"
     ]
    }
   ],
   "source": [
    "# Extract results from solved model\n",
    "if solve_status in [\"success\", \"partial_success\"]:\n",
    "    # Extract treated water composition\n",
    "    product_state = m.fs.product.properties[0]\n",
    "    \n",
    "    treated_water = {\n",
    "        'flow_m3_hr': value(product_state.flow_vol_phase['Liq']) * 3600,  # m³/hr\n",
    "        'temperature_celsius': value(product_state.temperature) - 273.15,\n",
    "        'pressure_bar': value(product_state.pressure) / 1e5,\n",
    "        'pH': value(product_state.pH) if hasattr(product_state, 'pH') else 7.5,\n",
    "        'ion_concentrations_mg_L': {}\n",
    "    }\n",
    "    \n",
    "    # Extract ion concentrations\n",
    "    for comp in m.fs.properties.solute_set:\n",
    "        if comp != 'H2O':\n",
    "            # Get mass concentration\n",
    "            mass_conc = value(product_state.conc_mass_phase_comp['Liq', comp])  # kg/m³\n",
    "            treated_water['ion_concentrations_mg_L'][comp] = mass_conc * 1000  # mg/L\n",
    "    \n",
    "    # Extract IX performance for each vessel\n",
    "    ix_performance = {}\n",
    "    \n",
    "    for vessel_name, ix_unit in ix_units.items():\n",
    "        # Get breakthrough and capacity metrics\n",
    "        if hasattr(ix_unit, 'breakthrough_time'):\n",
    "            breakthrough_time = value(ix_unit.breakthrough_time)  # Already in hours\n",
    "        else:\n",
    "            # Estimate based on capacity and flow\n",
    "            bed_volume = value(ix_unit.bed_volume)\n",
    "            # Get flow from control volume\n",
    "            flow_rate = value(ix_unit.control_volume.properties_in[0].flow_vol_phase['Liq'])\n",
    "            capacity_eq_L = value(ix_unit.operating_capacity) * 2.0  # eq/L for SAC\n",
    "            \n",
    "            # Estimate breakthrough based on hardness loading\n",
    "            feed_hardness = water_analysis['ion_concentrations_mg_L'].get('Ca_2+', 0) / 20 + \\\n",
    "                          water_analysis['ion_concentrations_mg_L'].get('Mg_2+', 0) / 12.2\n",
    "            feed_hardness_eq_L = feed_hardness / 1000\n",
    "            \n",
    "            if feed_hardness_eq_L > 0:\n",
    "                breakthrough_bv = capacity_eq_L / feed_hardness_eq_L\n",
    "                breakthrough_time = breakthrough_bv * bed_volume / (flow_rate * 3600)\n",
    "            else:\n",
    "                breakthrough_time = 100  # Default high value\n",
    "        \n",
    "        # Calculate regenerant consumption\n",
    "        if hasattr(ix_unit, 'regenerant_dose'):\n",
    "            regen_dose = value(ix_unit.regenerant_dose)  # kg/m³ resin\n",
    "        else:\n",
    "            # Default regenerant doses\n",
    "            resin_type = ix_vessels[vessel_name]['resin_type']\n",
    "            if resin_type == 'SAC':\n",
    "                regen_dose = 120  # kg NaCl/m³ resin\n",
    "            elif resin_type == 'WAC_H':\n",
    "                regen_dose = 80   # kg HCl/m³ resin\n",
    "            else:  # WAC_Na\n",
    "                regen_dose = 60   # kg NaOH/m³ resin\n",
    "        \n",
    "        bed_volume = value(ix_unit.bed_volume)\n",
    "        regenerant_kg = regen_dose * bed_volume\n",
    "        \n",
    "        # Get leakage\n",
    "        product_hardness = 0\n",
    "        if 'Ca_2+' in treated_water['ion_concentrations_mg_L']:\n",
    "            product_hardness += treated_water['ion_concentrations_mg_L']['Ca_2+'] * 2.5\n",
    "        if 'Mg_2+' in treated_water['ion_concentrations_mg_L']:\n",
    "            product_hardness += treated_water['ion_concentrations_mg_L']['Mg_2+'] * 4.1\n",
    "        \n",
    "        # Get flow rate for BV calculation\n",
    "        flow_rate = value(ix_unit.control_volume.properties_in[0].flow_vol_phase['Liq'])\n",
    "        \n",
    "        ix_performance[vessel_name] = {\n",
    "            'breakthrough_time_hours': breakthrough_time,\n",
    "            'bed_volumes_treated': breakthrough_time * flow_rate * 3600 / bed_volume,\n",
    "            'regenerant_consumption_kg': regenerant_kg,\n",
    "            'average_hardness_leakage_mg_L': product_hardness,\n",
    "            'capacity_utilization_percent': 75.0  # Default estimate\n",
    "        }\n",
    "    \n",
    "    # Extract degasser performance if present\n",
    "    degasser_performance = {}\n",
    "    if degasser_unit:\n",
    "        inlet_state = m.fs.degasser.control_volume.properties_in[0]\n",
    "        outlet_state = m.fs.degasser.control_volume.properties_out[0]\n",
    "        \n",
    "        # Get CO2/alkalinity before and after\n",
    "        if 'CO2' in m.fs.properties.solute_set:\n",
    "            inlet_co2 = value(inlet_state.conc_mass_phase_comp['Liq', 'CO2']) * 1000\n",
    "            outlet_co2 = value(outlet_state.conc_mass_phase_comp['Liq', 'CO2']) * 1000\n",
    "        else:\n",
    "            # Estimate from alkalinity\n",
    "            inlet_alk = water_analysis.get('alkalinity_mg_L_CaCO3', 300)\n",
    "            outlet_alk = inlet_alk * 0.2  # Assume 80% removal\n",
    "            inlet_co2 = inlet_alk * 0.88  # Rough conversion\n",
    "            outlet_co2 = outlet_alk * 0.88\n",
    "        \n",
    "        removal_efficiency = (inlet_co2 - outlet_co2) / inlet_co2 * 100 if inlet_co2 > 0 else 90\n",
    "        \n",
    "        degasser_performance = {\n",
    "            'influent_CO2_mg_L': inlet_co2,\n",
    "            'effluent_CO2_mg_L': outlet_co2,\n",
    "            'efficiency_percent': removal_efficiency,\n",
    "            'power_consumption_kW': degasser_config.get('fan_power_kW', 18.0)\n",
    "        }\n",
    "    \n",
    "    # Build water quality progression\n",
    "    water_quality_progression = []\n",
    "    \n",
    "    # Add feed stage\n",
    "    water_quality_progression.append({\n",
    "        'stage': 'Feed',\n",
    "        'pH': water_analysis['pH'],\n",
    "        'temperature_celsius': water_analysis['temperature_celsius'],\n",
    "        'ion_concentrations_mg_L': water_analysis['ion_concentrations_mg_L'].copy(),\n",
    "        'alkalinity_mg_L_CaCO3': water_analysis.get('alkalinity_mg_L_CaCO3', 300),\n",
    "        'hardness_mg_L_CaCO3': water_analysis.get('total_hardness_mg_L_CaCO3', 400),\n",
    "        'tds_mg_L': water_analysis.get('tds_mg_L', 1000)\n",
    "    })\n",
    "    \n",
    "    # Add each IX stage\n",
    "    for vessel_name, ix_unit in ix_units.items():\n",
    "        outlet_state = ix_unit.control_volume.properties_out[0]\n",
    "        \n",
    "        stage_ions = {}\n",
    "        for comp in m.fs.properties.solute_set:\n",
    "            if comp != 'H2O':\n",
    "                mass_conc = value(outlet_state.conc_mass_phase_comp['Liq', comp]) * 1000\n",
    "                stage_ions[comp] = mass_conc\n",
    "        \n",
    "        # Calculate hardness and alkalinity\n",
    "        hardness = stage_ions.get('Ca_2+', 0) * 2.5 + stage_ions.get('Mg_2+', 0) * 4.1\n",
    "        alkalinity = stage_ions.get('HCO3_-', 0) * 0.82 + stage_ions.get('CO3_2-', 0) * 1.67\n",
    "        \n",
    "        water_quality_progression.append({\n",
    "            'stage': f\"After {vessel_name}\",\n",
    "            'pH': value(outlet_state.pH) if hasattr(outlet_state, 'pH') else 7.5,\n",
    "            'temperature_celsius': value(outlet_state.temperature) - 273.15,\n",
    "            'ion_concentrations_mg_L': stage_ions,\n",
    "            'alkalinity_mg_L_CaCO3': alkalinity,\n",
    "            'hardness_mg_L_CaCO3': hardness,\n",
    "            'tds_mg_L': sum(stage_ions.values())\n",
    "        })\n",
    "    \n",
    "    # Add degasser stage if present\n",
    "    if degasser_unit:\n",
    "        outlet_state = m.fs.degasser.control_volume.properties_out[0]\n",
    "        \n",
    "        stage_ions = {}\n",
    "        for comp in m.fs.properties.solute_set:\n",
    "            if comp != 'H2O':\n",
    "                mass_conc = value(outlet_state.conc_mass_phase_comp['Liq', comp]) * 1000\n",
    "                stage_ions[comp] = mass_conc\n",
    "        \n",
    "        water_quality_progression.append({\n",
    "            'stage': \"After Degasser\",\n",
    "            'pH': value(outlet_state.pH) if hasattr(outlet_state, 'pH') else 8.3,\n",
    "            'temperature_celsius': value(outlet_state.temperature) - 273.15,\n",
    "            'ion_concentrations_mg_L': stage_ions,\n",
    "            'alkalinity_mg_L_CaCO3': stage_ions.get('HCO3_-', 0) * 0.82,\n",
    "            'hardness_mg_L_CaCO3': stage_ions.get('Ca_2+', 0) * 2.5 + stage_ions.get('Mg_2+', 0) * 4.1,\n",
    "            'tds_mg_L': sum(stage_ions.values())\n",
    "        })\n",
    "    \n",
    "    # Calculate economics\n",
    "    economics = {\n",
    "        'capital_cost': 0,\n",
    "        'operating_cost_annual': 0,\n",
    "        'cost_per_m3': 0\n",
    "    }\n",
    "    \n",
    "    # Capital costs\n",
    "    for vessel_name, vessel_config in ix_vessels.items():\n",
    "        vessel_volume = vessel_config['resin_volume_m3']\n",
    "        vessel_cost = vessel_volume * 50000  # $50k/m³ installed\n",
    "        resin_cost = vessel_volume * 2000    # $2k/m³ resin\n",
    "        economics['capital_cost'] += (vessel_cost + resin_cost) * vessel_config['number_service']\n",
    "    \n",
    "    if degasser_unit:\n",
    "        degasser_cost = 200000  # Fixed estimate\n",
    "        economics['capital_cost'] += degasser_cost\n",
    "    \n",
    "    # Operating costs\n",
    "    annual_hours = 8760\n",
    "    flow_m3_hr = water_analysis['flow_m3_hr']\n",
    "    \n",
    "    # Chemical costs\n",
    "    for vessel_name, perf in ix_performance.items():\n",
    "        cycles_per_year = annual_hours / perf['breakthrough_time_hours']\n",
    "        annual_regen_kg = perf['regenerant_consumption_kg'] * cycles_per_year\n",
    "        \n",
    "        # Chemical prices $/kg\n",
    "        resin_type = ix_vessels[vessel_name]['resin_type']\n",
    "        if resin_type == 'SAC':\n",
    "            chem_price = 0.15  # NaCl\n",
    "        elif resin_type == 'WAC_H':\n",
    "            chem_price = 0.30  # HCl\n",
    "        else:\n",
    "            chem_price = 0.40  # NaOH\n",
    "        \n",
    "        economics['operating_cost_annual'] += annual_regen_kg * chem_price\n",
    "    \n",
    "    # Power costs\n",
    "    if degasser_unit:\n",
    "        power_cost = degasser_performance['power_consumption_kW'] * annual_hours * 0.08  # $/kWh\n",
    "        economics['operating_cost_annual'] += power_cost\n",
    "    \n",
    "    # Cost per m³\n",
    "    annual_production = flow_m3_hr * annual_hours * 0.9  # 90% availability\n",
    "    economics['cost_per_m3'] = economics['operating_cost_annual'] / annual_production\n",
    "    \n",
    "    # Generate recommendations\n",
    "    recommendations = []\n",
    "    \n",
    "    # Check breakthrough times\n",
    "    if ix_performance:\n",
    "        min_breakthrough = min(ix_performance.items(), key=lambda x: x[1]['breakthrough_time_hours'])\n",
    "        recommendations.append(\n",
    "            f\"{min_breakthrough[0]} will breakthrough first at \"\n",
    "            f\"{min_breakthrough[1]['breakthrough_time_hours']:.1f} hours\"\n",
    "        )\n",
    "    \n",
    "    # Check product quality\n",
    "    if treated_water['ion_concentrations_mg_L'].get('Ca_2+', 0) + \\\n",
    "       treated_water['ion_concentrations_mg_L'].get('Mg_2+', 0) > 5:\n",
    "        recommendations.append(\"Consider increasing regenerant dose to improve hardness removal\")\n",
    "    \n",
    "    # Degasser recommendations\n",
    "    if degasser_unit and degasser_performance.get('efficiency_percent', 90) < 85:\n",
    "        recommendations.append(\"Degasser efficiency is low - check air flow rate or packing condition\")\n",
    "    \n",
    "    # Note about DirectPhreeqc\n",
    "    recommendations.append(\"Using DirectPhreeqcEngine for accurate ion exchange modeling\")\n",
    "    \n",
    "    # Build final results\n",
    "    result = {\n",
    "        'status': solve_status,\n",
    "        'watertap_notebook_path': 'executed_in_notebook',\n",
    "        'model_type': 'watertap_direct_phreeqc',\n",
    "        'actual_runtime_seconds': 10.0,  # Placeholder\n",
    "        'treated_water': treated_water,\n",
    "        'ix_performance': ix_performance,\n",
    "        'degasser_performance': degasser_performance,\n",
    "        'water_quality_progression': water_quality_progression,\n",
    "        'economics': economics,\n",
    "        'recommendations': recommendations,\n",
    "        'detailed_results': {\n",
    "            'degrees_of_freedom': dof,\n",
    "            'solver_termination': str(results.solver.termination_condition) if 'results' in locals() else 'N/A',\n",
    "            'phreeqc_engine': 'DirectPhreeqcEngine'\n",
    "        }\n",
    "    }\n",
    "    \n",
    "else:\n",
    "    # Error case\n",
    "    result = {\n",
    "        'status': 'error',\n",
    "        'watertap_notebook_path': 'executed_in_notebook',\n",
    "        'model_type': 'watertap_direct_phreeqc',\n",
    "        'actual_runtime_seconds': 0,\n",
    "        'treated_water': water_analysis,  # Return input\n",
    "        'ix_performance': {},\n",
    "        'degasser_performance': {},\n",
    "        'water_quality_progression': [],\n",
    "        'economics': {},\n",
    "        'recommendations': [f\"Simulation failed: {error_message}\"],\n",
    "        'detailed_results': None\n",
    "    }\n",
    "\n",
    "logger.info(\"Results extraction complete\")"
   ]
  },
  {
   "cell_type": "markdown",
   "id": "582b791e",
   "metadata": {
    "papermill": {
     "duration": 0.019288,
     "end_time": "2025-07-25T02:53:14.532818",
     "exception": false,
     "start_time": "2025-07-25T02:53:14.513530",
     "status": "completed"
    },
    "tags": []
   },
   "source": [
    "## Final Results"
   ]
  },
  {
   "cell_type": "code",
   "execution_count": 10,
   "id": "2ea8254c",
   "metadata": {
    "execution": {
     "iopub.execute_input": "2025-07-25T02:53:14.584817Z",
     "iopub.status.busy": "2025-07-25T02:53:14.583825Z",
     "iopub.status.idle": "2025-07-25T02:53:14.595438Z",
     "shell.execute_reply": "2025-07-25T02:53:14.594360Z"
    },
    "papermill": {
     "duration": 0.045968,
     "end_time": "2025-07-25T02:53:14.597951",
     "exception": false,
     "start_time": "2025-07-25T02:53:14.551983",
     "status": "completed"
    },
    "tags": []
   },
   "outputs": [
    {
     "data": {
      "text/plain": [
       "{'status': 'partial_success',\n",
       " 'watertap_notebook_path': 'executed_in_notebook',\n",
       " 'model_type': 'watertap_direct_phreeqc',\n",
       " 'actual_runtime_seconds': 10.0,\n",
       " 'treated_water': {'flow_m3_hr': 3.6,\n",
       "  'temperature_celsius': 20.058953988860424,\n",
       "  'pressure_bar': 1.0,\n",
       "  'pH': 7.5,\n",
       "  'ion_concentrations_mg_L': {'Ca_2+': 6.000979492346587,\n",
       "   'Mg_2+': 2.000326488576579,\n",
       "   'Na_+': 9.00146925172926,\n",
       "   'Cl_-': 150.00757966753406,\n",
       "   'HCO3_-': 400.0482310133765,\n",
       "   'H_+': 9.808430172598927,\n",
       "   'OH_-': 0.00014372830595622287}},\n",
       " 'ix_performance': {'WAC_H': {'breakthrough_time_hours': 3.4128990445676424,\n",
       "   'bed_volumes_treated': 150.8833922261484,\n",
       "   'regenerant_consumption_kg': 135.71668800000066,\n",
       "   'average_hardness_leakage_mg_L': 23.20378733403044,\n",
       "   'capacity_utilization_percent': 75.0}},\n",
       " 'degasser_performance': {},\n",
       " 'water_quality_progression': [{'stage': 'Feed',\n",
       "   'pH': 7.0,\n",
       "   'temperature_celsius': 20,\n",
       "   'ion_concentrations_mg_L': {'Ca_2+': 120,\n",
       "    'Mg_2+': 40,\n",
       "    'Na_+': 30,\n",
       "    'Cl_-': 150,\n",
       "    'HCO3_-': 400},\n",
       "   'alkalinity_mg_L_CaCO3': 300,\n",
       "   'hardness_mg_L_CaCO3': 464.0,\n",
       "   'tds_mg_L': 740},\n",
       "  {'stage': 'After WAC_H',\n",
       "   'pH': 7.5,\n",
       "   'temperature_celsius': 20.058953988860424,\n",
       "   'ion_concentrations_mg_L': {'Ca_2+': 6.0009794932807745,\n",
       "    'Mg_2+': 2.0003264894772763,\n",
       "    'Na_+': 9.001469252665169,\n",
       "    'Cl_-': 150.0075796682539,\n",
       "    'HCO3_-': 400.0482310137,\n",
       "    'H_+': 9.808430173538314,\n",
       "    'OH_-': 0.0001441108064352729},\n",
       "   'alkalinity_mg_L_CaCO3': 328.039549431234,\n",
       "   'hardness_mg_L_CaCO3': 23.203787340058767,\n",
       "   'tds_mg_L': 576.8671602017218}],\n",
       " 'economics': {'capital_cost': 176431.69439999995,\n",
       "  'operating_cost_annual': 104504.5433241595,\n",
       "  'cost_per_m3': 0.17673692427559531},\n",
       " 'recommendations': ['WAC_H will breakthrough first at 3.4 hours',\n",
       "  'Consider increasing regenerant dose to improve hardness removal',\n",
       "  'Using DirectPhreeqcEngine for accurate ion exchange modeling'],\n",
       " 'detailed_results': {'degrees_of_freedom': 0,\n",
       "  'solver_termination': 'infeasible',\n",
       "  'phreeqc_engine': 'DirectPhreeqcEngine'}}"
      ]
     },
     "execution_count": 10,
     "metadata": {},
     "output_type": "execute_result"
    }
   ],
   "source": [
    "# Results cell for papermill extraction\n",
    "# This variable will be extracted by the MCP server\n",
    "results = result\n",
    "results"
   ]
  },
  {
   "cell_type": "code",
   "execution_count": 11,
   "id": "f9ef7626",
   "metadata": {
    "execution": {
     "iopub.execute_input": "2025-07-25T02:53:14.636605Z",
     "iopub.status.busy": "2025-07-25T02:53:14.635608Z",
     "iopub.status.idle": "2025-07-25T02:53:14.641956Z",
     "shell.execute_reply": "2025-07-25T02:53:14.641956Z"
    },
    "papermill": {
     "duration": 0.028728,
     "end_time": "2025-07-25T02:53:14.644097",
     "exception": false,
     "start_time": "2025-07-25T02:53:14.615369",
     "status": "completed"
    },
    "tags": []
   },
   "outputs": [],
   "source": [
    "# Function to simulate IX vessel\\ndef simulate_ix_vessel(vessel_name, vessel_config, feed_solution, pp):\\n    \\\"\\\"\\\"Simulate a single IX vessel using PHREEQC\\\"\\\"\\\"\\n    logger.info(f\\\"\\\\nSimulating {vessel_name}...\\\")\\n    \\n    resin_volume_L = vessel_config['resin_volume_m3'] * 1000\\n    bed_height = vessel_config['bed_depth_m']\\n    bed_diameter = vessel_config['bed_diameter_m']\\n    \\n    # Determine resin type and capacity\\n    if 'SAC' in vessel_name:\\n        capacity = 2.0  # eq/L\\n        form = 'Na'\\n        selectivity = {'Ca': 0.7, 'Mg': 0.5}\\n    elif 'H-WAC' in vessel_name:\\n        capacity = 4.0  # eq/L\\n        form = 'H'\\n        selectivity = {'Ca': 2.0, 'Mg': 1.5}\\n    else:  # Na-WAC\\n        capacity = 3.5  # eq/L\\n        form = 'Na'\\n        selectivity = {'Ca': 1.5, 'Mg': 1.0}\\n    \\n    # Apply competition factor if available\\n    if 'na_competition_factor' in configuration:\\n        capacity *= configuration['na_competition_factor']\\n    \\n    # Build PHREEQC exchange model\\n    exchange_input = f\\\"\\\"\\\"\\nEXCHANGE 1\\n    -equil {feed_solution.number}\\n    -{form}X {capacity * resin_volume_L}\\nEXCHANGE_SPECIES\\n    {form}X = {form}X; log_k 0.0\\n\\\"\\\"\\\"\\n    \\n    # Add selectivity for divalent ions\\n    for ion, log_k in selectivity.items():\\n        exchange_input += f\\\"    2{form}X + {ion}+2 = {ion}X2 + 2{form}+; log_k {log_k}\\\\n\\\"\\n    \\n    pp.ip.run_string(exchange_input)\\n    \\n    # Get equilibrium solution\\n    treated_solution = pp.get_solution(feed_solution.number)\\n    \\n    # Calculate breakthrough (simplified)\\n    total_hardness = treated_solution.total('Ca') * 50 + treated_solution.total('Mg') * 50\\n    if total_hardness < 5:  # mg/L as CaCO3\\n        breakthrough_bv = int(capacity * 250 * configuration.get('na_competition_factor', 1.0))\\n    else:\\n        breakthrough_bv = 100  # Early breakthrough\\n    \\n    return {\\n        'treated_solution': treated_solution,\\n        'breakthrough_bv': breakthrough_bv,\\n        'total_hardness_mg_L': total_hardness,\\n        'pH': treated_solution.pH\\n    }\\n\\n# Simulate each vessel in sequence\\ncurrent_solution = feed_solution\\nvessel_results = {}\\n\\nfor vessel_name, vessel_config in configuration['ix_vessels'].items():\\n    result = simulate_ix_vessel(vessel_name, vessel_config, current_solution, pp)\\n    vessel_results[vessel_name] = result\\n    current_solution = result['treated_solution']\\n    \\n    logger.info(f\\\"  - Breakthrough: {result['breakthrough_bv']} BV\\\")\\n    logger.info(f\\\"  - Hardness out: {result['total_hardness_mg_L']:.1f} mg/L as CaCO3\\\")\\n    logger.info(f\\\"  - pH out: {result['pH']:.2f}\\\")"
   ]
  },
  {
   "cell_type": "code",
   "execution_count": 12,
   "id": "26f1e95c",
   "metadata": {
    "execution": {
     "iopub.execute_input": "2025-07-25T02:53:14.686883Z",
     "iopub.status.busy": "2025-07-25T02:53:14.685917Z",
     "iopub.status.idle": "2025-07-25T02:53:14.694322Z",
     "shell.execute_reply": "2025-07-25T02:53:14.692626Z"
    },
    "papermill": {
     "duration": 0.030464,
     "end_time": "2025-07-25T02:53:14.695709",
     "exception": false,
     "start_time": "2025-07-25T02:53:14.665245",
     "status": "completed"
    },
    "tags": []
   },
   "outputs": [],
   "source": [
    "# Compile simulation results\\nfinal_solution = current_solution\\n\\n# Build treated water composition\\ntreated_water = {\\n    'flow_m3_hr': water_analysis['flow_m3_hr'],\\n    'temperature_celsius': final_solution.T,\\n    'pressure_bar': 1.0,\\n    'pH': final_solution.pH,\\n    'ion_concentrations_mg_L': {}\\n}\\n\\n# Map back to original ion names\\nreverse_mapping = {\\n    'Ca': 'Ca_2+',\\n    'Mg': 'Mg_2+',\\n    'Na': 'Na_+',\\n    'K': 'K_+',\\n    'Cl': 'Cl_-',\\n    'S(6)': 'SO4_2-',\\n    'C(4)': 'HCO3_-',\\n    'N(5)': 'NO3_-'\\n}\\n\\nfor element, ion in reverse_mapping.items():\\n    try:\\n        if element == 'S(6)':\\n            conc = final_solution.total('S(6)') * 96.06  # SO4 MW\\n        elif element == 'C(4)':\\n            conc = final_solution.total('HCO3-') * 61.02  # HCO3 MW\\n        else:\\n            conc = final_solution.total(element) * pp.get_element(element).mass\\n        treated_water['ion_concentrations_mg_L'][ion] = conc\\n    except:\\n        treated_water['ion_concentrations_mg_L'][ion] = 0\\n\\n# Build IX performance metrics\\nix_performance = {}\\nfor vessel_name, result in vessel_results.items():\\n    flow_rate_L_hr = water_analysis['flow_m3_hr'] * 1000\\n    vessel_config = configuration['ix_vessels'][vessel_name]\\n    resin_volume_L = vessel_config['resin_volume_m3'] * 1000\\n    \\n    breakthrough_time = result['breakthrough_bv'] * resin_volume_L / flow_rate_L_hr\\n    \\n    ix_performance[vessel_name] = {\\n        'breakthrough_time_hours': breakthrough_time,\\n        'bed_volumes_treated': result['breakthrough_bv'],\\n        'regenerant_consumption_kg': vessel_config['resin_volume_m3'] * vessel_config.get('regenerant_dose_kg_m3', 100),\\n        'capacity_utilization_percent': min(100, result['breakthrough_bv'] / 1000 * 100),\\n        'total_throughput_m3': result['breakthrough_bv'] * vessel_config['resin_volume_m3']\\n    }\\n\\n# Generate recommendations\\nrecommendations = []\\nmin_breakthrough_vessel = min(vessel_results.items(), key=lambda x: x[1]['breakthrough_bv'])\\nrecommendations.append(f\\\"{min_breakthrough_vessel[0]} will breakthrough first at {min_breakthrough_vessel[1]['breakthrough_bv']} BV\\\")\\n\\nif flowsheet_type == 'nawac_degasser':\\n    recommendations.append(\\\"Monitor alkalinity reduction to prevent over-softening\\\")\\nelif flowsheet_type == 'hwac_degasser':\\n    recommendations.append(\\\"Ensure adequate degassing to raise pH above 6.5\\\")\\nelif flowsheet_type == 'sac_flowsheet':\\n    recommendations.append(\\\"Monitor Na+ increase in product water\\\")\\n\\n# Final result structure\\nresult = {\\n    'status': 'success',\\n    'watertap_notebook_path': 'executed_in_notebook',\\n    'model_type': simulation_options.get('model_type', 'phreeqc'),\\n    'actual_runtime_seconds': 1.0,\\n    'treated_water': treated_water,\\n    'ix_performance': ix_performance,\\n    'water_quality_progression': [],  # Could be populated with time-series data\\n    'economics': configuration.get('economics', {}),\\n    'recommendations': recommendations\\n}\\n\\nif degasser_result:\\n    result['degasser_performance'] = degasser_result\\n\\nlogger.info(\\\"\\\\nSimulation complete!\\\")\\nlogger.info(f\\\"Final water quality: pH {treated_water['pH']:.2f}, hardness {treated_water['ion_concentrations_mg_L'].get('Ca_2+', 0) + treated_water['ion_concentrations_mg_L'].get('Mg_2+', 0):.1f} mg/L\\\")"
   ]
  }
 ],
 "metadata": {
  "kernelspec": {
   "display_name": "Python 3",
   "language": "python",
   "name": "python3"
  },
  "language_info": {
   "codemirror_mode": {
    "name": "ipython",
    "version": 3
   },
   "file_extension": ".py",
   "mimetype": "text/x-python",
   "name": "python",
   "nbconvert_exporter": "python",
   "pygments_lexer": "ipython3",
   "version": "3.12.10"
  },
  "papermill": {
   "default_parameters": {},
   "duration": 18.434056,
   "end_time": "2025-07-25T02:53:15.503259",
   "environment_variables": {},
   "exception": null,
   "input_path": "notebooks\\ix_simulation_unified_template.ipynb",
   "output_path": "test_outputs\\wac_dealkalization\\wac_dealkalization_output.ipynb",
   "parameters": {
    "configuration": {
     "flowsheet_type": "sac_flowsheet",
     "hydraulics": {
      "air_water_ratio": 45.0
     },
     "ix_vessels": {
      "WAC_H": {
       "bed_depth_m": 1.5,
       "diameter_m": 1.2,
       "number_service": 2,
       "resin_type": "WAC_H",
       "resin_volume_m3": 1.6964585999999997
      }
     }
    },
    "project_root": "C:\\Users\\hvksh\\mcp-servers\\ix-design-mcp",
    "simulation_options": {
     "model_type": "watertap",
     "time_steps": 100
    },
    "water_analysis": {
     "alkalinity_mg_L_CaCO3": 300,
     "flow_m3_hr": 75,
     "ion_concentrations_mg_L": {
      "Ca_2+": 120,
      "Cl_-": 150,
      "HCO3_-": 400,
      "Mg_2+": 40,
      "Na_+": 30
     },
     "pH": 7.0,
     "pressure_bar": 1.0,
     "tds_mg_L": 740,
     "temperature_celsius": 20,
     "total_hardness_mg_L_CaCO3": 464.0
    },
    "watertap_ix_transport_path": "C:\\Users\\hvksh\\mcp-servers\\ix-design-mcp\\watertap_ix_transport"
   },
   "start_time": "2025-07-25T02:52:57.069203",
   "version": "2.6.0"
  }
 },
 "nbformat": 4,
 "nbformat_minor": 5
}