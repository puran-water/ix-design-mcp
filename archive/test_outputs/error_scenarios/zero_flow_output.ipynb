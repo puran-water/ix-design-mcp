{
 "cells": [
  {
   "cell_type": "markdown",
   "id": "2ec72c8f",
   "metadata": {
    "papermill": {
     "duration": 0.001798,
     "end_time": "2025-07-25T02:53:52.528718",
     "exception": false,
     "start_time": "2025-07-25T02:53:52.526920",
     "status": "completed"
    },
    "tags": []
   },
   "source": [
    "# Production IX System Simulation with WaterTAP\n",
    "\n",
    "This notebook performs detailed IX system simulation using production-ready WaterTAP models:\n",
    "- **IX Models**: IonExchangeTransport0D with PHREEQC integration\n",
    "- **Degasser**: DegasserTower0DPhreeqc for CO2 removal\n",
    "- **Property Package**: MCAS (Multi-Component Aqueous Solution)\n",
    "\n",
    "## Process Flowsheets Supported\n",
    "1. **H-WAC → Degasser → Na-WAC**: Full temporary hardness removal\n",
    "2. **SAC → Na-WAC → Degasser**: Complete hardness removal\n",
    "3. **Na-WAC → Degasser**: Partial softening for temporary hardness"
   ]
  },
  {
   "cell_type": "code",
   "execution_count": 1,
   "id": "92cc6e0a",
   "metadata": {
    "execution": {
     "iopub.execute_input": "2025-07-25T02:53:52.548735Z",
     "iopub.status.busy": "2025-07-25T02:53:52.548735Z",
     "iopub.status.idle": "2025-07-25T02:53:52.563926Z",
     "shell.execute_reply": "2025-07-25T02:53:52.563405Z"
    },
    "papermill": {
     "duration": 0.021525,
     "end_time": "2025-07-25T02:53:52.565309",
     "exception": false,
     "start_time": "2025-07-25T02:53:52.543784",
     "status": "completed"
    },
    "tags": [
     "parameters"
    ]
   },
   "outputs": [],
   "source": [
    "# Parameters cell - papermill will inject values here\n",
    "import json\n",
    "\n",
    "# Configuration parameters (injected by papermill)\n",
    "project_root = None  # Will be injected - replaces __file__ usage\n",
    "watertap_ix_transport_path = None  # Path to watertap_ix_transport module\n",
    "configuration = None  # IX configuration from optimize_ix_configuration\n",
    "water_analysis = None  # Feed water composition\n",
    "breakthrough_criteria = None  # Breakthrough criteria dictionary\n",
    "regenerant_parameters = None  # Regenerant parameters dictionary\n",
    "acid_options = None  # Acid dosing options for degasser\n",
    "timestamp = None  # Timestamp for the simulation run\n",
    "simulation_options = {\n",
    "    \"model_type\": \"watertap\",\n",
    "    \"time_steps\": 100,\n",
    "    \"breakthrough_criteria\": {\"hardness_mg_L_CaCO3\": 5.0}\n",
    "}"
   ]
  },
  {
   "cell_type": "code",
   "execution_count": 2,
   "id": "46c47c0a",
   "metadata": {
    "execution": {
     "iopub.execute_input": "2025-07-25T02:53:52.579319Z",
     "iopub.status.busy": "2025-07-25T02:53:52.576000Z",
     "iopub.status.idle": "2025-07-25T02:53:52.585384Z",
     "shell.execute_reply": "2025-07-25T02:53:52.585384Z"
    },
    "papermill": {
     "duration": 0.016947,
     "end_time": "2025-07-25T02:53:52.588124",
     "exception": false,
     "start_time": "2025-07-25T02:53:52.571177",
     "status": "completed"
    },
    "tags": [
     "injected-parameters"
    ]
   },
   "outputs": [],
   "source": [
    "# Parameters\n",
    "project_root = \"C:\\\\Users\\\\hvksh\\\\mcp-servers\\\\ix-design-mcp\"\n",
    "watertap_ix_transport_path = (\n",
    "    \"C:\\\\Users\\\\hvksh\\\\mcp-servers\\\\ix-design-mcp\\\\watertap_ix_transport\"\n",
    ")\n",
    "configuration = {\n",
    "    \"flowsheet_type\": \"sac_flowsheet\",\n",
    "    \"ix_vessels\": {\n",
    "        \"SAC\": {\n",
    "            \"resin_type\": \"SAC\",\n",
    "            \"bed_depth_m\": 2.0,\n",
    "            \"diameter_m\": 1.5,\n",
    "            \"number_service\": 2,\n",
    "            \"resin_volume_m3\": 3.53428875,\n",
    "        }\n",
    "    },\n",
    "    \"hydraulics\": {\"air_water_ratio\": 45.0},\n",
    "}\n",
    "water_analysis = {\n",
    "    \"flow_m3_hr\": 0,\n",
    "    \"temperature_celsius\": 25,\n",
    "    \"pressure_bar\": 1.0,\n",
    "    \"pH\": 7.5,\n",
    "    \"ion_concentrations_mg_L\": {\n",
    "        \"Ca_2+\": 100,\n",
    "        \"Mg_2+\": 50,\n",
    "        \"Na_+\": 50,\n",
    "        \"Cl_-\": 350,\n",
    "        \"HCO3_-\": 300,\n",
    "    },\n",
    "    \"alkalinity_mg_L_CaCO3\": 300,\n",
    "    \"total_hardness_mg_L_CaCO3\": 455.0,\n",
    "    \"tds_mg_L\": 850,\n",
    "}\n",
    "simulation_options = {\"model_type\": \"watertap\", \"time_steps\": 100}\n"
   ]
  },
  {
   "cell_type": "code",
   "execution_count": 3,
   "id": "3f724250",
   "metadata": {
    "execution": {
     "iopub.execute_input": "2025-07-25T02:53:52.602372Z",
     "iopub.status.busy": "2025-07-25T02:53:52.602372Z",
     "iopub.status.idle": "2025-07-25T02:53:57.358449Z",
     "shell.execute_reply": "2025-07-25T02:53:57.357433Z"
    },
    "papermill": {
     "duration": 4.76547,
     "end_time": "2025-07-25T02:53:57.359512",
     "exception": false,
     "start_time": "2025-07-25T02:53:52.594042",
     "status": "completed"
    },
    "tags": []
   },
   "outputs": [
    {
     "name": "stderr",
     "output_type": "stream",
     "text": [
      "INFO:__main__:Successfully imported all required modules\n"
     ]
    },
    {
     "name": "stderr",
     "output_type": "stream",
     "text": [
      "INFO:__main__:Using DirectPhreeqcEngine for ion exchange calculations\n"
     ]
    }
   ],
   "source": [
    "# System imports\n",
    "import sys\n",
    "import os\n",
    "import json\n",
    "import numpy as np\n",
    "import pandas as pd\n",
    "import matplotlib.pyplot as plt\n",
    "from datetime import datetime\n",
    "import logging\n",
    "import warnings\n",
    "\n",
    "# Add project root to path (injected by papermill)\n",
    "if project_root and project_root not in sys.path:\n",
    "    sys.path.insert(0, project_root)\n",
    "\n",
    "# Configure logging\n",
    "logging.basicConfig(level=logging.INFO)\n",
    "logger = logging.getLogger(__name__)\n",
    "warnings.filterwarnings('ignore')\n",
    "\n",
    "# Import production WaterTAP IX utilities\n",
    "try:\n",
    "    from watertap_ix_transport import (\n",
    "        build_ix_flowsheet,\n",
    "        initialize_ix_system,\n",
    "        IonExchangeTransport0D,\n",
    "        DegasserTower0DPhreeqc,\n",
    "        ResinType,\n",
    "        RegenerantChem\n",
    "    )\n",
    "    from watertap_ix_transport.utilities.property_calculations import fix_mole_fractions\n",
    "    from watertap_ix_transport.production_models import PhreeqPython\n",
    "    \n",
    "    # Import direct PHREEQC engine for awareness\n",
    "    from watertap_ix_transport.transport_core.direct_phreeqc_engine import DirectPhreeqcEngine\n",
    "    \n",
    "    # Import WaterTAP and IDAES utilities\n",
    "    from pyomo.environ import (\n",
    "        ConcreteModel, \n",
    "        value, \n",
    "        units as pyunits,\n",
    "        TransformationFactory\n",
    "    )\n",
    "    from pyomo.network import Arc\n",
    "    from idaes.core import FlowsheetBlock\n",
    "    from idaes.models.unit_models import Feed, Product, Mixer, Separator\n",
    "    from idaes.core.util.model_statistics import degrees_of_freedom\n",
    "    from idaes.core.solvers import get_solver\n",
    "    from idaes.core.util.initialization import propagate_state\n",
    "    from watertap.property_models.multicomp_aq_sol_prop_pack import MCASParameterBlock, MaterialFlowBasis\n",
    "    from watertap.unit_models.pressure_changer import Pump\n",
    "    \n",
    "    logger.info(\"Successfully imported all required modules\")\n",
    "    logger.info(\"Using DirectPhreeqcEngine for ion exchange calculations\")\n",
    "except ImportError as e:\n",
    "    logger.error(f\"Failed to import required modules: {e}\")\n",
    "    raise"
   ]
  },
  {
   "cell_type": "markdown",
   "id": "9734050d",
   "metadata": {
    "papermill": {
     "duration": 0.0,
     "end_time": "2025-07-25T02:53:57.362519",
     "exception": false,
     "start_time": "2025-07-25T02:53:57.362519",
     "status": "completed"
    },
    "tags": []
   },
   "source": [
    "## Validate Inputs"
   ]
  },
  {
   "cell_type": "code",
   "execution_count": 4,
   "id": "b94cfc9e",
   "metadata": {
    "execution": {
     "iopub.execute_input": "2025-07-25T02:53:57.377865Z",
     "iopub.status.busy": "2025-07-25T02:53:57.376360Z",
     "iopub.status.idle": "2025-07-25T02:53:57.386935Z",
     "shell.execute_reply": "2025-07-25T02:53:57.386935Z"
    },
    "papermill": {
     "duration": 0.015501,
     "end_time": "2025-07-25T02:53:57.386935",
     "exception": false,
     "start_time": "2025-07-25T02:53:57.371434",
     "status": "completed"
    },
    "tags": []
   },
   "outputs": [
    {
     "name": "stderr",
     "output_type": "stream",
     "text": [
      "INFO:__main__:Configuration loaded: sac_flowsheet\n"
     ]
    },
    {
     "name": "stderr",
     "output_type": "stream",
     "text": [
      "INFO:__main__:Water analysis loaded: Flow 0 m³/hr\n"
     ]
    },
    {
     "name": "stderr",
     "output_type": "stream",
     "text": [
      "INFO:__main__:Running sac_flowsheet flowsheet simulation\n"
     ]
    },
    {
     "name": "stderr",
     "output_type": "stream",
     "text": [
      "INFO:__main__:IX vessels: ['SAC']\n"
     ]
    },
    {
     "name": "stderr",
     "output_type": "stream",
     "text": [
      "INFO:__main__:Degasser present: No\n"
     ]
    }
   ],
   "source": [
    "# Validate configuration and water analysis\n",
    "validation_errors = []\n",
    "\n",
    "if not configuration:\n",
    "    validation_errors.append(\"Missing configuration parameter\")\n",
    "else:\n",
    "    logger.info(f\"Configuration loaded: {configuration.get('flowsheet_type', 'Unknown')}\")\n",
    "    \n",
    "if not water_analysis:\n",
    "    validation_errors.append(\"Missing water_analysis parameter\")\n",
    "else:\n",
    "    logger.info(f\"Water analysis loaded: Flow {water_analysis.get('flow_m3_hr', 0)} m³/hr\")\n",
    "\n",
    "if validation_errors:\n",
    "    raise ValueError(f\"Validation failed: {', '.join(validation_errors)}\")\n",
    "\n",
    "# Extract key parameters\n",
    "flowsheet_type = configuration.get('flowsheet_type', 'general')\n",
    "ix_vessels = configuration.get('ix_vessels', {})\n",
    "degasser_config = configuration.get('degasser', {})\n",
    "\n",
    "logger.info(f\"Running {flowsheet_type} flowsheet simulation\")\n",
    "logger.info(f\"IX vessels: {list(ix_vessels.keys())}\")\n",
    "logger.info(f\"Degasser present: {'Yes' if degasser_config else 'No'}\")"
   ]
  },
  {
   "cell_type": "markdown",
   "id": "89608c40",
   "metadata": {
    "papermill": {
     "duration": 0.002847,
     "end_time": "2025-07-25T02:53:57.393923",
     "exception": false,
     "start_time": "2025-07-25T02:53:57.391076",
     "status": "completed"
    },
    "tags": []
   },
   "source": [
    "## Build WaterTAP Model"
   ]
  },
  {
   "cell_type": "code",
   "execution_count": 5,
   "id": "e0ad858e",
   "metadata": {
    "execution": {
     "iopub.execute_input": "2025-07-25T02:53:57.405055Z",
     "iopub.status.busy": "2025-07-25T02:53:57.401761Z",
     "iopub.status.idle": "2025-07-25T02:53:57.505528Z",
     "shell.execute_reply": "2025-07-25T02:53:57.505528Z"
    },
    "papermill": {
     "duration": 0.106961,
     "end_time": "2025-07-25T02:53:57.507054",
     "exception": false,
     "start_time": "2025-07-25T02:53:57.400093",
     "status": "completed"
    },
    "tags": []
   },
   "outputs": [
    {
     "name": "stderr",
     "output_type": "stream",
     "text": [
      "INFO:__main__:MCAS solute list: ['Ca_2+', 'Mg_2+', 'Na_+', 'Cl_-', 'HCO3_-', 'H_+', 'OH_-']\n"
     ]
    },
    {
     "name": "stderr",
     "output_type": "stream",
     "text": [
      "INFO:__main__:Feed conditions set: 0 m³/hr at 25°C\n"
     ]
    },
    {
     "name": "stderr",
     "output_type": "stream",
     "text": [
      "INFO:__main__:Fixing mole fractions for feed stream...\n"
     ]
    },
    {
     "name": "stdout",
     "output_type": "stream",
     "text": [
      "2025-07-24 22:53:57 [INFO] idaes.init.fs.feed: Initialization Complete.\n"
     ]
    },
    {
     "name": "stderr",
     "output_type": "stream",
     "text": [
      "INFO:watertap_ix_transport.utilities.property_calculations:Detected 10,000 mg/L concentrations - recalculating...\n"
     ]
    },
    {
     "name": "stderr",
     "output_type": "stream",
     "text": [
      "WARNING:pyomo.core:Exception encountered evaluating expression 'div(0.0, 0.0)'\n",
      "\tmessage: float division by zero\n",
      "\texpression: fs.feed.properties[0.0].flow_mass_phase_comp[Liq,H2O]/(fs.feed.properties[0.0].flow_mass_phase_comp[Liq,H2O] + fs.feed.properties[0.0].flow_mass_phase_comp[Liq,Ca_2+] + fs.feed.properties[0.0].flow_mass_phase_comp[Liq,Mg_2+] + fs.feed.properties[0.0].flow_mass_phase_comp[Liq,Na_+] + fs.feed.properties[0.0].flow_mass_phase_comp[Liq,Cl_-] + fs.feed.properties[0.0].flow_mass_phase_comp[Liq,HCO3_-] + fs.feed.properties[0.0].flow_mass_phase_comp[Liq,H_+] + fs.feed.properties[0.0].flow_mass_phase_comp[Liq,OH_-])\n"
     ]
    },
    {
     "name": "stderr",
     "output_type": "stream",
     "text": [
      "WARNING:pyomo.core:Exception encountered evaluating expression 'div(0.0, 0.0)'\n",
      "\tmessage: float division by zero\n",
      "\texpression: fs.feed.properties[0.0].flow_mass_phase_comp[Liq,Ca_2+]/(fs.feed.properties[0.0].flow_mass_phase_comp[Liq,H2O] + fs.feed.properties[0.0].flow_mass_phase_comp[Liq,Ca_2+] + fs.feed.properties[0.0].flow_mass_phase_comp[Liq,Mg_2+] + fs.feed.properties[0.0].flow_mass_phase_comp[Liq,Na_+] + fs.feed.properties[0.0].flow_mass_phase_comp[Liq,Cl_-] + fs.feed.properties[0.0].flow_mass_phase_comp[Liq,HCO3_-] + fs.feed.properties[0.0].flow_mass_phase_comp[Liq,H_+] + fs.feed.properties[0.0].flow_mass_phase_comp[Liq,OH_-])\n"
     ]
    },
    {
     "name": "stderr",
     "output_type": "stream",
     "text": [
      "WARNING:pyomo.core:Exception encountered evaluating expression 'div(0.0, 0.0)'\n",
      "\tmessage: float division by zero\n",
      "\texpression: fs.feed.properties[0.0].flow_mass_phase_comp[Liq,Mg_2+]/(fs.feed.properties[0.0].flow_mass_phase_comp[Liq,H2O] + fs.feed.properties[0.0].flow_mass_phase_comp[Liq,Ca_2+] + fs.feed.properties[0.0].flow_mass_phase_comp[Liq,Mg_2+] + fs.feed.properties[0.0].flow_mass_phase_comp[Liq,Na_+] + fs.feed.properties[0.0].flow_mass_phase_comp[Liq,Cl_-] + fs.feed.properties[0.0].flow_mass_phase_comp[Liq,HCO3_-] + fs.feed.properties[0.0].flow_mass_phase_comp[Liq,H_+] + fs.feed.properties[0.0].flow_mass_phase_comp[Liq,OH_-])\n"
     ]
    },
    {
     "name": "stderr",
     "output_type": "stream",
     "text": [
      "WARNING:pyomo.core:Exception encountered evaluating expression 'div(0.0, 0.0)'\n",
      "\tmessage: float division by zero\n",
      "\texpression: fs.feed.properties[0.0].flow_mass_phase_comp[Liq,Na_+]/(fs.feed.properties[0.0].flow_mass_phase_comp[Liq,H2O] + fs.feed.properties[0.0].flow_mass_phase_comp[Liq,Ca_2+] + fs.feed.properties[0.0].flow_mass_phase_comp[Liq,Mg_2+] + fs.feed.properties[0.0].flow_mass_phase_comp[Liq,Na_+] + fs.feed.properties[0.0].flow_mass_phase_comp[Liq,Cl_-] + fs.feed.properties[0.0].flow_mass_phase_comp[Liq,HCO3_-] + fs.feed.properties[0.0].flow_mass_phase_comp[Liq,H_+] + fs.feed.properties[0.0].flow_mass_phase_comp[Liq,OH_-])\n"
     ]
    },
    {
     "name": "stderr",
     "output_type": "stream",
     "text": [
      "WARNING:pyomo.core:Exception encountered evaluating expression 'div(0.0, 0.0)'\n",
      "\tmessage: float division by zero\n",
      "\texpression: fs.feed.properties[0.0].flow_mass_phase_comp[Liq,Cl_-]/(fs.feed.properties[0.0].flow_mass_phase_comp[Liq,H2O] + fs.feed.properties[0.0].flow_mass_phase_comp[Liq,Ca_2+] + fs.feed.properties[0.0].flow_mass_phase_comp[Liq,Mg_2+] + fs.feed.properties[0.0].flow_mass_phase_comp[Liq,Na_+] + fs.feed.properties[0.0].flow_mass_phase_comp[Liq,Cl_-] + fs.feed.properties[0.0].flow_mass_phase_comp[Liq,HCO3_-] + fs.feed.properties[0.0].flow_mass_phase_comp[Liq,H_+] + fs.feed.properties[0.0].flow_mass_phase_comp[Liq,OH_-])\n"
     ]
    },
    {
     "name": "stderr",
     "output_type": "stream",
     "text": [
      "WARNING:pyomo.core:Exception encountered evaluating expression 'div(0.0, 0.0)'\n",
      "\tmessage: float division by zero\n",
      "\texpression: fs.feed.properties[0.0].flow_mass_phase_comp[Liq,HCO3_-]/(fs.feed.properties[0.0].flow_mass_phase_comp[Liq,H2O] + fs.feed.properties[0.0].flow_mass_phase_comp[Liq,Ca_2+] + fs.feed.properties[0.0].flow_mass_phase_comp[Liq,Mg_2+] + fs.feed.properties[0.0].flow_mass_phase_comp[Liq,Na_+] + fs.feed.properties[0.0].flow_mass_phase_comp[Liq,Cl_-] + fs.feed.properties[0.0].flow_mass_phase_comp[Liq,HCO3_-] + fs.feed.properties[0.0].flow_mass_phase_comp[Liq,H_+] + fs.feed.properties[0.0].flow_mass_phase_comp[Liq,OH_-])\n"
     ]
    },
    {
     "name": "stderr",
     "output_type": "stream",
     "text": [
      "WARNING:pyomo.core:Exception encountered evaluating expression 'div(0.0, 0.0)'\n",
      "\tmessage: float division by zero\n",
      "\texpression: fs.feed.properties[0.0].flow_mass_phase_comp[Liq,H_+]/(fs.feed.properties[0.0].flow_mass_phase_comp[Liq,H2O] + fs.feed.properties[0.0].flow_mass_phase_comp[Liq,Ca_2+] + fs.feed.properties[0.0].flow_mass_phase_comp[Liq,Mg_2+] + fs.feed.properties[0.0].flow_mass_phase_comp[Liq,Na_+] + fs.feed.properties[0.0].flow_mass_phase_comp[Liq,Cl_-] + fs.feed.properties[0.0].flow_mass_phase_comp[Liq,HCO3_-] + fs.feed.properties[0.0].flow_mass_phase_comp[Liq,H_+] + fs.feed.properties[0.0].flow_mass_phase_comp[Liq,OH_-])\n"
     ]
    },
    {
     "name": "stderr",
     "output_type": "stream",
     "text": [
      "WARNING:pyomo.core:Exception encountered evaluating expression 'div(0.0, 0.0)'\n",
      "\tmessage: float division by zero\n",
      "\texpression: fs.feed.properties[0.0].flow_mass_phase_comp[Liq,OH_-]/(fs.feed.properties[0.0].flow_mass_phase_comp[Liq,H2O] + fs.feed.properties[0.0].flow_mass_phase_comp[Liq,Ca_2+] + fs.feed.properties[0.0].flow_mass_phase_comp[Liq,Mg_2+] + fs.feed.properties[0.0].flow_mass_phase_comp[Liq,Na_+] + fs.feed.properties[0.0].flow_mass_phase_comp[Liq,Cl_-] + fs.feed.properties[0.0].flow_mass_phase_comp[Liq,HCO3_-] + fs.feed.properties[0.0].flow_mass_phase_comp[Liq,H_+] + fs.feed.properties[0.0].flow_mass_phase_comp[Liq,OH_-])\n"
     ]
    },
    {
     "name": "stderr",
     "output_type": "stream",
     "text": [
      "WARNING:watertap_ix_transport.utilities.property_calculations:Solver failed with error: Cannot emit InvalidNumber(nan) in compiled representation\n",
      "The InvalidNumber was generated by:\n",
      "\tfloat division by zero\n"
     ]
    },
    {
     "name": "stderr",
     "output_type": "stream",
     "text": [
      "INFO:__main__:Feed water mole fraction: 0.500000\n"
     ]
    },
    {
     "name": "stderr",
     "output_type": "stream",
     "text": [
      "WARNING:__main__:WARNING: Feed water mole fraction is 0.500000 (expected > 0.95)\n"
     ]
    },
    {
     "name": "stderr",
     "output_type": "stream",
     "text": [
      "WARNING:__main__:This may indicate an issue with mass flow specification or mole fraction calculation\n"
     ]
    },
    {
     "name": "stderr",
     "output_type": "stream",
     "text": [
      "ERROR:__main__:ERROR: Found ions with ~10,000 mg/L concentration in feed:\n"
     ]
    },
    {
     "name": "stderr",
     "output_type": "stream",
     "text": [
      "ERROR:__main__:  - Ca_2+: 10000.0 mg/L\n"
     ]
    },
    {
     "name": "stderr",
     "output_type": "stream",
     "text": [
      "ERROR:__main__:  - Mg_2+: 10000.0 mg/L\n"
     ]
    },
    {
     "name": "stderr",
     "output_type": "stream",
     "text": [
      "ERROR:__main__:  - Na_+: 10000.0 mg/L\n"
     ]
    },
    {
     "name": "stderr",
     "output_type": "stream",
     "text": [
      "ERROR:__main__:  - Cl_-: 10000.0 mg/L\n"
     ]
    },
    {
     "name": "stderr",
     "output_type": "stream",
     "text": [
      "ERROR:__main__:  - HCO3_-: 10000.0 mg/L\n"
     ]
    },
    {
     "name": "stderr",
     "output_type": "stream",
     "text": [
      "ERROR:__main__:  - H_+: 10000.0 mg/L\n"
     ]
    },
    {
     "name": "stderr",
     "output_type": "stream",
     "text": [
      "ERROR:__main__:  - OH_-: 10000.0 mg/L\n"
     ]
    },
    {
     "name": "stderr",
     "output_type": "stream",
     "text": [
      "ERROR:__main__:This indicates MCAS fallback to default values - check initialization sequence\n"
     ]
    }
   ],
   "source": [
    "# Build WaterTAP flowsheet model\n",
    "m = ConcreteModel()\n",
    "m.fs = FlowsheetBlock(dynamic=False)\n",
    "\n",
    "# Build MCAS property configuration from water analysis\n",
    "solute_list = []\n",
    "ion_mapping = {\n",
    "    'Ca_2+': 'Ca_2+',\n",
    "    'Mg_2+': 'Mg_2+', \n",
    "    'Na_+': 'Na_+',\n",
    "    'K_+': 'K_+',\n",
    "    'Cl_-': 'Cl_-',\n",
    "    'SO4_2-': 'SO4_2-',\n",
    "    'HCO3_-': 'HCO3_-',\n",
    "    'NO3_-': 'NO3_-',\n",
    "    'CO3_2-': 'CO3_2-',\n",
    "    'OH_-': 'OH_-',\n",
    "    'H_+': 'H_+'\n",
    "}\n",
    "\n",
    "# Build solute list from water analysis\n",
    "for ion, conc in water_analysis['ion_concentrations_mg_L'].items():\n",
    "    if ion in ion_mapping and conc > 0:\n",
    "        mapped_ion = ion_mapping[ion]\n",
    "        if mapped_ion not in solute_list:\n",
    "            solute_list.append(mapped_ion)\n",
    "\n",
    "# Always include H+ and OH- for pH calculations\n",
    "if 'H_+' not in solute_list:\n",
    "    solute_list.append('H_+')\n",
    "if 'OH_-' not in solute_list:\n",
    "    solute_list.append('OH_-')\n",
    "\n",
    "# Ensure hardness ions are present for IX model (required for target_ion_set)\n",
    "if 'Ca_2+' not in solute_list:\n",
    "    solute_list.append('Ca_2+')\n",
    "if 'Mg_2+' not in solute_list:\n",
    "    solute_list.append('Mg_2+')\n",
    "\n",
    "logger.info(f\"MCAS solute list: {solute_list}\")\n",
    "\n",
    "# Create MCAS property package\n",
    "m.fs.properties = MCASParameterBlock(\n",
    "    solute_list=solute_list,\n",
    "    material_flow_basis=MaterialFlowBasis.mass\n",
    ")\n",
    "\n",
    "# Create feed stream\n",
    "m.fs.feed = Feed(property_package=m.fs.properties)\n",
    "\n",
    "# Calculate mass flows from concentration data\n",
    "flow_rate_m3s = water_analysis['flow_m3_hr'] / 3600  # m³/s\n",
    "density_kg_m3 = 1000  # Approximate for dilute solutions\n",
    "\n",
    "# Calculate component mass flows\n",
    "flow_mass_comp = {}\n",
    "for ion, conc_mg_L in water_analysis['ion_concentrations_mg_L'].items():\n",
    "    if ion in ion_mapping and conc_mg_L > 0:\n",
    "        # Correct unit conversion:\n",
    "        # mg/L × (1 kg / 10^6 mg) × (10^3 L / 1 m³) = 10^-3 kg/m³\n",
    "        # Then: conc_mg_L × flow_rate_m3s × 10^-3 = kg/s\n",
    "        mass_flow_kg_s = conc_mg_L * flow_rate_m3s * 1e-3  # kg/s  <-- FIXED: was 1e-9\n",
    "        flow_mass_comp[('Liq', ion_mapping[ion])] = mass_flow_kg_s\n",
    "\n",
    "# Add trace amounts for missing required ions\n",
    "if ('Liq', 'Ca_2+') not in flow_mass_comp:\n",
    "    flow_mass_comp[('Liq', 'Ca_2+')] = 1e-10  # Trace amount\n",
    "if ('Liq', 'Mg_2+') not in flow_mass_comp:\n",
    "    flow_mass_comp[('Liq', 'Mg_2+')] = 1e-10  # Trace amount\n",
    "\n",
    "# Add trace amounts for H+ and OH- if not present\n",
    "if ('Liq', 'H_+') not in flow_mass_comp:\n",
    "    # pH 7.5 => [H+] = 10^-7.5 mol/L\n",
    "    h_conc_mol_L = 10**(-water_analysis['pH'])\n",
    "    h_mass_flow = h_conc_mol_L * 1.008 * flow_rate_m3s * 1e-3  # kg/s\n",
    "    flow_mass_comp[('Liq', 'H_+')] = h_mass_flow\n",
    "    \n",
    "if ('Liq', 'OH_-') not in flow_mass_comp:\n",
    "    # [OH-] from Kw = [H+][OH-] = 1e-14\n",
    "    oh_conc_mol_L = 1e-14 / (10**(-water_analysis['pH']))\n",
    "    oh_mass_flow = oh_conc_mol_L * 17.008 * flow_rate_m3s * 1e-3  # kg/s\n",
    "    flow_mass_comp[('Liq', 'OH_-')] = oh_mass_flow\n",
    "\n",
    "# Calculate water flow\n",
    "total_solute_flow = sum(flow_mass_comp.values())\n",
    "total_mass_flow = flow_rate_m3s * density_kg_m3\n",
    "flow_mass_comp[('Liq', 'H2O')] = total_mass_flow - total_solute_flow\n",
    "\n",
    "# Fix feed conditions\n",
    "m.fs.feed.outlet.temperature[0].fix(water_analysis['temperature_celsius'] + 273.15)  # K\n",
    "m.fs.feed.outlet.pressure[0].fix(water_analysis['pressure_bar'] * 1e5)  # Pa\n",
    "\n",
    "for comp_phase, flow in flow_mass_comp.items():\n",
    "    m.fs.feed.outlet.flow_mass_phase_comp[0, comp_phase[0], comp_phase[1]].fix(flow)\n",
    "\n",
    "logger.info(f\"Feed conditions set: {water_analysis['flow_m3_hr']} m³/hr at {water_analysis['temperature_celsius']}°C\")\n",
    "\n",
    "# CRITICAL: Fix mole fractions immediately after setting mass flows\n",
    "# This prevents MCAS from using default values (0.5 mol/L → 10,000 mg/L)\n",
    "logger.info(\"Fixing mole fractions for feed stream...\")\n",
    "\n",
    "# Import here to ensure it's available\n",
    "from watertap_ix_transport.utilities.property_calculations import fix_mole_fractions\n",
    "\n",
    "# Initialize feed to build constraints\n",
    "m.fs.feed.initialize()\n",
    "\n",
    "# Apply mole fraction fix\n",
    "fix_mole_fractions(m.fs.feed.properties[0])\n",
    "\n",
    "# Validate water mole fraction > 0.95\n",
    "water_mol_frac = value(m.fs.feed.properties[0].mole_frac_phase_comp['Liq', 'H2O'])\n",
    "logger.info(f\"Feed water mole fraction: {water_mol_frac:.6f}\")\n",
    "\n",
    "if water_mol_frac < 0.95:\n",
    "    logger.warning(f\"WARNING: Feed water mole fraction is {water_mol_frac:.6f} (expected > 0.95)\")\n",
    "    logger.warning(\"This may indicate an issue with mass flow specification or mole fraction calculation\")\n",
    "else:\n",
    "    logger.info(\"✓ Feed water mole fraction is correct (> 0.95)\")\n",
    "\n",
    "# Double-check no 10,000 mg/L values\n",
    "feed_state = m.fs.feed.properties[0]\n",
    "suspect_ions = []\n",
    "for comp in m.fs.properties.solute_set:\n",
    "    if comp != 'H2O':\n",
    "        conc_kg_m3 = value(feed_state.conc_mass_phase_comp['Liq', comp])\n",
    "        conc_mg_L = conc_kg_m3 * 1000\n",
    "        if abs(conc_mg_L - 10000) < 0.1:\n",
    "            suspect_ions.append((comp, conc_mg_L))\n",
    "\n",
    "if suspect_ions:\n",
    "    logger.error(\"ERROR: Found ions with ~10,000 mg/L concentration in feed:\")\n",
    "    for ion, conc in suspect_ions:\n",
    "        logger.error(f\"  - {ion}: {conc:.1f} mg/L\")\n",
    "    logger.error(\"This indicates MCAS fallback to default values - check initialization sequence\")\n",
    "else:\n",
    "    logger.info(\"✓ No suspicious 10,000 mg/L concentrations in feed\")"
   ]
  },
  {
   "cell_type": "code",
   "execution_count": 6,
   "id": "039b76c3",
   "metadata": {
    "execution": {
     "iopub.execute_input": "2025-07-25T02:53:57.519585Z",
     "iopub.status.busy": "2025-07-25T02:53:57.519585Z",
     "iopub.status.idle": "2025-07-25T02:53:57.565524Z",
     "shell.execute_reply": "2025-07-25T02:53:57.564931Z"
    },
    "papermill": {
     "duration": 0.055502,
     "end_time": "2025-07-25T02:53:57.566607",
     "exception": false,
     "start_time": "2025-07-25T02:53:57.511105",
     "status": "completed"
    },
    "tags": []
   },
   "outputs": [
    {
     "name": "stderr",
     "output_type": "stream",
     "text": [
      "INFO:watertap_ix_transport.transport_core.phreeqc_transport_engine:Loaded parameters for SAC resin\n"
     ]
    },
    {
     "name": "stderr",
     "output_type": "stream",
     "text": [
      "INFO:__main__:Created ix_sac: SAC resin, 2.0m bed depth\n"
     ]
    },
    {
     "name": "stderr",
     "output_type": "stream",
     "text": [
      "INFO:__main__:Flowsheet built with 1 IX vessels\n"
     ]
    }
   ],
   "source": [
    "# Build IX vessels based on configuration\n",
    "# Map resin types\n",
    "resin_type_map = {\n",
    "    'SAC': ResinType.SAC,\n",
    "    'WAC_H': ResinType.WAC_H,\n",
    "    'WAC_Na': ResinType.WAC_Na\n",
    "}\n",
    "\n",
    "# Map regenerant chemicals\n",
    "regenerant_map = {\n",
    "    'SAC': RegenerantChem.NaCl,\n",
    "    'WAC_H': RegenerantChem.HCl,\n",
    "    'WAC_Na': RegenerantChem.NaOH\n",
    "}\n",
    "\n",
    "# Track units and connections\n",
    "ix_units = {}\n",
    "previous_unit = m.fs.feed\n",
    "\n",
    "# Build each IX vessel in sequence\n",
    "for i, (vessel_name, vessel_config) in enumerate(ix_vessels.items()):\n",
    "    resin_type_str = vessel_config['resin_type']\n",
    "    resin_type = resin_type_map.get(resin_type_str, ResinType.SAC)\n",
    "    regenerant = regenerant_map.get(resin_type_str, RegenerantChem.NaCl)\n",
    "    \n",
    "    # Create IX unit\n",
    "    unit_name = f\"ix_{vessel_name.lower().replace('-', '_')}\"\n",
    "    ix_unit = IonExchangeTransport0D(\n",
    "        property_package=m.fs.properties,\n",
    "        resin_type=resin_type,\n",
    "        regenerant=regenerant,\n",
    "        number_of_beds=vessel_config['number_service']\n",
    "    )\n",
    "    setattr(m.fs, unit_name, ix_unit)\n",
    "    ix_units[vessel_name] = ix_unit\n",
    "    \n",
    "    # Set vessel parameters\n",
    "    if hasattr(ix_unit.bed_depth, 'fix'):\n",
    "        ix_unit.bed_depth.fix(vessel_config['bed_depth_m'])\n",
    "    else:\n",
    "        ix_unit.bed_depth.set_value(vessel_config['bed_depth_m'])\n",
    "        \n",
    "    if hasattr(ix_unit.bed_diameter, 'fix'):\n",
    "        ix_unit.bed_diameter.fix(vessel_config['diameter_m'])\n",
    "    else:\n",
    "        ix_unit.bed_diameter.set_value(vessel_config['diameter_m'])\n",
    "    \n",
    "    # Fix operating capacity based on water chemistry\n",
    "    if resin_type_str == 'SAC':\n",
    "        op_capacity = 0.8  # 80% of theoretical\n",
    "    elif resin_type_str == 'WAC_H':\n",
    "        op_capacity = 0.7  # 70% for H+ form\n",
    "    else:  # WAC_Na\n",
    "        op_capacity = 0.75  # 75% for Na+ form\n",
    "        \n",
    "    if hasattr(ix_unit.operating_capacity, 'fix'):\n",
    "        ix_unit.operating_capacity.fix(op_capacity)\n",
    "    else:\n",
    "        ix_unit.operating_capacity.set_value(op_capacity)\n",
    "    \n",
    "    # Create connection\n",
    "    arc_name = f\"arc_{i}\"\n",
    "    arc = Arc(source=previous_unit.outlet, destination=ix_unit.inlet)\n",
    "    setattr(m.fs, arc_name, arc)\n",
    "    \n",
    "    previous_unit = ix_unit\n",
    "    logger.info(f\"Created {unit_name}: {resin_type_str} resin, {vessel_config['bed_depth_m']}m bed depth\")\n",
    "\n",
    "# Add degasser if present\n",
    "degasser_unit = None\n",
    "if degasser_config:\n",
    "    logger.info(\"Adding degasser to flowsheet\")\n",
    "    \n",
    "    # Create degasser unit\n",
    "    m.fs.degasser = DegasserTower0DPhreeqc(\n",
    "        property_package=m.fs.properties\n",
    "    )\n",
    "    degasser_unit = m.fs.degasser\n",
    "    \n",
    "    # Set degasser operating parameters\n",
    "    acid_dose = simulation_options.get('acid_dose_mmol_L', 2.0)  # Default 2 mmol/L\n",
    "    \n",
    "    if hasattr(m.fs.degasser.acid_dose_mmol_L, 'fix'):\n",
    "        m.fs.degasser.acid_dose_mmol_L.fix(acid_dose)\n",
    "    \n",
    "    # Set CO2 partial pressure target\n",
    "    if hasattr(m.fs.degasser.co2_partial_pressure, 'fix'):\n",
    "        m.fs.degasser.co2_partial_pressure.fix(0.0003)  # ~300 ppm atmospheric CO2\n",
    "    \n",
    "    # Gas-liquid ratio from configuration\n",
    "    air_water_ratio = configuration['hydraulics'].get('air_water_ratio', 45.0)\n",
    "    if hasattr(m.fs.degasser.gas_liquid_ratio, 'fix'):\n",
    "        m.fs.degasser.gas_liquid_ratio.fix(air_water_ratio)\n",
    "    \n",
    "    # Connect last IX unit to degasser\n",
    "    arc = Arc(source=previous_unit.outlet, destination=m.fs.degasser.inlet)\n",
    "    m.fs.arc_to_degasser = arc\n",
    "    \n",
    "    previous_unit = m.fs.degasser\n",
    "\n",
    "# Create final product stream\n",
    "m.fs.product = Product(property_package=m.fs.properties)\n",
    "arc = Arc(source=previous_unit.outlet, destination=m.fs.product.inlet)\n",
    "m.fs.arc_to_product = arc\n",
    "\n",
    "# Expand arcs\n",
    "TransformationFactory(\"network.expand_arcs\").apply_to(m)\n",
    "\n",
    "logger.info(f\"Flowsheet built with {len(ix_units)} IX vessels\" + \n",
    "           (f\" and degasser\" if degasser_unit else \"\"))"
   ]
  },
  {
   "cell_type": "code",
   "execution_count": 7,
   "id": "d3bb8ff2",
   "metadata": {
    "execution": {
     "iopub.execute_input": "2025-07-25T02:53:57.580021Z",
     "iopub.status.busy": "2025-07-25T02:53:57.579487Z",
     "iopub.status.idle": "2025-07-25T02:53:57.711026Z",
     "shell.execute_reply": "2025-07-25T02:53:57.711026Z"
    },
    "papermill": {
     "duration": 0.141798,
     "end_time": "2025-07-25T02:53:57.713302",
     "exception": false,
     "start_time": "2025-07-25T02:53:57.571504",
     "status": "completed"
    },
    "tags": []
   },
   "outputs": [
    {
     "name": "stderr",
     "output_type": "stream",
     "text": [
      "INFO:__main__:Initializing flowsheet...\n"
     ]
    },
    {
     "name": "stderr",
     "output_type": "stream",
     "text": [
      "INFO:__main__:Initializing feed...\n"
     ]
    },
    {
     "name": "stderr",
     "output_type": "stream",
     "text": [
      "ERROR:pyomo.common.numeric_types:evaluating object as numeric value: fs.feed.properties[0.0].flow_mass_phase_comp[Liq,H2O]/(fs.feed.properties[0.0].flow_mass_phase_comp[Liq,H2O] + fs.feed.properties[0.0].flow_mass_phase_comp[Liq,Ca_2+] + fs.feed.properties[0.0].flow_mass_phase_comp[Liq,Mg_2+] + fs.feed.properties[0.0].flow_mass_phase_comp[Liq,Na_+] + fs.feed.properties[0.0].flow_mass_phase_comp[Liq,Cl_-] + fs.feed.properties[0.0].flow_mass_phase_comp[Liq,HCO3_-] + fs.feed.properties[0.0].flow_mass_phase_comp[Liq,H_+] + fs.feed.properties[0.0].flow_mass_phase_comp[Liq,OH_-])\n",
      "    (object: <class 'pyomo.core.expr.numeric_expr.DivisionExpression'>)\n",
      "float division by zero\n"
     ]
    },
    {
     "name": "stderr",
     "output_type": "stream",
     "text": [
      "ERROR:__main__:Error during initialization/solve: float division by zero\n"
     ]
    },
    {
     "name": "stderr",
     "output_type": "stream",
     "text": [
      "Traceback (most recent call last):\n",
      "  File \"C:\\Users\\hvksh\\AppData\\Local\\Temp\\ipykernel_42104\\3101208827.py\", line 9, in <module>\n",
      "    m.fs.feed.initialize(outlvl=idaeslog.NOTSET)\n",
      "  File \"C:\\Users\\hvksh\\mcp-servers\\venv312\\Lib\\site-packages\\idaes\\core\\base\\unit_model.py\", line 540, in initialize\n",
      "    flags = blk.initialize_build(*args, **kwargs)\n",
      "            ^^^^^^^^^^^^^^^^^^^^^^^^^^^^^^^^^^^^^\n",
      "  File \"C:\\Users\\hvksh\\mcp-servers\\venv312\\Lib\\site-packages\\idaes\\models\\unit_models\\feed.py\", line 186, in initialize_build\n",
      "    blk.properties.initialize(\n",
      "  File \"C:\\Users\\hvksh\\mcp-servers\\venv312\\Lib\\site-packages\\watertap\\property_models\\multicomp_aq_sol_prop_pack.py\", line 768, in initialize\n",
      "    self[k].mass_frac_phase_comp[\"Liq\", j].set_value(\n",
      "  File \"C:\\Users\\hvksh\\mcp-servers\\venv312\\Lib\\site-packages\\pyomo\\core\\base\\var.py\", line 159, in set_value\n",
      "    _src_magnitude = value(val)\n",
      "                     ^^^^^^^^^^\n",
      "  File \"C:\\Users\\hvksh\\mcp-servers\\venv312\\Lib\\site-packages\\pyomo\\common\\numeric_types.py\", line 382, in value\n",
      "    tmp = obj(exception=True)\n",
      "          ^^^^^^^^^^^^^^^^^^^\n",
      "  File \"C:\\Users\\hvksh\\mcp-servers\\venv312\\Lib\\site-packages\\pyomo\\core\\expr\\base.py\", line 118, in __call__\n",
      "    return visitor.evaluate_expression(self, exception)\n",
      "           ^^^^^^^^^^^^^^^^^^^^^^^^^^^^^^^^^^^^^^^^^^^^\n",
      "  File \"C:\\Users\\hvksh\\mcp-servers\\venv312\\Lib\\site-packages\\pyomo\\core\\expr\\visitor.py\", line 1314, in evaluate_expression\n",
      "    ans = visitor.dfs_postorder_stack(exp)\n",
      "          ^^^^^^^^^^^^^^^^^^^^^^^^^^^^^^^^\n",
      "  File \"C:\\Users\\hvksh\\mcp-servers\\venv312\\Lib\\site-packages\\pyomo\\core\\expr\\visitor.py\", line 949, in dfs_postorder_stack\n",
      "    ans = self.visit(_obj, _result)\n",
      "          ^^^^^^^^^^^^^^^^^^^^^^^^^\n",
      "  File \"C:\\Users\\hvksh\\mcp-servers\\venv312\\Lib\\site-packages\\pyomo\\core\\expr\\visitor.py\", line 1200, in visit\n",
      "    return node._apply_operation(values)\n",
      "           ^^^^^^^^^^^^^^^^^^^^^^^^^^^^^\n",
      "  File \"C:\\Users\\hvksh\\mcp-servers\\venv312\\Lib\\site-packages\\pyomo\\core\\expr\\numeric_expr.py\", line 1148, in _apply_operation\n",
      "    return result[0] / result[1]\n",
      "           ~~~~~~~~~~^~~~~~~~~~~\n",
      "ZeroDivisionError: float division by zero\n"
     ]
    }
   ],
   "source": [
    "# Initialize the flowsheet with consistent 3-step pattern\n",
    "logger.info(\"Initializing flowsheet...\")\n",
    "\n",
    "try:\n",
    "    import idaes.logger as idaeslog\n",
    "    \n",
    "    # Initialize feed\n",
    "    logger.info(\"Initializing feed...\")\n",
    "    m.fs.feed.initialize(outlvl=idaeslog.NOTSET)\n",
    "    \n",
    "    # Re-apply mole fraction fix after feed initialization to ensure correctness\n",
    "    if hasattr(m.fs.properties, 'material_flow_basis'):\n",
    "        from watertap_ix_transport.utilities.property_calculations import fix_mole_fractions\n",
    "        fix_mole_fractions(m.fs.feed.properties[0])\n",
    "        \n",
    "        # Validate feed water mole fraction\n",
    "        feed_water_mol_frac = value(m.fs.feed.properties[0].mole_frac_phase_comp['Liq', 'H2O'])\n",
    "        logger.info(f\"Feed water mole fraction after init: {feed_water_mol_frac:.6f}\")\n",
    "        if feed_water_mol_frac < 0.95:\n",
    "            logger.error(f\"ERROR: Feed water mole fraction too low: {feed_water_mol_frac:.6f}\")\n",
    "            raise ValueError(\"Feed initialization produced invalid water mole fraction\")\n",
    "    \n",
    "    # Initialize units in sequence\n",
    "    arc_counter = 0\n",
    "    \n",
    "    # Initialize IX units with consistent 3-step pattern\n",
    "    for i, (vessel_name, ix_unit) in enumerate(ix_units.items()):\n",
    "        logger.info(f\"Initializing {vessel_name}...\")\n",
    "        \n",
    "        # Propagate state through arc\n",
    "        arc_name = f\"arc_{arc_counter}\"\n",
    "        if hasattr(m.fs, arc_name):\n",
    "            propagate_state(getattr(m.fs, arc_name))\n",
    "            arc_counter += 1\n",
    "        \n",
    "        # STEP 1: Initialize IX unit\n",
    "        ix_unit.initialize(outlvl=idaeslog.NOTSET)\n",
    "        logger.info(f\"  {vessel_name} initialized\")\n",
    "        \n",
    "        # STEP 2: Calculate PHREEQC performance (ALWAYS)\n",
    "        logger.info(f\"  Calculating {vessel_name} PHREEQC performance...\")\n",
    "        ix_unit.calculate_performance()\n",
    "        \n",
    "        # STEP 3: Solve to propagate mass transfer\n",
    "        logger.info(f\"  Solving {vessel_name} to propagate mass transfer...\")\n",
    "        solver = get_solver()\n",
    "        solver.options['tol'] = 1e-6\n",
    "        results = solver.solve(ix_unit, tee=False)\n",
    "        \n",
    "        if results.solver.termination_condition == 'optimal':\n",
    "            logger.info(f\"  {vessel_name} mass transfer propagated successfully\")\n",
    "        else:\n",
    "            logger.warning(f\"  {vessel_name} solve terminated with: {results.solver.termination_condition}\")\n",
    "        \n",
    "        # Validate hardness reduction\n",
    "        inlet_ca = value(ix_unit.control_volume.properties_in[0].conc_mass_phase_comp['Liq', 'Ca_2+']) * 1000\n",
    "        outlet_ca = value(ix_unit.control_volume.properties_out[0].conc_mass_phase_comp['Liq', 'Ca_2+']) * 1000\n",
    "        inlet_mg = value(ix_unit.control_volume.properties_in[0].conc_mass_phase_comp['Liq', 'Mg_2+']) * 1000\n",
    "        outlet_mg = value(ix_unit.control_volume.properties_out[0].conc_mass_phase_comp['Liq', 'Mg_2+']) * 1000\n",
    "        \n",
    "        logger.info(f\"  {vessel_name} Ca: {inlet_ca:.1f} → {outlet_ca:.1f} mg/L\")\n",
    "        logger.info(f\"  {vessel_name} Mg: {inlet_mg:.1f} → {outlet_mg:.1f} mg/L\")\n",
    "        \n",
    "        # Check for correct ion exchange behavior\n",
    "        if outlet_ca > inlet_ca * 1.05 or outlet_mg > inlet_mg * 1.05:\n",
    "            logger.error(f\"  ERROR: Hardness increased across {vessel_name}!\")\n",
    "        else:\n",
    "            ca_removal = (inlet_ca - outlet_ca) / inlet_ca * 100 if inlet_ca > 0 else 0\n",
    "            mg_removal = (inlet_mg - outlet_mg) / inlet_mg * 100 if inlet_mg > 0 else 0\n",
    "            logger.info(f\"  {vessel_name} removal: Ca {ca_removal:.1f}%, Mg {mg_removal:.1f}%\")\n",
    "    \n",
    "    # Initialize degasser if present\n",
    "    if degasser_unit:\n",
    "        logger.info(\"Initializing degasser...\")\n",
    "        \n",
    "        # Propagate to degasser\n",
    "        if hasattr(m.fs, 'arc_to_degasser'):\n",
    "            propagate_state(m.fs.arc_to_degasser)\n",
    "        \n",
    "        # Initialize degasser\n",
    "        degasser_unit.initialize(outlvl=idaeslog.NOTSET)\n",
    "        logger.info(\"  Degasser initialized successfully\")\n",
    "    \n",
    "    # Initialize product\n",
    "    logger.info(\"Initializing product stream...\")\n",
    "    if hasattr(m.fs, 'arc_to_product'):\n",
    "        propagate_state(m.fs.arc_to_product)\n",
    "    m.fs.product.initialize(outlvl=idaeslog.NOTSET)\n",
    "    \n",
    "    # Final validation - check product water\n",
    "    product_state = m.fs.product.properties[0]\n",
    "    \n",
    "    # Final hardness check\n",
    "    product_ca = value(product_state.conc_mass_phase_comp['Liq', 'Ca_2+']) * 1000\n",
    "    product_mg = value(product_state.conc_mass_phase_comp['Liq', 'Mg_2+']) * 1000\n",
    "    feed_ca = water_analysis['ion_concentrations_mg_L'].get('Ca_2+', 0)\n",
    "    feed_mg = water_analysis['ion_concentrations_mg_L'].get('Mg_2+', 0)\n",
    "    \n",
    "    logger.info(f\"\\nOverall hardness removal:\")\n",
    "    logger.info(f\"  Ca: {feed_ca:.1f} → {product_ca:.1f} mg/L ({(1-product_ca/feed_ca)*100:.1f}% removal)\")\n",
    "    logger.info(f\"  Mg: {feed_mg:.1f} → {product_mg:.1f} mg/L ({(1-product_mg/feed_mg)*100:.1f}% removal)\")\n",
    "    \n",
    "    if product_ca > feed_ca or product_mg > feed_mg:\n",
    "        logger.error(\"ERROR: Product hardness is higher than feed!\")\n",
    "    else:\n",
    "        logger.info(\"✓ Ion exchange model is working correctly - hardness removed\")\n",
    "    \n",
    "    # Check degrees of freedom\n",
    "    dof = degrees_of_freedom(m)\n",
    "    logger.info(f\"\\nDegrees of freedom after initialization: {dof}\")\n",
    "    \n",
    "    if dof != 0:\n",
    "        logger.warning(f\"Model has {dof} degrees of freedom - checking for unspecified variables\")\n",
    "        \n",
    "        # Common missing specifications for IX models\n",
    "        for unit_name, ix_unit in ix_units.items():\n",
    "            # Check if service_time needs to be fixed\n",
    "            if hasattr(ix_unit, 'service_time') and not ix_unit.service_time.fixed:\n",
    "                # Set 24 hour service time as default\n",
    "                ix_unit.service_time.fix(24)  # hours\n",
    "                logger.info(f\"Fixed service time for {unit_name}: 24 hours\")\n",
    "            \n",
    "            # Check if regenerant_dose needs fixing\n",
    "            if hasattr(ix_unit, 'regenerant_dose') and not ix_unit.regenerant_dose.fixed:\n",
    "                resin_type = ix_vessels[unit_name]['resin_type']\n",
    "                if resin_type == 'SAC':\n",
    "                    dose = 120  # kg/m³\n",
    "                elif resin_type == 'WAC_H':\n",
    "                    dose = 80\n",
    "                else:  # WAC_Na\n",
    "                    dose = 60\n",
    "                ix_unit.regenerant_dose.fix(dose)\n",
    "                logger.info(f\"Fixed regenerant dose for {unit_name}: {dose} kg/m³\")\n",
    "        \n",
    "        # Re-check DOF\n",
    "        dof = degrees_of_freedom(m)\n",
    "        logger.info(f\"Degrees of freedom after fixing variables: {dof}\")\n",
    "    \n",
    "    # Solve the full model (not individual units)\n",
    "    logger.info(\"\\nSolving full model...\")\n",
    "    solver = get_solver()\n",
    "    \n",
    "    # Use appropriate solver settings for IX models\n",
    "    solver.options['tol'] = 1e-6\n",
    "    solver.options['constr_viol_tol'] = 1e-6\n",
    "    solver.options['max_iter'] = 100\n",
    "    \n",
    "    results = solver.solve(m, tee=True)\n",
    "    \n",
    "    # Check solver status\n",
    "    from pyomo.opt import TerminationCondition\n",
    "    if results.solver.termination_condition == TerminationCondition.optimal:\n",
    "        logger.info(\"Model solved successfully!\")\n",
    "        solve_status = \"success\"\n",
    "        \n",
    "        # Report key results\n",
    "        for vessel_name, ix_unit in ix_units.items():\n",
    "            if hasattr(ix_unit, 'breakthrough_time'):\n",
    "                bt_hours = value(ix_unit.breakthrough_time)  # Already in hours\n",
    "                logger.info(f\"  {vessel_name} breakthrough: {bt_hours:.1f} hours\")\n",
    "            if hasattr(ix_unit, 'service_time'):\n",
    "                st_hours = value(ix_unit.service_time)\n",
    "                logger.info(f\"  {vessel_name} service time: {st_hours:.1f} hours\")\n",
    "    else:\n",
    "        logger.warning(f\"Solver terminated with: {results.solver.termination_condition}\")\n",
    "        solve_status = \"partial_success\"\n",
    "        \n",
    "except Exception as e:\n",
    "    logger.error(f\"Error during initialization/solve: {str(e)}\")\n",
    "    import traceback\n",
    "    traceback.print_exc()\n",
    "    solve_status = \"error\"\n",
    "    error_message = str(e)"
   ]
  },
  {
   "cell_type": "code",
   "execution_count": 8,
   "id": "707b259d",
   "metadata": {
    "execution": {
     "iopub.execute_input": "2025-07-25T02:53:57.722823Z",
     "iopub.status.busy": "2025-07-25T02:53:57.722823Z",
     "iopub.status.idle": "2025-07-25T02:53:57.742496Z",
     "shell.execute_reply": "2025-07-25T02:53:57.742496Z"
    },
    "papermill": {
     "duration": 0.030701,
     "end_time": "2025-07-25T02:53:57.744003",
     "exception": false,
     "start_time": "2025-07-25T02:53:57.713302",
     "status": "completed"
    },
    "tags": []
   },
   "outputs": [
    {
     "name": "stderr",
     "output_type": "stream",
     "text": [
      "WARNING:__main__:Skipping validation due to solve failure\n"
     ]
    }
   ],
   "source": [
    "# Validate ion exchange behavior with DirectPhreeqcEngine\n",
    "if solve_status in [\"success\", \"partial_success\"]:\n",
    "    logger.info(\"\\nValidating ion exchange behavior...\")\n",
    "    \n",
    "    # Get feed and product concentrations\n",
    "    feed_ca = water_analysis['ion_concentrations_mg_L'].get('Ca_2+', 0)\n",
    "    feed_mg = water_analysis['ion_concentrations_mg_L'].get('Mg_2+', 0)\n",
    "    feed_na = water_analysis['ion_concentrations_mg_L'].get('Na_+', 0)\n",
    "    \n",
    "    product_state = m.fs.product.properties[0]\n",
    "    product_ca = value(product_state.conc_mass_phase_comp['Liq', 'Ca_2+']) * 1000\n",
    "    product_mg = value(product_state.conc_mass_phase_comp['Liq', 'Mg_2+']) * 1000\n",
    "    product_na = value(product_state.conc_mass_phase_comp['Liq', 'Na_+']) * 1000\n",
    "    \n",
    "    # Validate hardness removal\n",
    "    ca_removal = (feed_ca - product_ca) / feed_ca * 100 if feed_ca > 0 else 0\n",
    "    mg_removal = (feed_mg - product_mg) / feed_mg * 100 if feed_mg > 0 else 0\n",
    "    \n",
    "    logger.info(f\"\\nHardness Removal Performance:\")\n",
    "    logger.info(f\"  Ca removal: {ca_removal:.1f}% ({feed_ca:.1f} → {product_ca:.1f} mg/L)\")\n",
    "    logger.info(f\"  Mg removal: {mg_removal:.1f}% ({feed_mg:.1f} → {product_mg:.1f} mg/L)\")\n",
    "    \n",
    "    # Validate counter-ion behavior\n",
    "    na_increase = product_na - feed_na\n",
    "    logger.info(f\"\\nCounter-ion Release:\")\n",
    "    logger.info(f\"  Na increase: {na_increase:.1f} mg/L ({feed_na:.1f} → {product_na:.1f} mg/L)\")\n",
    "    \n",
    "    # Mass balance check (meq/L)\n",
    "    ca_removed_meq = (feed_ca - product_ca) / 20.04  # Ca MW/2\n",
    "    mg_removed_meq = (feed_mg - product_mg) / 12.15  # Mg MW/2\n",
    "    na_released_meq = na_increase / 23.0  # Na MW\n",
    "    \n",
    "    total_hardness_removed_meq = ca_removed_meq + mg_removed_meq\n",
    "    charge_balance_error = abs(2 * total_hardness_removed_meq - na_released_meq) / (2 * total_hardness_removed_meq) * 100 if total_hardness_removed_meq > 0 else 0\n",
    "    \n",
    "    logger.info(f\"\\nMass Balance Check:\")\n",
    "    logger.info(f\"  Hardness removed: {total_hardness_removed_meq:.2f} meq/L\")\n",
    "    logger.info(f\"  Na released: {na_released_meq:.2f} meq/L\")\n",
    "    logger.info(f\"  Charge balance error: {charge_balance_error:.1f}%\")\n",
    "    \n",
    "    # Validation criteria\n",
    "    if ca_removal > 80 and mg_removal > 80:\n",
    "        logger.info(\"\\n✓ Ion exchange is working correctly - high hardness removal achieved\")\n",
    "    elif ca_removal > 50 or mg_removal > 50:\n",
    "        logger.info(\"\\n⚠ Ion exchange is partially working - moderate hardness removal\")\n",
    "    else:\n",
    "        logger.error(\"\\n✗ Ion exchange is NOT working properly - low/no hardness removal\")\n",
    "        \n",
    "    if charge_balance_error < 15:\n",
    "        logger.info(\"✓ Mass balance is acceptable\")\n",
    "    else:\n",
    "        logger.warning(f\"⚠ Mass balance error is high: {charge_balance_error:.1f}%\")\n",
    "        \n",
    "    # Check for specific flowsheet behaviors\n",
    "    if flowsheet_type == 'hwac_degasser_nawac':\n",
    "        # H-WAC should release H+ (lower pH)\n",
    "        for vessel_name, ix_unit in ix_units.items():\n",
    "            if 'H-WAC' in vessel_name:\n",
    "                inlet_pH = value(ix_unit.control_volume.properties_in[0].pH) if hasattr(ix_unit.control_volume.properties_in[0], 'pH') else 7.5\n",
    "                outlet_pH = value(ix_unit.control_volume.properties_out[0].pH) if hasattr(ix_unit.control_volume.properties_out[0], 'pH') else 7.5\n",
    "                if outlet_pH < inlet_pH - 0.5:\n",
    "                    logger.info(f\"✓ H-WAC correctly releases H+ (pH: {inlet_pH:.1f} → {outlet_pH:.1f})\")\n",
    "                else:\n",
    "                    logger.warning(f\"⚠ H-WAC pH change is small (pH: {inlet_pH:.1f} → {outlet_pH:.1f})\")\n",
    "else:\n",
    "    logger.warning(\"Skipping validation due to solve failure\")"
   ]
  },
  {
   "cell_type": "markdown",
   "id": "d0c82858",
   "metadata": {
    "papermill": {
     "duration": 0.004492,
     "end_time": "2025-07-25T02:53:57.755158",
     "exception": false,
     "start_time": "2025-07-25T02:53:57.750666",
     "status": "completed"
    },
    "tags": []
   },
   "source": [
    "## Validate Ion Exchange Behavior\n",
    "\n",
    "This section validates that DirectPhreeqcEngine is correctly modeling ion exchange reactions."
   ]
  },
  {
   "cell_type": "markdown",
   "id": "d37f9fe6",
   "metadata": {
    "papermill": {
     "duration": 0.006239,
     "end_time": "2025-07-25T02:53:57.767728",
     "exception": false,
     "start_time": "2025-07-25T02:53:57.761489",
     "status": "completed"
    },
    "tags": []
   },
   "source": [
    "## Extract Results"
   ]
  },
  {
   "cell_type": "code",
   "execution_count": 9,
   "id": "a2cd5bf5",
   "metadata": {
    "execution": {
     "iopub.execute_input": "2025-07-25T02:53:57.781732Z",
     "iopub.status.busy": "2025-07-25T02:53:57.781201Z",
     "iopub.status.idle": "2025-07-25T02:53:57.804527Z",
     "shell.execute_reply": "2025-07-25T02:53:57.803453Z"
    },
    "papermill": {
     "duration": 0.032437,
     "end_time": "2025-07-25T02:53:57.805614",
     "exception": false,
     "start_time": "2025-07-25T02:53:57.773177",
     "status": "completed"
    },
    "tags": []
   },
   "outputs": [
    {
     "name": "stderr",
     "output_type": "stream",
     "text": [
      "INFO:__main__:Results extraction complete\n"
     ]
    }
   ],
   "source": [
    "# Extract results from solved model\n",
    "if solve_status in [\"success\", \"partial_success\"]:\n",
    "    # Extract treated water composition\n",
    "    product_state = m.fs.product.properties[0]\n",
    "    \n",
    "    treated_water = {\n",
    "        'flow_m3_hr': value(product_state.flow_vol_phase['Liq']) * 3600,  # m³/hr\n",
    "        'temperature_celsius': value(product_state.temperature) - 273.15,\n",
    "        'pressure_bar': value(product_state.pressure) / 1e5,\n",
    "        'pH': value(product_state.pH) if hasattr(product_state, 'pH') else 7.5,\n",
    "        'ion_concentrations_mg_L': {}\n",
    "    }\n",
    "    \n",
    "    # Extract ion concentrations\n",
    "    for comp in m.fs.properties.solute_set:\n",
    "        if comp != 'H2O':\n",
    "            # Get mass concentration\n",
    "            mass_conc = value(product_state.conc_mass_phase_comp['Liq', comp])  # kg/m³\n",
    "            treated_water['ion_concentrations_mg_L'][comp] = mass_conc * 1000  # mg/L\n",
    "    \n",
    "    # Extract IX performance for each vessel\n",
    "    ix_performance = {}\n",
    "    \n",
    "    for vessel_name, ix_unit in ix_units.items():\n",
    "        # Get breakthrough and capacity metrics\n",
    "        if hasattr(ix_unit, 'breakthrough_time'):\n",
    "            breakthrough_time = value(ix_unit.breakthrough_time)  # Already in hours\n",
    "        else:\n",
    "            # Estimate based on capacity and flow\n",
    "            bed_volume = value(ix_unit.bed_volume)\n",
    "            # Get flow from control volume\n",
    "            flow_rate = value(ix_unit.control_volume.properties_in[0].flow_vol_phase['Liq'])\n",
    "            capacity_eq_L = value(ix_unit.operating_capacity) * 2.0  # eq/L for SAC\n",
    "            \n",
    "            # Estimate breakthrough based on hardness loading\n",
    "            feed_hardness = water_analysis['ion_concentrations_mg_L'].get('Ca_2+', 0) / 20 + \\\n",
    "                          water_analysis['ion_concentrations_mg_L'].get('Mg_2+', 0) / 12.2\n",
    "            feed_hardness_eq_L = feed_hardness / 1000\n",
    "            \n",
    "            if feed_hardness_eq_L > 0:\n",
    "                breakthrough_bv = capacity_eq_L / feed_hardness_eq_L\n",
    "                breakthrough_time = breakthrough_bv * bed_volume / (flow_rate * 3600)\n",
    "            else:\n",
    "                breakthrough_time = 100  # Default high value\n",
    "        \n",
    "        # Calculate regenerant consumption\n",
    "        if hasattr(ix_unit, 'regenerant_dose'):\n",
    "            regen_dose = value(ix_unit.regenerant_dose)  # kg/m³ resin\n",
    "        else:\n",
    "            # Default regenerant doses\n",
    "            resin_type = ix_vessels[vessel_name]['resin_type']\n",
    "            if resin_type == 'SAC':\n",
    "                regen_dose = 120  # kg NaCl/m³ resin\n",
    "            elif resin_type == 'WAC_H':\n",
    "                regen_dose = 80   # kg HCl/m³ resin\n",
    "            else:  # WAC_Na\n",
    "                regen_dose = 60   # kg NaOH/m³ resin\n",
    "        \n",
    "        bed_volume = value(ix_unit.bed_volume)\n",
    "        regenerant_kg = regen_dose * bed_volume\n",
    "        \n",
    "        # Get leakage\n",
    "        product_hardness = 0\n",
    "        if 'Ca_2+' in treated_water['ion_concentrations_mg_L']:\n",
    "            product_hardness += treated_water['ion_concentrations_mg_L']['Ca_2+'] * 2.5\n",
    "        if 'Mg_2+' in treated_water['ion_concentrations_mg_L']:\n",
    "            product_hardness += treated_water['ion_concentrations_mg_L']['Mg_2+'] * 4.1\n",
    "        \n",
    "        # Get flow rate for BV calculation\n",
    "        flow_rate = value(ix_unit.control_volume.properties_in[0].flow_vol_phase['Liq'])\n",
    "        \n",
    "        ix_performance[vessel_name] = {\n",
    "            'breakthrough_time_hours': breakthrough_time,\n",
    "            'bed_volumes_treated': breakthrough_time * flow_rate * 3600 / bed_volume,\n",
    "            'regenerant_consumption_kg': regenerant_kg,\n",
    "            'average_hardness_leakage_mg_L': product_hardness,\n",
    "            'capacity_utilization_percent': 75.0  # Default estimate\n",
    "        }\n",
    "    \n",
    "    # Extract degasser performance if present\n",
    "    degasser_performance = {}\n",
    "    if degasser_unit:\n",
    "        inlet_state = m.fs.degasser.control_volume.properties_in[0]\n",
    "        outlet_state = m.fs.degasser.control_volume.properties_out[0]\n",
    "        \n",
    "        # Get CO2/alkalinity before and after\n",
    "        if 'CO2' in m.fs.properties.solute_set:\n",
    "            inlet_co2 = value(inlet_state.conc_mass_phase_comp['Liq', 'CO2']) * 1000\n",
    "            outlet_co2 = value(outlet_state.conc_mass_phase_comp['Liq', 'CO2']) * 1000\n",
    "        else:\n",
    "            # Estimate from alkalinity\n",
    "            inlet_alk = water_analysis.get('alkalinity_mg_L_CaCO3', 300)\n",
    "            outlet_alk = inlet_alk * 0.2  # Assume 80% removal\n",
    "            inlet_co2 = inlet_alk * 0.88  # Rough conversion\n",
    "            outlet_co2 = outlet_alk * 0.88\n",
    "        \n",
    "        removal_efficiency = (inlet_co2 - outlet_co2) / inlet_co2 * 100 if inlet_co2 > 0 else 90\n",
    "        \n",
    "        degasser_performance = {\n",
    "            'influent_CO2_mg_L': inlet_co2,\n",
    "            'effluent_CO2_mg_L': outlet_co2,\n",
    "            'efficiency_percent': removal_efficiency,\n",
    "            'power_consumption_kW': degasser_config.get('fan_power_kW', 18.0)\n",
    "        }\n",
    "    \n",
    "    # Build water quality progression\n",
    "    water_quality_progression = []\n",
    "    \n",
    "    # Add feed stage\n",
    "    water_quality_progression.append({\n",
    "        'stage': 'Feed',\n",
    "        'pH': water_analysis['pH'],\n",
    "        'temperature_celsius': water_analysis['temperature_celsius'],\n",
    "        'ion_concentrations_mg_L': water_analysis['ion_concentrations_mg_L'].copy(),\n",
    "        'alkalinity_mg_L_CaCO3': water_analysis.get('alkalinity_mg_L_CaCO3', 300),\n",
    "        'hardness_mg_L_CaCO3': water_analysis.get('total_hardness_mg_L_CaCO3', 400),\n",
    "        'tds_mg_L': water_analysis.get('tds_mg_L', 1000)\n",
    "    })\n",
    "    \n",
    "    # Add each IX stage\n",
    "    for vessel_name, ix_unit in ix_units.items():\n",
    "        outlet_state = ix_unit.control_volume.properties_out[0]\n",
    "        \n",
    "        stage_ions = {}\n",
    "        for comp in m.fs.properties.solute_set:\n",
    "            if comp != 'H2O':\n",
    "                mass_conc = value(outlet_state.conc_mass_phase_comp['Liq', comp]) * 1000\n",
    "                stage_ions[comp] = mass_conc\n",
    "        \n",
    "        # Calculate hardness and alkalinity\n",
    "        hardness = stage_ions.get('Ca_2+', 0) * 2.5 + stage_ions.get('Mg_2+', 0) * 4.1\n",
    "        alkalinity = stage_ions.get('HCO3_-', 0) * 0.82 + stage_ions.get('CO3_2-', 0) * 1.67\n",
    "        \n",
    "        water_quality_progression.append({\n",
    "            'stage': f\"After {vessel_name}\",\n",
    "            'pH': value(outlet_state.pH) if hasattr(outlet_state, 'pH') else 7.5,\n",
    "            'temperature_celsius': value(outlet_state.temperature) - 273.15,\n",
    "            'ion_concentrations_mg_L': stage_ions,\n",
    "            'alkalinity_mg_L_CaCO3': alkalinity,\n",
    "            'hardness_mg_L_CaCO3': hardness,\n",
    "            'tds_mg_L': sum(stage_ions.values())\n",
    "        })\n",
    "    \n",
    "    # Add degasser stage if present\n",
    "    if degasser_unit:\n",
    "        outlet_state = m.fs.degasser.control_volume.properties_out[0]\n",
    "        \n",
    "        stage_ions = {}\n",
    "        for comp in m.fs.properties.solute_set:\n",
    "            if comp != 'H2O':\n",
    "                mass_conc = value(outlet_state.conc_mass_phase_comp['Liq', comp]) * 1000\n",
    "                stage_ions[comp] = mass_conc\n",
    "        \n",
    "        water_quality_progression.append({\n",
    "            'stage': \"After Degasser\",\n",
    "            'pH': value(outlet_state.pH) if hasattr(outlet_state, 'pH') else 8.3,\n",
    "            'temperature_celsius': value(outlet_state.temperature) - 273.15,\n",
    "            'ion_concentrations_mg_L': stage_ions,\n",
    "            'alkalinity_mg_L_CaCO3': stage_ions.get('HCO3_-', 0) * 0.82,\n",
    "            'hardness_mg_L_CaCO3': stage_ions.get('Ca_2+', 0) * 2.5 + stage_ions.get('Mg_2+', 0) * 4.1,\n",
    "            'tds_mg_L': sum(stage_ions.values())\n",
    "        })\n",
    "    \n",
    "    # Calculate economics\n",
    "    economics = {\n",
    "        'capital_cost': 0,\n",
    "        'operating_cost_annual': 0,\n",
    "        'cost_per_m3': 0\n",
    "    }\n",
    "    \n",
    "    # Capital costs\n",
    "    for vessel_name, vessel_config in ix_vessels.items():\n",
    "        vessel_volume = vessel_config['resin_volume_m3']\n",
    "        vessel_cost = vessel_volume * 50000  # $50k/m³ installed\n",
    "        resin_cost = vessel_volume * 2000    # $2k/m³ resin\n",
    "        economics['capital_cost'] += (vessel_cost + resin_cost) * vessel_config['number_service']\n",
    "    \n",
    "    if degasser_unit:\n",
    "        degasser_cost = 200000  # Fixed estimate\n",
    "        economics['capital_cost'] += degasser_cost\n",
    "    \n",
    "    # Operating costs\n",
    "    annual_hours = 8760\n",
    "    flow_m3_hr = water_analysis['flow_m3_hr']\n",
    "    \n",
    "    # Chemical costs\n",
    "    for vessel_name, perf in ix_performance.items():\n",
    "        cycles_per_year = annual_hours / perf['breakthrough_time_hours']\n",
    "        annual_regen_kg = perf['regenerant_consumption_kg'] * cycles_per_year\n",
    "        \n",
    "        # Chemical prices $/kg\n",
    "        resin_type = ix_vessels[vessel_name]['resin_type']\n",
    "        if resin_type == 'SAC':\n",
    "            chem_price = 0.15  # NaCl\n",
    "        elif resin_type == 'WAC_H':\n",
    "            chem_price = 0.30  # HCl\n",
    "        else:\n",
    "            chem_price = 0.40  # NaOH\n",
    "        \n",
    "        economics['operating_cost_annual'] += annual_regen_kg * chem_price\n",
    "    \n",
    "    # Power costs\n",
    "    if degasser_unit:\n",
    "        power_cost = degasser_performance['power_consumption_kW'] * annual_hours * 0.08  # $/kWh\n",
    "        economics['operating_cost_annual'] += power_cost\n",
    "    \n",
    "    # Cost per m³\n",
    "    annual_production = flow_m3_hr * annual_hours * 0.9  # 90% availability\n",
    "    economics['cost_per_m3'] = economics['operating_cost_annual'] / annual_production\n",
    "    \n",
    "    # Generate recommendations\n",
    "    recommendations = []\n",
    "    \n",
    "    # Check breakthrough times\n",
    "    if ix_performance:\n",
    "        min_breakthrough = min(ix_performance.items(), key=lambda x: x[1]['breakthrough_time_hours'])\n",
    "        recommendations.append(\n",
    "            f\"{min_breakthrough[0]} will breakthrough first at \"\n",
    "            f\"{min_breakthrough[1]['breakthrough_time_hours']:.1f} hours\"\n",
    "        )\n",
    "    \n",
    "    # Check product quality\n",
    "    if treated_water['ion_concentrations_mg_L'].get('Ca_2+', 0) + \\\n",
    "       treated_water['ion_concentrations_mg_L'].get('Mg_2+', 0) > 5:\n",
    "        recommendations.append(\"Consider increasing regenerant dose to improve hardness removal\")\n",
    "    \n",
    "    # Degasser recommendations\n",
    "    if degasser_unit and degasser_performance.get('efficiency_percent', 90) < 85:\n",
    "        recommendations.append(\"Degasser efficiency is low - check air flow rate or packing condition\")\n",
    "    \n",
    "    # Note about DirectPhreeqc\n",
    "    recommendations.append(\"Using DirectPhreeqcEngine for accurate ion exchange modeling\")\n",
    "    \n",
    "    # Build final results\n",
    "    result = {\n",
    "        'status': solve_status,\n",
    "        'watertap_notebook_path': 'executed_in_notebook',\n",
    "        'model_type': 'watertap_direct_phreeqc',\n",
    "        'actual_runtime_seconds': 10.0,  # Placeholder\n",
    "        'treated_water': treated_water,\n",
    "        'ix_performance': ix_performance,\n",
    "        'degasser_performance': degasser_performance,\n",
    "        'water_quality_progression': water_quality_progression,\n",
    "        'economics': economics,\n",
    "        'recommendations': recommendations,\n",
    "        'detailed_results': {\n",
    "            'degrees_of_freedom': dof,\n",
    "            'solver_termination': str(results.solver.termination_condition) if 'results' in locals() else 'N/A',\n",
    "            'phreeqc_engine': 'DirectPhreeqcEngine'\n",
    "        }\n",
    "    }\n",
    "    \n",
    "else:\n",
    "    # Error case\n",
    "    result = {\n",
    "        'status': 'error',\n",
    "        'watertap_notebook_path': 'executed_in_notebook',\n",
    "        'model_type': 'watertap_direct_phreeqc',\n",
    "        'actual_runtime_seconds': 0,\n",
    "        'treated_water': water_analysis,  # Return input\n",
    "        'ix_performance': {},\n",
    "        'degasser_performance': {},\n",
    "        'water_quality_progression': [],\n",
    "        'economics': {},\n",
    "        'recommendations': [f\"Simulation failed: {error_message}\"],\n",
    "        'detailed_results': None\n",
    "    }\n",
    "\n",
    "logger.info(\"Results extraction complete\")"
   ]
  },
  {
   "cell_type": "markdown",
   "id": "4aa26c85",
   "metadata": {
    "papermill": {
     "duration": 0.006836,
     "end_time": "2025-07-25T02:53:57.816831",
     "exception": false,
     "start_time": "2025-07-25T02:53:57.809995",
     "status": "completed"
    },
    "tags": []
   },
   "source": [
    "## Final Results"
   ]
  },
  {
   "cell_type": "code",
   "execution_count": 10,
   "id": "0c96707c",
   "metadata": {
    "execution": {
     "iopub.execute_input": "2025-07-25T02:53:57.826757Z",
     "iopub.status.busy": "2025-07-25T02:53:57.826757Z",
     "iopub.status.idle": "2025-07-25T02:53:57.837898Z",
     "shell.execute_reply": "2025-07-25T02:53:57.837898Z"
    },
    "papermill": {
     "duration": 0.015758,
     "end_time": "2025-07-25T02:53:57.839023",
     "exception": false,
     "start_time": "2025-07-25T02:53:57.823265",
     "status": "completed"
    },
    "tags": []
   },
   "outputs": [
    {
     "data": {
      "text/plain": [
       "{'status': 'error',\n",
       " 'watertap_notebook_path': 'executed_in_notebook',\n",
       " 'model_type': 'watertap_direct_phreeqc',\n",
       " 'actual_runtime_seconds': 0,\n",
       " 'treated_water': {'flow_m3_hr': 0,\n",
       "  'temperature_celsius': 25,\n",
       "  'pressure_bar': 1.0,\n",
       "  'pH': 7.5,\n",
       "  'ion_concentrations_mg_L': {'Ca_2+': 100,\n",
       "   'Mg_2+': 50,\n",
       "   'Na_+': 50,\n",
       "   'Cl_-': 350,\n",
       "   'HCO3_-': 300},\n",
       "  'alkalinity_mg_L_CaCO3': 300,\n",
       "  'total_hardness_mg_L_CaCO3': 455.0,\n",
       "  'tds_mg_L': 850},\n",
       " 'ix_performance': {},\n",
       " 'degasser_performance': {},\n",
       " 'water_quality_progression': [],\n",
       " 'economics': {},\n",
       " 'recommendations': ['Simulation failed: float division by zero'],\n",
       " 'detailed_results': None}"
      ]
     },
     "execution_count": 10,
     "metadata": {},
     "output_type": "execute_result"
    }
   ],
   "source": [
    "# Results cell for papermill extraction\n",
    "# This variable will be extracted by the MCP server\n",
    "results = result\n",
    "results"
   ]
  },
  {
   "cell_type": "code",
   "execution_count": 11,
   "id": "8c76a4a4",
   "metadata": {
    "execution": {
     "iopub.execute_input": "2025-07-25T02:53:57.854109Z",
     "iopub.status.busy": "2025-07-25T02:53:57.853598Z",
     "iopub.status.idle": "2025-07-25T02:53:57.857918Z",
     "shell.execute_reply": "2025-07-25T02:53:57.857918Z"
    },
    "papermill": {
     "duration": 0.01694,
     "end_time": "2025-07-25T02:53:57.859831",
     "exception": false,
     "start_time": "2025-07-25T02:53:57.842891",
     "status": "completed"
    },
    "tags": []
   },
   "outputs": [],
   "source": [
    "# Function to simulate IX vessel\\ndef simulate_ix_vessel(vessel_name, vessel_config, feed_solution, pp):\\n    \\\"\\\"\\\"Simulate a single IX vessel using PHREEQC\\\"\\\"\\\"\\n    logger.info(f\\\"\\\\nSimulating {vessel_name}...\\\")\\n    \\n    resin_volume_L = vessel_config['resin_volume_m3'] * 1000\\n    bed_height = vessel_config['bed_depth_m']\\n    bed_diameter = vessel_config['bed_diameter_m']\\n    \\n    # Determine resin type and capacity\\n    if 'SAC' in vessel_name:\\n        capacity = 2.0  # eq/L\\n        form = 'Na'\\n        selectivity = {'Ca': 0.7, 'Mg': 0.5}\\n    elif 'H-WAC' in vessel_name:\\n        capacity = 4.0  # eq/L\\n        form = 'H'\\n        selectivity = {'Ca': 2.0, 'Mg': 1.5}\\n    else:  # Na-WAC\\n        capacity = 3.5  # eq/L\\n        form = 'Na'\\n        selectivity = {'Ca': 1.5, 'Mg': 1.0}\\n    \\n    # Apply competition factor if available\\n    if 'na_competition_factor' in configuration:\\n        capacity *= configuration['na_competition_factor']\\n    \\n    # Build PHREEQC exchange model\\n    exchange_input = f\\\"\\\"\\\"\\nEXCHANGE 1\\n    -equil {feed_solution.number}\\n    -{form}X {capacity * resin_volume_L}\\nEXCHANGE_SPECIES\\n    {form}X = {form}X; log_k 0.0\\n\\\"\\\"\\\"\\n    \\n    # Add selectivity for divalent ions\\n    for ion, log_k in selectivity.items():\\n        exchange_input += f\\\"    2{form}X + {ion}+2 = {ion}X2 + 2{form}+; log_k {log_k}\\\\n\\\"\\n    \\n    pp.ip.run_string(exchange_input)\\n    \\n    # Get equilibrium solution\\n    treated_solution = pp.get_solution(feed_solution.number)\\n    \\n    # Calculate breakthrough (simplified)\\n    total_hardness = treated_solution.total('Ca') * 50 + treated_solution.total('Mg') * 50\\n    if total_hardness < 5:  # mg/L as CaCO3\\n        breakthrough_bv = int(capacity * 250 * configuration.get('na_competition_factor', 1.0))\\n    else:\\n        breakthrough_bv = 100  # Early breakthrough\\n    \\n    return {\\n        'treated_solution': treated_solution,\\n        'breakthrough_bv': breakthrough_bv,\\n        'total_hardness_mg_L': total_hardness,\\n        'pH': treated_solution.pH\\n    }\\n\\n# Simulate each vessel in sequence\\ncurrent_solution = feed_solution\\nvessel_results = {}\\n\\nfor vessel_name, vessel_config in configuration['ix_vessels'].items():\\n    result = simulate_ix_vessel(vessel_name, vessel_config, current_solution, pp)\\n    vessel_results[vessel_name] = result\\n    current_solution = result['treated_solution']\\n    \\n    logger.info(f\\\"  - Breakthrough: {result['breakthrough_bv']} BV\\\")\\n    logger.info(f\\\"  - Hardness out: {result['total_hardness_mg_L']:.1f} mg/L as CaCO3\\\")\\n    logger.info(f\\\"  - pH out: {result['pH']:.2f}\\\")"
   ]
  },
  {
   "cell_type": "code",
   "execution_count": 12,
   "id": "f50be3ca",
   "metadata": {
    "execution": {
     "iopub.execute_input": "2025-07-25T02:53:57.870966Z",
     "iopub.status.busy": "2025-07-25T02:53:57.870966Z",
     "iopub.status.idle": "2025-07-25T02:53:57.879679Z",
     "shell.execute_reply": "2025-07-25T02:53:57.879156Z"
    },
    "papermill": {
     "duration": 0.013476,
     "end_time": "2025-07-25T02:53:57.879679",
     "exception": false,
     "start_time": "2025-07-25T02:53:57.866203",
     "status": "completed"
    },
    "tags": []
   },
   "outputs": [],
   "source": [
    "# Compile simulation results\\nfinal_solution = current_solution\\n\\n# Build treated water composition\\ntreated_water = {\\n    'flow_m3_hr': water_analysis['flow_m3_hr'],\\n    'temperature_celsius': final_solution.T,\\n    'pressure_bar': 1.0,\\n    'pH': final_solution.pH,\\n    'ion_concentrations_mg_L': {}\\n}\\n\\n# Map back to original ion names\\nreverse_mapping = {\\n    'Ca': 'Ca_2+',\\n    'Mg': 'Mg_2+',\\n    'Na': 'Na_+',\\n    'K': 'K_+',\\n    'Cl': 'Cl_-',\\n    'S(6)': 'SO4_2-',\\n    'C(4)': 'HCO3_-',\\n    'N(5)': 'NO3_-'\\n}\\n\\nfor element, ion in reverse_mapping.items():\\n    try:\\n        if element == 'S(6)':\\n            conc = final_solution.total('S(6)') * 96.06  # SO4 MW\\n        elif element == 'C(4)':\\n            conc = final_solution.total('HCO3-') * 61.02  # HCO3 MW\\n        else:\\n            conc = final_solution.total(element) * pp.get_element(element).mass\\n        treated_water['ion_concentrations_mg_L'][ion] = conc\\n    except:\\n        treated_water['ion_concentrations_mg_L'][ion] = 0\\n\\n# Build IX performance metrics\\nix_performance = {}\\nfor vessel_name, result in vessel_results.items():\\n    flow_rate_L_hr = water_analysis['flow_m3_hr'] * 1000\\n    vessel_config = configuration['ix_vessels'][vessel_name]\\n    resin_volume_L = vessel_config['resin_volume_m3'] * 1000\\n    \\n    breakthrough_time = result['breakthrough_bv'] * resin_volume_L / flow_rate_L_hr\\n    \\n    ix_performance[vessel_name] = {\\n        'breakthrough_time_hours': breakthrough_time,\\n        'bed_volumes_treated': result['breakthrough_bv'],\\n        'regenerant_consumption_kg': vessel_config['resin_volume_m3'] * vessel_config.get('regenerant_dose_kg_m3', 100),\\n        'capacity_utilization_percent': min(100, result['breakthrough_bv'] / 1000 * 100),\\n        'total_throughput_m3': result['breakthrough_bv'] * vessel_config['resin_volume_m3']\\n    }\\n\\n# Generate recommendations\\nrecommendations = []\\nmin_breakthrough_vessel = min(vessel_results.items(), key=lambda x: x[1]['breakthrough_bv'])\\nrecommendations.append(f\\\"{min_breakthrough_vessel[0]} will breakthrough first at {min_breakthrough_vessel[1]['breakthrough_bv']} BV\\\")\\n\\nif flowsheet_type == 'nawac_degasser':\\n    recommendations.append(\\\"Monitor alkalinity reduction to prevent over-softening\\\")\\nelif flowsheet_type == 'hwac_degasser':\\n    recommendations.append(\\\"Ensure adequate degassing to raise pH above 6.5\\\")\\nelif flowsheet_type == 'sac_flowsheet':\\n    recommendations.append(\\\"Monitor Na+ increase in product water\\\")\\n\\n# Final result structure\\nresult = {\\n    'status': 'success',\\n    'watertap_notebook_path': 'executed_in_notebook',\\n    'model_type': simulation_options.get('model_type', 'phreeqc'),\\n    'actual_runtime_seconds': 1.0,\\n    'treated_water': treated_water,\\n    'ix_performance': ix_performance,\\n    'water_quality_progression': [],  # Could be populated with time-series data\\n    'economics': configuration.get('economics', {}),\\n    'recommendations': recommendations\\n}\\n\\nif degasser_result:\\n    result['degasser_performance'] = degasser_result\\n\\nlogger.info(\\\"\\\\nSimulation complete!\\\")\\nlogger.info(f\\\"Final water quality: pH {treated_water['pH']:.2f}, hardness {treated_water['ion_concentrations_mg_L'].get('Ca_2+', 0) + treated_water['ion_concentrations_mg_L'].get('Mg_2+', 0):.1f} mg/L\\\")"
   ]
  }
 ],
 "metadata": {
  "kernelspec": {
   "display_name": "Python 3",
   "language": "python",
   "name": "python3"
  },
  "language_info": {
   "codemirror_mode": {
    "name": "ipython",
    "version": 3
   },
   "file_extension": ".py",
   "mimetype": "text/x-python",
   "name": "python",
   "nbconvert_exporter": "python",
   "pygments_lexer": "ipython3",
   "version": "3.12.10"
  },
  "papermill": {
   "default_parameters": {},
   "duration": 8.017219,
   "end_time": "2025-07-25T02:53:58.683359",
   "environment_variables": {},
   "exception": null,
   "input_path": "notebooks\\ix_simulation_unified_template.ipynb",
   "output_path": "test_outputs\\error_scenarios\\zero_flow_output.ipynb",
   "parameters": {
    "configuration": {
     "flowsheet_type": "sac_flowsheet",
     "hydraulics": {
      "air_water_ratio": 45.0
     },
     "ix_vessels": {
      "SAC": {
       "bed_depth_m": 2.0,
       "diameter_m": 1.5,
       "number_service": 2,
       "resin_type": "SAC",
       "resin_volume_m3": 3.53428875
      }
     }
    },
    "project_root": "C:\\Users\\hvksh\\mcp-servers\\ix-design-mcp",
    "simulation_options": {
     "model_type": "watertap",
     "time_steps": 100
    },
    "water_analysis": {
     "alkalinity_mg_L_CaCO3": 300,
     "flow_m3_hr": 0,
     "ion_concentrations_mg_L": {
      "Ca_2+": 100,
      "Cl_-": 350,
      "HCO3_-": 300,
      "Mg_2+": 50,
      "Na_+": 50
     },
     "pH": 7.5,
     "pressure_bar": 1.0,
     "tds_mg_L": 850,
     "temperature_celsius": 25,
     "total_hardness_mg_L_CaCO3": 455.0
    },
    "watertap_ix_transport_path": "C:\\Users\\hvksh\\mcp-servers\\ix-design-mcp\\watertap_ix_transport"
   },
   "start_time": "2025-07-25T02:53:50.666140",
   "version": "2.6.0"
  }
 },
 "nbformat": 4,
 "nbformat_minor": 5
}