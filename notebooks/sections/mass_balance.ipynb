{
 "cells": [
  {
   "cell_type": "markdown",
   "metadata": {},
   "source": [
    "### Mass Balance and Regeneration\n",
    "\n",
    "Material balance for the service and regeneration cycles:"
   ]
  },
  {
   "cell_type": "code",
   "execution_count": null,
   "metadata": {},
   "outputs": [],
   "source": [
    "# Mass balance data\n",
    "mass_bal = mass_balance\n",
    "\n",
    "# Create mass balance summary\n",
    "mass_summary = [\n",
    "    ['Hardness Removed', f\"{mass_bal.get('hardness_removed_kg_caco3', 0):.2f}\", 'kg CaCO₃/cycle'],\n",
    "    ['Regenerant Consumed', f\"{mass_bal.get('regenerant_kg_cycle', 0):.1f}\", 'kg NaCl/cycle'],\n",
    "    ['Backwash Volume', f\"{mass_bal.get('backwash_m3_cycle', 0):.1f}\", 'm³/cycle'],\n",
    "    ['Rinse Volume', f\"{mass_bal.get('rinse_m3_cycle', 0):.1f}\", 'm³/cycle'],\n",
    "    ['Total Waste Volume', f\"{mass_bal.get('waste_m3_cycle', 0):.1f}\", 'm³/cycle'],\n",
    "    ['Mass Balance Closure', f\"{mass_bal.get('closure_percent', 99):.1f}\", '%']\n",
    "]\n",
    "\n",
    "df_mass = pd.DataFrame(mass_summary, columns=['Parameter', 'Value', 'Units'])\n",
    "display(df_mass.style.set_caption('Regeneration Mass Balance'))"
   ]
  },
  {
   "cell_type": "code",
   "execution_count": null,
   "metadata": {},
   "outputs": [],
   "source": "# Regeneration efficiency calculations\n\n# Parameters from mass balance\nhardness_removed_kg = mass_bal.get('hardness_removed_kg_caco3', 41.6)\nregenerant_used_kg = mass_bal.get('regenerant_kg_cycle', 416)\n\n# Stoichiometric requirement (2 mol NaCl per mol CaCO3)\nMW_CaCO3 = 100.09  # g/mol\nMW_NaCl = 58.44    # g/mol\n\n# Theoretical regenerant needed (kg)\nregen_stoich_kg = hardness_removed_kg * (2 * MW_NaCl / MW_CaCO3)\n\n# Regeneration efficiency\nif regenerant_used_kg > 0:\n    regen_efficiency = (regen_stoich_kg / regenerant_used_kg) * 100  # percent\nelse:\n    regen_efficiency = 0\n\nprint(f\"Theoretical regenerant required: {regen_stoich_kg:.1f} kg\")\nprint(f\"Actual regenerant used: {regenerant_used_kg:.1f} kg\")\nprint(f\"Regeneration efficiency: {regen_efficiency:.1f}%\")\nprint(f\"Excess regenerant factor: {regenerant_used_kg/regen_stoich_kg if regen_stoich_kg > 0 else 0:.1f}x\")"
  },
  {
   "cell_type": "code",
   "execution_count": null,
   "metadata": {},
   "outputs": [],
   "source": [
    "# Ion removal summary\n",
    "if ion_tracking and 'removal_percent' in ion_tracking:\n",
    "    removals = ion_tracking['removal_percent']\n",
    "    \n",
    "    removal_data = []\n",
    "    for ion, removal in removals.items():\n",
    "        if removal > 0:  # Only show ions that were removed\n",
    "            removal_data.append({\n",
    "                'Ion': ion,\n",
    "                'Feed (mg/L)': f\"{ion_tracking['feed_mg_l'].get(ion, 0):.1f}\",\n",
    "                'Effluent (mg/L)': f\"{ion_tracking['effluent_mg_l'].get(ion, 0):.2f}\",\n",
    "                'Removal (%)': f\"{removal:.1f}\"\n",
    "            })\n",
    "    \n",
    "    if removal_data:\n",
    "        df_removal = pd.DataFrame(removal_data)\n",
    "        display(df_removal.style.set_caption('Ion Removal Performance'))\n",
    "    else:\n",
    "        print(\"No ion removal data available\")\n",
    "else:\n",
    "    print(\"Ion tracking data not available\")"
   ]
  }
 ],
 "metadata": {
  "kernelspec": {
   "display_name": "Python 3",
   "language": "python",
   "name": "python3"
  },
  "language_info": {
   "name": "python",
   "version": "3.9.0"
  }
 },
 "nbformat": 4,
 "nbformat_minor": 4
}