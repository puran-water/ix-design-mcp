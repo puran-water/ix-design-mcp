{
 "cells": [
  {
   "cell_type": "code",
   "execution_count": null,
   "metadata": {},
   "outputs": [],
   "source": "# Setup Environment - Common imports and configuration\nimport json\nimport pandas as pd\nimport numpy as np\nimport math\nfrom pathlib import Path\nimport warnings\nwarnings.filterwarnings('ignore')\n\n# Add CSS for left-aligned math display\nfrom IPython.core.display import HTML\ndisplay(HTML(\"\"\"\n<style>\n    /* Left-align all MathJax displays */\n    .MathJax_Display {\n        text-align: left !important;\n        margin: 1em 0 !important;\n    }\n    \n    /* Left-align handcalcs output */\n    .jp-RenderedHTMLCommon .MathJax_Display {\n        text-align: left !important;\n    }\n    \n    /* Ensure equation numbers (if any) stay on the right */\n    .MathJax_Display .MathJax {\n        text-align: left !important;\n    }\n</style>\n\"\"\"))\n\n# Helper functions for data formatting\ndef format_with_units(value, unit_str, precision=2):\n    \"\"\"Format a value with units for display.\"\"\"\n    if value is None or (isinstance(value, float) and math.isnan(value)):\n        return \"—\"\n    return f\"{value:.{precision}f} {unit_str}\"\n\ndef mg_to_meq(concentration_mg_l, ion):\n    \"\"\"Convert mg/L to meq/L using proper molecular weights.\"\"\"\n    MOLECULAR_WEIGHTS = {\n        'Ca_2+': 40.078, 'Mg_2+': 24.305, 'Na_+': 22.990,\n        'HCO3_-': 61.017, 'Cl_-': 35.453, 'SO4_2-': 96.06\n    }\n    VALENCES = {\n        'Ca_2+': 2, 'Mg_2+': 2, 'Na_+': 1,\n        'HCO3_-': 1, 'Cl_-': 1, 'SO4_2-': 2\n    }\n    \n    if concentration_mg_l is None or math.isnan(concentration_mg_l):\n        return None\n    \n    mw = MOLECULAR_WEIGHTS.get(ion)\n    valence = VALENCES.get(ion)\n    \n    if not mw or not valence:\n        return concentration_mg_l / 20  # Approximate\n    \n    equivalent_weight = mw / valence\n    return concentration_mg_l / equivalent_weight\n\n# Import handcalcs for equation rendering\ntry:\n    from handcalcs import render\n    %load_ext handcalcs.render\n    # Configure handcalcs to left-align\n    from handcalcs import config\n    config.use_latex_left_align = True\nexcept ImportError:\n    print(\"handcalcs not available - calculations will show as regular code\")\n    render = None\nexcept AttributeError:\n    # config.use_latex_left_align might not exist in older versions\n    pass\n\n# Import forallpeople for units\ntry:\n    import forallpeople as si\n    si.environment('default', top_level=True)\nexcept ImportError:\n    si = None\n    print(\"forallpeople not available - units will be handled manually\")\n\n# Import plotting libraries\nimport matplotlib.pyplot as plt\nimport matplotlib as mpl\nmpl.rcParams['figure.figsize'] = (10, 6)\nmpl.rcParams['font.size'] = 11\n\ntry:\n    import plotly.graph_objects as go\n    import plotly.express as px\n    USE_PLOTLY = True\nexcept ImportError:\n    USE_PLOTLY = False\n    print(\"Plotly not available, using matplotlib\")\n\nprint(\"Environment setup complete\")\nprint(f\"Project root: {project_root}\")\nprint(f\"Run ID: {run_id}\")"
  },
  {
   "cell_type": "code",
   "execution_count": null,
   "metadata": {},
   "outputs": [],
   "source": [
    "# Load simulation data\n",
    "sim_data = simulation\n",
    "design = design_inputs\n",
    "resin_info = resin_metadata\n",
    "\n",
    "# Extract key sections\n",
    "performance = sim_data.get('performance', {})\n",
    "ion_tracking = sim_data.get('ion_tracking', {})\n",
    "mass_balance = sim_data.get('mass_balance', {})\n",
    "economics = sim_data.get('economics', {})\n",
    "breakthrough_data = sim_data.get('breakthrough_data', {})\n",
    "\n",
    "print(f\"Loaded simulation data for {resin_info['display_name']}\")\n",
    "print(f\"Breakthrough at {performance.get('service_bv_to_target', 0):.1f} BV\")"
   ]
  }
 ],
 "metadata": {
  "kernelspec": {
   "display_name": "Python 3",
   "language": "python",
   "name": "python3"
  },
  "language_info": {
   "name": "python",
   "version": "3.9.0"
  }
 },
 "nbformat": 4,
 "nbformat_minor": 4
}