{
 "cells": [
  {
   "cell_type": "code",
   "execution_count": null,
   "metadata": {},
   "outputs": [],
   "source": [
    "# Setup Environment - Common imports and configuration\n",
    "import json\n",
    "import pandas as pd\n",
    "import numpy as np\n",
    "from pathlib import Path\n",
    "import warnings\n",
    "warnings.filterwarnings('ignore')\n",
    "\n",
    "# Import handcalcs for equation rendering\n",
    "try:\n",
    "    from handcalcs import render\n",
    "except ImportError:\n",
    "    print(\"Installing handcalcs...\")\n",
    "    import subprocess\n",
    "    subprocess.check_call(['pip', 'install', 'handcalcs'])\n",
    "    from handcalcs import render\n",
    "\n",
    "# Import forallpeople for units\n",
    "try:\n",
    "    import forallpeople as si\n",
    "except ImportError:\n",
    "    print(\"Installing forallpeople...\")\n",
    "    import subprocess\n",
    "    subprocess.check_call(['pip', 'install', 'forallpeople'])\n",
    "    import forallpeople as si\n",
    "\n",
    "# Setup SI units environment\n",
    "si.environment('default', top_level=True)\n",
    "\n",
    "# Import plotting libraries\n",
    "import matplotlib.pyplot as plt\n",
    "import matplotlib as mpl\n",
    "mpl.rcParams['figure.figsize'] = (10, 6)\n",
    "mpl.rcParams['font.size'] = 11\n",
    "\n",
    "try:\n",
    "    import plotly.graph_objects as go\n",
    "    import plotly.express as px\n",
    "    USE_PLOTLY = True\n",
    "except ImportError:\n",
    "    USE_PLOTLY = False\n",
    "    print(\"Plotly not available, using matplotlib\")\n",
    "\n",
    "print(\"Environment setup complete\")\n",
    "print(f\"Project root: {project_root}\")\n",
    "print(f\"Run ID: {run_id}\")"
   ]
  },
  {
   "cell_type": "code",
   "execution_count": null,
   "metadata": {},
   "outputs": [],
   "source": [
    "# Load simulation data\n",
    "sim_data = simulation\n",
    "design = design_inputs\n",
    "resin_info = resin_metadata\n",
    "\n",
    "# Extract key sections\n",
    "performance = sim_data.get('performance', {})\n",
    "ion_tracking = sim_data.get('ion_tracking', {})\n",
    "mass_balance = sim_data.get('mass_balance', {})\n",
    "economics = sim_data.get('economics', {})\n",
    "breakthrough_data = sim_data.get('breakthrough_data', {})\n",
    "\n",
    "print(f\"Loaded simulation data for {resin_info['display_name']}\")\n",
    "print(f\"Breakthrough at {performance.get('service_bv_to_target', 0):.1f} BV\")"
   ]
  }
 ],
 "metadata": {
  "kernelspec": {
   "display_name": "Python 3",
   "language": "python",
   "name": "python3"
  },
  "language_info": {
   "name": "python",
   "version": "3.9.0"
  }
 },
 "nbformat": 4,
 "nbformat_minor": 4
}