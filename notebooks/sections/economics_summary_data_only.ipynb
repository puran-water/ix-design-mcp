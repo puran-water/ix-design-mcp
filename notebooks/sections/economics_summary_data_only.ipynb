{
  "cells": [
    {
      "cell_type": "markdown",
      "metadata": {},
      "source": ["### Economic Analysis\n\nCapital and operating cost data from simulation:"]
    },
    {
      "cell_type": "code",
      "execution_count": null,
      "metadata": {},
      "outputs": [],
      "source": [
        "# Check if economics data is available\n",
        "if economics and 'capital_cost_usd' in economics:\n",
        "    has_economics = True\n",
        "else:\n",
        "    has_economics = False\n",
        "    print(\"Economic analysis not available in simulation results\")"
      ]
    },
    {
      "cell_type": "code",
      "execution_count": null,
      "metadata": {},
      "outputs": [],
      "source": [
        "if has_economics:\n",
        "    # Capital cost breakdown\n",
        "    unit_costs = economics.get('unit_costs', {})\n",
        "    \n",
        "    capex_breakdown = []\n",
        "    \n",
        "    # Add items only if they have values\n",
        "    if unit_costs.get('vessels_usd'):\n",
        "        capex_breakdown.append(['Vessels', f\"${unit_costs.get('vessels_usd', 0):,.0f}\"])\n",
        "    if unit_costs.get('resin_initial_usd'):\n",
        "        capex_breakdown.append(['Initial Resin', f\"${unit_costs.get('resin_initial_usd', 0):,.0f}\"])\n",
        "    if unit_costs.get('pumps_usd'):\n",
        "        capex_breakdown.append(['Pumps & Valves', f\"${unit_costs.get('pumps_usd', 0):,.0f}\"])\n",
        "    if unit_costs.get('instrumentation_usd'):\n",
        "        capex_breakdown.append(['Instrumentation', f\"${unit_costs.get('instrumentation_usd', 0):,.0f}\"])\n",
        "    if unit_costs.get('degasser_usd'):\n",
        "        capex_breakdown.append(['CO₂ Degasser', f\"${unit_costs.get('degasser_usd', 0):,.0f}\"])\n",
        "    \n",
        "    # Add installation factor if present\n",
        "    install_factor = unit_costs.get('installation_factor')\n",
        "    if install_factor:\n",
        "        subtotal = sum(v for k, v in unit_costs.items() \n",
        "                      if k != 'installation_factor' and v and isinstance(v, (int, float)))\n",
        "        capex_breakdown.append(['Installation Factor', f\"{install_factor:.1f}\"])\n",
        "    \n",
        "    # Total CAPEX\n",
        "    total_capex = economics.get('capital_cost_usd', 0)\n",
        "    if total_capex:\n",
        "        capex_breakdown.append(['Total Capital Cost', f\"${total_capex:,.0f}\"])\n",
        "    \n",
        "    if capex_breakdown:\n",
        "        df_capex = pd.DataFrame(capex_breakdown, columns=['Item', 'Value'])\n",
        "        display(df_capex.style.set_caption('Capital Cost Components'))"
      ]
    },
    {
      "cell_type": "code",
      "execution_count": null,
      "metadata": {},
      "outputs": [],
      "source": [
        "if has_economics:\n",
        "    # Operating cost breakdown\n",
        "    opex_breakdown = []\n",
        "    \n",
        "    if economics.get('regenerant_cost_usd_year'):\n",
        "        opex_breakdown.append(['Regenerant (NaCl)', f\"${economics.get('regenerant_cost_usd_year', 0):,.0f}/yr\"])\n",
        "    if economics.get('resin_replacement_cost_usd_year'):\n",
        "        opex_breakdown.append(['Resin Replacement', f\"${economics.get('resin_replacement_cost_usd_year', 0):,.0f}/yr\"])\n",
        "    if economics.get('energy_cost_usd_year'):\n",
        "        opex_breakdown.append(['Energy', f\"${economics.get('energy_cost_usd_year', 0):,.0f}/yr\"])\n",
        "    if economics.get('waste_disposal_cost_usd_year'):\n",
        "        opex_breakdown.append(['Waste Disposal', f\"${economics.get('waste_disposal_cost_usd_year', 0):,.0f}/yr\"])\n",
        "    \n",
        "    # Total OPEX\n",
        "    total_opex = economics.get('operating_cost_usd_year', 0)\n",
        "    if total_opex:\n",
        "        opex_breakdown.append(['Total Operating Cost', f\"${total_opex:,.0f}/yr\"])\n",
        "    \n",
        "    if opex_breakdown:\n",
        "        df_opex = pd.DataFrame(opex_breakdown, columns=['Item', 'Value'])\n",
        "        display(df_opex.style.set_caption('Operating Cost Components'))"
      ]
    },
    {
      "cell_type": "code",
      "execution_count": null,
      "metadata": {},
      "outputs": [],
      "source": [
        "if has_economics:\n",
        "    # Economic metrics table\n",
        "    metrics = []\n",
        "    \n",
        "    lcow = economics.get('lcow_usd_m3')\n",
        "    if lcow is not None:\n",
        "        metrics.append(['Levelized Cost of Water', f\"${lcow:.3f}/m³\"])\n",
        "        # Convert to per 1000 gallons\n",
        "        lcow_per_kgal = lcow * 3.785  # 1000 gallons = 3.785 m³\n",
        "        metrics.append(['Cost per 1000 gallons', f\"${lcow_per_kgal:.2f}\"])\n",
        "    \n",
        "    sec = economics.get('sec_kwh_m3')\n",
        "    if sec is not None:\n",
        "        metrics.append(['Specific Energy Consumption', f\"{sec:.3f} kWh/m³\"])\n",
        "    \n",
        "    if metrics:\n",
        "        df_metrics = pd.DataFrame(metrics, columns=['Metric', 'Value'])\n",
        "        display(df_metrics.style.set_caption('Economic Performance Metrics'))"
      ]
    }
  ],
  "nbformat": 4,
  "nbformat_minor": 4,
  "metadata": {
    "kernelspec": {
      "display_name": "Python 3",
      "language": "python",
      "name": "python3"
    }
  }
}