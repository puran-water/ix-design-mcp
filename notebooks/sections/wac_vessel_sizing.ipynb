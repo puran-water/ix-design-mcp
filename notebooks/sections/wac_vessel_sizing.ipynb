{
 "cells": [
  {
   "cell_type": "markdown",
   "metadata": {},
   "source": [
    "### WAC Vessel Design Calculations\n",
    "\n",
    "Weak Acid Cation resin requires special consideration for bed expansion during regeneration:"
   ]
  },
  {
   "cell_type": "code",
   "execution_count": null,
   "metadata": {},
   "outputs": [],
   "source": "# WAC Service Flow Rate Design\n# Accounting for bed expansion requirements\n\nfrom math import pi\n\n# Design parameters from simulation inputs\nif 'water' in design:\n    Q_m3_hr = design['water'].get('flow_m3h', 100)\nelse:\n    Q_m3_hr = 100  # Default flow rate\n\n# Vessel configuration\nif 'vessel' in design:\n    vessel_config = design['vessel']\n    D_selected_m = vessel_config.get('diameter_m', 2.0)\n    h_bed_final_m = vessel_config.get('bed_depth_m', 2.0)\n    expansion_percent = vessel_config.get('bed_expansion_percent', 50)\nelse:\n    # Default values\n    D_selected_m = 2.0\n    h_bed_final_m = 2.0\n    expansion_percent = 50\n\n# Service flow parameters\nSV_hr = 16                                    # Service velocity (bed volumes/hour)\nLV_max_m_hr = 25                             # Maximum linear velocity in m/hr\n\n# WAC-specific expansion factor\nexpansion_factor = expansion_percent / 100\n\n# Calculate actual values\nA_actual_m2 = pi * (D_selected_m / 2) ** 2\nLV_actual_m_hr = Q_m3_hr / A_actual_m2\nV_bed_m3 = A_actual_m2 * h_bed_final_m\nV_bed_L = V_bed_m3 * 1000\n\n# Freeboard must accommodate expansion\nh_freeboard_m = h_bed_final_m * (1 + expansion_factor)\nh_vessel_m = h_bed_final_m + h_freeboard_m + 0.1\n\nprint(f\"Design flow rate Q = {Q_m3_hr:.1f} m³/hr\")\nprint(f\"Selected diameter = {D_selected_m:.2f} m\")\nprint(f\"Bed depth = {h_bed_final_m:.2f} m\")\nprint(f\"Bed expansion = {expansion_percent:.0f}%\")\nprint(f\"Bed volume = {V_bed_m3:.2f} m³ = {V_bed_L:.0f} L\")"
  },
  {
   "cell_type": "code",
   "execution_count": null,
   "metadata": {},
   "outputs": [],
   "source": "# Display detailed hydraulic calculations\ncalculations = [\n    ['Cross-sectional Area', f\"{A_actual_m2:.2f}\", 'm²'],\n    ['Bed Volume', f\"{V_bed_m3:.2f}\", 'm³'],\n    ['Bed Volume', f\"{V_bed_L:.0f}\", 'L'],\n    ['Linear Velocity', f\"{LV_actual_m_hr:.1f}\", 'm/hr'],\n    ['Service Velocity', f\"{Q_m3_hr/V_bed_m3:.1f}\", 'BV/hr'],\n    ['Freeboard Height', f\"{h_freeboard_m:.2f}\", 'm'],\n    ['Total Vessel Height', f\"{h_vessel_m:.2f}\", 'm']\n]\n\ndf_calc = pd.DataFrame(calculations, columns=['Parameter', 'Value', 'Units'])\ndisplay(df_calc.style.set_caption('Hydraulic Calculations'))"
  },
  {
   "cell_type": "code",
   "execution_count": null,
   "metadata": {},
   "outputs": [],
   "source": "# WAC vessel design summary\nvessel_summary = [\n    ['Resin Form', resin_info.get('display_name', 'WAC'), ''],\n    ['Vessel Diameter', f\"{D_selected_m:.2f}\", 'm'],\n    ['Bed Depth', f\"{h_bed_final_m:.2f}\", 'm'],\n    ['Bed Volume', f\"{V_bed_m3:.2f}\", 'm³'],\n    ['Bed Expansion', f\"{expansion_percent:.0f}\", '%'],\n    ['Freeboard Height', f\"{h_freeboard_m:.2f}\", 'm'],\n    ['Total Vessel Height', f\"{h_vessel_m:.2f}\", 'm'],\n    ['Linear Velocity', f\"{LV_actual_m_hr:.1f}\", 'm/hr'],\n    ['Service Velocity', f\"{Q_m3_hr/V_bed_m3:.1f}\", 'BV/hr']\n]\n\ndf_vessel = pd.DataFrame(vessel_summary, columns=['Parameter', 'Value', 'Units'])\ndisplay(df_vessel.style.set_caption('WAC Vessel Design Summary'))\n\n# Design constraints table\nconstraints = [\n    ['Linear Velocity Limit', '25', 'm/hr'],\n    ['Actual Linear Velocity', f\"{LV_actual_m_hr:.1f}\", 'm/hr'],\n    ['Minimum Bed Depth', '0.75', 'm'],\n    ['Actual Bed Depth', f\"{h_bed_final_m:.2f}\", 'm'],\n    ['Container Diameter Limit', '2.4', 'm'],\n    ['Actual Diameter', f\"{D_selected_m:.2f}\", 'm']\n]\n\ndf_constraints = pd.DataFrame(constraints, columns=['Parameter', 'Value', 'Units'])\ndisplay(df_constraints.style.set_caption('Design Constraints'))\n\n# WAC-specific expansion data\nresin_type = resin_info.get('code', 'WAC')\nif '_' in resin_type:\n    form = resin_type.split('_')[1]\n    expansion_data = [\n        ['Resin Form', f'WAC {form}-form'],\n        ['Required Bed Expansion', f'{expansion_percent:.0f}%'],\n        ['Expansion Type', 'During Regeneration']\n    ]\n    df_expansion = pd.DataFrame(expansion_data, columns=['Parameter', 'Value'])\n    display(df_expansion.style.set_caption('Expansion Requirements'))"
  }
 ],
 "metadata": {
  "kernelspec": {
   "display_name": "Python 3",
   "language": "python",
   "name": "python3"
  }
 },
 "nbformat": 4,
 "nbformat_minor": 4
}