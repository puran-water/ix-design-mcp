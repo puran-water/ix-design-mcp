{
 "cells": [
  {
   "cell_type": "markdown",
   "metadata": {},
   "source": [
    "### Feed Water Composition\n",
    "\n",
    "The following table presents the feed water analysis used for the ion exchange system design:"
   ]
  },
  {
   "cell_type": "code",
   "execution_count": null,
   "metadata": {},
   "outputs": [],
   "source": "# Display water composition table\nfeed_ions = ion_tracking.get('feed_mg_l', {})\n\n# Create water quality dataframe with proper equivalent weight calculations\nwater_quality = []\nfor ion, conc in feed_ions.items():\n    if conc and conc > 0:\n        # Use mg_to_meq function from parameters if available, otherwise calculate\n        if 'mg_to_meq' in locals():\n            meq_l = mg_to_meq(conc, ion)\n        else:\n            # Fallback calculation\n            meq_l = conc / 20  # Approximate\n\n        water_quality.append({\n            'Ion': ion,\n            'Concentration': format_with_units(conc, 'mg/L', 2) if 'format_with_units' in locals() else f\"{conc:.2f} mg/L\",\n            'Equivalent': format_with_units(meq_l, 'meq/L', 3) if 'format_with_units' in locals() else f\"{meq_l:.3f} meq/L\" if meq_l else \"—\"\n        })\n\nif water_quality:\n    df_water = pd.DataFrame(water_quality)\n    display(df_water.style.set_caption('Feed Water Composition'))\nelse:\n    print(\"No feed water composition data available\")\n\n# Calculate total hardness using proper conversion factors\nca_mg_l = feed_ions.get('Ca_2+', 0)\nmg_mg_l = feed_ions.get('Mg_2+', 0)\n# Conversion factors to CaCO3 equivalent\nca_to_caco3 = 2.497  # 100.09/40.078\nmg_to_caco3 = 4.116  # 100.09/24.305\ntotal_hardness = ca_mg_l * ca_to_caco3 + mg_mg_l * mg_to_caco3\n\nif total_hardness > 0:\n    print(f\"\\nTotal Hardness: {total_hardness:.1f} mg/L as CaCO3\")\n    target_hardness = performance.get('effluent_hardness_mg_l_caco3')\n    if target_hardness is not None:\n        print(f\"Target Effluent Hardness: {target_hardness:.1f} mg/L as CaCO3\")"
  },
  {
   "cell_type": "markdown",
   "metadata": {},
   "source": [
    "### Design Targets\n",
    "\n",
    "The ion exchange system is designed to meet the following performance targets:"
   ]
  },
  {
   "cell_type": "code",
   "execution_count": null,
   "metadata": {},
   "outputs": [],
   "source": "# Display design targets\ntargets = []\n\n# Add effluent hardness if available\neff_hardness = performance.get('effluent_hardness_mg_l_caco3')\nif eff_hardness is not None:\n    targets.append(['Effluent Hardness', format_with_units(eff_hardness, 'mg/L as CaCO3', 1) if 'format_with_units' in locals() else f\"{eff_hardness:.1f} mg/L as CaCO3\"])\n\n# Add flow rate\nflow_rate = design.get('flow_m3_hr') or design.get('flow_m3_h')\nif flow_rate:\n    targets.append(['Service Flow Rate', format_with_units(flow_rate, 'm³/hr', 1) if 'format_with_units' in locals() else f\"{flow_rate:.1f} m³/hr\"])\n\n# Add service hours\nservice_hrs = performance.get('service_hours')\nif service_hrs is not None:\n    targets.append(['Minimum Service Run', format_with_units(service_hrs, 'hours', 1) if 'format_with_units' in locals() else f\"{service_hrs:.1f} hours\"])\n\n# Add resin type\ntargets.append(['Resin Type', resin_info['display_name']])\n\n# Only add alkalinity if it exists and is not None\nalk_value = performance.get('effluent_alkalinity_mg_l_caco3')\nif alk_value is not None:\n    targets.append(['Effluent Alkalinity', format_with_units(alk_value, 'mg/L as CaCO3', 1) if 'format_with_units' in locals() else f\"{alk_value:.1f} mg/L as CaCO3\"])\n\nif targets:\n    df_targets = pd.DataFrame(targets, columns=['Parameter', 'Value'])\n    display(df_targets.style.set_caption('Design Performance Targets'))\nelse:\n    print(\"No design targets available\")"
  }
 ],
 "metadata": {
  "kernelspec": {
   "display_name": "Python 3",
   "language": "python",
   "name": "python3"
  },
  "language_info": {
   "name": "python",
   "version": "3.9.0"
  }
 },
 "nbformat": 4,
 "nbformat_minor": 4
}