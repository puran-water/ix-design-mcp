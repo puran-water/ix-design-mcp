{
 "cells": [
  {
   "cell_type": "markdown",
   "metadata": {},
   "source": [
    "### Feed Water Composition\n",
    "\n",
    "The following table presents the feed water analysis used for the ion exchange system design:"
   ]
  },
  {
   "cell_type": "code",
   "execution_count": null,
   "metadata": {},
   "outputs": [],
   "source": [
    "# Display water composition table\n",
    "feed_ions = ion_tracking.get('feed_mg_l', {})\n",
    "\n",
    "# Create water quality dataframe\n",
    "water_quality = []\n",
    "for ion, conc in feed_ions.items():\n",
    "    water_quality.append({\n",
    "        'Ion': ion,\n",
    "        'Concentration (mg/L)': f\"{conc:.2f}\",\n",
    "        'Concentration (meq/L)': f\"{conc/20:.3f}\"  # Simplified - should use actual equiv weights\n",
    "    })\n",
    "\n",
    "df_water = pd.DataFrame(water_quality)\n",
    "display(df_water.style.set_caption('Feed Water Composition'))\n",
    "\n",
    "# Calculate total hardness\n",
    "ca_mg_l = feed_ions.get('Ca_2+', 0)\n",
    "mg_mg_l = feed_ions.get('Mg_2+', 0)\n",
    "total_hardness = ca_mg_l * 2.5 + mg_mg_l * 4.1  # as CaCO3\n",
    "\n",
    "print(f\"\\nTotal Hardness: {total_hardness:.1f} mg/L as CaCO3\")\n",
    "print(f\"Target Effluent Hardness: {performance.get('effluent_hardness_mg_l_caco3', 5):.1f} mg/L as CaCO3\")"
   ]
  },
  {
   "cell_type": "markdown",
   "metadata": {},
   "source": [
    "### Design Targets\n",
    "\n",
    "The ion exchange system is designed to meet the following performance targets:"
   ]
  },
  {
   "cell_type": "code",
   "execution_count": null,
   "metadata": {},
   "outputs": [],
   "source": "# Display design targets\ntargets = [\n    ['Effluent Hardness', f\"{performance.get('effluent_hardness_mg_l_caco3', 5):.1f} mg/L as CaCO3\"],\n    ['Service Flow Rate', f\"{design.get('flow_m3_hr', 100):.1f} m³/hr\"],\n    ['Minimum Service Run', f\"{performance.get('service_hours', 24):.1f} hours\"],\n    ['Resin Type', resin_info['display_name']]\n]\n\n# Only add alkalinity if it exists and is not None\nalk_value = performance.get('effluent_alkalinity_mg_l_caco3')\nif alk_value is not None:\n    targets.append(['Effluent Alkalinity', f\"{alk_value:.1f} mg/L as CaCO3\"])\n\ndf_targets = pd.DataFrame(targets, columns=['Parameter', 'Value'])\ndisplay(df_targets.style.set_caption('Design Performance Targets'))"
  }
 ],
 "metadata": {
  "kernelspec": {
   "display_name": "Python 3",
   "language": "python",
   "name": "python3"
  },
  "language_info": {
   "name": "python",
   "version": "3.9.0"
  }
 },
 "nbformat": 4,
 "nbformat_minor": 4
}