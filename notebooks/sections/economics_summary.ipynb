{
 "cells": [
  {
   "cell_type": "markdown",
   "metadata": {},
   "source": [
    "### Economic Analysis\n",
    "\n",
    "Capital and operating cost breakdown for the ion exchange system:"
   ]
  },
  {
   "cell_type": "code",
   "execution_count": null,
   "metadata": {},
   "outputs": [],
   "source": [
    "# Check if economics data is available\n",
    "if economics and 'capital_cost_usd' in economics:\n",
    "    has_economics = True\n",
    "else:\n",
    "    has_economics = False\n",
    "    print(\"⚠️ Economic analysis not available in simulation results\")"
   ]
  },
  {
   "cell_type": "code",
   "execution_count": null,
   "metadata": {},
   "outputs": [],
   "source": [
    "if has_economics:\n",
    "    # Capital cost breakdown\n",
    "    unit_costs = economics.get('unit_costs', {})\n",
    "    \n",
    "    capex_breakdown = [\n",
    "        ['Vessels', f\"${unit_costs.get('vessels_usd', 0):,.0f}\"],\n",
    "        ['Initial Resin', f\"${unit_costs.get('resin_initial_usd', 0):,.0f}\"],\n",
    "        ['Pumps & Valves', f\"${unit_costs.get('pumps_usd', 0):,.0f}\"],\n",
    "        ['Instrumentation', f\"${unit_costs.get('instrumentation_usd', 0):,.0f}\"],\n",
    "    ]\n",
    "    \n",
    "    if unit_costs.get('degasser_usd'):\n",
    "        capex_breakdown.append(['CO₂ Degasser', f\"${unit_costs.get('degasser_usd', 0):,.0f}\"])\n",
    "    \n",
    "    # Add installation factor\n",
    "    subtotal = sum(v for k, v in unit_costs.items() if k != 'installation_factor' and v)\n",
    "    install_factor = unit_costs.get('installation_factor', 2.5)\n",
    "    capex_breakdown.append(['Installation (×{:.1f})'.format(install_factor), \n",
    "                           f\"${(subtotal * (install_factor - 1)):,.0f}\"])\n",
    "    capex_breakdown.append(['**TOTAL CAPEX**', f\"**${economics.get('capital_cost_usd', 0):,.0f}**\"])\n",
    "    \n",
    "    df_capex = pd.DataFrame(capex_breakdown, columns=['Item', 'Cost (USD)'])\n",
    "    display(df_capex.style.set_caption('Capital Cost Breakdown'))"
   ]
  },
  {
   "cell_type": "code",
   "execution_count": null,
   "metadata": {},
   "outputs": [],
   "source": [
    "if has_economics:\n",
    "    # Operating cost breakdown\n",
    "    opex_breakdown = [\n",
    "        ['Regenerant (NaCl)', f\"${economics.get('regenerant_cost_usd_year', 0):,.0f}/yr\"],\n",
    "        ['Resin Replacement', f\"${economics.get('resin_replacement_cost_usd_year', 0):,.0f}/yr\"],\n",
    "        ['Energy', f\"${economics.get('energy_cost_usd_year', 0):,.0f}/yr\"],\n",
    "    ]\n",
    "    \n",
    "    if economics.get('waste_disposal_cost_usd_year'):\n",
    "        opex_breakdown.append(['Waste Disposal', \n",
    "                              f\"${economics.get('waste_disposal_cost_usd_year', 0):,.0f}/yr\"])\n",
    "    \n",
    "    opex_breakdown.append(['**TOTAL OPEX**', \n",
    "                          f\"**${economics.get('operating_cost_usd_year', 0):,.0f}/yr**\"])\n",
    "    \n",
    "    df_opex = pd.DataFrame(opex_breakdown, columns=['Item', 'Cost'])\n",
    "    display(df_opex.style.set_caption('Operating Cost Breakdown'))"
   ]
  },
  {
   "cell_type": "code",
   "execution_count": null,
   "metadata": {},
   "outputs": [],
   "source": [
    "if has_economics:\n",
    "    # Key economic metrics\n",
    "    lcow = economics.get('lcow_usd_m3', 0)\n",
    "    sec = economics.get('sec_kwh_m3', 0)\n",
    "    \n",
    "    print(\"\\n📊 Key Economic Metrics:\")\n",
    "    print(f\"  • Levelized Cost of Water (LCOW): ${lcow:.3f}/m³\")\n",
    "    print(f\"  • Specific Energy Consumption: {sec:.3f} kWh/m³\")\n",
    "    print(f\"  • Payback Period: {economics.get('capital_cost_usd', 0) / economics.get('operating_cost_usd_year', 1):.1f} years (simplified)\")\n",
    "    \n",
    "    # Cost per 1000 gallons for US reference\n",
    "    lcow_per_kgal = lcow * 3.785  # 1000 gallons = 3.785 m³\n",
    "    print(f\"  • Cost per 1000 gallons: ${lcow_per_kgal:.2f}\")"
   ]
  }
 ],
 "metadata": {
  "kernelspec": {
   "display_name": "Python 3",
   "language": "python",
   "name": "python3"
  },
  "language_info": {
   "name": "python",
   "version": "3.9.0"
  }
 },
 "nbformat": 4,
 "nbformat_minor": 4
}