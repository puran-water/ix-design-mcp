{
 "cells": [
  {
   "cell_type": "markdown",
   "metadata": {},
   "source": [
    "### Hydraulic Design Calculations\n\n",
    "The following calculations determine the required vessel dimensions based on hydraulic constraints:"
   ]
  },
  {
   "cell_type": "code",
   "execution_count": null,
   "metadata": {},
   "outputs": [],
   "source": [
    "# Import calculation functions with handcalcs rendering\n",
    "import sys\n",
    "from pathlib import Path\n",
    "\n",
    "# Add calculations module to path\n",
    "calc_path = Path(project_root) / 'notebooks' / 'calculations'\n",
    "if str(calc_path) not in sys.path:\n",
    "    sys.path.insert(0, str(calc_path))\n",
    "\n",
    "from vessel_sizing import (\n",
    "    calculate_bed_volume,\n",
    "    calculate_minimum_area,\n",
    "    calculate_vessel_diameter,\n",
    "    calculate_actual_area,\n",
    "    calculate_linear_velocity,\n",
    "    calculate_bed_depth,\n",
    "    calculate_service_velocity,\n",
    "    calculate_freeboard,\n",
    "    calculate_vessel_height,\n",
    "    calculate_aspect_ratio\n",
    ")"
   ]
  },
  {
   "cell_type": "markdown",
   "metadata": {},
   "source": [
    "#### Step 1: Bed Volume Calculation"
   ]
  },
  {
   "cell_type": "code",
   "execution_count": null,
   "metadata": {},
   "outputs": [],
   "source": [
    "# Design parameters (from simulation inputs)\n",
    "Q_m3_hr = design.get('flow_m3_hr', 100)      # Design flow rate in m³/hr\n",
    "SV_hr = 16                                    # Service velocity (bed volumes/hour) - standard for RO pretreatment\n",
    "LV_max_m_hr = 25                             # Maximum linear velocity in m/hr\n",
    "\n",
    "# Calculate required bed volume using handcalcs\n",
    "V_bed_m3, V_bed_L = calculate_bed_volume(Q_m3_hr, SV_hr)\n",
    "\n",
    "print(f\"\\nDesign flow rate Q = {Q_m3_hr:.1f} m³/hr\")\n",
    "print(f\"Required bed volume = {V_bed_m3:.2f} m³ = {V_bed_L:.0f} L\")"
   ]
  },
  {
   "cell_type": "markdown",
   "metadata": {},
   "source": [
    "#### Step 2: Minimum Cross-Sectional Area"
   ]
  },
  {
   "cell_type": "code",
   "execution_count": null,
   "metadata": {},
   "outputs": [],
   "source": [
    "# Calculate minimum cross-sectional area for linear velocity constraint\n",
    "A_min_m2 = calculate_minimum_area(Q_m3_hr, LV_max_m_hr)\n",
    "\n",
    "print(f\"\\nMinimum cross-sectional area = {A_min_m2:.2f} m²\")"
   ]
  },
  {
   "cell_type": "markdown",
   "metadata": {},
   "source": [
    "#### Step 3: Vessel Diameter Selection"
   ]
  },
  {
   "cell_type": "code",
   "execution_count": null,
   "metadata": {},
   "outputs": [],
   "source": [
    "# Calculate minimum diameter from area\n",
    "D_min_m = calculate_vessel_diameter(A_min_m2)\n",
    "\n",
    "# Round up to standard diameter (0.1m increments, max 2.4m for containerized systems)\n",
    "import math\n",
    "D_selected_m = min(2.4, math.ceil(D_min_m * 10) / 10)  # Round up to nearest 0.1m\n",
    "\n",
    "# Calculate actual cross-sectional area\n",
    "A_actual_m2 = calculate_actual_area(D_selected_m)\n",
    "\n",
    "# Calculate actual linear velocity\n",
    "LV_actual_m_hr = calculate_linear_velocity(Q_m3_hr, A_actual_m2)\n",
    "\n",
    "print(f\"\\nMinimum diameter = {D_min_m:.2f} m\")\n",
    "print(f\"Selected standard diameter = {D_selected_m:.2f} m\")\n",
    "print(f\"Actual linear velocity = {LV_actual_m_hr:.1f} m/hr\")"
   ]
  },
  {
   "cell_type": "markdown",
   "metadata": {},
   "source": "# Summary of vessel design\nvessel_summary = [\n    ['Vessel Diameter', format_with_units(D_selected_m, 'm', 2) if 'format_with_units' in locals() else f\"{D_selected_m:.2f} m\"],\n    ['Bed Depth', format_with_units(h_bed_final_m, 'm', 2) if 'format_with_units' in locals() else f\"{h_bed_final_m:.2f} m\"],\n    ['Bed Volume', format_with_units(V_bed_actual_m3, 'm³', 2) if 'format_with_units' in locals() else f\"{V_bed_actual_m3:.2f} m³\"],\n    ['Freeboard Height', format_with_units(h_freeboard_m, 'm', 2) if 'format_with_units' in locals() else f\"{h_freeboard_m:.2f} m\"],\n    ['Total Vessel Height', format_with_units(h_vessel_m, 'm', 2) if 'format_with_units' in locals() else f\"{h_vessel_m:.2f} m\"],\n    ['Linear Velocity', format_with_units(LV_actual_m_hr, 'm/hr', 1) if 'format_with_units' in locals() else f\"{LV_actual_m_hr:.1f} m/hr\"],\n    ['Service Velocity', format_with_units(SV_actual_hr, 'BV/hr', 1) if 'format_with_units' in locals() else f\"{SV_actual_hr:.1f} BV/hr\"],\n    ['Aspect Ratio (L/D)', f\"{aspect_ratio:.2f}\"]\n]\n\ndf_vessel = pd.DataFrame(vessel_summary, columns=['Parameter', 'Value'])\ndisplay(df_vessel.style.set_caption('SAC Vessel Design Summary'))\n\n# Design constraints table\nconstraints = [\n    ['Linear Velocity Limit', '25 m/hr'],\n    ['Actual Linear Velocity', f\"{LV_actual_m_hr:.1f} m/hr\"],\n    ['Minimum Bed Depth', '0.75 m'],\n    ['Actual Bed Depth', f\"{h_bed_final_m:.2f} m\"],\n    ['Container Diameter Limit', '2.4 m'],\n    ['Actual Diameter', f\"{D_selected_m:.2f} m\"]\n]\n\ndf_constraints = pd.DataFrame(constraints, columns=['Parameter', 'Value'])\ndisplay(df_constraints.style.set_caption('Design Constraints'))"
  },
  {
   "cell_type": "code",
   "execution_count": null,
   "metadata": {},
   "outputs": [],
   "source": [
    "# Calculate bed depth from volume\n",
    "h_bed_m = calculate_bed_depth(V_bed_m3, A_actual_m2)\n",
    "\n",
    "# Minimum bed depth constraint\n",
    "h_bed_min_m = 0.75  # Minimum for proper distribution\n",
    "\n",
    "# Select actual bed depth (round to 0.05m)\n",
    "h_bed_final_m = max(h_bed_min_m, math.ceil(h_bed_m * 20) / 20)  # Round up to nearest 0.05m\n",
    "\n",
    "# Recalculate actual bed volume\n",
    "V_bed_actual_m3 = A_actual_m2 * h_bed_final_m\n",
    "\n",
    "# Calculate service flow rate in BV/hr\n",
    "SV_actual_hr = calculate_service_velocity(Q_m3_hr, V_bed_actual_m3)\n",
    "\n",
    "print(f\"\\nCalculated bed depth = {h_bed_m:.2f} m\")\n",
    "print(f\"Selected bed depth = {h_bed_final_m:.2f} m\")\n",
    "print(f\"Actual bed volume = {V_bed_actual_m3:.2f} m³\")\n",
    "print(f\"Actual service velocity = {SV_actual_hr:.1f} BV/hr\")"
   ]
  },
  {
   "cell_type": "markdown",
   "metadata": {},
   "source": [
    "#### Step 5: Freeboard and Total Height"
   ]
  },
  {
   "cell_type": "code",
   "execution_count": null,
   "metadata": {},
   "outputs": [],
   "source": [
    "# Freeboard for backwash expansion (100% for conservative design)\n",
    "expansion_factor = 1.0  # 100% expansion factor\n",
    "h_freeboard_m = calculate_freeboard(h_bed_final_m, expansion_factor)\n",
    "\n",
    "# Total vessel height\n",
    "h_distributor_m = 0.1  # Height for distributor/collector\n",
    "h_vessel_m = calculate_vessel_height(h_bed_final_m, h_freeboard_m, h_distributor_m)\n",
    "\n",
    "# Aspect ratio check\n",
    "aspect_ratio = calculate_aspect_ratio(h_bed_final_m, D_selected_m)\n",
    "\n",
    "print(f\"\\nFreeboard height = {h_freeboard_m:.2f} m\")\n",
    "print(f\"Total vessel height = {h_vessel_m:.2f} m\")\n",
    "print(f\"Aspect ratio (L/D) = {aspect_ratio:.2f}\")"
   ]
  },
  {
   "cell_type": "markdown",
   "metadata": {},
   "source": [
    "#### Vessel Design Summary"
   ]
  },
  {
   "cell_type": "code",
   "execution_count": null,
   "metadata": {},
   "outputs": [],
   "source": [
    "# Summary of vessel design\n",
    "vessel_summary = [\n",
    "    ['Vessel Diameter', format_with_units(D_selected_m, 'm', 2) if 'format_with_units' in locals() else f\"{D_selected_m:.2f} m\"],\n",
    "    ['Bed Depth', format_with_units(h_bed_final_m, 'm', 2) if 'format_with_units' in locals() else f\"{h_bed_final_m:.2f} m\"],\n",
    "    ['Bed Volume', format_with_units(V_bed_actual_m3, 'm³', 2) if 'format_with_units' in locals() else f\"{V_bed_actual_m3:.2f} m³\"],\n",
    "    ['Freeboard Height', format_with_units(h_freeboard_m, 'm', 2) if 'format_with_units' in locals() else f\"{h_freeboard_m:.2f} m\"],\n",
    "    ['Total Vessel Height', format_with_units(h_vessel_m, 'm', 2) if 'format_with_units' in locals() else f\"{h_vessel_m:.2f} m\"],\n",
    "    ['Linear Velocity', format_with_units(LV_actual_m_hr, 'm/hr', 1) if 'format_with_units' in locals() else f\"{LV_actual_m_hr:.1f} m/hr\"],\n",
    "    ['Service Velocity', format_with_units(SV_actual_hr, 'BV/hr', 1) if 'format_with_units' in locals() else f\"{SV_actual_hr:.1f} BV/hr\"],\n",
    "    ['Aspect Ratio (L/D)', f\"{aspect_ratio:.2f}\"]\n",
    "]\n",
    "\n",
    "df_vessel = pd.DataFrame(vessel_summary, columns=['Parameter', 'Value'])\n",
    "display(df_vessel.style.set_caption('SAC Vessel Design Summary'))\n",
    "\n",
    "# Design verification\n",
    "print(\"\\n✓ Design Verification:\")\n",
    "if LV_actual_m_hr <= 25:\n",
    "    print(f\"  Linear velocity {LV_actual_m_hr:.1f} ≤ 25 m/hr ✓\")\n",
    "else:\n",
    "    print(f\"  ⚠️ Linear velocity {LV_actual_m_hr:.1f} > 25 m/hr\")\n",
    "\n",
    "if h_bed_final_m >= 0.75:\n",
    "    print(f\"  Bed depth {h_bed_final_m:.2f} ≥ 0.75 m ✓\")\n",
    "else:\n",
    "    print(f\"  ⚠️ Bed depth {h_bed_final_m:.2f} < 0.75 m\")\n",
    "\n",
    "if D_selected_m <= 2.4:\n",
    "    print(f\"  Diameter {D_selected_m:.2f} ≤ 2.4 m (fits in container) ✓\")\n",
    "else:\n",
    "    print(f\"  ⚠️ Diameter {D_selected_m:.2f} > 2.4 m (exceeds container)\")"
   ]
  }
 ],
 "nbformat": 4,
 "nbformat_minor": 4,
 "metadata": {
  "kernelspec": {
   "display_name": "Python 3",
   "language": "python",
   "name": "python3"
  }
 }
}