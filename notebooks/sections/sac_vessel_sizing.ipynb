{
 "cells": [
  {
   "cell_type": "markdown",
   "metadata": {},
   "source": [
    "### Hydraulic Design Calculations\n",
    "\n",
    "The following calculations determine the required vessel dimensions based on hydraulic constraints:"
   ]
  },
  {
   "cell_type": "code",
   "execution_count": null,
   "metadata": {},
   "outputs": [],
   "source": "# Service Flow Rate Design (SAC)\n# Using standard heuristics for RO pretreatment\n\nfrom math import pi\n\n# Design parameters (from simulation inputs)\nQ_m3_hr = design.get('flow_m3_hr', 100)      # Design flow rate in m³/hr\nSV_hr = 16                                    # Service velocity (bed volumes/hour)\nLV_max_m_hr = 25                             # Maximum linear velocity in m/hr\n\n# Calculate required bed volume\nV_bed_m3 = Q_m3_hr / SV_hr                   # Bed volume required in m³\n\n# Calculate minimum cross-sectional area\nA_min_m2 = Q_m3_hr / LV_max_m_hr             # Minimum area for linear velocity in m²\n\n# Convert to liters for display\nV_bed_L = V_bed_m3 * 1000                    # Volume in liters\n\nprint(f\"Design flow rate Q = {Q_m3_hr:.1f} m³/hr\")\nprint(f\"Required bed volume = {V_bed_m3:.2f} m³ = {V_bed_L:.0f} L\")\nprint(f\"Minimum cross-sectional area = {A_min_m2:.2f} m²\")"
  },
  {
   "cell_type": "code",
   "execution_count": null,
   "metadata": {},
   "outputs": [],
   "source": "# Vessel Diameter Selection\n# Standard vessel diameters for containerized systems\n\n# Minimum diameter from area\nD_min_m = (4 * A_min_m2 / pi) ** 0.5\n\n# Round up to standard diameter (0.1m increments)\nD_selected_m = 2.3                           # Selected standard diameter in meters\n\n# Actual cross-sectional area\nA_actual_m2 = pi * (D_selected_m / 2) ** 2\n\n# Actual linear velocity\nLV_actual_m_hr = Q_m3_hr / A_actual_m2\n\nprint(f\"Minimum diameter = {D_min_m:.2f} m\")\nprint(f\"Selected standard diameter = {D_selected_m:.2f} m\")\nprint(f\"Actual linear velocity = {LV_actual_m_hr:.1f} m/hr\")"
  },
  {
   "cell_type": "code",
   "execution_count": null,
   "metadata": {},
   "outputs": [],
   "source": "# Bed Depth Calculation\n\n# Calculate bed depth from volume\nh_bed_m = V_bed_m3 / A_actual_m2\n\n# Minimum bed depth constraint\nh_bed_min_m = 0.75                           # Minimum for proper distribution\n\n# Select actual bed depth (round to 0.05m)\nh_bed_final_m = 1.5                          # Selected bed depth in meters\n\n# Recalculate actual bed volume\nV_bed_actual_m3 = A_actual_m2 * h_bed_final_m\n\n# Service flow rate in BV/hr\nSV_actual_hr = Q_m3_hr / V_bed_actual_m3\n\nprint(f\"Calculated bed depth = {h_bed_m:.2f} m\")\nprint(f\"Selected bed depth = {h_bed_final_m:.2f} m\")\nprint(f\"Actual bed volume = {V_bed_actual_m3:.2f} m³\")\nprint(f\"Actual service velocity = {SV_actual_hr:.1f} BV/hr\")"
  },
  {
   "cell_type": "code",
   "execution_count": null,
   "metadata": {},
   "outputs": [],
   "source": "# Freeboard and Total Height\n\n# Freeboard for backwash expansion (100% for conservative design)\nexpansion = 1.0                               # 100% expansion factor\nh_freeboard_m = h_bed_final_m * expansion\n\n# Total vessel height\nh_vessel_m = h_bed_final_m + h_freeboard_m + 0.1  # Plus distributor/collector space\n\n# Aspect ratio check\naspect_ratio = h_bed_final_m / D_selected_m\n\nprint(f\"Freeboard height = {h_freeboard_m:.2f} m\")\nprint(f\"Total vessel height = {h_vessel_m:.2f} m\")\nprint(f\"Aspect ratio (L/D) = {aspect_ratio:.2f}\")"
  },
  {
   "cell_type": "code",
   "execution_count": null,
   "metadata": {},
   "outputs": [],
   "source": "# Summary of vessel design\nvessel_summary = [\n    ['Vessel Diameter', f\"{D_selected_m:.2f}\", 'm'],\n    ['Bed Depth', f\"{h_bed_final_m:.2f}\", 'm'],\n    ['Bed Volume', f\"{V_bed_actual_m3:.2f}\", 'm³'],\n    ['Freeboard Height', f\"{h_freeboard_m:.2f}\", 'm'],\n    ['Total Vessel Height', f\"{h_vessel_m:.2f}\", 'm'],\n    ['Linear Velocity', f\"{LV_actual_m_hr:.1f}\", 'm/hr'],\n    ['Service Velocity', f\"{SV_actual_hr:.1f}\", 'BV/hr'],\n    ['Aspect Ratio (L/D)', f\"{aspect_ratio:.2f}\", '-']\n]\n\ndf_vessel = pd.DataFrame(vessel_summary, columns=['Parameter', 'Value', 'Units'])\ndisplay(df_vessel.style.set_caption('SAC Vessel Design Summary'))\n\n# Design verification\nprint(\"\\n✓ Design Verification:\")\nif LV_actual_m_hr <= 25:\n    print(f\"  Linear velocity {LV_actual_m_hr:.1f} ≤ 25 m/hr ✓\")\nelse:\n    print(f\"  ⚠️ Linear velocity {LV_actual_m_hr:.1f} > 25 m/hr\")\n\nif h_bed_final_m >= 0.75:\n    print(f\"  Bed depth {h_bed_final_m:.2f} ≥ 0.75 m ✓\")\nelse:\n    print(f\"  ⚠️ Bed depth {h_bed_final_m:.2f} < 0.75 m\")\n\nif D_selected_m <= 2.4:\n    print(f\"  Diameter {D_selected_m:.2f} ≤ 2.4 m (fits in container) ✓\")\nelse:\n    print(f\"  ⚠️ Diameter {D_selected_m:.2f} > 2.4 m (exceeds container)\")"
  }
 ],
 "metadata": {
  "kernelspec": {
   "display_name": "Python 3",
   "language": "python",
   "name": "python3"
  },
  "language_info": {
   "name": "python",
   "version": "3.9.0"
  }
 },
 "nbformat": 4,
 "nbformat_minor": 4
}