{
 "cells": [
  {
   "cell_type": "markdown",
   "metadata": {},
   "source": [
    "### Breakthrough Curve Analysis\n",
    "\n",
    "The following plot shows the predicted breakthrough behavior from PHREEQC simulation:"
   ]
  },
  {
   "cell_type": "code",
   "execution_count": null,
   "metadata": {},
   "outputs": [],
   "source": "# Load breakthrough data if available\nbreakthrough_curve_path = locals().get('breakthrough_curve_path', None)\n\nif breakthrough_data and 'bv' in breakthrough_data:\n    # Use breakthrough_data from simulation (new format)\n    bv = breakthrough_data['bv']\n    hardness = breakthrough_data.get('hardness_mg_l', [])\n    ca = breakthrough_data.get('ca_mg_l', [])\n    mg = breakthrough_data.get('mg_mg_l', [])\n    na = breakthrough_data.get('na_mg_l', [])\n    \n    # Find service endpoint\n    target_hardness = design.get('targets', {}).get('hardness_mg_l_caco3', 5.0)\n    breakthrough_bv = performance.get('service_bv_to_target', 0)\n    \n    print(f\"Breakthrough at {breakthrough_bv:.1f} BV for {target_hardness:.1f} mg/L target\")\nelif breakthrough_data and 'bed_volumes' in breakthrough_data:\n    # Legacy format compatibility\n    bv = breakthrough_data['bed_volumes']\n    hardness = breakthrough_data.get('hardness_mg_l', [])\n    ca = breakthrough_data.get('ca_mg_l', [])\n    mg = breakthrough_data.get('mg_mg_l', [])\n    na = breakthrough_data.get('na_mg_l', [])\n    \n    target_hardness = breakthrough_data.get('target_hardness', 5.0)\n    breakthrough_bv = breakthrough_data.get('breakthrough_bv', performance.get('service_bv_to_target', 0))\n    \n    print(f\"Breakthrough at {breakthrough_bv:.1f} BV for {target_hardness:.1f} mg/L target\")\nelif breakthrough_curve_path:\n    # Try to load from CSV file\n    try:\n        df_breakthrough = pd.read_csv(breakthrough_curve_path)\n        bv = df_breakthrough['bed_volumes'].values\n        hardness = df_breakthrough['hardness_mg_l'].values\n        target_hardness = 5.0  # Default target\n        breakthrough_bv = performance.get('service_bv_to_target', 0)\n        print(f\"Loaded breakthrough data from {breakthrough_curve_path}\")\n    except:\n        print(\"No breakthrough data available\")\n        bv = hardness = None\nelse:\n    print(\"No breakthrough data available for plotting\")\n    bv = hardness = None"
  },
  {
   "cell_type": "code",
   "execution_count": null,
   "metadata": {},
   "outputs": [],
   "source": [
    "# Create breakthrough curve plot\n",
    "if bv is not None and len(bv) > 0:\n",
    "    if USE_PLOTLY:\n",
    "        # Interactive Plotly plot\n",
    "        fig = go.Figure()\n",
    "        \n",
    "        # Add hardness trace\n",
    "        fig.add_trace(go.Scatter(\n",
    "            x=bv[:len(hardness)],\n",
    "            y=hardness,\n",
    "            mode='lines',\n",
    "            name='Total Hardness',\n",
    "            line=dict(color='blue', width=2)\n",
    "        ))\n",
    "        \n",
    "        # Add target line\n",
    "        fig.add_hline(\n",
    "            y=target_hardness,\n",
    "            line_dash=\"dash\",\n",
    "            line_color=\"red\",\n",
    "            annotation_text=f\"Target: {target_hardness} mg/L\"\n",
    "        )\n",
    "        \n",
    "        # Add breakthrough point\n",
    "        fig.add_vline(\n",
    "            x=breakthrough_bv,\n",
    "            line_dash=\"dash\",\n",
    "            line_color=\"green\",\n",
    "            annotation_text=f\"Breakthrough: {breakthrough_bv:.1f} BV\"\n",
    "        )\n",
    "        \n",
    "        fig.update_layout(\n",
    "            title='Ion Exchange Breakthrough Curve',\n",
    "            xaxis_title='Bed Volumes',\n",
    "            yaxis_title='Hardness (mg/L as CaCO₃)',\n",
    "            height=500,\n",
    "            hovermode='x unified'\n",
    "        )\n",
    "        \n",
    "        fig.show()\n",
    "    else:\n",
    "        # Static matplotlib plot\n",
    "        plt.figure(figsize=(10, 6))\n",
    "        plt.plot(bv[:len(hardness)], hardness, 'b-', linewidth=2, label='Total Hardness')\n",
    "        plt.axhline(y=target_hardness, color='r', linestyle='--', label=f'Target: {target_hardness} mg/L')\n",
    "        plt.axvline(x=breakthrough_bv, color='g', linestyle='--', label=f'Breakthrough: {breakthrough_bv:.1f} BV')\n",
    "        \n",
    "        plt.xlabel('Bed Volumes')\n",
    "        plt.ylabel('Hardness (mg/L as CaCO₃)')\n",
    "        plt.title('Ion Exchange Breakthrough Curve')\n",
    "        plt.grid(True, alpha=0.3)\n",
    "        plt.legend()\n",
    "        plt.xlim(0, min(300, max(bv) if bv else 300))\n",
    "        plt.ylim(0, max(100, max(hardness)*1.1 if hardness else 100))\n",
    "        plt.show()\n",
    "else:\n",
    "    print(\"⚠️ No breakthrough curve data available for visualization\")"
   ]
  },
  {
   "cell_type": "code",
   "execution_count": null,
   "metadata": {},
   "outputs": [],
   "source": "# Performance metrics summary\n# Get bed volume from vessel configuration\nif 'vessel' in design:\n    vessel_params = design['vessel']\n    bed_volume_m3 = vessel_params.get('bed_volume_m3')\n    if not bed_volume_m3:\n        # Calculate from dimensions if available\n        diameter = vessel_params.get('diameter_m', 2.0)\n        bed_depth = vessel_params.get('bed_depth_m', 2.0)\n        from math import pi\n        bed_volume_m3 = pi * (diameter/2)**2 * bed_depth\nelse:\n    # Use default values\n    from math import pi\n    bed_volume_m3 = pi * (2.0/2)**2 * 2.0\n\nservice_bv = performance.get('service_bv_to_target', 0)\ntreated_volume_m3 = service_bv * bed_volume_m3\n\nperformance_summary = [\n    ['Service to Breakthrough', f\"{service_bv:.1f}\", 'BV'],\n    ['Service Run Time', f\"{performance.get('service_hours', 0):.1f}\", 'hours'],\n    ['Treated Water Volume', f\"{treated_volume_m3:.0f}\", 'm³'],\n    ['Capacity Utilization', f\"{performance.get('capacity_utilization_percent', 0):.1f}\", '%'],\n    ['Effluent Quality', f\"{performance.get('effluent_hardness_mg_l_caco3', 0):.1f}\", 'mg/L as CaCO₃']\n]\n\ndf_performance = pd.DataFrame(performance_summary, columns=['Metric', 'Value', 'Units'])\ndisplay(df_performance.style.set_caption('Service Cycle Performance'))"
  }
 ],
 "metadata": {
  "kernelspec": {
   "display_name": "Python 3",
   "language": "python",
   "name": "python3"
  },
  "language_info": {
   "name": "python",
   "version": "3.9.0"
  }
 },
 "nbformat": 4,
 "nbformat_minor": 4
}