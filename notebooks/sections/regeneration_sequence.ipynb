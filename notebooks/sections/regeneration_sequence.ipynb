{
 "cells": [
  {
   "cell_type": "markdown",
   "metadata": {},
   "source": [
    "### Regeneration Sequence\n",
    "\n",
    "The regeneration sequence depends on the resin form:"
   ]
  },
  {
   "cell_type": "code",
   "execution_count": null,
   "metadata": {},
   "outputs": [],
   "source": [
    "# Define regeneration sequence based on resin type\n",
    "resin_code = resin_info.get('code', 'SAC')\n",
    "\n",
    "if 'WAC_Na' in resin_code:\n",
    "    # Two-step regeneration for WAC-Na\n",
    "    sequence = [\n",
    "        ['1. Backwash', '10 min', '5 BV/hr', 'Upflow to remove fines'],\n",
    "        ['2. Acid Injection', '30 min', '2 BV/hr', 'Convert to H-form (HCl or H₂SO₄)'],\n",
    "        ['3. Water Rinse', '10 min', '5 BV/hr', 'Remove excess acid'],\n",
    "        ['4. Caustic Injection', '30 min', '2 BV/hr', 'Convert to Na-form (NaOH)'],\n",
    "        ['5. Final Rinse', '20 min', '10 BV/hr', 'Remove excess caustic'],\n",
    "        ['Total Time', '100 min', '', '']\n",
    "    ]\n",
    "    print(\"Two-Step Regeneration (Acid → Caustic)\")\n",
    "    \n",
    "elif 'WAC_H' in resin_code:\n",
    "    # Single-step acid regeneration for WAC-H\n",
    "    sequence = [\n",
    "        ['1. Backwash', '10 min', '5 BV/hr', 'Upflow to remove fines'],\n",
    "        ['2. Acid Regeneration', '60 min', '2 BV/hr', 'HCl or H₂SO₄ injection'],\n",
    "        ['3. Slow Rinse', '20 min', '2 BV/hr', 'Displace regenerant'],\n",
    "        ['4. Fast Rinse', '15 min', '10 BV/hr', 'Quality rinse'],\n",
    "        ['Total Time', '105 min', '', '']\n",
    "    ]\n",
    "    print(\"Single-Step Acid Regeneration\")\n",
    "    \n",
    "else:  # SAC\n",
    "    # Standard NaCl regeneration for SAC\n",
    "    sequence = [\n",
    "        ['1. Backwash', '10 min', '5 BV/hr', 'Upflow to classify bed'],\n",
    "        ['2. Brine Draw', '45 min', '2 BV/hr', '10% NaCl solution'],\n",
    "        ['3. Slow Rinse', '15 min', '2 BV/hr', 'Displace brine'],\n",
    "        ['4. Fast Rinse', '20 min', '10 BV/hr', 'Quality rinse to <50 µS/cm'],\n",
    "        ['Total Time', '90 min', '', '']\n",
    "    ]\n",
    "    print(\"Standard Brine Regeneration\")\n",
    "\n",
    "df_regen = pd.DataFrame(sequence, columns=['Step', 'Duration', 'Flow Rate', 'Notes'])\n",
    "display(df_regen.style.set_caption('Regeneration Sequence'))"
   ]
  },
  {
   "cell_type": "code",
   "execution_count": null,
   "metadata": {},
   "outputs": [],
   "source": [
    "# Regenerant consumption\n",
    "if mass_balance:\n",
    "    regen_kg = mass_balance.get('regenerant_kg_cycle', 0)\n",
    "    waste_m3 = mass_balance.get('waste_m3_cycle', 0)\n",
    "    \n",
    "    print(f\"\\nRegeneration Requirements per Cycle:\")\n",
    "    print(f\"  • Regenerant: {regen_kg:.1f} kg\")\n",
    "    print(f\"  • Waste Volume: {waste_m3:.1f} m³\")\n",
    "    print(f\"  • Waste Concentration: {(regen_kg/waste_m3*1000) if waste_m3 > 0 else 0:.0f} mg/L average\")"
   ]
  }
 ],
 "metadata": {
  "kernelspec": {
   "display_name": "Python 3",
   "language": "python",
   "name": "python3"
  }
 },
 "nbformat": 4,
 "nbformat_minor": 4
}