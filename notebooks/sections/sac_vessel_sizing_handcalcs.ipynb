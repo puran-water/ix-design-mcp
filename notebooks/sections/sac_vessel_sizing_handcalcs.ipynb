{
 "cells": [
  {
   "cell_type": "markdown",
   "metadata": {},
   "source": [
    "### Hydraulic Design Calculations\n\n",
    "The following calculations determine the required vessel dimensions based on hydraulic constraints:"
   ]
  },
  {
   "cell_type": "code",
   "execution_count": null,
   "metadata": {},
   "outputs": [],
   "source": [
    "# Design parameters (from simulation inputs)\n",
    "Q_m3_hr = design.get('flow_m3_hr', 100)      # Design flow rate in m³/hr\n",
    "SV_hr = 16                                    # Service velocity (bed volumes/hour)\n",
    "LV_max_m_hr = 25                             # Maximum linear velocity in m/hr"
   ]
  },
  {
   "cell_type": "markdown",
   "metadata": {},
   "source": [
    "#### Step 1: Bed Volume Calculation"
   ]
  },
  {
   "cell_type": "code",
   "execution_count": null,
   "metadata": {},
   "outputs": [],
   "source": "# Bed volume calculation using handcalcs\n# Note: If %%render doesn't work, calculations will still show values\ntry:\n    get_ipython().run_cell_magic('render', '', '# Bed volume calculation\\\\nV_bed_m3 = Q_m3_hr / SV_hr\\\\nV_bed_L = V_bed_m3 * 1000')\nexcept:\n    # Fallback if handcalcs not available\n    V_bed_m3 = Q_m3_hr / SV_hr\n    V_bed_L = V_bed_m3 * 1000\n    print(f\"V_bed_m3 = Q_m3_hr / SV_hr = {Q_m3_hr} / {SV_hr} = {V_bed_m3:.2f} m³\")\n    print(f\"V_bed_L = V_bed_m3 * 1000 = {V_bed_m3:.2f} * 1000 = {V_bed_L:.0f} L\")"
  },
  {
   "cell_type": "markdown",
   "metadata": {},
   "source": [
    "#### Step 2: Minimum Cross-Sectional Area"
   ]
  },
  {
   "cell_type": "code",
   "execution_count": null,
   "metadata": {},
   "outputs": [],
   "source": [
    "%%render\n",
    "# Minimum area for linear velocity\n",
    "A_min_m2 = Q_m3_hr / LV_max_m_hr"
   ]
  },
  {
   "cell_type": "markdown",
   "metadata": {},
   "source": [
    "#### Step 3: Vessel Diameter Selection"
   ]
  },
  {
   "cell_type": "code",
   "execution_count": null,
   "metadata": {},
   "outputs": [],
   "source": [
    "from math import pi, sqrt, ceil\n",
    "\n",
    "%%render\n",
    "# Minimum diameter from area\n",
    "D_min_m = sqrt(4 * A_min_m2 / pi)"
   ]
  },
  {
   "cell_type": "code",
   "execution_count": null,
   "metadata": {},
   "outputs": [],
   "source": [
    "# Round up to standard diameter\n",
    "D_selected_m = min(2.4, ceil(D_min_m * 10) / 10)  # Round to nearest 0.1m, max 2.4m"
   ]
  },
  {
   "cell_type": "code",
   "execution_count": null,
   "metadata": {},
   "outputs": [],
   "source": [
    "%%render\n",
    "# Actual cross-sectional area\n",
    "A_actual_m2 = pi * (D_selected_m / 2) ** 2\n",
    "\n",
    "# Actual linear velocity\n",
    "LV_actual_m_hr = Q_m3_hr / A_actual_m2"
   ]
  },
  {
   "cell_type": "markdown",
   "metadata": {},
   "source": [
    "#### Step 4: Bed Depth Calculation"
   ]
  },
  {
   "cell_type": "code",
   "execution_count": null,
   "metadata": {},
   "outputs": [],
   "source": [
    "%%render\n",
    "# Bed depth from volume and area\n",
    "h_bed_m = V_bed_m3 / A_actual_m2"
   ]
  },
  {
   "cell_type": "code",
   "execution_count": null,
   "metadata": {},
   "outputs": [],
   "source": [
    "# Apply minimum bed depth constraint and round\n",
    "h_bed_min_m = 0.75\n",
    "h_bed_final_m = max(h_bed_min_m, ceil(h_bed_m * 20) / 20)  # Round to 0.05m"
   ]
  },
  {
   "cell_type": "code",
   "execution_count": null,
   "metadata": {},
   "outputs": [],
   "source": [
    "%%render\n",
    "# Recalculate actual bed volume\n",
    "V_bed_actual_m3 = A_actual_m2 * h_bed_final_m\n",
    "\n",
    "# Service velocity in BV/hr\n",
    "SV_actual_hr = Q_m3_hr / V_bed_actual_m3"
   ]
  },
  {
   "cell_type": "markdown",
   "metadata": {},
   "source": [
    "#### Step 5: Freeboard and Total Height"
   ]
  },
  {
   "cell_type": "code",
   "execution_count": null,
   "metadata": {},
   "outputs": [],
   "source": [
    "%%render\n",
    "# Freeboard for backwash expansion\n",
    "expansion_factor = 1.0\n",
    "h_freeboard_m = h_bed_final_m * expansion_factor\n",
    "\n",
    "# Total vessel height\n",
    "h_distributor_m = 0.1\n",
    "h_vessel_m = h_bed_final_m + h_freeboard_m + h_distributor_m\n",
    "\n",
    "# Aspect ratio\n",
    "aspect_ratio = h_bed_final_m / D_selected_m"
   ]
  },
  {
   "cell_type": "markdown",
   "metadata": {},
   "source": [
    "#### Vessel Design Summary"
   ]
  },
  {
   "cell_type": "code",
   "execution_count": null,
   "metadata": {},
   "outputs": [],
   "source": [
    "# Summary tables\n",
    "vessel_summary = [\n",
    "    ['Vessel Diameter', f\"{D_selected_m:.2f} m\"],\n",
    "    ['Bed Depth', f\"{h_bed_final_m:.2f} m\"],\n",
    "    ['Bed Volume', f\"{V_bed_actual_m3:.2f} m³\"],\n",
    "    ['Freeboard Height', f\"{h_freeboard_m:.2f} m\"],\n",
    "    ['Total Vessel Height', f\"{h_vessel_m:.2f} m\"],\n",
    "    ['Linear Velocity', f\"{LV_actual_m_hr:.1f} m/hr\"],\n",
    "    ['Service Velocity', f\"{SV_actual_hr:.1f} BV/hr\"],\n",
    "    ['Aspect Ratio (L/D)', f\"{aspect_ratio:.2f}\"]\n",
    "]\n",
    "\n",
    "df_vessel = pd.DataFrame(vessel_summary, columns=['Parameter', 'Value'])\n",
    "display(df_vessel.style.set_caption('SAC Vessel Design Summary'))\n",
    "\n",
    "# Design constraints\n",
    "constraints = [\n",
    "    ['Linear Velocity Limit', '25 m/hr'],\n",
    "    ['Actual Linear Velocity', f\"{LV_actual_m_hr:.1f} m/hr\"],\n",
    "    ['Minimum Bed Depth', '0.75 m'],\n",
    "    ['Actual Bed Depth', f\"{h_bed_final_m:.2f} m\"],\n",
    "    ['Container Diameter Limit', '2.4 m'],\n",
    "    ['Actual Diameter', f\"{D_selected_m:.2f} m\"]\n",
    "]\n",
    "\n",
    "df_constraints = pd.DataFrame(constraints, columns=['Parameter', 'Value'])\n",
    "display(df_constraints.style.set_caption('Design Constraints'))"
   ]
  }
 ],
 "nbformat": 4,
 "nbformat_minor": 4,
 "metadata": {
  "kernelspec": {
   "display_name": "Python 3",
   "language": "python",
   "name": "python3"
  }
 }
}