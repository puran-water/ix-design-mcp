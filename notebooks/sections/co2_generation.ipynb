{
 "cells": [
  {
   "cell_type": "markdown",
   "metadata": {},
   "source": [
    "### CO₂ Generation and Degassing (WAC-H)\n",
    "\n",
    "H-form WAC converts bicarbonate alkalinity to CO₂, requiring degasser design:"
   ]
  },
  {
   "cell_type": "code",
   "execution_count": null,
   "metadata": {},
   "outputs": [],
   "source": [
    "%%render\n",
    "# CO2 generation calculations\n",
    "\n",
    "# Feed water alkalinity\n",
    "hco3_feed = feed_ions.get('HCO3_-', 150) * mg/L\n",
    "alk_as_caco3 = hco3_feed * 0.82  # Convert to CaCO3 basis\n",
    "\n",
    "# Reaction: HCO3- + H+ → H2O + CO2\n",
    "# Molecular weights\n",
    "MW_HCO3 = 61.02 * g/mol\n",
    "MW_CO2 = 44.01 * g/mol\n",
    "\n",
    "# CO2 generated\n",
    "co2_generated = hco3_feed * (MW_CO2 / MW_HCO3)\n",
    "\n",
    "# CO2 concentration at equilibrium (Henry's Law)\n",
    "pH_effluent = 4.5  # Typical H-form effluent pH\n",
    "co2_dissolved = co2_generated * 0.9  # ~90% remains dissolved at pH 4.5"
   ]
  },
  {
   "cell_type": "code",
   "execution_count": null,
   "metadata": {},
   "outputs": [],
   "source": [
    "%%render\n",
    "# Degasser sizing\n",
    "\n",
    "# Design flow\n",
    "Q_degasser = design.get('flow_m3_hr', 100) * m**3/hr\n",
    "\n",
    "# Forced draft degasser parameters\n",
    "L_G_ratio = 20  # Liquid to gas ratio (typical)\n",
    "packing_height = 2.5 * m  # Typical for 95% removal\n",
    "tower_diameter = 1.5 * m  # Based on hydraulic loading\n",
    "\n",
    "# Air requirement\n",
    "Q_air = Q_degasser / L_G_ratio\n",
    "\n",
    "# Power requirement (approximate)\n",
    "blower_dp = 500 * Pa  # Pressure drop through packing\n",
    "blower_efficiency = 0.7\n",
    "power_kW = (Q_air * blower_dp / blower_efficiency).to('kW')"
   ]
  },
  {
   "cell_type": "code",
   "execution_count": null,
   "metadata": {},
   "outputs": [],
   "source": [
    "# Degasser summary\n",
    "degasser_data = [\n",
    "    ['CO₂ Generated', f\"{co2_generated.to('mg/L'):.1f}\", 'mg/L'],\n",
    "    ['CO₂ Dissolved', f\"{co2_dissolved.to('mg/L'):.1f}\", 'mg/L'],\n",
    "    ['Degasser Type', 'Forced Draft Packed Tower', ''],\n",
    "    ['Tower Diameter', f\"{tower_diameter.to('m'):.1f}\", 'm'],\n",
    "    ['Packing Height', f\"{packing_height.to('m'):.1f}\", 'm'],\n",
    "    ['Air Flow', f\"{Q_air.to('m^3/hr'):.0f}\", 'm³/hr'],\n",
    "    ['Blower Power', f\"{power_kW.value:.1f}\", 'kW'],\n",
    "    ['CO₂ Removal', '95', '%']\n",
    "]\n",
    "\n",
    "df_degasser = pd.DataFrame(degasser_data, columns=['Parameter', 'Value', 'Units'])\n",
    "display(df_degasser.style.set_caption('CO₂ Degasser Design'))\n",
    "\n",
    "print(\"\\n⚠️ Note: Degasser is essential to prevent CO₂ passage to RO membranes\")\n",
    "print(\"  CO₂ would pass through RO and recombine with permeate caustic, increasing TDS\")"
   ]
  }
 ],
 "metadata": {
  "kernelspec": {
   "display_name": "Python 3",
   "language": "python",
   "name": "python3"
  }
 },
 "nbformat": 4,
 "nbformat_minor": 4
}