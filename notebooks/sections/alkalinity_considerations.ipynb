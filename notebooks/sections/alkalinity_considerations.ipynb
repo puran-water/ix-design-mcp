{
 "cells": [
  {
   "cell_type": "markdown",
   "metadata": {},
   "source": [
    "### Alkalinity and Hardness Relationships\n",
    "\n",
    "WAC resins are particularly effective for removing temporary hardness (carbonate hardness):"
   ]
  },
  {
   "cell_type": "code",
   "execution_count": null,
   "metadata": {},
   "outputs": [],
   "source": [
    "# Calculate hardness fractions\n",
    "feed_ions = ion_tracking.get('feed_mg_l', {})\n",
    "\n",
    "# Water chemistry calculations\n",
    "ca_mg_l = feed_ions.get('Ca_2+', 0)\n",
    "mg_mg_l = feed_ions.get('Mg_2+', 0)\n",
    "hco3_mg_l = feed_ions.get('HCO3_-', 0)\n",
    "\n",
    "# Convert to CaCO3 equivalents\n",
    "total_hardness = ca_mg_l * 2.5 + mg_mg_l * 4.1\n",
    "total_alkalinity = hco3_mg_l * 0.82  # HCO3 to CaCO3\n",
    "\n",
    "# Temporary vs permanent hardness\n",
    "temp_hardness = min(total_hardness, total_alkalinity)\n",
    "perm_hardness = max(0, total_hardness - total_alkalinity)\n",
    "\n",
    "hardness_data = [\n",
    "    ['Total Hardness', f\"{total_hardness:.1f}\", 'mg/L as CaCO₃'],\n",
    "    ['Total Alkalinity', f\"{total_alkalinity:.1f}\", 'mg/L as CaCO₃'],\n",
    "    ['Temporary Hardness', f\"{temp_hardness:.1f}\", 'mg/L as CaCO₃'],\n",
    "    ['Permanent Hardness', f\"{perm_hardness:.1f}\", 'mg/L as CaCO₃'],\n",
    "    ['Temp/Total Ratio', f\"{(temp_hardness/total_hardness*100) if total_hardness > 0 else 0:.1f}\", '%']\n",
    "]\n",
    "\n",
    "df_hardness = pd.DataFrame(hardness_data, columns=['Parameter', 'Value', 'Units'])\n",
    "display(df_hardness.style.set_caption('Hardness Distribution Analysis'))"
   ]
  },
  {
   "cell_type": "code",
   "execution_count": null,
   "metadata": {},
   "outputs": [],
   "source": [
    "# WAC effectiveness assessment\n",
    "if temp_hardness / total_hardness > 0.7:\n",
    "    print(\"✓ High temporary hardness fraction - WAC is well-suited\")\n",
    "    print(f\"  WAC can effectively remove {temp_hardness:.1f} mg/L of the {total_hardness:.1f} mg/L total hardness\")\n",
    "elif temp_hardness / total_hardness > 0.5:\n",
    "    print(\"✓ Moderate temporary hardness - WAC is suitable\")\n",
    "    print(f\"  WAC will remove {temp_hardness:.1f} mg/L, SAC may be needed for remaining {perm_hardness:.1f} mg/L\")\n",
    "else:\n",
    "    print(\"⚠️ Low temporary hardness fraction - consider SAC or WAC+SAC combination\")\n",
    "    print(f\"  WAC limited to {temp_hardness:.1f} mg/L removal\")\n",
    "\n",
    "# H-form specific considerations\n",
    "if 'WAC_H' in resin_info.get('code', ''):\n",
    "    co2_generated = temp_hardness * 0.44  # mg/L CO2 from alkalinity conversion\n",
    "    print(f\"\\n⚠️ H-form WAC will generate approximately {co2_generated:.1f} mg/L CO₂\")\n",
    "    print(\"  CO₂ degassing will be required for downstream RO protection\")"
   ]
  }
 ],
 "metadata": {
  "kernelspec": {
   "display_name": "Python 3",
   "language": "python",
   "name": "python3"
  }
 },
 "nbformat": 4,
 "nbformat_minor": 4
}