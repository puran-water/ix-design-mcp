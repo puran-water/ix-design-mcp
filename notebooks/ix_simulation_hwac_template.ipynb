{
 "cells": [
  {
   "cell_type": "markdown",
   "metadata": {},
   "source": [
    "# Ion Exchange Simulation - H-WAC → Degasser → Na-WAC\n",
    "\n",
    "This notebook performs detailed simulation of the H-WAC flowsheet for high temporary hardness removal.\n",
    "\n",
    "## Process Description\n",
    "1. **H-WAC**: Removes temporary hardness (Ca/Mg bicarbonates) using acid regeneration\n",
    "2. **Degasser**: Strips CO2 released from bicarbonate conversion\n",
    "3. **Na-WAC**: Polishing step for residual hardness\n",
    "\n",
    "Best for: Waters with >90% temporary hardness"
   ]
  },
  {
   "cell_type": "code",
   "execution_count": null,
   "metadata": {
    "tags": ["parameters"]
   },
   "outputs": [],
   "source": [
    "# Parameters cell - papermill will inject values here\n",
    "import json\n",
    "\n",
    "# Configuration parameters\n",
    "configuration = None  # Will be injected by papermill\n",
    "water_analysis = None  # Will be injected by papermill\n",
    "simulation_options = {\n",
    "    \"model_type\": \"direct\",\n",
    "    \"time_steps\": 100,\n",
    "    \"breakthrough_criteria\": {\"hardness_mg_L_CaCO3\": 5.0}\n",
    "}"
   ]
  },
  {
   "cell_type": "code",
   "execution_count": null,
   "metadata": {},
   "outputs": [],
   "source": [
    "# Import required modules\n",
    "import sys\n",
    "import os\n",
    "import numpy as np\n",
    "import pandas as pd\n",
    "import matplotlib.pyplot as plt\n",
    "from datetime import datetime\n",
    "\n",
    "# Add project root to path\n",
    "if configuration and 'project_root' in configuration:\n",
    "    sys.path.insert(0, configuration['project_root'])\n",
    "\n",
    "from tools.ix_simulation_direct import simulate_ix_system_direct\n",
    "from tools.schemas import IXSimulationInput, IXConfigurationOutput, MCASWaterComposition"
   ]
  },
  {
   "cell_type": "markdown",
   "metadata": {},
   "source": [
    "## Water Analysis"
   ]
  },
  {
   "cell_type": "code",
   "execution_count": null,
   "metadata": {},
   "outputs": [],
   "source": [
    "# Display water analysis\n",
    "if water_analysis:\n",
    "    print(\"Feed Water Composition:\")\n",
    "    print(f\"Flow: {water_analysis['flow_m3_hr']} m³/hr\")\n",
    "    print(f\"pH: {water_analysis['pH']}\")\n",
    "    print(f\"Temperature: {water_analysis['temperature_celsius']}°C\")\n",
    "    \n",
    "    # Calculate hardness\n",
    "    ca = water_analysis['ion_concentrations_mg_L'].get('Ca_2+', 0)\n",
    "    mg = water_analysis['ion_concentrations_mg_L'].get('Mg_2+', 0)\n",
    "    hco3 = water_analysis['ion_concentrations_mg_L'].get('HCO3_-', 0)\n",
    "    \n",
    "    total_hardness = ca * 2.5 + mg * 4.1\n",
    "    alkalinity = hco3 / 1.22\n",
    "    temp_hardness = min(total_hardness, alkalinity)\n",
    "    perm_hardness = max(0, total_hardness - alkalinity)\n",
    "    \n",
    "    print(f\"\\nWater Chemistry:\")\n",
    "    print(f\"Total Hardness: {total_hardness:.1f} mg/L as CaCO3\")\n",
    "    print(f\"Alkalinity: {alkalinity:.1f} mg/L as CaCO3\")\n",
    "    print(f\"Temporary Hardness: {temp_hardness:.1f} mg/L ({temp_hardness/total_hardness*100:.0f}%)\")\n",
    "    print(f\"Permanent Hardness: {perm_hardness:.1f} mg/L ({perm_hardness/total_hardness*100:.0f}%)\")"
   ]
  },
  {
   "cell_type": "markdown",
   "metadata": {},
   "source": [
    "## Run Simulation"
   ]
  },
  {
   "cell_type": "code",
   "execution_count": null,
   "metadata": {},
   "outputs": [],
   "source": [
    "# Prepare simulation input\n",
    "if configuration and water_analysis:\n",
    "    # Create proper schema objects\n",
    "    config_obj = IXConfigurationOutput(**configuration)\n",
    "    water_obj = MCASWaterComposition(**water_analysis)\n",
    "    \n",
    "    sim_input = IXSimulationInput(\n",
    "        configuration=config_obj,\n",
    "        water_analysis=water_obj,\n",
    "        breakthrough_criteria=simulation_options['breakthrough_criteria'],\n",
    "        simulation_options=simulation_options\n",
    "    )\n",
    "    \n",
    "    print(\"Running H-WAC flowsheet simulation...\")\n",
    "    result = simulate_ix_system_direct(sim_input)\n",
    "    print(f\"Simulation status: {result.status}\")"
   ]
  },
  {
   "cell_type": "markdown",
   "metadata": {},
   "source": [
    "## Performance Results"
   ]
  },
  {
   "cell_type": "code",
   "execution_count": null,
   "metadata": {},
   "outputs": [],
   "source": [
    "# Display performance metrics for each vessel\n",
    "if result and result.ix_performance:\n",
    "    for vessel_name, metrics in result.ix_performance.items():\n",
    "        print(f\"\\n{vessel_name} Performance:\")\n",
    "        print(f\"  Breakthrough: {metrics.bed_volumes_treated:.0f} BV ({metrics.breakthrough_time_hours:.1f} hours)\")\n",
    "        print(f\"  Regenerant: {metrics.regenerant_consumption_kg:.1f} kg {metrics.regenerant_chemical}\")\n",
    "        print(f\"  Capacity utilization: {metrics.capacity_utilization_percent:.0f}%\")\n",
    "        print(f\"  Average leakage: {metrics.average_hardness_leakage_mg_L:.1f} mg/L\")"
   ]
  },
  {
   "cell_type": "markdown",
   "metadata": {},
   "source": [
    "## Water Quality Progression"
   ]
  },
  {
   "cell_type": "code",
   "execution_count": null,
   "metadata": {},
   "outputs": [],
   "source": [
    "# Plot water quality through treatment stages\n",
    "if result and result.water_quality_progression:\n",
    "    stages = [p.stage for p in result.water_quality_progression]\n",
    "    hardness = [p.hardness_mg_L_CaCO3 for p in result.water_quality_progression]\n",
    "    ph = [p.pH for p in result.water_quality_progression]\n",
    "    \n",
    "    fig, (ax1, ax2) = plt.subplots(2, 1, figsize=(10, 8))\n",
    "    \n",
    "    # Hardness reduction\n",
    "    ax1.plot(range(len(stages)), hardness, 'b-o')\n",
    "    ax1.set_xticks(range(len(stages)))\n",
    "    ax1.set_xticklabels(stages, rotation=45, ha='right')\n",
    "    ax1.set_ylabel('Hardness (mg/L as CaCO3)')\n",
    "    ax1.set_title('Hardness Reduction Through Treatment')\n",
    "    ax1.grid(True)\n",
    "    \n",
    "    # pH changes\n",
    "    ax2.plot(range(len(stages)), ph, 'r-o')\n",
    "    ax2.set_xticks(range(len(stages)))\n",
    "    ax2.set_xticklabels(stages, rotation=45, ha='right')\n",
    "    ax2.set_ylabel('pH')\n",
    "    ax2.set_title('pH Changes Through Treatment')\n",
    "    ax2.grid(True)\n",
    "    \n",
    "    plt.tight_layout()\n",
    "    plt.show()"
   ]
  },
  {
   "cell_type": "markdown",
   "metadata": {},
   "source": [
    "## Economics Summary"
   ]
  },
  {
   "cell_type": "code",
   "execution_count": null,
   "metadata": {},
   "outputs": [],
   "source": [
    "# Display economic results\n",
    "if result and result.economics:\n",
    "    econ = result.economics\n",
    "    print(\"Economic Analysis:\")\n",
    "    print(f\"  Capital cost: ${econ.get('capital_cost', 0):,.0f}\")\n",
    "    print(f\"  Annual OPEX: ${econ.get('operating_cost_annual', 0):,.0f}\")\n",
    "    print(f\"  Cost per m³: ${econ.get('cost_per_m3', 0):.3f}\")\n",
    "    \n",
    "    # Chemical consumption\n",
    "    if result.chemical_consumption:\n",
    "        print(\"\\nChemical Consumption (per day):\")\n",
    "        for chem, amount in result.chemical_consumption.items():\n",
    "            print(f\"  {chem}: {amount:.1f}\")"
   ]
  },
  {
   "cell_type": "markdown",
   "metadata": {},
   "source": [
    "## Degasser Performance"
   ]
  },
  {
   "cell_type": "code",
   "execution_count": null,
   "metadata": {},
   "outputs": [],
   "source": [
    "# Display degasser results\n",
    "if result and result.degasser_performance:\n",
    "    deg = result.degasser_performance\n",
    "    print(\"Degasser Performance:\")\n",
    "    print(f\"  Influent CO2: {deg.get('influent_CO2_mg_L', 0):.1f} mg/L\")\n",
    "    print(f\"  Effluent CO2: {deg.get('effluent_CO2_mg_L', 0):.1f} mg/L\")\n",
    "    print(f\"  Removal: {deg.get('removal_percent', 0):.0f}%\")\n",
    "    print(f\"  pH increase: {deg.get('effluent_pH', 0) - result.water_quality_progression[1].pH:.1f}\")"
   ]
  },
  {
   "cell_type": "markdown",
   "metadata": {},
   "source": [
    "## Recommendations"
   ]
  },
  {
   "cell_type": "code",
   "execution_count": null,
   "metadata": {},
   "outputs": [],
   "source": [
    "# Generate operational recommendations\n",
    "if result:\n",
    "    print(\"Operational Recommendations:\")\n",
    "    \n",
    "    # H-WAC specific recommendations\n",
    "    print(\"\\n1. H-WAC Operation:\")\n",
    "    print(\"   - Monitor effluent pH carefully (should drop to 4.5-5.5)\")\n",
    "    print(\"   - Use HCl for regeneration (5% solution typical)\")\n",
    "    print(\"   - Ensure proper degassing after H-WAC to prevent CO2 carryover\")\n",
    "    \n",
    "    print(\"\\n2. Degasser Operation:\")\n",
    "    print(\"   - Maintain air:water ratio at 45:1\")\n",
    "    print(\"   - Monitor packing for fouling/scaling\")\n",
    "    print(\"   - Target <5 mg/L CO2 in effluent\")\n",
    "    \n",
    "    print(\"\\n3. Na-WAC Polisher:\")\n",
    "    print(\"   - Expect longer run times (polishing only)\")\n",
    "    print(\"   - Can use NaCl for regeneration\")\n",
    "    print(\"   - Monitor for Na+ leakage\")\n",
    "    \n",
    "    if result.recommendations:\n",
    "        print(\"\\n4. Additional Recommendations:\")\n",
    "        for rec in result.recommendations:\n",
    "            print(f\"   - {rec}\")"
   ]
  },
  {
   "cell_type": "code",
   "execution_count": null,
   "metadata": {},
   "outputs": [],
   "source": [
    "# Prepare results for extraction\n",
    "results = result.dict() if result else {\"status\": \"error\", \"message\": \"No simulation results\"}\n",
    "results"
   ]
  }
 ],
 "metadata": {
  "kernelspec": {
   "display_name": "Python 3",
   "language": "python",
   "name": "python3"
  },
  "language_info": {
   "codemirror_mode": {
    "name": "ipython",
    "version": 3
   },
   "file_extension": ".py",
   "mimetype": "text/x-python",
   "name": "python",
   "nbconvert_exporter": "python",
   "pygments_lexer": "ipython3",
   "version": "3.8.0"
  }
 },
 "nbformat": 4,
 "nbformat_minor": 4
}