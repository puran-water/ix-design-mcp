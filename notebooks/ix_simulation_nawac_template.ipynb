{
 "cells": [
  {
   "cell_type": "markdown",
   "metadata": {},
   "source": [
    "# Ion Exchange Simulation - Na-WAC → Degasser\n",
    "\n",
    "This notebook performs detailed simulation of the simple Na-WAC flowsheet.\n",
    "\n",
    "## Process Description\n",
    "1. **Na-WAC**: Weak Acid Cation resin in sodium form removes temporary hardness\n",
    "2. **Degasser**: Strips CO2 formed from bicarbonate conversion\n",
    "\n",
    "Best for: Simple water chemistry with moderate hardness and limited permanent hardness\n",
    "\n",
    "⚠️ **Note**: This flowsheet CANNOT remove permanent hardness!"
   ]
  },
  {
   "cell_type": "code",
   "execution_count": null,
   "metadata": {
    "tags": ["parameters"]
   },
   "outputs": [],
   "source": [
    "# Parameters cell - papermill will inject values here\n",
    "import json\n",
    "\n",
    "# Configuration parameters\n",
    "configuration = None  # Will be injected by papermill\n",
    "water_analysis = None  # Will be injected by papermill\n",
    "simulation_options = {\n",
    "    \"model_type\": \"direct\",\n",
    "    \"time_steps\": 100,\n",
    "    \"breakthrough_criteria\": {\"hardness_mg_L_CaCO3\": 5.0}\n",
    "}"
   ]
  },
  {
   "cell_type": "code",
   "execution_count": null,
   "metadata": {},
   "outputs": [],
   "source": [
    "# Import required modules\n",
    "import sys\n",
    "import os\n",
    "import numpy as np\n",
    "import pandas as pd\n",
    "import matplotlib.pyplot as plt\n",
    "from datetime import datetime\n",
    "\n",
    "# Add project root to path\n",
    "if configuration and 'project_root' in configuration:\n",
    "    sys.path.insert(0, configuration['project_root'])\n",
    "\n",
    "from tools.ix_simulation_direct import simulate_ix_system_direct\n",
    "from tools.schemas import IXSimulationInput, IXConfigurationOutput, MCASWaterComposition"
   ]
  },
  {
   "cell_type": "markdown",
   "metadata": {},
   "source": [
    "## Water Suitability Check"
   ]
  },
  {
   "cell_type": "code",
   "execution_count": null,
   "metadata": {},
   "outputs": [],
   "source": [
    "# Check if water is suitable for Na-WAC treatment\n",
    "if water_analysis:\n",
    "    ca = water_analysis['ion_concentrations_mg_L'].get('Ca_2+', 0)\n",
    "    mg = water_analysis['ion_concentrations_mg_L'].get('Mg_2+', 0)\n",
    "    hco3 = water_analysis['ion_concentrations_mg_L'].get('HCO3_-', 0)\n",
    "    \n",
    "    total_hardness = ca * 2.5 + mg * 4.1\n",
    "    alkalinity = hco3 / 1.22\n",
    "    temp_hardness = min(total_hardness, alkalinity)\n",
    "    perm_hardness = max(0, total_hardness - alkalinity)\n",
    "    \n",
    "    print(\"Water Suitability Analysis for Na-WAC:\")\n",
    "    print(f\"Total Hardness: {total_hardness:.1f} mg/L as CaCO3\")\n",
    "    print(f\"Temporary Hardness: {temp_hardness:.1f} mg/L ({temp_hardness/total_hardness*100:.0f}%)\")\n",
    "    print(f\"Permanent Hardness: {perm_hardness:.1f} mg/L ({perm_hardness/total_hardness*100:.0f}%)\")\n",
    "    \n",
    "    if perm_hardness > 50:\n",
    "        print(\"\\n⚠️ WARNING: High permanent hardness ({perm_hardness:.0f} mg/L)!\")\n",
    "        print(\"Na-WAC cannot remove permanent hardness. Consider SAC or H-WAC flowsheet instead.\")\n",
    "    elif perm_hardness > 20:\n",
    "        print(\"\\n⚠️ CAUTION: Moderate permanent hardness will pass through untreated.\")\n",
    "    else:\n",
    "        print(\"\\n✓ Water is suitable for Na-WAC treatment.\")"
   ]
  },
  {
   "cell_type": "markdown",
   "metadata": {},
   "source": [
    "## Run Simulation"
   ]
  },
  {
   "cell_type": "code",
   "execution_count": null,
   "metadata": {},
   "outputs": [],
   "source": [
    "# Prepare simulation input\n",
    "if configuration and water_analysis:\n",
    "    # Create proper schema objects\n",
    "    config_obj = IXConfigurationOutput(**configuration)\n",
    "    water_obj = MCASWaterComposition(**water_analysis)\n",
    "    \n",
    "    sim_input = IXSimulationInput(\n",
    "        configuration=config_obj,\n",
    "        water_analysis=water_obj,\n",
    "        breakthrough_criteria=simulation_options['breakthrough_criteria'],\n",
    "        simulation_options=simulation_options\n",
    "    )\n",
    "    \n",
    "    print(\"Running Na-WAC flowsheet simulation...\")\n",
    "    result = simulate_ix_system_direct(sim_input)\n",
    "    print(f\"Simulation status: {result.status}\")"
   ]
  },
  {
   "cell_type": "markdown",
   "metadata": {},
   "source": [
    "## Alkalinity Removal"
   ]
  },
  {
   "cell_type": "code",
   "execution_count": null,
   "metadata": {},
   "outputs": [],
   "source": [
    "# Show alkalinity removal through the system\n",
    "if result and result.water_quality_progression:\n",
    "    stages = []\n",
    "    alkalinity = []\n",
    "    hardness = []\n",
    "    ph = []\n",
    "    \n",
    "    for prog in result.water_quality_progression:\n",
    "        stages.append(prog.stage)\n",
    "        alkalinity.append(prog.alkalinity_mg_L_CaCO3)\n",
    "        hardness.append(prog.hardness_mg_L_CaCO3)\n",
    "        ph.append(prog.pH)\n",
    "    \n",
    "    fig, (ax1, ax2) = plt.subplots(2, 1, figsize=(10, 8), sharex=True)\n",
    "    \n",
    "    # Alkalinity and hardness\n",
    "    x = range(len(stages))\n",
    "    ax1.bar(x, alkalinity, width=0.4, label='Alkalinity', align='edge')\n",
    "    ax1.bar([i+0.4 for i in x], hardness, width=0.4, label='Total Hardness', align='edge')\n",
    "    ax1.set_ylabel('Concentration (mg/L as CaCO3)')\n",
    "    ax1.set_title('Alkalinity and Hardness Removal')\n",
    "    ax1.legend()\n",
    "    ax1.grid(True, axis='y')\n",
    "    \n",
    "    # pH changes\n",
    "    ax2.plot(x, ph, 'ro-', linewidth=2, markersize=8)\n",
    "    ax2.set_ylabel('pH')\n",
    "    ax2.set_xlabel('Treatment Stage')\n",
    "    ax2.set_xticks(x)\n",
    "    ax2.set_xticklabels(stages, rotation=45, ha='right')\n",
    "    ax2.grid(True)\n",
    "    ax2.set_ylim(4, 9)\n",
    "    \n",
    "    plt.tight_layout()\n",
    "    plt.show()\n",
    "    \n",
    "    # Show removal efficiency\n",
    "    feed_alk = alkalinity[0]\n",
    "    final_alk = alkalinity[-1]\n",
    "    alk_removal = (feed_alk - final_alk) / feed_alk * 100\n",
    "    \n",
    "    print(f\"\\nAlkalinity Removal: {alk_removal:.1f}%\")\n",
    "    print(f\"Feed: {feed_alk:.0f} mg/L → Product: {final_alk:.0f} mg/L\")"
   ]
  },
  {
   "cell_type": "markdown",
   "metadata": {},
   "source": [
    "## Simplicity Advantages"
   ]
  },
  {
   "cell_type": "code",
   "execution_count": null,
   "metadata": {},
   "outputs": [],
   "source": [
    "# Compare Na-WAC advantages vs other flowsheets\n",
    "if result and result.economics:\n",
    "    print(\"Na-WAC System Advantages:\")\n",
    "    print(\"\\n1. Simplicity:\")\n",
    "    print(\"   - Only one IX stage (fewer vessels)\")\n",
    "    print(\"   - Single regenerant chemical (NaCl)\")\n",
    "    print(\"   - Lower operator skill requirements\")\n",
    "    \n",
    "    print(\"\\n2. Economics:\")\n",
    "    print(f\"   - Capital Cost: ${result.economics.get('capital_cost_usd', 0):,}\")\n",
    "    print(f\"   - Annual OPEX: ${result.economics.get('annual_opex_usd', 0):,}\")\n",
    "    print(f\"   - Cost per m³: ${result.economics.get('cost_per_m3', 0):.2f}\")\n",
    "    \n",
    "    print(\"\\n3. Operation:\")\n",
    "    print(\"   - High capacity for temporary hardness\")\n",
    "    print(\"   - Neutral pH effluent (after degassing)\")\n",
    "    print(\"   - Less waste volume than SAC systems\")\n",
    "    \n",
    "    print(\"\\n4. Limitations:\")\n",
    "    print(\"   - Cannot remove permanent hardness\")\n",
    "    print(\"   - Not suitable for all water types\")\n",
    "    print(\"   - May need polishing for strict limits\")"
   ]
  },
  {
   "cell_type": "markdown",
   "metadata": {},
   "source": [
    "## Regeneration Profile"
   ]
  },
  {
   "cell_type": "code",
   "execution_count": null,
   "metadata": {},
   "outputs": [],
   "source": [
    "# Show regeneration requirements\n",
    "if result and result.ix_performance:\n",
    "    nawac_perf = result.ix_performance.get('Na-WAC')\n",
    "    if nawac_perf:\n",
    "        print(\"Na-WAC Regeneration Profile:\")\n",
    "        print(f\"\\nChemical: {nawac_perf.regenerant_chemical}\")\n",
    "        print(f\"Consumption: {nawac_perf.regenerant_consumption_kg:.1f} kg/cycle\")\n",
    "        print(f\"Specific usage: {nawac_perf.specific_regenerant_g_L:.0f} g/L resin\")\n",
    "        print(f\"Concentration: 10% brine solution typical\")\n",
    "        \n",
    "        # Calculate brine volume\n",
    "        brine_volume_m3 = nawac_perf.regenerant_consumption_kg / 100  # 10% solution\n",
    "        print(f\"\\nBrine volume: {brine_volume_m3:.1f} m³/cycle\")\n",
    "        print(f\"Rinse volume: {nawac_perf.waste_volume_m3:.1f} m³/cycle\")\n",
    "        print(f\"Total waste: {brine_volume_m3 + nawac_perf.waste_volume_m3:.1f} m³/cycle\")\n",
    "        \n",
    "        # Annual projections\n",
    "        cycles_per_year = 8760 / nawac_perf.breakthrough_time_hours\n",
    "        annual_salt = nawac_perf.regenerant_consumption_kg * cycles_per_year / 1000\n",
    "        annual_waste = (brine_volume_m3 + nawac_perf.waste_volume_m3) * cycles_per_year\n",
    "        \n",
    "        print(f\"\\nAnnual Projections:\")\n",
    "        print(f\"Regeneration cycles: {cycles_per_year:.0f}/year\")\n",
    "        print(f\"Salt consumption: {annual_salt:.1f} tons/year\")\n",
    "        print(f\"Waste generation: {annual_waste:.0f} m³/year\")"
   ]
  },
  {
   "cell_type": "markdown",
   "metadata": {},
   "source": [
    "## Operational Guidelines"
   ]
  },
  {
   "cell_type": "code",
   "execution_count": null,
   "metadata": {},
   "outputs": [],
   "source": [
    "# Na-WAC specific operational recommendations\n",
    "print(\"Na-WAC System Operational Guidelines:\")\n",
    "print(\"\\n1. Service Cycle:\")\n",
    "print(\"   - Monitor alkalinity breakthrough (not just hardness)\")\n",
    "print(\"   - pH will drop as alkalinity breaks through\")\n",
    "print(\"   - Terminate at pH 6.5 or hardness >5 mg/L\")\n",
    "\n",
    "print(\"\\n2. Regeneration Best Practices:\")\n",
    "print(\"   - Use high-quality salt (>99.5% NaCl)\")\n",
    "print(\"   - 10% brine concentration optimal\")\n",
    "print(\"   - Slow flow rate: 2-4 BV/hr\")\n",
    "print(\"   - Rinse until conductivity <500 µS/cm\")\n",
    "\n",
    "print(\"\\n3. Troubleshooting:\")\n",
    "print(\"   - Early breakthrough → Check for channeling\")\n",
    "print(\"   - High leakage → Verify regeneration level\")\n",
    "print(\"   - pH issues → Check degasser operation\")\n",
    "\n",
    "print(\"\\n4. Maintenance:\")\n",
    "print(\"   - Backwash weekly or as needed\")\n",
    "print(\"   - Check resin annually for fines\")\n",
    "print(\"   - Clean degasser packing quarterly\")\n",
    "\n",
    "if result and result.warnings:\n",
    "    print(\"\\n5. System-Specific Warnings:\")\n",
    "    for warning in result.warnings:\n",
    "        print(f\"   ⚠️ {warning}\")"
   ]
  },
  {
   "cell_type": "code",
   "execution_count": null,
   "metadata": {},
   "outputs": [],
   "source": [
    "# Prepare results for extraction\n",
    "results = result.dict() if result else {\"status\": \"error\", \"message\": \"No simulation results\"}\n",
    "results"
   ]
  }
 ],
 "metadata": {
  "kernelspec": {
   "display_name": "Python 3",
   "language": "python",
   "name": "python3"
  },
  "language_info": {
   "codemirror_mode": {
    "name": "ipython",
    "version": 3
   },
   "file_extension": ".py",
   "mimetype": "text/x-python",
   "name": "python",
   "nbconvert_exporter": "python",
   "pygments_lexer": "ipython3",
   "version": "3.8.0"
  }
 },
 "nbformat": 4,
 "nbformat_minor": 4
}