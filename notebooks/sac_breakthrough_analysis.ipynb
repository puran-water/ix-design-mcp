{
 "cells": [
  {
   "cell_type": "markdown",
   "metadata": {},
   "source": [
    "# SAC Ion Exchange Breakthrough Analysis\n",
    "\n",
    "This notebook performs a complete SAC ion exchange cycle simulation and generates visualizations."
   ]
  },
  {
   "cell_type": "code",
   "execution_count": null,
   "metadata": {
    "tags": [
     "parameters"
    ]
   },
   "outputs": [],
   "source": "# Parameters cell - will be replaced by papermill\nwater_analysis = {\n    \"flow_m3_hr\": 100.0,\n    \"temperature_celsius\": 25.0,\n    \"pH\": 7.5,\n    \"pressure_bar\": 1.0,\n    \"ca_mg_l\": 80.0,\n    \"mg_mg_l\": 25.0,\n    \"na_mg_l\": 800.0,\n    \"cl_mg_l\": 1400.0,\n    \"hco3_mg_l\": 120.0\n}\n\nvessel_configuration = {\n    \"bed_volume_L\": 1000.0,\n    \"service_flow_rate_bv_hr\": 16.0,\n    \"vessel_id\": \"SAC-001\",\n    \"number_service\": 1,\n    \"number_standby\": 1,\n    \"diameter_m\": 1.5,\n    \"bed_depth_m\": 2.0,\n    \"resin_volume_m3\": 1.0,\n    \"freeboard_m\": 0.5,\n    \"vessel_height_m\": 2.5\n}\n\ntarget_hardness_mg_l_caco3 = 5.0\n\nregeneration_config = {\n    \"enabled\": True,\n    \"regenerant_type\": \"NaCl\",\n    \"concentration_percent\": 11.0,\n    \"flow_rate_bv_hr\": 2.5,\n    \"mode\": \"staged_optimize\",\n    \"regeneration_stages\": 5,\n    \"target_recovery\": 0.90\n}\n\n# Project root parameter (passed by papermill for path resolution)\nproject_root_str = None"
  },
  {
   "cell_type": "code",
   "execution_count": null,
   "metadata": {},
   "outputs": [],
   "source": "# Imports\nimport sys\nimport os\nfrom pathlib import Path\nimport json\nimport pandas as pd\nimport warnings\nwarnings.filterwarnings('ignore')\n\n# Add project root to path - robust approach\nif 'IX_DESIGN_MCP_ROOT' in os.environ:\n    project_root = Path(os.environ['IX_DESIGN_MCP_ROOT'])\nelif 'project_root_str' in locals():\n    # Parameter passed by papermill\n    project_root = Path(project_root_str)\nelse:\n    # Fallback: assume notebook is in notebooks/ directory\n    try:\n        project_root = Path(__file__).parent.parent\n    except NameError:\n        # __file__ not defined in Jupyter, use cwd fallback\n        project_root = Path.cwd().parent if 'notebooks' in str(Path.cwd()) else Path.cwd()\n\nif str(project_root) not in sys.path:\n    sys.path.insert(0, str(project_root))\n\n# Import simulation and plotting functions\nfrom tools.sac_simulation import simulate_sac_phreeqc, SACSimulationInput, RegenerationConfig\nfrom tools.sac_configuration import SACWaterComposition, SACVesselConfiguration\nfrom tools.breakthrough_plotting import generate_cycle_plots\n\nprint(\"Imports completed successfully\")\nprint(f\"Project root: {project_root}\")"
  },
  {
   "cell_type": "code",
   "execution_count": null,
   "metadata": {},
   "outputs": [],
   "source": [
    "# Create input objects from parameters\n",
    "water = SACWaterComposition(**water_analysis)\n",
    "vessel = SACVesselConfiguration(**vessel_configuration)\n",
    "regen = RegenerationConfig(**regeneration_config)\n",
    "\n",
    "sim_input = SACSimulationInput(\n",
    "    water_analysis=water,\n",
    "    vessel_configuration=vessel,\n",
    "    target_hardness_mg_l_caco3=target_hardness_mg_l_caco3,\n",
    "    regeneration_config=regen\n",
    ")\n",
    "\n",
    "print(\"Input configuration created\")\n",
    "print(f\"Flow rate: {water.flow_m3_hr} m³/hr\")\n",
    "print(f\"Hardness: {water.ca_mg_l + water.mg_mg_l * 0.609} mg/L as CaCO₃\")\n",
    "print(f\"Bed volume: {vessel.bed_volume_L} L\")"
   ]
  },
  {
   "cell_type": "code",
   "execution_count": null,
   "metadata": {},
   "outputs": [],
   "source": [
    "# Run simulation\n",
    "print(\"\\nRunning SAC simulation...\")\n",
    "results = simulate_sac_phreeqc(sim_input)\n",
    "\n",
    "# Display key metrics\n",
    "print(\"\\n\" + \"=\"*50)\n",
    "print(\"SIMULATION RESULTS\")\n",
    "print(\"=\"*50)\n",
    "print(f\"\\nService Phase:\")\n",
    "print(f\"  Breakthrough: {results.breakthrough_bv:.1f} BV\")\n",
    "print(f\"  Service time: {results.service_time_hours:.1f} hours\")\n",
    "print(f\"  Capacity factor: {results.phreeqc_determined_capacity_factor:.2f}\")\n",
    "print(f\"  Utilization: {results.capacity_utilization_percent:.1f}%\")\n",
    "\n",
    "if results.regeneration_results:\n",
    "    print(f\"\\nRegeneration Phase:\")\n",
    "    print(f\"  Regenerant used: {results.regeneration_results.regenerant_consumed_kg:.1f} kg\")\n",
    "    print(f\"  Final recovery: {results.regeneration_results.final_resin_recovery * 100:.1f}%\")\n",
    "    print(f\"  Regeneration time: {results.regeneration_results.regeneration_time_hours:.1f} hours\")\n",
    "    print(f\"\\nTotal Cycle:\")\n",
    "    print(f\"  Total time: {results.total_cycle_time_hours:.1f} hours\")"
   ]
  },
  {
   "cell_type": "code",
   "execution_count": null,
   "metadata": {},
   "outputs": [],
   "source": [
    "# Generate and display plots\n",
    "print(\"\\nGenerating breakthrough curves...\")\n",
    "\n",
    "try:\n",
    "    plots = generate_cycle_plots(\n",
    "        results.breakthrough_data,\n",
    "        water,\n",
    "        target_hardness_mg_l_caco3\n",
    "    )\n",
    "    \n",
    "    # Display service breakthrough plot\n",
    "    if 'service_breakthrough' in plots:\n",
    "        display(plots['service_breakthrough'])\n",
    "    \n",
    "    # Display full cycle plot if available\n",
    "    if 'full_cycle' in plots:\n",
    "        display(plots['full_cycle'])\n",
    "        \n",
    "except Exception as e:\n",
    "    print(f\"Warning: Could not generate plots: {e}\")\n",
    "    print(\"Continuing with analysis...\")"
   ]
  },
  {
   "cell_type": "code",
   "execution_count": null,
   "metadata": {},
   "outputs": [],
   "source": [
    "# Create summary DataFrame for easy viewing\n",
    "summary_data = {\n",
    "    'Metric': [\n",
    "        'Breakthrough (BV)',\n",
    "        'Service Time (hours)',\n",
    "        'Capacity Factor',\n",
    "        'Regenerant Used (kg)',\n",
    "        'Recovery (%)',\n",
    "        'Total Cycle Time (hours)'\n",
    "    ],\n",
    "    'Value': [\n",
    "        f\"{results.breakthrough_bv:.1f}\",\n",
    "        f\"{results.service_time_hours:.1f}\",\n",
    "        f\"{results.phreeqc_determined_capacity_factor:.2f}\",\n",
    "        f\"{results.regeneration_results.regenerant_consumed_kg:.1f}\" if results.regeneration_results else \"N/A\",\n",
    "        f\"{results.regeneration_results.final_resin_recovery * 100:.1f}\" if results.regeneration_results else \"N/A\",\n",
    "        f\"{results.total_cycle_time_hours:.1f}\"\n",
    "    ]\n",
    "}\n",
    "\n",
    "summary_df = pd.DataFrame(summary_data)\n",
    "display(summary_df)"
   ]
  },
  {
   "cell_type": "code",
   "execution_count": null,
   "metadata": {},
   "outputs": [],
   "source": [
    "# Store results for extraction by papermill\n",
    "notebook_results = {\n",
    "    'status': 'success',\n",
    "    'breakthrough_bv': results.breakthrough_bv,\n",
    "    'service_time_hours': results.service_time_hours,\n",
    "    'total_cycle_time_hours': results.total_cycle_time_hours,\n",
    "    'capacity_factor': results.phreeqc_determined_capacity_factor,\n",
    "    'final_recovery': results.regeneration_results.final_resin_recovery if results.regeneration_results else None,\n",
    "    'regenerant_kg': results.regeneration_results.regenerant_consumed_kg if results.regeneration_results else None\n",
    "}\n",
    "\n",
    "# Store as JSON for easy extraction\n",
    "notebook_results_json = json.dumps(notebook_results)\n",
    "print(f\"\\nResults stored for extraction: {notebook_results_json}\")"
   ]
  }
 ],
 "metadata": {
  "kernelspec": {
   "display_name": "Python 3",
   "language": "python",
   "name": "python3"
  },
  "language_info": {
   "codemirror_mode": {
    "name": "ipython",
    "version": 3
   },
   "file_extension": ".py",
   "mimetype": "text/x-python",
   "name": "python",
   "nbconvert_exporter": "python",
   "pygments_lexer": "ipython3",
   "version": "3.12.0"
  }
 },
 "nbformat": 4,
 "nbformat_minor": 4
}