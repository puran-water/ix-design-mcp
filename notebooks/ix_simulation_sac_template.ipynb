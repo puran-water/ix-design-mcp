{
 "cells": [
  {
   "cell_type": "markdown",
   "metadata": {},
   "source": [
    "# Ion Exchange Simulation - SAC → Na-WAC → Degasser\n",
    "\n",
    "This notebook performs detailed simulation of the SAC flowsheet for mixed hardness removal.\n",
    "\n",
    "## Process Description\n",
    "1. **SAC**: Strong Acid Cation resin removes all hardness (permanent + temporary)\n",
    "2. **Na-WAC**: Weak Acid Cation resin for alkalinity adjustment and polishing\n",
    "3. **Degasser**: Strips CO2 to stabilize pH\n",
    "\n",
    "Best for: Waters with significant permanent hardness (>100 mg/L) or <50% temporary hardness"
   ]
  },
  {
   "cell_type": "code",
   "execution_count": null,
   "metadata": {
    "tags": ["parameters"]
   },
   "outputs": [],
   "source": [
    "# Parameters cell - papermill will inject values here\n",
    "import json\n",
    "\n",
    "# Configuration parameters\n",
    "configuration = None  # Will be injected by papermill\n",
    "water_analysis = None  # Will be injected by papermill\n",
    "simulation_options = {\n",
    "    \"model_type\": \"direct\",\n",
    "    \"time_steps\": 100,\n",
    "    \"breakthrough_criteria\": {\"hardness_mg_L_CaCO3\": 5.0}\n",
    "}"
   ]
  },
  {
   "cell_type": "code",
   "execution_count": null,
   "metadata": {},
   "outputs": [],
   "source": [
    "# Import required modules\n",
    "import sys\n",
    "import os\n",
    "import numpy as np\n",
    "import pandas as pd\n",
    "import matplotlib.pyplot as plt\n",
    "from datetime import datetime\n",
    "\n",
    "# Add project root to path\n",
    "if configuration and 'project_root' in configuration:\n",
    "    sys.path.insert(0, configuration['project_root'])\n",
    "\n",
    "from tools.ix_simulation_direct import simulate_ix_system_direct\n",
    "from tools.schemas import IXSimulationInput, IXConfigurationOutput, MCASWaterComposition"
   ]
  },
  {
   "cell_type": "markdown",
   "metadata": {},
   "source": [
    "## Na+ Competition Analysis"
   ]
  },
  {
   "cell_type": "code",
   "execution_count": null,
   "metadata": {},
   "outputs": [],
   "source": [
    "# Analyze Na+ competition effects\n",
    "if water_analysis and configuration:\n",
    "    na_mg_L = water_analysis['ion_concentrations_mg_L'].get('Na_+', 0)\n",
    "    ca_mg_L = water_analysis['ion_concentrations_mg_L'].get('Ca_2+', 0)\n",
    "    mg_mg_L = water_analysis['ion_concentrations_mg_L'].get('Mg_2+', 0)\n",
    "    \n",
    "    # Convert to meq/L\n",
    "    na_meq_L = na_mg_L / 23\n",
    "    ca_meq_L = ca_mg_L / 20\n",
    "    mg_meq_L = mg_mg_L / 12.15\n",
    "    \n",
    "    total_hardness_meq_L = ca_meq_L + mg_meq_L\n",
    "    \n",
    "    print(\"Na+ Competition Analysis:\")\n",
    "    print(f\"Na+ concentration: {na_mg_L:.0f} mg/L ({na_meq_L:.1f} meq/L)\")\n",
    "    print(f\"Total hardness: {total_hardness_meq_L:.1f} meq/L\")\n",
    "    print(f\"Na/hardness ratio: {na_meq_L/total_hardness_meq_L:.1f}\")\n",
    "    print(f\"Competition factor: {configuration.get('na_competition_factor', 1.0):.2f}\")\n",
    "    \n",
    "    if configuration.get('na_competition_factor', 1.0) < 0.7:\n",
    "        print(\"\\n⚠️ WARNING: High Na+ competition will reduce SAC capacity significantly!\")\n",
    "        print(\"Consider more frequent regenerations or higher regenerant levels.\")"
   ]
  },
  {
   "cell_type": "markdown",
   "metadata": {},
   "source": [
    "## Run Simulation"
   ]
  },
  {
   "cell_type": "code",
   "execution_count": null,
   "metadata": {},
   "outputs": [],
   "source": [
    "# Prepare simulation input\n",
    "if configuration and water_analysis:\n",
    "    # Create proper schema objects\n",
    "    config_obj = IXConfigurationOutput(**configuration)\n",
    "    water_obj = MCASWaterComposition(**water_analysis)\n",
    "    \n",
    "    sim_input = IXSimulationInput(\n",
    "        configuration=config_obj,\n",
    "        water_analysis=water_obj,\n",
    "        breakthrough_criteria=simulation_options['breakthrough_criteria'],\n",
    "        simulation_options=simulation_options\n",
    "    )\n",
    "    \n",
    "    print(\"Running SAC flowsheet simulation...\")\n",
    "    result = simulate_ix_system_direct(sim_input)\n",
    "    print(f\"Simulation status: {result.status}\")"
   ]
  },
  {
   "cell_type": "markdown",
   "metadata": {},
   "source": [
    "## Breakthrough Curves"
   ]
  },
  {
   "cell_type": "code",
   "execution_count": null,
   "metadata": {},
   "outputs": [],
   "source": [
    "# Plot breakthrough curves for SAC\n",
    "if result and result.water_quality_progression:\n",
    "    # Extract SAC breakthrough data\n",
    "    sac_points = [p for p in result.water_quality_progression if \"SAC @\" in p.stage]\n",
    "    \n",
    "    if sac_points:\n",
    "        bed_volumes = [float(p.stage.split(\" @ \")[1].replace(\" BV\", \"\")) for p in sac_points]\n",
    "        ca_conc = [p.ion_concentrations_mg_L.get('Ca_2+', 0) for p in sac_points]\n",
    "        mg_conc = [p.ion_concentrations_mg_L.get('Mg_2+', 0) for p in sac_points]\n",
    "        na_conc = [p.ion_concentrations_mg_L.get('Na_+', 0) for p in sac_points]\n",
    "        \n",
    "        plt.figure(figsize=(10, 6))\n",
    "        plt.plot(bed_volumes, ca_conc, 'b-', label='Ca²⁺', linewidth=2)\n",
    "        plt.plot(bed_volumes, mg_conc, 'g-', label='Mg²⁺', linewidth=2)\n",
    "        plt.plot(bed_volumes, na_conc, 'r--', label='Na⁺', linewidth=2)\n",
    "        \n",
    "        plt.xlabel('Bed Volumes')\n",
    "        plt.ylabel('Concentration (mg/L)')\n",
    "        plt.title('SAC Breakthrough Curves')\n",
    "        plt.legend()\n",
    "        plt.grid(True)\n",
    "        plt.show()\n",
    "        \n",
    "        # Show Na+ release\n",
    "        feed_na = water_analysis['ion_concentrations_mg_L'].get('Na_+', 0)\n",
    "        max_na = max(na_conc)\n",
    "        if max_na > feed_na * 1.1:\n",
    "            print(f\"\\n⚠️ Na+ release observed: Peak {max_na:.0f} mg/L vs feed {feed_na:.0f} mg/L\")\n",
    "            print(\"This is normal as hardness ions displace Na+ from the resin.\")"
   ]
  },
  {
   "cell_type": "markdown",
   "metadata": {},
   "source": [
    "## Performance Comparison"
   ]
  },
  {
   "cell_type": "code",
   "execution_count": null,
   "metadata": {},
   "outputs": [],
   "source": [
    "# Compare vessel performance\n",
    "if result and result.ix_performance:\n",
    "    data = []\n",
    "    for vessel, metrics in result.ix_performance.items():\n",
    "        data.append({\n",
    "            'Vessel': vessel,\n",
    "            'Breakthrough (BV)': metrics.bed_volumes_treated,\n",
    "            'Runtime (hr)': metrics.breakthrough_time_hours,\n",
    "            'Regenerant (kg)': metrics.regenerant_consumption_kg,\n",
    "            'Efficiency (kg/m³)': metrics.regenerant_consumption_kg / metrics.total_throughput_m3,\n",
    "            'Utilization (%)': metrics.capacity_utilization_percent\n",
    "        })\n",
    "    \n",
    "    df = pd.DataFrame(data)\n",
    "    print(\"Vessel Performance Comparison:\")\n",
    "    print(df.to_string(index=False))\n",
    "    \n",
    "    # Bar chart comparison\n",
    "    fig, (ax1, ax2) = plt.subplots(1, 2, figsize=(12, 5))\n",
    "    \n",
    "    vessels = df['Vessel'].tolist()\n",
    "    x = range(len(vessels))\n",
    "    \n",
    "    ax1.bar(x, df['Breakthrough (BV)'], color=['blue', 'green'])\n",
    "    ax1.set_xticks(x)\n",
    "    ax1.set_xticklabels(vessels)\n",
    "    ax1.set_ylabel('Bed Volumes')\n",
    "    ax1.set_title('Breakthrough Volumes')\n",
    "    \n",
    "    ax2.bar(x, df['Regenerant (kg)'], color=['blue', 'green'])\n",
    "    ax2.set_xticks(x)\n",
    "    ax2.set_xticklabels(vessels)\n",
    "    ax2.set_ylabel('Regenerant (kg/cycle)')\n",
    "    ax2.set_title('Regenerant Consumption')\n",
    "    \n",
    "    plt.tight_layout()\n",
    "    plt.show()"
   ]
  },
  {
   "cell_type": "markdown",
   "metadata": {},
   "source": [
    "## Operating Cost Analysis"
   ]
  },
  {
   "cell_type": "code",
   "execution_count": null,
   "metadata": {},
   "outputs": [],
   "source": [
    "# Detailed OPEX breakdown\n",
    "if result and result.economics and 'opex_breakdown' in result.economics:\n",
    "    opex = result.economics['opex_breakdown']\n",
    "    \n",
    "    # Create pie chart\n",
    "    labels = list(opex.keys())\n",
    "    values = list(opex.values())\n",
    "    \n",
    "    plt.figure(figsize=(8, 8))\n",
    "    plt.pie(values, labels=labels, autopct='%1.1f%%', startangle=90)\n",
    "    plt.title('Annual Operating Cost Breakdown')\n",
    "    plt.axis('equal')\n",
    "    plt.show()\n",
    "    \n",
    "    print(\"\\nAnnual Operating Costs:\")\n",
    "    total_opex = sum(values)\n",
    "    for label, value in zip(labels, values):\n",
    "        print(f\"  {label}: ${value:,.0f} ({value/total_opex*100:.1f}%)\")\n",
    "    print(f\"  TOTAL: ${total_opex:,.0f}\")"
   ]
  },
  {
   "cell_type": "markdown",
   "metadata": {},
   "source": [
    "## SAC-Specific Recommendations"
   ]
  },
  {
   "cell_type": "code",
   "execution_count": null,
   "metadata": {},
   "outputs": [],
   "source": [
    "# Generate SAC-specific operational guidance\n",
    "if result:\n",
    "    print(\"SAC System Operational Guidelines:\")\n",
    "    \n",
    "    print(\"\\n1. Regeneration Optimization:\")\n",
    "    print(\"   - Use 10% NaCl brine solution\")\n",
    "    print(\"   - Regenerant level: 120-160 kg/m³ resin\")\n",
    "    print(\"   - Consider counter-current regeneration for efficiency\")\n",
    "    \n",
    "    print(\"\\n2. Monitoring Requirements:\")\n",
    "    print(\"   - Track hardness breakthrough continuously\")\n",
    "    print(\"   - Monitor Na+ in product water (will increase)\")\n",
    "    print(\"   - Check for iron/manganese fouling potential\")\n",
    "    \n",
    "    print(\"\\n3. Operational Considerations:\")\n",
    "    print(\"   - SAC handles ALL hardness - no selectivity\")\n",
    "    print(\"   - Higher salt consumption than WAC systems\")\n",
    "    print(\"   - Produces acidic water (needs degassing)\")\n",
    "    \n",
    "    # Na+ competition specific advice\n",
    "    if configuration and configuration.get('na_competition_factor', 1.0) < 0.7:\n",
    "        print(\"\\n4. High Na+ Competition Management:\")\n",
    "        print(\"   - Increase regenerant level to 180-200 kg/m³\")\n",
    "        print(\"   - Reduce service cycle time by 20-30%\")\n",
    "        print(\"   - Consider RO pretreatment for Na+ reduction\")"
   ]
  },
  {
   "cell_type": "code",
   "execution_count": null,
   "metadata": {},
   "outputs": [],
   "source": [
    "# Prepare results for extraction\n",
    "results = result.dict() if result else {\"status\": \"error\", \"message\": \"No simulation results\"}\n",
    "results"
   ]
  }
 ],
 "metadata": {
  "kernelspec": {
   "display_name": "Python 3",
   "language": "python",
   "name": "python3"
  },
  "language_info": {
   "codemirror_mode": {
    "name": "ipython",
    "version": 3
   },
   "file_extension": ".py",
   "mimetype": "text/x-python",
   "name": "python",
   "nbconvert_exporter": "python",
   "pygments_lexer": "ipython3",
   "version": "3.8.0"
  }
 },
 "nbformat": 4,
 "nbformat_minor": 4
}