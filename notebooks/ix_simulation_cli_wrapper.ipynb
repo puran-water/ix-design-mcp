{
 "cells": [
  {
   "cell_type": "markdown",
   "metadata": {},
   "source": [
    "# IX System Simulation - CLI Wrapper\n",
    "\n",
    "This notebook executes ix_cli.py to ensure consistent results between all execution paths."
   ]
  },
  {
   "cell_type": "code",
   "execution_count": null,
   "metadata": {
    "tags": ["parameters"]
   },
   "outputs": [],
   "source": [
    "# Parameters cell - papermill will inject values here\n",
    "project_root = None\n",
    "watertap_ix_transport_path = None\n",
    "configuration = None\n",
    "water_analysis = None\n",
    "breakthrough_criteria = None\n",
    "regenerant_parameters = None\n",
    "acid_options = None\n",
    "timestamp = None\n",
    "simulation_options = {}"
   ]
  },
  {
   "cell_type": "code",
   "execution_count": null,
   "metadata": {},
   "outputs": [],
   "source": [
    "import json\n",
    "import subprocess\n",
    "import tempfile\n",
    "import os\n",
    "import sys\n",
    "from pathlib import Path\n",
    "\n",
    "# Create config for CLI\n",
    "cli_config = {\n",
    "    \"water_analysis\": water_analysis,\n",
    "    \"configuration\": configuration,\n",
    "    \"solver_options\": simulation_options.get(\"solver_options\", {})\n",
    "}\n",
    "\n",
    "# Write config to temp file\n",
    "with tempfile.NamedTemporaryFile(mode='w', suffix='.json', delete=False) as f:\n",
    "    config_path = f.name\n",
    "    json.dump(cli_config, f, indent=2)\n",
    "\n",
    "with tempfile.NamedTemporaryFile(mode='w', suffix='.json', delete=False) as f:\n",
    "    output_path = f.name"
   ]
  },
  {
   "cell_type": "code",
   "execution_count": null,
   "metadata": {},
   "outputs": [],
   "source": [
    "# Run CLI\n",
    "cmd = [\n",
    "    sys.executable,\n",
    "    str(Path(project_root) / \"ix_cli.py\"),\n",
    "    \"run\",\n",
    "    config_path,\n",
    "    \"--output\", output_path\n",
    "]\n",
    "\n",
    "result = subprocess.run(cmd, capture_output=True, text=True, cwd=project_root)\n",
    "\n",
    "# Clean up config\n",
    "os.unlink(config_path)\n",
    "\n",
    "if result.returncode != 0:\n",
    "    print(\"STDERR:\", result.stderr)\n",
    "    raise RuntimeError(f\"CLI failed with code {result.returncode}\")"
   ]
  },
  {
   "cell_type": "code",
   "execution_count": null,
   "metadata": {},
   "outputs": [],
   "source": [
    "# Load and process results\n",
    "with open(output_path, 'r') as f:\n",
    "    cli_results = json.load(f)\n",
    "os.unlink(output_path)\n",
    "\n",
    "# Extract data from CLI results\n",
    "sim_status = cli_results['simulation']['status']\n",
    "treated_water = cli_results['simulation']['treated_water']\n",
    "performance = cli_results['simulation']['performance']\n",
    "\n",
    "# Build IX performance metrics\n",
    "ix_performance = {}\n",
    "for vessel_name in configuration['ix_vessels'].keys():\n",
    "    vessel_config = configuration['ix_vessels'][vessel_name]\n",
    "    bed_volume = vessel_config['resin_volume_m3']\n",
    "    flow_rate = water_analysis['flow_m3_hr']\n",
    "    \n",
    "    # Estimate based on removal\n",
    "    avg_removal = (performance['ca_removal_percent'] + performance['mg_removal_percent']) / 2\n",
    "    breakthrough_bv = max(10, int(avg_removal * 10))\n",
    "    \n",
    "    ix_performance[vessel_name] = {\n",
    "        'breakthrough_time_hours': breakthrough_bv * bed_volume / flow_rate,\n",
    "        'bed_volumes_treated': breakthrough_bv,\n",
    "        'regenerant_consumption_kg': bed_volume * 120,\n",
    "        'average_hardness_leakage_mg_L': treated_water['ion_concentrations_mg_L'].get('Ca_2+', 0) * 2.5 + \n",
    "                                        treated_water['ion_concentrations_mg_L'].get('Mg_2+', 0) * 4.1,\n",
    "        'capacity_utilization_percent': min(100, max(0, avg_removal))\n",
    "    }"
   ]
  },
  {
   "cell_type": "code",
   "execution_count": null,
   "metadata": {},
   "outputs": [],
   "source": [
    "# Format final results for MCP\n",
    "results = {\n",
    "    'status': sim_status,\n",
    "    'watertap_notebook_path': 'cli_wrapper_execution',\n",
    "    'model_type': 'watertap_cli',\n",
    "    'actual_runtime_seconds': cli_results['simulation']['solve_time'],\n",
    "    'treated_water': treated_water,\n",
    "    'ix_performance': ix_performance,\n",
    "    'degasser_performance': {},\n",
    "    'water_quality_progression': [],\n",
    "    'economics': {},\n",
    "    'recommendations': [\n",
    "        f\"Ca removal: {performance['ca_removal_percent']:.1f}%\",\n",
    "        f\"Mg removal: {performance['mg_removal_percent']:.1f}%\",\n",
    "        \"Using ix_cli.py for consistent results\"\n",
    "    ],\n",
    "    'detailed_results': {\n",
    "        'solver_termination': cli_results['simulation']['solver_termination'],\n",
    "        'degrees_of_freedom': cli_results['initialization']['dof'],\n",
    "        'mass_balance_error': performance['mass_balance_error_percent']\n",
    "    }\n",
    "}\n",
    "\n",
    "# This is what papermill will extract\n",
    "results"
   ]
  }
 ],
 "metadata": {
  "kernelspec": {
   "display_name": "Python 3",
   "language": "python",
   "name": "python3"
  },
  "language_info": {
   "codemirror_mode": {
    "name": "ipython",
    "version": 3
   },
   "file_extension": ".py",
   "mimetype": "text/x-python",
   "name": "python",
   "nbconvert_exporter": "python",
   "pygments_lexer": "ipython3",
   "version": "3.8.0"
  }
 },
 "nbformat": 4,
 "nbformat_minor": 4
}